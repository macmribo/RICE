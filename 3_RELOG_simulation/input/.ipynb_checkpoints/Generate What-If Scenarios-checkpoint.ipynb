{
 "cells": [
  {
   "cell_type": "markdown",
   "metadata": {},
   "source": [
    "## Generate What-if Scenarios"
   ]
  },
  {
   "cell_type": "code",
   "execution_count": 1,
   "metadata": {},
   "outputs": [],
   "source": [
    "import json\n",
    "max_capacity = 5628\n",
    "\n",
    "problem = '20230222_CASE0_v1' #paste here the simulation name (folder in input) you want to run."
   ]
  },
  {
   "cell_type": "code",
   "execution_count": 2,
   "metadata": {},
   "outputs": [],
   "source": [
    "with open(f\"{problem}/case.json\") as infile:\n",
    "    case = json.load(infile)\n",
    "    t = case[\"parameters\"][\"time horizon (years)\"]\n",
    "    for cap in [0.25, 0.5, 1, 2, 4]: # Do not ad cap '0' or the HPC will not find a solution for the '0' cap scenarios.\n",
    "        for cost in [0.0, 50, 100, 150, 300, 600]:\n",
    "            for plant in case[\"plants\"].values():\n",
    "                for loc in plant[\"locations\"].values():\n",
    "                    loc[\"storage\"][\"cost ($/tonne)\"] = [cost for _ in range(t)]\n",
    "                    loc[\"storage\"][\"limit (tonne)\"] = cap * max_capacity\n",
    "            with open(\n",
    "                f\"what-if_{problem}/storage_ultra_cap_{cap}_cost_{cost}.json\",\n",
    "                \"w\",\n",
    "            ) as outfile:\n",
    "                json.dump(case, outfile, indent=2)"
   ]
  },
  {
   "cell_type": "code",
   "execution_count": null,
   "metadata": {},
   "outputs": [],
   "source": []
  }
 ],
 "metadata": {
  "kernelspec": {
   "display_name": "RELOG",
   "language": "python",
   "name": "relog"
  },
  "language_info": {
   "codemirror_mode": {
    "name": "ipython",
    "version": 3
   },
   "file_extension": ".py",
   "mimetype": "text/x-python",
   "name": "python",
   "nbconvert_exporter": "python",
   "pygments_lexer": "ipython3",
   "version": "3.10.6"
  }
 },
 "nbformat": 4,
 "nbformat_minor": 4
}
