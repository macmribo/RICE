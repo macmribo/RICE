{
 "cells": [
  {
   "cell_type": "code",
   "execution_count": 39,
   "id": "8e895feb-d04d-4fae-8a5b-ba5193d30009",
   "metadata": {},
   "outputs": [],
   "source": [
    "import os\n",
    "from datetime import datetime\n",
    "import shutil\n",
    "from distutils.dir_util import copy_tree\n",
    "\n",
    "import pandas as pd\n",
    "import matplotlib.pyplot as plt\n",
    "import numpy as np"
   ]
  },
  {
   "cell_type": "code",
   "execution_count": 40,
   "id": "a0e735de-6aa3-4052-8ebb-4686edcefed5",
   "metadata": {},
   "outputs": [],
   "source": [
    "cwd= os.getcwd()"
   ]
  },
  {
   "cell_type": "markdown",
   "id": "4e62ae53-ca79-45a7-8357-bf31045955e9",
   "metadata": {},
   "source": [
    "### Explore differences between CASE0_v4 and CASE0_v5"
   ]
  },
  {
   "cell_type": "code",
   "execution_count": 41,
   "id": "100b2952-dda7-4f88-976f-d2e2fc6fc674",
   "metadata": {},
   "outputs": [],
   "source": [
    "output_folder = os.path.join(cwd, 'output')"
   ]
  },
  {
   "cell_type": "code",
   "execution_count": 42,
   "id": "6722b298-cb82-4372-94ed-725f51237cf0",
   "metadata": {},
   "outputs": [],
   "source": [
    "v4 = pd.read_csv(os.path.join(output_folder, '20230303_CASE0_v4', 'plants.csv'))\n",
    "v5 = pd.read_csv(os.path.join(output_folder, '20230303_CASE0_v5', 'plants.csv'))"
   ]
  },
  {
   "cell_type": "code",
   "execution_count": 43,
   "id": "7f93c66d-bae5-4f25-9c77-3bdb03d1720d",
   "metadata": {},
   "outputs": [
    {
     "name": "stdout",
     "output_type": "stream",
     "text": [
      "Simulation v4 with 14314 tonnes of waste has 40.0 storage facilities.\n"
     ]
    }
   ],
   "source": [
    "print('Simulation v4 with 14314 tonnes of waste has {} storage facilities.'.format(len(v4)/26))"
   ]
  },
  {
   "cell_type": "code",
   "execution_count": 44,
   "id": "1d73d2ea-3352-4f4b-a5a5-41e4bc1c5a31",
   "metadata": {},
   "outputs": [
    {
     "name": "stdout",
     "output_type": "stream",
     "text": [
      "Simulation v5 with 7157 tonnes of waste has 155.0 storage facilities.\n"
     ]
    }
   ],
   "source": [
    "print('Simulation v5 with 7157 tonnes of waste has {} storage facilities.'.format(len(v5)/26))"
   ]
  },
  {
   "cell_type": "code",
   "execution_count": 48,
   "id": "99629e19-36ae-452c-b56c-e2b14449f253",
   "metadata": {},
   "outputs": [
    {
     "data": {
      "text/plain": [
       "array(['Storage Facility'], dtype=object)"
      ]
     },
     "execution_count": 48,
     "metadata": {},
     "output_type": "execute_result"
    }
   ],
   "source": [
    "v4['plant type'].unique()"
   ]
  },
  {
   "cell_type": "code",
   "execution_count": 46,
   "id": "f8240096-f483-49e7-ae3d-4602faeae49e",
   "metadata": {},
   "outputs": [
    {
     "data": {
      "text/plain": [
       "[]"
      ]
     },
     "execution_count": 46,
     "metadata": {},
     "output_type": "execute_result"
    }
   ],
   "source": [
    "[storage for storage in v5['amount in storage (tonne)'] if storage != 0]"
   ]
  },
  {
   "cell_type": "code",
   "execution_count": null,
   "id": "216c29f2-7abb-42fa-8926-8779fc6af620",
   "metadata": {},
   "outputs": [],
   "source": []
  }
 ],
 "metadata": {
  "kernelspec": {
   "display_name": "RELOG",
   "language": "python",
   "name": "relog"
  },
  "language_info": {
   "codemirror_mode": {
    "name": "ipython",
    "version": 3
   },
   "file_extension": ".py",
   "mimetype": "text/x-python",
   "name": "python",
   "nbconvert_exporter": "python",
   "pygments_lexer": "ipython3",
   "version": "3.10.6"
  }
 },
 "nbformat": 4,
 "nbformat_minor": 5
}
