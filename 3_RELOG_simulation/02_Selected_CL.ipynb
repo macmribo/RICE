{
 "cells": [
  {
   "cell_type": "markdown",
   "id": "6be86dac-f48c-4025-8177-24dc09f9ff91",
   "metadata": {},
   "source": [
    "# Candidate Locations with Combined NAICS + 40201"
   ]
  },
  {
   "cell_type": "markdown",
   "id": "0bf78533-4037-4513-b402-d68fcce4f896",
   "metadata": {},
   "source": [
    "This document generates a new candidate location file that takes the selected locations of manufacturing and recycling, combining NAICS and 40201 locations. Steps (to be done with both, Manufacturing cost locations and Recycling cost locations)\n",
    "1. Setup the format of the candidate locations dataframe.\n",
    "    - Manufacturing cost NAICS.\n",
    "    - Manufacturing cost 40201.\n",
    "    - Recycling cost NAICS.\n",
    "    - Recycling cost 40201.\n",
    "2. Load the necessary files.\n",
    "3. Extract the locations with their latitudes and longitudes.\n",
    "4. Move the extracted columns into the candidate locations dataframe.\n",
    "5. Map the locations with area cost factors."
   ]
  },
  {
   "cell_type": "code",
   "execution_count": 1,
   "id": "acc94bda-bfa7-4b10-97eb-e78db7b2d6c3",
   "metadata": {},
   "outputs": [],
   "source": [
    "import numpy as np\n",
    "import pandas as pd\n",
    "import os,sys\n",
    "import matplotlib.pyplot as plt\n",
    "from pathlib import Path\n",
    "\n",
    "from geopy.geocoders import Nominatim\n",
    "from geopy.point import Point\n",
    "# initialize Nominatim API\n",
    "geolocator = Nominatim(user_agent=\"geoapiExercises\")"
   ]
  },
  {
   "cell_type": "markdown",
   "id": "141d2239-a54b-4e5b-8fe8-f7bc5bd88b55",
   "metadata": {},
   "source": [
    "## 1. Dataframe formats"
   ]
  },
  {
   "cell_type": "code",
   "execution_count": 116,
   "id": "9f1cc748-0d18-4677-b805-0713c1e60ac7",
   "metadata": {},
   "outputs": [],
   "source": [
    "column_names = ['name', 'latitude (deg)', 'longitude (deg)', 'initial capacity (tonne)','area cost factor']"
   ]
  },
  {
   "cell_type": "code",
   "execution_count": 117,
   "id": "7febbc79-52b1-4e71-b12d-673eff6f2415",
   "metadata": {},
   "outputs": [],
   "source": [
    "cl_template = pd.DataFrame(columns=column_names)"
   ]
  },
  {
   "cell_type": "code",
   "execution_count": 118,
   "id": "47aeed8d-9668-493a-8d9d-220216d59b6a",
   "metadata": {},
   "outputs": [],
   "source": [
    "cwd = os.getcwd()"
   ]
  },
  {
   "cell_type": "markdown",
   "id": "d0fcc24b-9d11-4975-9838-478113164317",
   "metadata": {},
   "source": [
    "Load area cost factors"
   ]
  },
  {
   "cell_type": "code",
   "execution_count": 119,
   "id": "f0448fda-7389-4daf-bdb1-f2e426e997d5",
   "metadata": {},
   "outputs": [],
   "source": [
    "area_cost_factors = pd.read_csv(os.path.join(cwd, 'resources', 'dod_area_cost_factors.csv'))"
   ]
  },
  {
   "cell_type": "markdown",
   "id": "264f8201-fe70-4526-ac43-69eef3a222dc",
   "metadata": {},
   "source": [
    "## 2. Load the output files"
   ]
  },
  {
   "cell_type": "code",
   "execution_count": 165,
   "id": "6e3bf03b-cf91-4c7f-a8f4-22ee319b99e8",
   "metadata": {},
   "outputs": [],
   "source": [
    "man_NAICS_raw = pd.read_csv(os.path.join(cwd, 'output', 'Manufacturing_NAICS_1', 'plants.csv'))\n",
    "man_40209_raw = pd.read_csv(os.path.join(cwd, 'output', 'Manufacturing_40209_1', 'plants.csv'))\n",
    "\n",
    "rec_NAICS_raw = pd.read_csv(os.path.join(cwd, 'output', 'Recycling_NAICS_1', 'plants.csv'))\n",
    "rec_40209_raw = pd.read_csv(os.path.join(cwd, 'output', 'Recycling_40209_1', 'plants.csv'))\n"
   ]
  },
  {
   "cell_type": "code",
   "execution_count": 166,
   "id": "f1235429-7ed1-4860-a1f2-7aa3af7737bc",
   "metadata": {},
   "outputs": [
    {
     "name": "stdout",
     "output_type": "stream",
     "text": [
      "The NAICS Manufacturing plants have 62 locations.\n",
      "The 40209 Manufacturing plants have 62 locations.\n",
      "The NAICS Recycling plants have 81 locations.\n",
      "The 40209 Recycling plants have 81 locations.\n"
     ]
    }
   ],
   "source": [
    "print('The NAICS Manufacturing plants have {} locations.'.format(len(man_NAICS_raw['location name'].unique())))\n",
    "print('The 40209 Manufacturing plants have {} locations.'.format(len(man_40209_raw['location name'].unique())))\n",
    "print('The NAICS Recycling plants have {} locations.'.format(len(rec_NAICS_raw['location name'].unique())))\n",
    "print('The 40209 Recycling plants have {} locations.'.format(len(rec_40209_raw['location name'].unique())))"
   ]
  },
  {
   "cell_type": "code",
   "execution_count": 167,
   "id": "72639df5-29d9-41dd-96d9-bb73a982c3f9",
   "metadata": {},
   "outputs": [],
   "source": [
    "man_NAICS = man_NAICS_raw.loc[man_NAICS_raw['year'] == 1].reset_index()\n",
    "man_40209 = man_40209_raw.loc[man_40209_raw['year'] == 1].reset_index()\n",
    "\n",
    "rec_NAICS = rec_NAICS_raw.loc[rec_NAICS_raw['year'] == 1].reset_index()\n",
    "rec_40209 = rec_40209_raw.loc[rec_40209_raw['year'] == 1].reset_index()"
   ]
  },
  {
   "cell_type": "markdown",
   "id": "178b4c1a-b761-4cb2-bdea-33f62307cc29",
   "metadata": {},
   "source": [
    "## 3. Extract the locations with their latitudes and longitudes"
   ]
  },
  {
   "cell_type": "markdown",
   "id": "afe65032-4be4-49cf-866d-19305e012ee2",
   "metadata": {},
   "source": [
    "Fetch the states to map it with area cost factors."
   ]
  },
  {
   "cell_type": "code",
   "execution_count": 168,
   "id": "fe872602-1171-48a5-9b1a-ceb856c65053",
   "metadata": {},
   "outputs": [],
   "source": [
    "man_NAICS['state']= man_NAICS['location name'].str.slice(-2)\n",
    "man_40209['state']= man_40209['location name'].str.split(', ').str[-1]\n",
    "\n",
    "rec_NAICS['state']= rec_NAICS['location name'].str.slice(-2)\n",
    "rec_40209['state']= rec_40209['location name'].str.split(', ').str[-1]"
   ]
  },
  {
   "cell_type": "markdown",
   "id": "d56ce789-4096-494c-a3f7-20ef9ab36451",
   "metadata": {},
   "source": [
    "## 4. Move necessary columns and map with area cost factors"
   ]
  },
  {
   "cell_type": "markdown",
   "id": "dc7be0c7-d18d-4743-8589-17b09a1bd96d",
   "metadata": {},
   "source": [
    "Copy files."
   ]
  },
  {
   "cell_type": "code",
   "execution_count": 169,
   "id": "0a78f9eb-0f8f-420e-91ac-20e96828bb8d",
   "metadata": {},
   "outputs": [],
   "source": [
    "cl_man_NAICS = cl_template.copy()\n",
    "cl_man_40209 = cl_template.copy()\n",
    "\n",
    "cl_rec_NAICS = cl_template.copy()\n",
    "cl_rec_40209 = cl_template.copy()"
   ]
  },
  {
   "cell_type": "markdown",
   "id": "4f0fdd22-4163-4bff-b7a0-a3f90b6b70f5",
   "metadata": {},
   "source": [
    "Load area cost factors."
   ]
  },
  {
   "cell_type": "code",
   "execution_count": 170,
   "id": "bd98d70b-351d-4dd3-a28a-db998ce1c75c",
   "metadata": {},
   "outputs": [
    {
     "data": {
      "text/plain": [
       "35    0.94\n",
       "Name: ACF Official, dtype: float64"
      ]
     },
     "execution_count": 170,
     "metadata": {},
     "output_type": "execute_result"
    }
   ],
   "source": [
    "area_cost_factors.loc[area_cost_factors['State'] == 'Ohio']['ACF Official']"
   ]
  },
  {
   "cell_type": "code",
   "execution_count": 171,
   "id": "b0ec80aa-3146-42dc-a3d9-20bf2840de97",
   "metadata": {},
   "outputs": [],
   "source": [
    "ohio_code = area_cost_factors[area_cost_factors['State'] == 'Ohio']['ACF Official'][35]"
   ]
  },
  {
   "cell_type": "markdown",
   "id": "3593b675-26b2-4a26-8f9e-02dce5426c45",
   "metadata": {},
   "source": [
    "Move and map according area cost factors."
   ]
  },
  {
   "cell_type": "code",
   "execution_count": 172,
   "id": "6d975466-188a-4839-86fc-cb6c8fa3ee44",
   "metadata": {},
   "outputs": [],
   "source": [
    "cl_man_NAICS['name'], cl_man_NAICS['latitude (deg)'],  cl_man_NAICS['longitude (deg)'], cl_man_NAICS['state'] = man_NAICS['location name'], man_NAICS['latitude (deg)'],man_NAICS['longitude (deg)'], man_NAICS['state']\n",
    "cl_man_NAICS['initial capacity (tonne)'] = 0\n",
    "cl_man_NAICS['area cost factor'] = cl_man_NAICS['state'].map(area_cost_factors.set_index('State Code')['ACF Official'])\n",
    "cl_man_NAICS['area cost factor'] = cl_man_NAICS['area cost factor']/ohio_code\n",
    "\n",
    "cl_man_40209['name'], cl_man_40209['latitude (deg)'],  cl_man_40209['longitude (deg)'], cl_man_40209['state'] = man_40209['location name'], man_40209['latitude (deg)'],man_40209['longitude (deg)'], man_40209['state']\n",
    "cl_man_40209['initial capacity (tonne)'] = 0\n",
    "cl_man_40209['area cost factor'] = cl_man_40209['state'].map(area_cost_factors.set_index('State')['ACF Official'])\n",
    "cl_man_40209['area cost factor'] = cl_man_40209['area cost factor']/ohio_code\n",
    "\n",
    "cl_rec_NAICS['name'], cl_rec_NAICS['latitude (deg)'],  cl_rec_NAICS['longitude (deg)'], cl_rec_NAICS['state'] = rec_NAICS['location name'], rec_NAICS['latitude (deg)'],rec_NAICS['longitude (deg)'], rec_NAICS['state']\n",
    "cl_rec_NAICS['initial capacity (tonne)'] = 0\n",
    "cl_rec_NAICS['area cost factor'] = cl_rec_NAICS['state'].map(area_cost_factors.set_index('State Code')['ACF Official'])\n",
    "cl_rec_NAICS['area cost factor'] = cl_rec_NAICS['area cost factor']/ohio_code\n",
    "\n",
    "cl_rec_40209['name'], cl_rec_40209['latitude (deg)'],  cl_rec_40209['longitude (deg)'], cl_rec_40209['state'] = rec_40209['location name'], rec_40209['latitude (deg)'],rec_40209['longitude (deg)'], rec_40209['state']\n",
    "cl_rec_40209['initial capacity (tonne)'] = 0\n",
    "cl_rec_40209['area cost factor'] = cl_rec_40209['state'].map(area_cost_factors.set_index('State')['ACF Official'])\n",
    "cl_rec_40209['area cost factor'] = cl_rec_40209['area cost factor']/ohio_code\n"
   ]
  },
  {
   "cell_type": "markdown",
   "id": "b99ea147-5d08-422a-8500-9a1b9912e883",
   "metadata": {},
   "source": [
    "## 5. Join the NAICS with 40209"
   ]
  },
  {
   "cell_type": "markdown",
   "id": "e6953824-197b-4442-bbe4-261e2b178b56",
   "metadata": {},
   "source": [
    "### 5.1. No discount"
   ]
  },
  {
   "cell_type": "code",
   "execution_count": 173,
   "id": "68e3dcd8-7494-44ca-94ab-c94cf1ac5399",
   "metadata": {},
   "outputs": [],
   "source": [
    "files_naics_40209_man_list = [cl_man_NAICS, cl_man_40209]\n",
    "\n",
    "files_naics_40209_man = pd.concat(files_naics_40209_man_list, ignore_index=True)"
   ]
  },
  {
   "cell_type": "code",
   "execution_count": 174,
   "id": "1408c17b-89f2-4783-94ce-06acc9153a59",
   "metadata": {},
   "outputs": [],
   "source": [
    "files_naics_40209_rec_list = [cl_rec_NAICS, cl_rec_40209]\n",
    "\n",
    "files_naics_40209_rec = pd.concat(files_naics_40209_rec_list, ignore_index=True)"
   ]
  },
  {
   "cell_type": "code",
   "execution_count": 175,
   "id": "fafbb389-63d8-4675-af22-1ca83d3f8977",
   "metadata": {},
   "outputs": [],
   "source": [
    "previous_folder = os.path.normpath(os.getcwd() + os.sep + os.pardir) # Get previous folder from current directory"
   ]
  },
  {
   "cell_type": "code",
   "execution_count": 176,
   "id": "389d9fe3-c3bb-4c39-92a2-b57b7df5b0ac",
   "metadata": {},
   "outputs": [],
   "source": [
    "files_naics_40209_man.to_csv(os.path.join(previous_folder, '2_data_preparation','RELOG_import_data', 'CandidateLocations', 'selected_naics_40209_together_no_discount.csv'), index=False)\n",
    "files_naics_40209_rec.to_csv(os.path.join(previous_folder, '2_data_preparation', 'RELOG_import_data', 'CandidateLocations', 'selected_naics_40209_together_no_discount.csv'), index=False)"
   ]
  },
  {
   "cell_type": "markdown",
   "id": "500dd456-3754-440c-8a43-114fcd8f42c2",
   "metadata": {},
   "source": [
    "### 5.2. Discount"
   ]
  },
  {
   "cell_type": "code",
   "execution_count": 177,
   "id": "b7b6a176-719f-465c-bff1-8228056578d5",
   "metadata": {},
   "outputs": [],
   "source": [
    "discount = 0.1 # Change this value for specific discount"
   ]
  },
  {
   "cell_type": "code",
   "execution_count": 178,
   "id": "c10637c0-18fc-4771-ba63-0b080c0e56a3",
   "metadata": {},
   "outputs": [],
   "source": [
    "files_naics_40209_man_discount = files_naics_40209_man.copy()\n",
    "files_naics_40209_rec_discount = files_naics_40209_rec.copy()"
   ]
  },
  {
   "cell_type": "code",
   "execution_count": 179,
   "id": "60c65d67-e4cc-4b1b-96d0-c06647824514",
   "metadata": {},
   "outputs": [],
   "source": [
    "files_naics_40209_man_discount['area cost factor'] = files_naics_40209_man_discount['area cost factor'] * (1-discount)\n",
    "files_naics_40209_rec_discount['area cost factor'] = files_naics_40209_rec_discount['area cost factor'] * (1-discount)"
   ]
  },
  {
   "cell_type": "code",
   "execution_count": 180,
   "id": "c8fc1216-882c-4c31-b972-0838a053416e",
   "metadata": {},
   "outputs": [],
   "source": [
    "files_naics_40209_man_discount.to_csv(os.path.join(previous_folder, '2_data_preparation','RELOG_import_data', 'CandidateLocations', 'cl_selected_naics_40209_together_discount.csv'), index=False)\n",
    "files_naics_40209_rec_discount.to_csv(os.path.join(previous_folder, '2_data_preparation', 'RELOG_import_data', 'CandidateLocations', 'cl_selected_naics_40209_together_discount.csv'), index=False)"
   ]
  },
  {
   "cell_type": "code",
   "execution_count": null,
   "id": "99ea62ab-a802-42d1-8726-f471d9fdd902",
   "metadata": {},
   "outputs": [],
   "source": []
  },
  {
   "cell_type": "code",
   "execution_count": null,
   "id": "1df0b9fa-96d0-46fd-a5bb-e09a750d8e5f",
   "metadata": {},
   "outputs": [],
   "source": []
  }
 ],
 "metadata": {
  "kernelspec": {
   "display_name": "RICE",
   "language": "python",
   "name": "rice"
  },
  "language_info": {
   "codemirror_mode": {
    "name": "ipython",
    "version": 3
   },
   "file_extension": ".py",
   "mimetype": "text/x-python",
   "name": "python",
   "nbconvert_exporter": "python",
   "pygments_lexer": "ipython3",
   "version": "3.9.16"
  }
 },
 "nbformat": 4,
 "nbformat_minor": 5
}
