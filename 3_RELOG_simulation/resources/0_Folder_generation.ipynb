{
 "cells": [
  {
   "cell_type": "markdown",
   "id": "64cebd0f-7d52-46b7-96d9-cc62c4243295",
   "metadata": {},
   "source": [
    "# Folder generation"
   ]
  },
  {
   "cell_type": "markdown",
   "id": "64319948-0170-4898-821b-da434fbdbd56",
   "metadata": {},
   "source": [
    "This jupyter journal was created to generate the needed folders to get ready with a new RELOG simulation.\n",
    "There are three main folders in which we need to create new folders:\n",
    "* Input: Here is where the input data is saved. We will create two folders here, one for the normal solver input data (the data that we will save here is generated using the `data_preprocess_1.ipynb` found [here](PV_Recycling_Plant/data/data_preprocess_1.ipynb)), and another one for the sensitivity analysis input scenarios or 'what-if'(generated using `Generate What-If Scenarios.ipynb` [notebook](Generate What-If Scenarios.\n",
    "* Output: Here is where the solutions of the simulations will be saved. The same way as before, we will create two folders named the same as the folders in the input file, one for the normal solver output data (generated with the `1_Submit Optimization Problem.ipynb`), and another one for the sensitivity analysis output scenarios or 'what-if' (generated with the python file `2_Submit What-if Scenarios.ipynb`).\n",
    "* Figures: Same folders as before one for the solver images and another for the sensitivity analysis.\n",
    "\n",
    "Lastly, I will generate a special folder that include the necessary files to make an hpc simulation in the case that the simulation takes too long."
   ]
  },
  {
   "cell_type": "code",
   "execution_count": 1,
   "id": "098a1a46-5e76-4858-920a-6d8bd2d21506",
   "metadata": {
    "tags": []
   },
   "outputs": [],
   "source": [
    "import os\n",
    "from datetime import datetime\n",
    "import shutil\n",
    "from distutils.dir_util import copy_tree"
   ]
  },
  {
   "cell_type": "markdown",
   "id": "aaa28942-d93d-4b2d-b928-442ea703e5ab",
   "metadata": {},
   "source": [
    "Fill out with the combination to generate "
   ]
  },
  {
   "cell_type": "code",
   "execution_count": 38,
   "id": "b192a51f-6abb-4b33-a65c-204596ab8fda",
   "metadata": {},
   "outputs": [],
   "source": [
    "facility_label = ['Manufacturing', 'Recycling','Manufacturing_cap', 'Recycling_cap']\n",
    "location_label = ['NAICS', '40209']\n",
    "factor_label_rec = ['05', '1', '2', '5', '10']\n",
    "factor_label_man = ['0001','05', '1', '2'] # 0 is 0,5"
   ]
  },
  {
   "cell_type": "code",
   "execution_count": 39,
   "id": "d8464f2b-4922-49fd-8303-ae570c1b5031",
   "metadata": {},
   "outputs": [],
   "source": [
    "files_list = []\n",
    "for fac in facility_label:\n",
    "    for loc in location_label:\n",
    "        if fac.startswith('Manufacturing'):\n",
    "            for fac_man in factor_label_man:\n",
    "                files_list.append(fac+'_'+loc+'_'+fac_man)\n",
    "        else:\n",
    "            for fac_rec in factor_label_rec:\n",
    "                files_list.append(fac+'_'+loc+'_'+fac_rec) "
   ]
  },
  {
   "cell_type": "markdown",
   "id": "c0249945-3e0f-4851-94cc-33b78f1de85c",
   "metadata": {},
   "source": [
    "## Folder generation:"
   ]
  },
  {
   "cell_type": "code",
   "execution_count": 8,
   "id": "1b53f575-d76c-4383-9cb3-222c9db84416",
   "metadata": {},
   "outputs": [],
   "source": [
    "whatif = False"
   ]
  },
  {
   "cell_type": "code",
   "execution_count": 6,
   "id": "2fec549a-7206-4d5f-98d2-fe6b2ffc376d",
   "metadata": {},
   "outputs": [],
   "source": [
    "cwd = os.getcwd()"
   ]
  },
  {
   "cell_type": "code",
   "execution_count": 14,
   "id": "1e2516d1-1e55-4aa8-9ece-6374628f8974",
   "metadata": {},
   "outputs": [
    {
     "name": "stdout",
     "output_type": "stream",
     "text": [
      "The path for /Users/mmendez/Documents/Postdoc/Software_dev/RICE/3_RELOG_simulation/input/Manufacturing_NAICS_0001 already exists!\n",
      "The path for /Users/mmendez/Documents/Postdoc/Software_dev/RICE/3_RELOG_simulation/output/Manufacturing_NAICS_0001 already exists!\n",
      "The path for /Users/mmendez/Documents/Postdoc/Software_dev/RICE/3_RELOG_simulation/figures/Manufacturing_NAICS_0001 already exists!\n",
      "The path for /Users/mmendez/Documents/Postdoc/Software_dev/RICE/3_RELOG_simulation/input/Manufacturing_NAICS_05 already exists!\n",
      "The path for /Users/mmendez/Documents/Postdoc/Software_dev/RICE/3_RELOG_simulation/output/Manufacturing_NAICS_05 already exists!\n",
      "The path for /Users/mmendez/Documents/Postdoc/Software_dev/RICE/3_RELOG_simulation/figures/Manufacturing_NAICS_05 already exists!\n",
      "The path for /Users/mmendez/Documents/Postdoc/Software_dev/RICE/3_RELOG_simulation/input/Manufacturing_NAICS_1 already exists!\n",
      "The path for /Users/mmendez/Documents/Postdoc/Software_dev/RICE/3_RELOG_simulation/output/Manufacturing_NAICS_1 already exists!\n",
      "The path for /Users/mmendez/Documents/Postdoc/Software_dev/RICE/3_RELOG_simulation/figures/Manufacturing_NAICS_1 already exists!\n",
      "The path for /Users/mmendez/Documents/Postdoc/Software_dev/RICE/3_RELOG_simulation/input/Manufacturing_NAICS_2 already exists!\n",
      "The path for /Users/mmendez/Documents/Postdoc/Software_dev/RICE/3_RELOG_simulation/output/Manufacturing_NAICS_2 already exists!\n",
      "The path for /Users/mmendez/Documents/Postdoc/Software_dev/RICE/3_RELOG_simulation/figures/Manufacturing_NAICS_2 already exists!\n",
      "The path for /Users/mmendez/Documents/Postdoc/Software_dev/RICE/3_RELOG_simulation/input/Manufacturing_40209_0001 already exists!\n",
      "The path for /Users/mmendez/Documents/Postdoc/Software_dev/RICE/3_RELOG_simulation/output/Manufacturing_40209_0001 already exists!\n",
      "The path for /Users/mmendez/Documents/Postdoc/Software_dev/RICE/3_RELOG_simulation/figures/Manufacturing_40209_0001 already exists!\n",
      "The path for /Users/mmendez/Documents/Postdoc/Software_dev/RICE/3_RELOG_simulation/input/Manufacturing_40209_05 already exists!\n",
      "The path for /Users/mmendez/Documents/Postdoc/Software_dev/RICE/3_RELOG_simulation/output/Manufacturing_40209_05 already exists!\n",
      "The path for /Users/mmendez/Documents/Postdoc/Software_dev/RICE/3_RELOG_simulation/figures/Manufacturing_40209_05 already exists!\n",
      "The path for /Users/mmendez/Documents/Postdoc/Software_dev/RICE/3_RELOG_simulation/input/Manufacturing_40209_1 already exists!\n",
      "The path for /Users/mmendez/Documents/Postdoc/Software_dev/RICE/3_RELOG_simulation/output/Manufacturing_40209_1 already exists!\n",
      "The path for /Users/mmendez/Documents/Postdoc/Software_dev/RICE/3_RELOG_simulation/figures/Manufacturing_40209_1 already exists!\n",
      "The path for /Users/mmendez/Documents/Postdoc/Software_dev/RICE/3_RELOG_simulation/input/Manufacturing_40209_2 already exists!\n",
      "The path for /Users/mmendez/Documents/Postdoc/Software_dev/RICE/3_RELOG_simulation/output/Manufacturing_40209_2 already exists!\n",
      "The path for /Users/mmendez/Documents/Postdoc/Software_dev/RICE/3_RELOG_simulation/figures/Manufacturing_40209_2 already exists!\n",
      "The path for /Users/mmendez/Documents/Postdoc/Software_dev/RICE/3_RELOG_simulation/input/Recycling_NAICS_05 already exists!\n",
      "The path for /Users/mmendez/Documents/Postdoc/Software_dev/RICE/3_RELOG_simulation/output/Recycling_NAICS_05 already exists!\n",
      "The path for /Users/mmendez/Documents/Postdoc/Software_dev/RICE/3_RELOG_simulation/figures/Recycling_NAICS_05 already exists!\n",
      "The path for /Users/mmendez/Documents/Postdoc/Software_dev/RICE/3_RELOG_simulation/input/Recycling_NAICS_1 already exists!\n",
      "The path for /Users/mmendez/Documents/Postdoc/Software_dev/RICE/3_RELOG_simulation/output/Recycling_NAICS_1 already exists!\n",
      "The path for /Users/mmendez/Documents/Postdoc/Software_dev/RICE/3_RELOG_simulation/figures/Recycling_NAICS_1 already exists!\n",
      "The path for /Users/mmendez/Documents/Postdoc/Software_dev/RICE/3_RELOG_simulation/input/Recycling_NAICS_2 already exists!\n",
      "The path for /Users/mmendez/Documents/Postdoc/Software_dev/RICE/3_RELOG_simulation/output/Recycling_NAICS_2 already exists!\n",
      "The path for /Users/mmendez/Documents/Postdoc/Software_dev/RICE/3_RELOG_simulation/figures/Recycling_NAICS_2 already exists!\n",
      "The path for /Users/mmendez/Documents/Postdoc/Software_dev/RICE/3_RELOG_simulation/input/Recycling_NAICS_5 already exists!\n",
      "The path for /Users/mmendez/Documents/Postdoc/Software_dev/RICE/3_RELOG_simulation/output/Recycling_NAICS_5 already exists!\n",
      "The path for /Users/mmendez/Documents/Postdoc/Software_dev/RICE/3_RELOG_simulation/figures/Recycling_NAICS_5 already exists!\n",
      "The path for /Users/mmendez/Documents/Postdoc/Software_dev/RICE/3_RELOG_simulation/input/Recycling_NAICS_10 already exists!\n",
      "The path for /Users/mmendez/Documents/Postdoc/Software_dev/RICE/3_RELOG_simulation/output/Recycling_NAICS_10 already exists!\n",
      "The path for /Users/mmendez/Documents/Postdoc/Software_dev/RICE/3_RELOG_simulation/figures/Recycling_NAICS_10 already exists!\n",
      "The path for /Users/mmendez/Documents/Postdoc/Software_dev/RICE/3_RELOG_simulation/input/Recycling_40209_05 already exists!\n",
      "The path for /Users/mmendez/Documents/Postdoc/Software_dev/RICE/3_RELOG_simulation/output/Recycling_40209_05 already exists!\n",
      "The path for /Users/mmendez/Documents/Postdoc/Software_dev/RICE/3_RELOG_simulation/figures/Recycling_40209_05 already exists!\n",
      "The path for /Users/mmendez/Documents/Postdoc/Software_dev/RICE/3_RELOG_simulation/input/Recycling_40209_1 already exists!\n",
      "The path for /Users/mmendez/Documents/Postdoc/Software_dev/RICE/3_RELOG_simulation/output/Recycling_40209_1 already exists!\n",
      "The path for /Users/mmendez/Documents/Postdoc/Software_dev/RICE/3_RELOG_simulation/figures/Recycling_40209_1 already exists!\n",
      "The path for /Users/mmendez/Documents/Postdoc/Software_dev/RICE/3_RELOG_simulation/input/Recycling_40209_2 already exists!\n",
      "The path for /Users/mmendez/Documents/Postdoc/Software_dev/RICE/3_RELOG_simulation/output/Recycling_40209_2 already exists!\n",
      "The path for /Users/mmendez/Documents/Postdoc/Software_dev/RICE/3_RELOG_simulation/figures/Recycling_40209_2 already exists!\n",
      "The path for /Users/mmendez/Documents/Postdoc/Software_dev/RICE/3_RELOG_simulation/input/Recycling_40209_5 already exists!\n",
      "The path for /Users/mmendez/Documents/Postdoc/Software_dev/RICE/3_RELOG_simulation/output/Recycling_40209_5 already exists!\n",
      "The path for /Users/mmendez/Documents/Postdoc/Software_dev/RICE/3_RELOG_simulation/figures/Recycling_40209_5 already exists!\n",
      "The path for /Users/mmendez/Documents/Postdoc/Software_dev/RICE/3_RELOG_simulation/input/Recycling_40209_10 already exists!\n",
      "The path for /Users/mmendez/Documents/Postdoc/Software_dev/RICE/3_RELOG_simulation/output/Recycling_40209_10 already exists!\n",
      "The path for /Users/mmendez/Documents/Postdoc/Software_dev/RICE/3_RELOG_simulation/figures/Recycling_40209_10 already exists!\n",
      "The path for /Users/mmendez/Documents/Postdoc/Software_dev/RICE/3_RELOG_simulation/input/Manufacturing_cap_NAICS_0001 already exists!\n",
      "The path for /Users/mmendez/Documents/Postdoc/Software_dev/RICE/3_RELOG_simulation/output/Manufacturing_cap_NAICS_0001 already exists!\n",
      "The path for /Users/mmendez/Documents/Postdoc/Software_dev/RICE/3_RELOG_simulation/figures/Manufacturing_cap_NAICS_0001 already exists!\n",
      "The path for /Users/mmendez/Documents/Postdoc/Software_dev/RICE/3_RELOG_simulation/input/Manufacturing_cap_NAICS_05 already exists!\n",
      "The path for /Users/mmendez/Documents/Postdoc/Software_dev/RICE/3_RELOG_simulation/output/Manufacturing_cap_NAICS_05 already exists!\n",
      "The path for /Users/mmendez/Documents/Postdoc/Software_dev/RICE/3_RELOG_simulation/figures/Manufacturing_cap_NAICS_05 already exists!\n",
      "The path for /Users/mmendez/Documents/Postdoc/Software_dev/RICE/3_RELOG_simulation/input/Manufacturing_cap_NAICS_1 already exists!\n",
      "The path for /Users/mmendez/Documents/Postdoc/Software_dev/RICE/3_RELOG_simulation/output/Manufacturing_cap_NAICS_1 already exists!\n",
      "The path for /Users/mmendez/Documents/Postdoc/Software_dev/RICE/3_RELOG_simulation/figures/Manufacturing_cap_NAICS_1 already exists!\n",
      "The path for /Users/mmendez/Documents/Postdoc/Software_dev/RICE/3_RELOG_simulation/input/Manufacturing_cap_NAICS_2 already exists!\n",
      "The path for /Users/mmendez/Documents/Postdoc/Software_dev/RICE/3_RELOG_simulation/output/Manufacturing_cap_NAICS_2 already exists!\n",
      "The path for /Users/mmendez/Documents/Postdoc/Software_dev/RICE/3_RELOG_simulation/figures/Manufacturing_cap_NAICS_2 already exists!\n",
      "The path for /Users/mmendez/Documents/Postdoc/Software_dev/RICE/3_RELOG_simulation/input/Manufacturing_cap_40209_0001 already exists!\n",
      "The path for /Users/mmendez/Documents/Postdoc/Software_dev/RICE/3_RELOG_simulation/output/Manufacturing_cap_40209_0001 already exists!\n",
      "The path for /Users/mmendez/Documents/Postdoc/Software_dev/RICE/3_RELOG_simulation/figures/Manufacturing_cap_40209_0001 already exists!\n",
      "The path for /Users/mmendez/Documents/Postdoc/Software_dev/RICE/3_RELOG_simulation/input/Manufacturing_cap_40209_05 already exists!\n",
      "The path for /Users/mmendez/Documents/Postdoc/Software_dev/RICE/3_RELOG_simulation/output/Manufacturing_cap_40209_05 already exists!\n",
      "The path for /Users/mmendez/Documents/Postdoc/Software_dev/RICE/3_RELOG_simulation/figures/Manufacturing_cap_40209_05 already exists!\n",
      "The path for /Users/mmendez/Documents/Postdoc/Software_dev/RICE/3_RELOG_simulation/input/Manufacturing_cap_40209_1 already exists!\n",
      "The path for /Users/mmendez/Documents/Postdoc/Software_dev/RICE/3_RELOG_simulation/output/Manufacturing_cap_40209_1 already exists!\n",
      "The path for /Users/mmendez/Documents/Postdoc/Software_dev/RICE/3_RELOG_simulation/figures/Manufacturing_cap_40209_1 already exists!\n",
      "The path for /Users/mmendez/Documents/Postdoc/Software_dev/RICE/3_RELOG_simulation/input/Manufacturing_cap_40209_2 already exists!\n",
      "The path for /Users/mmendez/Documents/Postdoc/Software_dev/RICE/3_RELOG_simulation/output/Manufacturing_cap_40209_2 already exists!\n",
      "The path for /Users/mmendez/Documents/Postdoc/Software_dev/RICE/3_RELOG_simulation/figures/Manufacturing_cap_40209_2 already exists!\n",
      "The path for /Users/mmendez/Documents/Postdoc/Software_dev/RICE/3_RELOG_simulation/input/Recycling_cap_NAICS_05 already exists!\n",
      "The path for /Users/mmendez/Documents/Postdoc/Software_dev/RICE/3_RELOG_simulation/output/Recycling_cap_NAICS_05 already exists!\n",
      "The path for /Users/mmendez/Documents/Postdoc/Software_dev/RICE/3_RELOG_simulation/figures/Recycling_cap_NAICS_05 already exists!\n",
      "The path for /Users/mmendez/Documents/Postdoc/Software_dev/RICE/3_RELOG_simulation/input/Recycling_cap_NAICS_1 already exists!\n",
      "The path for /Users/mmendez/Documents/Postdoc/Software_dev/RICE/3_RELOG_simulation/output/Recycling_cap_NAICS_1 already exists!\n",
      "The path for /Users/mmendez/Documents/Postdoc/Software_dev/RICE/3_RELOG_simulation/figures/Recycling_cap_NAICS_1 already exists!\n",
      "The path for /Users/mmendez/Documents/Postdoc/Software_dev/RICE/3_RELOG_simulation/input/Recycling_cap_NAICS_2 already exists!\n",
      "The path for /Users/mmendez/Documents/Postdoc/Software_dev/RICE/3_RELOG_simulation/output/Recycling_cap_NAICS_2 already exists!\n",
      "The path for /Users/mmendez/Documents/Postdoc/Software_dev/RICE/3_RELOG_simulation/figures/Recycling_cap_NAICS_2 already exists!\n",
      "The path for /Users/mmendez/Documents/Postdoc/Software_dev/RICE/3_RELOG_simulation/input/Recycling_cap_NAICS_5 already exists!\n",
      "The path for /Users/mmendez/Documents/Postdoc/Software_dev/RICE/3_RELOG_simulation/output/Recycling_cap_NAICS_5 already exists!\n",
      "The path for /Users/mmendez/Documents/Postdoc/Software_dev/RICE/3_RELOG_simulation/figures/Recycling_cap_NAICS_5 already exists!\n",
      "The path for /Users/mmendez/Documents/Postdoc/Software_dev/RICE/3_RELOG_simulation/input/Recycling_cap_NAICS_10 already exists!\n",
      "The path for /Users/mmendez/Documents/Postdoc/Software_dev/RICE/3_RELOG_simulation/output/Recycling_cap_NAICS_10 already exists!\n",
      "The path for /Users/mmendez/Documents/Postdoc/Software_dev/RICE/3_RELOG_simulation/figures/Recycling_cap_NAICS_10 already exists!\n",
      "The path for /Users/mmendez/Documents/Postdoc/Software_dev/RICE/3_RELOG_simulation/input/Recycling_cap_40209_05 already exists!\n",
      "The path for /Users/mmendez/Documents/Postdoc/Software_dev/RICE/3_RELOG_simulation/output/Recycling_cap_40209_05 already exists!\n",
      "The path for /Users/mmendez/Documents/Postdoc/Software_dev/RICE/3_RELOG_simulation/figures/Recycling_cap_40209_05 already exists!\n",
      "The path for /Users/mmendez/Documents/Postdoc/Software_dev/RICE/3_RELOG_simulation/input/Recycling_cap_40209_1 already exists!\n",
      "The path for /Users/mmendez/Documents/Postdoc/Software_dev/RICE/3_RELOG_simulation/output/Recycling_cap_40209_1 already exists!\n",
      "The path for /Users/mmendez/Documents/Postdoc/Software_dev/RICE/3_RELOG_simulation/figures/Recycling_cap_40209_1 already exists!\n",
      "The path for /Users/mmendez/Documents/Postdoc/Software_dev/RICE/3_RELOG_simulation/input/Recycling_cap_40209_2 already exists!\n",
      "The path for /Users/mmendez/Documents/Postdoc/Software_dev/RICE/3_RELOG_simulation/output/Recycling_cap_40209_2 already exists!\n",
      "The path for /Users/mmendez/Documents/Postdoc/Software_dev/RICE/3_RELOG_simulation/figures/Recycling_cap_40209_2 already exists!\n",
      "The path for /Users/mmendez/Documents/Postdoc/Software_dev/RICE/3_RELOG_simulation/input/Recycling_cap_40209_5 already exists!\n",
      "The path for /Users/mmendez/Documents/Postdoc/Software_dev/RICE/3_RELOG_simulation/output/Recycling_cap_40209_5 already exists!\n",
      "The path for /Users/mmendez/Documents/Postdoc/Software_dev/RICE/3_RELOG_simulation/figures/Recycling_cap_40209_5 already exists!\n",
      "The path for /Users/mmendez/Documents/Postdoc/Software_dev/RICE/3_RELOG_simulation/input/Recycling_cap_40209_10 already exists!\n",
      "The path for /Users/mmendez/Documents/Postdoc/Software_dev/RICE/3_RELOG_simulation/output/Recycling_cap_40209_10 already exists!\n",
      "The path for /Users/mmendez/Documents/Postdoc/Software_dev/RICE/3_RELOG_simulation/figures/Recycling_cap_40209_10 already exists!\n"
     ]
    }
   ],
   "source": [
    "for simulation_name in files_list:\n",
    "    if whatif:\n",
    "        input_file = os.path.join(cwd, 'input', simulation_name)\n",
    "        input_file_whatif = os.path.join(cwd, 'input', 'what-if_'+ simulation_name)\n",
    "        output_file = os.path.join(cwd, 'output', simulation_name)\n",
    "        output_file_whatif = os.path.join(cwd, 'output', 'what-if_'+ simulation_name)\n",
    "        figures_file = os.path.join(cwd, 'figures', simulation_name)\n",
    "        figures_file_whatif = os.path.join(cwd, 'figures', 'what-if_'+ simulation_name)\n",
    "        files_to_create = [input_file, input_file_whatif, output_file, output_file_whatif, figures_file, figures_file_whatif]\n",
    "    else:\n",
    "        input_file = os.path.join(cwd, 'input', simulation_name)\n",
    "        output_file = os.path.join(cwd, 'output', simulation_name)\n",
    "        figures_file = os.path.join(cwd, 'figures', simulation_name)\n",
    "        files_to_create = [input_file, output_file, figures_file]\n",
    "    for files in range(len(files_to_create)):\n",
    "        # Check whether the specified path exists or not\n",
    "        isExist = os.path.exists(files_to_create[files])\n",
    "        if isExist:\n",
    "            print(f\"The path for {files_to_create[files]} already exists!\")\n",
    "        if not isExist:\n",
    "            # Create a new directory because it does not exist\n",
    "            os.makedirs(files_to_create[files])\n",
    "            print(f\"The new directory for {files_to_create[files]} has been created!\")"
   ]
  },
  {
   "cell_type": "markdown",
   "id": "550b0f2a-8c5c-4a54-b07b-47f16015c2ab",
   "metadata": {},
   "source": [
    "# HPC case generation"
   ]
  },
  {
   "cell_type": "markdown",
   "id": "4fd1eb4b-fe7d-4084-8ab6-86957e511ca7",
   "metadata": {},
   "source": [
    "Only use this one when you have your input files ready for simulation, this means that the `input` folder has the `case.json` (i.e. the saved file made in the [RELOG case builder](https://relog.axavier.org/casebuilder)), and the `what-if_blablabla` has been also generated."
   ]
  },
  {
   "cell_type": "code",
   "execution_count": 40,
   "id": "f3525200-b839-401e-b403-f2cc968cf85b",
   "metadata": {},
   "outputs": [],
   "source": [
    "cwd = os.getcwd()"
   ]
  },
  {
   "cell_type": "code",
   "execution_count": 6,
   "id": "cbf34c10-462e-4dc0-8f0e-dfe7c1901285",
   "metadata": {},
   "outputs": [],
   "source": [
    "facility_label = ['Manufacturing', 'Recycling','Manufacturing_cap', 'Recycling_cap']\n",
    "#facility_label = ['Manufacturing_cap', 'Recycling_cap']\n",
    "location_label = ['NAICS', '40209']\n",
    "factor_label_rec = ['05', '1', '2', '5', '10']\n",
    "factor_label_man = ['0001','05', '1', '2'] # 0 is 0,5"
   ]
  },
  {
   "cell_type": "code",
   "execution_count": 7,
   "id": "aab04f11-3a35-422e-87a6-7e74252b557f",
   "metadata": {},
   "outputs": [],
   "source": [
    "files_list = []\n",
    "for fac in facility_label:\n",
    "    for loc in location_label:\n",
    "        if fac.startswith('Manufacturing'):\n",
    "            for fac_man in factor_label_man:\n",
    "                files_list.append(fac+'_'+loc+'_'+fac_man)\n",
    "        # else:\n",
    "        #     for fac_rec in factor_label_rec:\n",
    "        #         files_list.append(fac+'_'+loc+'_'+fac_rec) "
   ]
  },
  {
   "cell_type": "code",
   "execution_count": 8,
   "id": "727efb3e-9e17-4807-945f-8fde13790da4",
   "metadata": {},
   "outputs": [
    {
     "data": {
      "text/plain": [
       "['Manufacturing_NAICS_0001',\n",
       " 'Manufacturing_NAICS_05',\n",
       " 'Manufacturing_NAICS_1',\n",
       " 'Manufacturing_NAICS_2',\n",
       " 'Manufacturing_40209_0001',\n",
       " 'Manufacturing_40209_05',\n",
       " 'Manufacturing_40209_1',\n",
       " 'Manufacturing_40209_2',\n",
       " 'Manufacturing_cap_NAICS_0001',\n",
       " 'Manufacturing_cap_NAICS_05',\n",
       " 'Manufacturing_cap_NAICS_1',\n",
       " 'Manufacturing_cap_NAICS_2',\n",
       " 'Manufacturing_cap_40209_0001',\n",
       " 'Manufacturing_cap_40209_05',\n",
       " 'Manufacturing_cap_40209_1',\n",
       " 'Manufacturing_cap_40209_2']"
      ]
     },
     "execution_count": 8,
     "metadata": {},
     "output_type": "execute_result"
    }
   ],
   "source": [
    "files_list"
   ]
  },
  {
   "cell_type": "markdown",
   "id": "15ce4acc-81a8-4306-a37d-bf70814a03d1",
   "metadata": {},
   "source": [
    "## HPC folder generation"
   ]
  },
  {
   "cell_type": "markdown",
   "id": "f4ad6a22-cd2c-452a-8f84-b81f2d69f95c",
   "metadata": {},
   "source": [
    "Make sure that the simulation folder exists in the main folders, that it has a `case.json` file inside and that it also has the what-if scenarios generated. If these are not created it will throw an error asking you to do those steps first."
   ]
  },
  {
   "cell_type": "code",
   "execution_count": 49,
   "id": "8136af53-e006-455f-8597-0f899cae263e",
   "metadata": {},
   "outputs": [
    {
     "data": {
      "text/plain": [
       "['Manufacturing_cap_NAICS_0001',\n",
       " 'Manufacturing_cap_NAICS_05',\n",
       " 'Manufacturing_cap_NAICS_1',\n",
       " 'Manufacturing_cap_NAICS_2',\n",
       " 'Manufacturing_cap_40209_0001',\n",
       " 'Manufacturing_cap_40209_05',\n",
       " 'Manufacturing_cap_40209_1',\n",
       " 'Manufacturing_cap_40209_2']"
      ]
     },
     "execution_count": 49,
     "metadata": {},
     "output_type": "execute_result"
    }
   ],
   "source": [
    "files_list"
   ]
  },
  {
   "cell_type": "code",
   "execution_count": 50,
   "id": "b02816b9-f69f-408e-8aeb-c8842e154393",
   "metadata": {},
   "outputs": [
    {
     "data": {
      "text/plain": [
       "'/Users/mmendez/Documents/Postdoc/Software_dev/RICE/3_RELOG_simulation/input/Recycling_cap_40209_10'"
      ]
     },
     "execution_count": 50,
     "metadata": {},
     "output_type": "execute_result"
    }
   ],
   "source": [
    "simulation_folders[0]"
   ]
  },
  {
   "cell_type": "markdown",
   "id": "bb430aae-16ec-44bb-8b47-a21a102114ac",
   "metadata": {},
   "source": [
    "These two lines are in case the third cell down yells at you in case there is a .DS_Store file."
   ]
  },
  {
   "cell_type": "code",
   "execution_count": 56,
   "id": "aec2cbf5-757c-4a3c-8ea4-bd9b1a7d3991",
   "metadata": {},
   "outputs": [
    {
     "data": {
      "text/plain": [
       "['.DS_Store', 'case.json']"
      ]
     },
     "execution_count": 56,
     "metadata": {},
     "output_type": "execute_result"
    }
   ],
   "source": [
    "os.listdir(\n",
    "    '/Users/mmendez/Documents/Postdoc/Software_dev/RICE/3_RELOG_simulation/input/Manufacturing_cap_NAICS_0001')\n"
   ]
  },
  {
   "cell_type": "code",
   "execution_count": 63,
   "id": "d0ad857e-da67-401c-af45-5b52d9e4cbb2",
   "metadata": {},
   "outputs": [],
   "source": [
    "os.remove('/Users/mmendez/Documents/Postdoc/Software_dev/RICE/3_RELOG_simulation/input/Manufacturing_cap_40209_05/.DS_Store')"
   ]
  },
  {
   "cell_type": "code",
   "execution_count": 64,
   "id": "a89c88cb-b2fc-4436-bee9-c82052486226",
   "metadata": {
    "scrolled": true,
    "tags": []
   },
   "outputs": [
    {
     "name": "stdout",
     "output_type": "stream",
     "text": [
      "The path for /Users/mmendez/Documents/Postdoc/Software_dev/RICE/3_RELOG_simulation/input/Manufacturing_cap_NAICS_0001 exists! You may continue to the next step.\n",
      "Case.json exists!\n",
      "The path for /Users/mmendez/Documents/Postdoc/Software_dev/RICE/3_RELOG_simulation/hpc_simulation_folders/Manufacturing_cap_NAICS_0001/input/solver already exists!\n",
      "The path for /Users/mmendez/Documents/Postdoc/Software_dev/RICE/3_RELOG_simulation/hpc_simulation_folders/Manufacturing_cap_NAICS_0001/output/solver already exists!\n",
      "The path for /Users/mmendez/Documents/Postdoc/Software_dev/RICE/3_RELOG_simulation/input/Manufacturing_cap_NAICS_05 exists! You may continue to the next step.\n",
      "Case.json exists!\n",
      "The path for /Users/mmendez/Documents/Postdoc/Software_dev/RICE/3_RELOG_simulation/hpc_simulation_folders/Manufacturing_cap_NAICS_05/input/solver already exists!\n",
      "The path for /Users/mmendez/Documents/Postdoc/Software_dev/RICE/3_RELOG_simulation/hpc_simulation_folders/Manufacturing_cap_NAICS_05/output/solver already exists!\n",
      "The path for /Users/mmendez/Documents/Postdoc/Software_dev/RICE/3_RELOG_simulation/input/Manufacturing_cap_NAICS_1 exists! You may continue to the next step.\n",
      "Case.json exists!\n",
      "The path for /Users/mmendez/Documents/Postdoc/Software_dev/RICE/3_RELOG_simulation/hpc_simulation_folders/Manufacturing_cap_NAICS_1/input/solver already exists!\n",
      "The path for /Users/mmendez/Documents/Postdoc/Software_dev/RICE/3_RELOG_simulation/hpc_simulation_folders/Manufacturing_cap_NAICS_1/output/solver already exists!\n",
      "The path for /Users/mmendez/Documents/Postdoc/Software_dev/RICE/3_RELOG_simulation/input/Manufacturing_cap_NAICS_2 exists! You may continue to the next step.\n",
      "Case.json exists!\n",
      "The path for /Users/mmendez/Documents/Postdoc/Software_dev/RICE/3_RELOG_simulation/hpc_simulation_folders/Manufacturing_cap_NAICS_2/input/solver already exists!\n",
      "The path for /Users/mmendez/Documents/Postdoc/Software_dev/RICE/3_RELOG_simulation/hpc_simulation_folders/Manufacturing_cap_NAICS_2/output/solver already exists!\n",
      "The path for /Users/mmendez/Documents/Postdoc/Software_dev/RICE/3_RELOG_simulation/input/Manufacturing_cap_40209_0001 exists! You may continue to the next step.\n",
      "Case.json exists!\n",
      "The path for /Users/mmendez/Documents/Postdoc/Software_dev/RICE/3_RELOG_simulation/hpc_simulation_folders/Manufacturing_cap_40209_0001/input/solver already exists!\n",
      "The path for /Users/mmendez/Documents/Postdoc/Software_dev/RICE/3_RELOG_simulation/hpc_simulation_folders/Manufacturing_cap_40209_0001/output/solver already exists!\n",
      "The path for /Users/mmendez/Documents/Postdoc/Software_dev/RICE/3_RELOG_simulation/input/Manufacturing_cap_40209_05 exists! You may continue to the next step.\n",
      "Case.json exists!\n",
      "The path for /Users/mmendez/Documents/Postdoc/Software_dev/RICE/3_RELOG_simulation/hpc_simulation_folders/Manufacturing_cap_40209_05/input/solver already exists!\n",
      "The path for /Users/mmendez/Documents/Postdoc/Software_dev/RICE/3_RELOG_simulation/hpc_simulation_folders/Manufacturing_cap_40209_05/output/solver already exists!\n",
      "The path for /Users/mmendez/Documents/Postdoc/Software_dev/RICE/3_RELOG_simulation/input/Manufacturing_cap_40209_1 exists! You may continue to the next step.\n",
      "Case.json exists!\n",
      "The path for /Users/mmendez/Documents/Postdoc/Software_dev/RICE/3_RELOG_simulation/hpc_simulation_folders/Manufacturing_cap_40209_1/input/solver already exists!\n",
      "The path for /Users/mmendez/Documents/Postdoc/Software_dev/RICE/3_RELOG_simulation/hpc_simulation_folders/Manufacturing_cap_40209_1/output/solver already exists!\n",
      "The path for /Users/mmendez/Documents/Postdoc/Software_dev/RICE/3_RELOG_simulation/input/Manufacturing_cap_40209_2 exists! You may continue to the next step.\n",
      "Case.json exists!\n",
      "The path for /Users/mmendez/Documents/Postdoc/Software_dev/RICE/3_RELOG_simulation/hpc_simulation_folders/Manufacturing_cap_40209_2/input/solver already exists!\n",
      "The path for /Users/mmendez/Documents/Postdoc/Software_dev/RICE/3_RELOG_simulation/hpc_simulation_folders/Manufacturing_cap_40209_2/output/solver already exists!\n"
     ]
    }
   ],
   "source": [
    "for simulation_name in files_list:   \n",
    "# Check that the path exists\n",
    "    if whatif:\n",
    "        input_solver_folder_location = os.path.join(cwd, 'input', simulation_name)\n",
    "        input_whatif_folder_location = os.path.join(cwd, 'input', 'what-if_'+simulation_name)\n",
    "        simulation_folders = [input_solver_folder_location, input_whatif_folder_location ]\n",
    "    else:\n",
    "        input_solver_folder_location = os.path.join(cwd, 'input', simulation_name)\n",
    "        simulation_folders = [input_solver_folder_location]\n",
    "    for files in range(len(simulation_folders)):\n",
    "        isExist = os.path.exists(simulation_folders[files])\n",
    "        if isExist:\n",
    "            print(f\"The path for {simulation_folders[files]} exists! You may continue to the next step.\")\n",
    "        else:\n",
    "            raise PathNotFoundError(f'The path {input_solver_file_location} does not exist, please generate the necessary folders using the 0_Folder_generation.ipynb found in 3_RELOG_simulation.')\n",
    "# Check that the files are inside\n",
    "    if whatif:\n",
    "            if os.listdir(simulation_folders[0]) == ['case.json']:\n",
    "                print('Case.json exists!')\n",
    "            else:\n",
    "                raise FileNotFoundError('The file ''case.json'' does not exist in please generate the the file using RELOG\\'s case builder.')\n",
    "            if len(input_whatif_folder_location) == 0:\n",
    "                raise FileNotFoundError('The what-if files have not been generated, please go to 3_RELOG_simulation/input/Generate What-If Scenarios.ipynb and generate the scenario files.')\n",
    "            else:\n",
    "                print('The what-if files exist, you may continue!')\n",
    "    else:\n",
    "            if os.listdir(simulation_folders[0]) == ['case.json']:\n",
    "                print('Case.json exists!')\n",
    "            else:\n",
    "                print(f'File {simulation_folders[0]}')\n",
    "                raise FileNotFoundError(f'The file ''case.json'' does not exist, please generate the the file using RELOG\\'s case builder.')\n",
    "# Create paths for the hpc\n",
    "    if whatif:\n",
    "        hpc_input_solver_folder = os.path.join(cwd, 'hpc_simulation_folders', simulation_name, 'input', 'solver') \n",
    "        hpc_input_whatif_folder = os.path.join(cwd, 'hpc_simulation_folders', simulation_name, 'input', 'what-if') \n",
    "        hpc_output_solver_folder = os.path.join(cwd, 'hpc_simulation_folders', simulation_name, 'output', 'solver') \n",
    "        hpc_output_whatif_folder = os.path.join(cwd, 'hpc_simulation_folders', simulation_name, 'output', 'what-if') \n",
    "        check_list = [hpc_input_solver_folder, hpc_input_whatif_folder, hpc_output_solver_folder, hpc_output_whatif_folder]\n",
    "    else:\n",
    "        hpc_input_solver_folder = os.path.join(cwd, 'hpc_simulation_folders', simulation_name, 'input', 'solver') \n",
    "        hpc_output_solver_folder = os.path.join(cwd, 'hpc_simulation_folders', simulation_name, 'output', 'solver') \n",
    "        check_list = [hpc_input_solver_folder, hpc_output_solver_folder]   \n",
    "# Create files if they don't already exist    \n",
    "    for files in range(len(check_list)):\n",
    "        # Check whether the specified path exists or not\n",
    "        isExist = os.path.exists(check_list[files])\n",
    "        if isExist:\n",
    "            print(f\"The path for {check_list[files]} already exists!\")\n",
    "        if not isExist:\n",
    "            # Create a new directory because it does not exist\n",
    "            os.makedirs(check_list[files])\n",
    "            print(f\"The new directory for {check_list[files]} has been created!\")\n",
    "\n",
    "\n",
    "# Copy the files from the template codes into the simulation folder:\n",
    "    cwd = os.getcwd()\n",
    "    template_files = os.path.join(cwd, 'hpc_simulation_folders', 'template_codes')\n",
    "    input_files = os.path.join(cwd, 'hpc_simulation_folders', simulation_name)\n",
    "    copy_tree(template_files, input_files)\n",
    "\n",
    "    # Read in the file\n",
    "    with open(os.path.join(input_files, 'solver.jl'), 'r') as file :\n",
    "        filedata = file.read()\n",
    "# Change the word 'scenario' for the folder scenario name in the solver.jl and the what-if.jl files:\n",
    "    # Replace the target string\n",
    "    filedata = filedata.replace('scenario', simulation_name)\n",
    "\n",
    "    # Write the file out again\n",
    "    with open(os.path.join(input_files, 'solver.jl'), 'w') as file:\n",
    "        file.write(filedata)\n",
    "    if whatif:\n",
    "        # Read in the file\n",
    "        with open(os.path.join(input_files, 'what-if.jl'), 'r') as file :\n",
    "            filedata = file.read()\n",
    "\n",
    "        # Replace the target string\n",
    "        filedata = filedata.replace('scenario', simulation_name)\n",
    "\n",
    "        # Write the file out again\n",
    "        with open(os.path.join(input_files, 'what-if.jl'), 'w') as file:\n",
    "            file.write(filedata)\n",
    "# Copy the solver and whatif files to the hpc scenario folders\n",
    "    if whatif:\n",
    "        copy_tree(input_solver_folder_location, hpc_input_solver_folder)\n",
    "        copy_tree(input_whatif_folder_location, hpc_input_whatif_folder)\n",
    "    else:\n",
    "        copy_tree(input_solver_folder_location, hpc_input_solver_folder)\n"
   ]
  },
  {
   "cell_type": "markdown",
   "id": "94a5e468-18a4-467a-9794-adfcbd445705",
   "metadata": {},
   "source": [
    "Now that you have your simulation ready for hpc, copy the simulation folder and paste it in the HPC folder. In my case, I go to the terminal ang run the following line:\n",
    "`scp -r /Users/mmendez/Documents/Postdoc/Software_dev/RICE/3_RELOG_simulation/hpc_simulation_folders/name_of_scenario mmendez@eagle.nrel.gov:/projects/pvsoiling/RELOG/`\n",
    "\n",
    "**Note: It will ask for the Eagle password**\n",
    "\n",
    "After I am done with the simulation, I copy the samle file but now it has output files in it so I take the simulation output folder and save it in the hpc_scenario_outputs folder. After that I manually copy and paste this file into the local output simulation folder.\n",
    "`scp -r mmendez@eagle.nrel.gov:/projects/pvsoiling/RELOG/scenario_name/output /Users/mmendez/Documents/Postdoc/Software_dev/RICE/3_RELOG_simulation/hpc_simulation-folders/hpc_scenario_outputs/name_of_scenario`\n",
    "\n",
    "**Note: It will ask for the Eagle password**  \n",
    "    \n"
   ]
  },
  {
   "cell_type": "markdown",
   "id": "aec965c4-8376-4e1f-92f2-94126ab5d8e3",
   "metadata": {},
   "source": [
    "## Little bonus code for the lazy\n",
    "Just run this cell and copy the line you need to either copy from local machine to HPC, of from HPC to local machine:"
   ]
  },
  {
   "cell_type": "markdown",
   "id": "f70a0cfa-38b3-4b93-8fbc-fbc580769619",
   "metadata": {},
   "source": [
    "Local machine to HPC (copy and paste it into your terminal):"
   ]
  },
  {
   "cell_type": "code",
   "execution_count": 9,
   "id": "bf11ec59-88e7-4460-a705-4fa369cd22b6",
   "metadata": {},
   "outputs": [],
   "source": [
    "cwd = os.getcwd()"
   ]
  },
  {
   "cell_type": "code",
   "execution_count": 10,
   "id": "1838db9a-f3a4-41c0-a247-1f48f50f42f7",
   "metadata": {},
   "outputs": [],
   "source": [
    "hpc_user = 'hwikoff@eagle.nrel.gov:'"
   ]
  },
  {
   "cell_type": "code",
   "execution_count": 13,
   "id": "6d500b1e-ef31-4678-b51e-adc61150a018",
   "metadata": {},
   "outputs": [
    {
     "name": "stdout",
     "output_type": "stream",
     "text": [
      "LOCAL-HPC TO HPC:\n",
      "scp -r /Users/hwikoff/Documents/RICE/3_RELOG_simulation/hpc_simulation_folders/Manufacturing_NAICS_0001 hwikoff@eagle.nrel.gov:/projects/rice\n",
      "scp -r /Users/hwikoff/Documents/RICE/3_RELOG_simulation/hpc_simulation_folders/Manufacturing_NAICS_05 hwikoff@eagle.nrel.gov:/projects/rice\n",
      "scp -r /Users/hwikoff/Documents/RICE/3_RELOG_simulation/hpc_simulation_folders/Manufacturing_NAICS_1 hwikoff@eagle.nrel.gov:/projects/rice\n",
      "scp -r /Users/hwikoff/Documents/RICE/3_RELOG_simulation/hpc_simulation_folders/Manufacturing_NAICS_2 hwikoff@eagle.nrel.gov:/projects/rice\n",
      "scp -r /Users/hwikoff/Documents/RICE/3_RELOG_simulation/hpc_simulation_folders/Manufacturing_40209_0001 hwikoff@eagle.nrel.gov:/projects/rice\n",
      "scp -r /Users/hwikoff/Documents/RICE/3_RELOG_simulation/hpc_simulation_folders/Manufacturing_40209_05 hwikoff@eagle.nrel.gov:/projects/rice\n",
      "scp -r /Users/hwikoff/Documents/RICE/3_RELOG_simulation/hpc_simulation_folders/Manufacturing_40209_1 hwikoff@eagle.nrel.gov:/projects/rice\n",
      "scp -r /Users/hwikoff/Documents/RICE/3_RELOG_simulation/hpc_simulation_folders/Manufacturing_40209_2 hwikoff@eagle.nrel.gov:/projects/rice\n",
      "scp -r /Users/hwikoff/Documents/RICE/3_RELOG_simulation/hpc_simulation_folders/Manufacturing_cap_NAICS_0001 hwikoff@eagle.nrel.gov:/projects/rice\n",
      "scp -r /Users/hwikoff/Documents/RICE/3_RELOG_simulation/hpc_simulation_folders/Manufacturing_cap_NAICS_05 hwikoff@eagle.nrel.gov:/projects/rice\n",
      "scp -r /Users/hwikoff/Documents/RICE/3_RELOG_simulation/hpc_simulation_folders/Manufacturing_cap_NAICS_1 hwikoff@eagle.nrel.gov:/projects/rice\n",
      "scp -r /Users/hwikoff/Documents/RICE/3_RELOG_simulation/hpc_simulation_folders/Manufacturing_cap_NAICS_2 hwikoff@eagle.nrel.gov:/projects/rice\n",
      "scp -r /Users/hwikoff/Documents/RICE/3_RELOG_simulation/hpc_simulation_folders/Manufacturing_cap_40209_0001 hwikoff@eagle.nrel.gov:/projects/rice\n",
      "scp -r /Users/hwikoff/Documents/RICE/3_RELOG_simulation/hpc_simulation_folders/Manufacturing_cap_40209_05 hwikoff@eagle.nrel.gov:/projects/rice\n",
      "scp -r /Users/hwikoff/Documents/RICE/3_RELOG_simulation/hpc_simulation_folders/Manufacturing_cap_40209_1 hwikoff@eagle.nrel.gov:/projects/rice\n",
      "scp -r /Users/hwikoff/Documents/RICE/3_RELOG_simulation/hpc_simulation_folders/Manufacturing_cap_40209_2 hwikoff@eagle.nrel.gov:/projects/rice\n"
     ]
    }
   ],
   "source": [
    "print('LOCAL-HPC TO HPC:')\n",
    "for simulation_name in files_list:\n",
    "    local_path = os.path.join(cwd, 'hpc_simulation_folders',simulation_name) #change the last entry for the specific name of your simulation\n",
    "    hpc_path = os.path.join(hpc_user, 'projects', 'rice', simulation_name, 'output' )\n",
    "    print('scp -r', local_path,'{}/projects/rice'.format(hpc_user)) # Change to \\ if it is windows"
   ]
  },
  {
   "cell_type": "markdown",
   "id": "5a408511-48f1-48b9-b7e8-cfaf4071a257",
   "metadata": {},
   "source": [
    "HPC to local machine (copy and paste it into your terminal), this path only works me, but if you have access to the same project folder, use it)."
   ]
  },
  {
   "cell_type": "code",
   "execution_count": 33,
   "id": "b1e8de18-9099-4cbd-b743-34796af2850f",
   "metadata": {},
   "outputs": [
    {
     "data": {
      "text/plain": [
       "36"
      ]
     },
     "execution_count": 33,
     "metadata": {},
     "output_type": "execute_result"
    }
   ],
   "source": [
    "len(files_list)"
   ]
  },
  {
   "cell_type": "code",
   "execution_count": 34,
   "id": "5a070fe2-1999-44f5-9628-220d6301b1ca",
   "metadata": {},
   "outputs": [
    {
     "name": "stdout",
     "output_type": "stream",
     "text": [
      "HPC TO LOCAL-HPC:\n",
      "scp -r mmendez@eagle.nrel.gov:/projects/pvsoiling/RELOG/Manufacturing_NAICS_0001/output /Users/mmendez/Documents/Postdoc/Software_dev/RICE/3_RELOG_simulation/hpc_simulation_folders/Manufacturing_NAICS_0001\n",
      "scp -r mmendez@eagle.nrel.gov:/projects/pvsoiling/RELOG/Manufacturing_NAICS_05/output /Users/mmendez/Documents/Postdoc/Software_dev/RICE/3_RELOG_simulation/hpc_simulation_folders/Manufacturing_NAICS_05\n",
      "scp -r mmendez@eagle.nrel.gov:/projects/pvsoiling/RELOG/Manufacturing_NAICS_1/output /Users/mmendez/Documents/Postdoc/Software_dev/RICE/3_RELOG_simulation/hpc_simulation_folders/Manufacturing_NAICS_1\n",
      "scp -r mmendez@eagle.nrel.gov:/projects/pvsoiling/RELOG/Manufacturing_NAICS_2/output /Users/mmendez/Documents/Postdoc/Software_dev/RICE/3_RELOG_simulation/hpc_simulation_folders/Manufacturing_NAICS_2\n",
      "scp -r mmendez@eagle.nrel.gov:/projects/pvsoiling/RELOG/Manufacturing_40209_0001/output /Users/mmendez/Documents/Postdoc/Software_dev/RICE/3_RELOG_simulation/hpc_simulation_folders/Manufacturing_40209_0001\n",
      "scp -r mmendez@eagle.nrel.gov:/projects/pvsoiling/RELOG/Manufacturing_40209_05/output /Users/mmendez/Documents/Postdoc/Software_dev/RICE/3_RELOG_simulation/hpc_simulation_folders/Manufacturing_40209_05\n",
      "scp -r mmendez@eagle.nrel.gov:/projects/pvsoiling/RELOG/Manufacturing_40209_1/output /Users/mmendez/Documents/Postdoc/Software_dev/RICE/3_RELOG_simulation/hpc_simulation_folders/Manufacturing_40209_1\n",
      "scp -r mmendez@eagle.nrel.gov:/projects/pvsoiling/RELOG/Manufacturing_40209_2/output /Users/mmendez/Documents/Postdoc/Software_dev/RICE/3_RELOG_simulation/hpc_simulation_folders/Manufacturing_40209_2\n",
      "scp -r mmendez@eagle.nrel.gov:/projects/pvsoiling/RELOG/Recycling_NAICS_05/output /Users/mmendez/Documents/Postdoc/Software_dev/RICE/3_RELOG_simulation/hpc_simulation_folders/Recycling_NAICS_05\n",
      "scp -r mmendez@eagle.nrel.gov:/projects/pvsoiling/RELOG/Recycling_NAICS_1/output /Users/mmendez/Documents/Postdoc/Software_dev/RICE/3_RELOG_simulation/hpc_simulation_folders/Recycling_NAICS_1\n",
      "scp -r mmendez@eagle.nrel.gov:/projects/pvsoiling/RELOG/Recycling_NAICS_2/output /Users/mmendez/Documents/Postdoc/Software_dev/RICE/3_RELOG_simulation/hpc_simulation_folders/Recycling_NAICS_2\n",
      "scp -r mmendez@eagle.nrel.gov:/projects/pvsoiling/RELOG/Recycling_NAICS_5/output /Users/mmendez/Documents/Postdoc/Software_dev/RICE/3_RELOG_simulation/hpc_simulation_folders/Recycling_NAICS_5\n",
      "scp -r mmendez@eagle.nrel.gov:/projects/pvsoiling/RELOG/Recycling_NAICS_10/output /Users/mmendez/Documents/Postdoc/Software_dev/RICE/3_RELOG_simulation/hpc_simulation_folders/Recycling_NAICS_10\n",
      "scp -r mmendez@eagle.nrel.gov:/projects/pvsoiling/RELOG/Recycling_40209_05/output /Users/mmendez/Documents/Postdoc/Software_dev/RICE/3_RELOG_simulation/hpc_simulation_folders/Recycling_40209_05\n",
      "scp -r mmendez@eagle.nrel.gov:/projects/pvsoiling/RELOG/Recycling_40209_1/output /Users/mmendez/Documents/Postdoc/Software_dev/RICE/3_RELOG_simulation/hpc_simulation_folders/Recycling_40209_1\n",
      "scp -r mmendez@eagle.nrel.gov:/projects/pvsoiling/RELOG/Recycling_40209_2/output /Users/mmendez/Documents/Postdoc/Software_dev/RICE/3_RELOG_simulation/hpc_simulation_folders/Recycling_40209_2\n",
      "scp -r mmendez@eagle.nrel.gov:/projects/pvsoiling/RELOG/Recycling_40209_5/output /Users/mmendez/Documents/Postdoc/Software_dev/RICE/3_RELOG_simulation/hpc_simulation_folders/Recycling_40209_5\n",
      "scp -r mmendez@eagle.nrel.gov:/projects/pvsoiling/RELOG/Recycling_40209_10/output /Users/mmendez/Documents/Postdoc/Software_dev/RICE/3_RELOG_simulation/hpc_simulation_folders/Recycling_40209_10\n",
      "scp -r mmendez@eagle.nrel.gov:/projects/pvsoiling/RELOG/Manufacturing_cap_NAICS_0001/output /Users/mmendez/Documents/Postdoc/Software_dev/RICE/3_RELOG_simulation/hpc_simulation_folders/Manufacturing_cap_NAICS_0001\n",
      "scp -r mmendez@eagle.nrel.gov:/projects/pvsoiling/RELOG/Manufacturing_cap_NAICS_05/output /Users/mmendez/Documents/Postdoc/Software_dev/RICE/3_RELOG_simulation/hpc_simulation_folders/Manufacturing_cap_NAICS_05\n",
      "scp -r mmendez@eagle.nrel.gov:/projects/pvsoiling/RELOG/Manufacturing_cap_NAICS_1/output /Users/mmendez/Documents/Postdoc/Software_dev/RICE/3_RELOG_simulation/hpc_simulation_folders/Manufacturing_cap_NAICS_1\n",
      "scp -r mmendez@eagle.nrel.gov:/projects/pvsoiling/RELOG/Manufacturing_cap_NAICS_2/output /Users/mmendez/Documents/Postdoc/Software_dev/RICE/3_RELOG_simulation/hpc_simulation_folders/Manufacturing_cap_NAICS_2\n",
      "scp -r mmendez@eagle.nrel.gov:/projects/pvsoiling/RELOG/Manufacturing_cap_40209_0001/output /Users/mmendez/Documents/Postdoc/Software_dev/RICE/3_RELOG_simulation/hpc_simulation_folders/Manufacturing_cap_40209_0001\n",
      "scp -r mmendez@eagle.nrel.gov:/projects/pvsoiling/RELOG/Manufacturing_cap_40209_05/output /Users/mmendez/Documents/Postdoc/Software_dev/RICE/3_RELOG_simulation/hpc_simulation_folders/Manufacturing_cap_40209_05\n",
      "scp -r mmendez@eagle.nrel.gov:/projects/pvsoiling/RELOG/Manufacturing_cap_40209_1/output /Users/mmendez/Documents/Postdoc/Software_dev/RICE/3_RELOG_simulation/hpc_simulation_folders/Manufacturing_cap_40209_1\n",
      "scp -r mmendez@eagle.nrel.gov:/projects/pvsoiling/RELOG/Manufacturing_cap_40209_2/output /Users/mmendez/Documents/Postdoc/Software_dev/RICE/3_RELOG_simulation/hpc_simulation_folders/Manufacturing_cap_40209_2\n",
      "scp -r mmendez@eagle.nrel.gov:/projects/pvsoiling/RELOG/Recycling_cap_NAICS_05/output /Users/mmendez/Documents/Postdoc/Software_dev/RICE/3_RELOG_simulation/hpc_simulation_folders/Recycling_cap_NAICS_05\n",
      "scp -r mmendez@eagle.nrel.gov:/projects/pvsoiling/RELOG/Recycling_cap_NAICS_1/output /Users/mmendez/Documents/Postdoc/Software_dev/RICE/3_RELOG_simulation/hpc_simulation_folders/Recycling_cap_NAICS_1\n",
      "scp -r mmendez@eagle.nrel.gov:/projects/pvsoiling/RELOG/Recycling_cap_NAICS_2/output /Users/mmendez/Documents/Postdoc/Software_dev/RICE/3_RELOG_simulation/hpc_simulation_folders/Recycling_cap_NAICS_2\n",
      "scp -r mmendez@eagle.nrel.gov:/projects/pvsoiling/RELOG/Recycling_cap_NAICS_5/output /Users/mmendez/Documents/Postdoc/Software_dev/RICE/3_RELOG_simulation/hpc_simulation_folders/Recycling_cap_NAICS_5\n",
      "scp -r mmendez@eagle.nrel.gov:/projects/pvsoiling/RELOG/Recycling_cap_NAICS_10/output /Users/mmendez/Documents/Postdoc/Software_dev/RICE/3_RELOG_simulation/hpc_simulation_folders/Recycling_cap_NAICS_10\n",
      "scp -r mmendez@eagle.nrel.gov:/projects/pvsoiling/RELOG/Recycling_cap_40209_05/output /Users/mmendez/Documents/Postdoc/Software_dev/RICE/3_RELOG_simulation/hpc_simulation_folders/Recycling_cap_40209_05\n",
      "scp -r mmendez@eagle.nrel.gov:/projects/pvsoiling/RELOG/Recycling_cap_40209_1/output /Users/mmendez/Documents/Postdoc/Software_dev/RICE/3_RELOG_simulation/hpc_simulation_folders/Recycling_cap_40209_1\n",
      "scp -r mmendez@eagle.nrel.gov:/projects/pvsoiling/RELOG/Recycling_cap_40209_2/output /Users/mmendez/Documents/Postdoc/Software_dev/RICE/3_RELOG_simulation/hpc_simulation_folders/Recycling_cap_40209_2\n",
      "scp -r mmendez@eagle.nrel.gov:/projects/pvsoiling/RELOG/Recycling_cap_40209_5/output /Users/mmendez/Documents/Postdoc/Software_dev/RICE/3_RELOG_simulation/hpc_simulation_folders/Recycling_cap_40209_5\n",
      "scp -r mmendez@eagle.nrel.gov:/projects/pvsoiling/RELOG/Recycling_cap_40209_10/output /Users/mmendez/Documents/Postdoc/Software_dev/RICE/3_RELOG_simulation/hpc_simulation_folders/Recycling_cap_40209_10\n"
     ]
    }
   ],
   "source": [
    "print('HPC TO LOCAL-HPC:')\n",
    "for simulation_name in files_list:\n",
    "    local_path = os.path.join(cwd, 'hpc_simulation_folders', simulation_name) \n",
    "    hpc_path = os.path.join('hwikoff@eagle.nrel.gov:', 'projects', 'rice', simulation_name, 'output' ) #change the last entry for the specific name of your simulation\n",
    "    print('scp -r', hpc_path, local_path)"
   ]
  },
  {
   "cell_type": "code",
   "execution_count": 35,
   "id": "6272708b-dbc0-4597-95a5-08f89097fda7",
   "metadata": {},
   "outputs": [
    {
     "data": {
      "text/plain": [
       "'/Users/mmendez/Documents/Postdoc/Software_dev/RICE/3_RELOG_simulation'"
      ]
     },
     "execution_count": 35,
     "metadata": {},
     "output_type": "execute_result"
    }
   ],
   "source": [
    "cwd"
   ]
  },
  {
   "cell_type": "code",
   "execution_count": 71,
   "id": "fed432a2-5b96-4719-bc16-fb3760300bbc",
   "metadata": {},
   "outputs": [
    {
     "name": "stdout",
     "output_type": "stream",
     "text": [
      "LOCAL-HPC TO LOCAL:\n",
      "scp -r /Users/mmendez/Documents/Postdoc/Software_dev/RICE/3_RELOG_simulation/hpc_simulation_folders/26_years_man_fix/Manufacturing_NAICS_0001/output/solver /Users/mmendez/Documents/Postdoc/Software_dev/RICE/3_RELOG_simulation/output/Manufacturing_NAICS_0001\n",
      "scp -r /Users/mmendez/Documents/Postdoc/Software_dev/RICE/3_RELOG_simulation/hpc_simulation_folders/26_years_man_fix/Manufacturing_NAICS_05/output/solver /Users/mmendez/Documents/Postdoc/Software_dev/RICE/3_RELOG_simulation/output/Manufacturing_NAICS_05\n",
      "scp -r /Users/mmendez/Documents/Postdoc/Software_dev/RICE/3_RELOG_simulation/hpc_simulation_folders/26_years_man_fix/Manufacturing_NAICS_1/output/solver /Users/mmendez/Documents/Postdoc/Software_dev/RICE/3_RELOG_simulation/output/Manufacturing_NAICS_1\n",
      "scp -r /Users/mmendez/Documents/Postdoc/Software_dev/RICE/3_RELOG_simulation/hpc_simulation_folders/26_years_man_fix/Manufacturing_NAICS_2/output/solver /Users/mmendez/Documents/Postdoc/Software_dev/RICE/3_RELOG_simulation/output/Manufacturing_NAICS_2\n",
      "scp -r /Users/mmendez/Documents/Postdoc/Software_dev/RICE/3_RELOG_simulation/hpc_simulation_folders/26_years_man_fix/Manufacturing_40209_0001/output/solver /Users/mmendez/Documents/Postdoc/Software_dev/RICE/3_RELOG_simulation/output/Manufacturing_40209_0001\n",
      "scp -r /Users/mmendez/Documents/Postdoc/Software_dev/RICE/3_RELOG_simulation/hpc_simulation_folders/26_years_man_fix/Manufacturing_40209_05/output/solver /Users/mmendez/Documents/Postdoc/Software_dev/RICE/3_RELOG_simulation/output/Manufacturing_40209_05\n",
      "scp -r /Users/mmendez/Documents/Postdoc/Software_dev/RICE/3_RELOG_simulation/hpc_simulation_folders/26_years_man_fix/Manufacturing_40209_1/output/solver /Users/mmendez/Documents/Postdoc/Software_dev/RICE/3_RELOG_simulation/output/Manufacturing_40209_1\n",
      "scp -r /Users/mmendez/Documents/Postdoc/Software_dev/RICE/3_RELOG_simulation/hpc_simulation_folders/26_years_man_fix/Manufacturing_40209_2/output/solver /Users/mmendez/Documents/Postdoc/Software_dev/RICE/3_RELOG_simulation/output/Manufacturing_40209_2\n",
      "scp -r /Users/mmendez/Documents/Postdoc/Software_dev/RICE/3_RELOG_simulation/hpc_simulation_folders/26_years_man_fix/Manufacturing_cap_NAICS_0001/output/solver /Users/mmendez/Documents/Postdoc/Software_dev/RICE/3_RELOG_simulation/output/Manufacturing_cap_NAICS_0001\n",
      "scp -r /Users/mmendez/Documents/Postdoc/Software_dev/RICE/3_RELOG_simulation/hpc_simulation_folders/26_years_man_fix/Manufacturing_cap_NAICS_05/output/solver /Users/mmendez/Documents/Postdoc/Software_dev/RICE/3_RELOG_simulation/output/Manufacturing_cap_NAICS_05\n",
      "scp -r /Users/mmendez/Documents/Postdoc/Software_dev/RICE/3_RELOG_simulation/hpc_simulation_folders/26_years_man_fix/Manufacturing_cap_NAICS_1/output/solver /Users/mmendez/Documents/Postdoc/Software_dev/RICE/3_RELOG_simulation/output/Manufacturing_cap_NAICS_1\n",
      "scp -r /Users/mmendez/Documents/Postdoc/Software_dev/RICE/3_RELOG_simulation/hpc_simulation_folders/26_years_man_fix/Manufacturing_cap_NAICS_2/output/solver /Users/mmendez/Documents/Postdoc/Software_dev/RICE/3_RELOG_simulation/output/Manufacturing_cap_NAICS_2\n",
      "scp -r /Users/mmendez/Documents/Postdoc/Software_dev/RICE/3_RELOG_simulation/hpc_simulation_folders/26_years_man_fix/Manufacturing_cap_40209_0001/output/solver /Users/mmendez/Documents/Postdoc/Software_dev/RICE/3_RELOG_simulation/output/Manufacturing_cap_40209_0001\n",
      "scp -r /Users/mmendez/Documents/Postdoc/Software_dev/RICE/3_RELOG_simulation/hpc_simulation_folders/26_years_man_fix/Manufacturing_cap_40209_05/output/solver /Users/mmendez/Documents/Postdoc/Software_dev/RICE/3_RELOG_simulation/output/Manufacturing_cap_40209_05\n",
      "scp -r /Users/mmendez/Documents/Postdoc/Software_dev/RICE/3_RELOG_simulation/hpc_simulation_folders/26_years_man_fix/Manufacturing_cap_40209_1/output/solver /Users/mmendez/Documents/Postdoc/Software_dev/RICE/3_RELOG_simulation/output/Manufacturing_cap_40209_1\n",
      "scp -r /Users/mmendez/Documents/Postdoc/Software_dev/RICE/3_RELOG_simulation/hpc_simulation_folders/26_years_man_fix/Manufacturing_cap_40209_2/output/solver /Users/mmendez/Documents/Postdoc/Software_dev/RICE/3_RELOG_simulation/output/Manufacturing_cap_40209_2\n"
     ]
    }
   ],
   "source": [
    "print('LOCAL-HPC TO LOCAL:')\n",
    "for simulation_name in files_list:\n",
    "    local_path = os.path.join(cwd, 'hpc_simulation_folders','26_years_man_fix', simulation_name, 'output', 'solver') \n",
    "    local_local_path = os.path.join(cwd, 'output', simulation_name ) #change the last entry for the specific name of your simulation\n",
    "    print('scp -r', local_path, local_local_path)"
   ]
  },
  {
   "cell_type": "code",
   "execution_count": null,
   "id": "8f173ae0-259b-47a8-a7ed-acafd0d57fc9",
   "metadata": {},
   "outputs": [],
   "source": []
  },
  {
   "cell_type": "code",
   "execution_count": null,
   "id": "42ebbc24-6a00-4a5d-8172-44ccf13a7002",
   "metadata": {},
   "outputs": [],
   "source": []
  },
  {
   "cell_type": "code",
   "execution_count": null,
   "id": "556a1b12-87c0-4817-8799-0b4ddd57bb8e",
   "metadata": {},
   "outputs": [],
   "source": []
  }
 ],
 "metadata": {
  "kernelspec": {
   "display_name": "RICE",
   "language": "python",
   "name": "rice"
  },
  "language_info": {
   "codemirror_mode": {
    "name": "ipython",
    "version": 3
   },
   "file_extension": ".py",
   "mimetype": "text/x-python",
   "name": "python",
   "nbconvert_exporter": "python",
   "pygments_lexer": "ipython3",
   "version": "3.9.16"
  }
 },
 "nbformat": 4,
 "nbformat_minor": 5
}
