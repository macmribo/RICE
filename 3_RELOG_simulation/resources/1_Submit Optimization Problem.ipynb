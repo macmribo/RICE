{
 "cells": [
  {
   "cell_type": "markdown",
   "metadata": {},
   "source": [
    "## Load libraries"
   ]
  },
  {
   "cell_type": "code",
   "execution_count": 2,
   "metadata": {
    "tags": []
   },
   "outputs": [],
   "source": [
    "# Improve output style on Jupyter Notebook\n",
    "using Logging\n",
    "global_logger(ConsoleLogger(stdout));\n",
    "\n",
    "# Import package\n",
    "using RELOG\n",
    "\n",
    "# Package to time cells\n",
    "using TickTock\n"
   ]
  },
  {
   "cell_type": "code",
   "execution_count": 5,
   "metadata": {},
   "outputs": [
    {
     "name": "stderr",
     "output_type": "stream",
     "text": [
      "\u001b[32m\u001b[1m    Updating\u001b[22m\u001b[39m registry at `~/.julia/registries/General.toml`\n",
      "\u001b[32m\u001b[1m  No Changes\u001b[22m\u001b[39m to `~/.julia/environments/v1.8/Project.toml`\n",
      "\u001b[32m\u001b[1m  No Changes\u001b[22m\u001b[39m to `~/.julia/environments/v1.8/Manifest.toml`\n"
     ]
    },
    {
     "name": "stdout",
     "output_type": "stream",
     "text": [
      "\u001b[32m\u001b[1mStatus\u001b[22m\u001b[39m `~/.julia/environments/v1.8/Project.toml`\n",
      " \u001b[90m [c27321d9] \u001b[39mGlob v1.3.0\n",
      " \u001b[90m [7073ff75] \u001b[39mIJulia v1.24.0\n",
      " \u001b[90m [a2afcdf7] \u001b[39mRELOG v0.7.2\n",
      " \u001b[90m [9ff05d80] \u001b[39mTickTock v1.2.0\n"
     ]
    },
    {
     "name": "stderr",
     "output_type": "stream",
     "text": [
      "\u001b[32m\u001b[1m    Updating\u001b[22m\u001b[39m `~/.julia/environments/v1.8/Project.toml`\n",
      " \u001b[90m [a2afcdf7] \u001b[39m\u001b[91m- RELOG v0.7.2\u001b[39m\n",
      "\u001b[32m\u001b[1m    Updating\u001b[22m\u001b[39m `~/.julia/environments/v1.8/Manifest.toml`\n",
      " \u001b[90m [6e4b80f9] \u001b[39m\u001b[91m- BenchmarkTools v1.3.2\u001b[39m\n",
      " \u001b[90m [44b605c4] \u001b[39m\u001b[91m- CRC v4.0.0\u001b[39m\n",
      " \u001b[90m [336ed68f] \u001b[39m\u001b[91m- CSV v0.10.9\u001b[39m\n",
      " \u001b[90m [d360d2e6] \u001b[39m\u001b[91m- ChainRulesCore v1.15.7\u001b[39m\n",
      " \u001b[90m [9e997f8a] \u001b[39m\u001b[91m- ChangesOfVariables v0.1.6\u001b[39m\n",
      " \u001b[90m [523fee87] \u001b[39m\u001b[91m- CodecBzip2 v0.7.2\u001b[39m\n",
      " \u001b[90m [944b1d66] \u001b[39m\u001b[91m- CodecZlib v0.7.1\u001b[39m\n",
      " \u001b[90m [bbf7d656] \u001b[39m\u001b[91m- CommonSubexpressions v0.3.0\u001b[39m\n",
      " \u001b[90m [34da2185] \u001b[39m\u001b[91m- Compat v4.6.1\u001b[39m\n",
      " \u001b[90m [150eb455] \u001b[39m\u001b[91m- CoordinateTransformations v0.6.2\u001b[39m\n",
      " \u001b[90m [a8cc5b0e] \u001b[39m\u001b[91m- Crayons v4.1.1\u001b[39m\n",
      " \u001b[90m [75c7ada1] \u001b[39m\u001b[91m- DBFTables v1.2.1\u001b[39m\n",
      " \u001b[90m [9a962f9c] \u001b[39m\u001b[91m- DataAPI v1.14.0\u001b[39m\n",
      " \u001b[90m [a93c6f00] \u001b[39m\u001b[91m- DataFrames v1.5.0\u001b[39m\n",
      " \u001b[90m [864edb3b] \u001b[39m\u001b[91m- DataStructures v0.18.13\u001b[39m\n",
      " \u001b[90m [e2d170a0] \u001b[39m\u001b[91m- DataValueInterfaces v1.0.0\u001b[39m\n",
      " \u001b[90m [163ba53b] \u001b[39m\u001b[91m- DiffResults v1.1.0\u001b[39m\n",
      " \u001b[90m [b552c78f] \u001b[39m\u001b[91m- DiffRules v1.13.0\u001b[39m\n",
      " \u001b[90m [b4f34e82] \u001b[39m\u001b[91m- Distances v0.10.8\u001b[39m\n",
      " \u001b[90m [ffbed154] \u001b[39m\u001b[91m- DocStringExtensions v0.9.3\u001b[39m\n",
      " \u001b[90m [411431e0] \u001b[39m\u001b[91m- Extents v0.1.1\u001b[39m\n",
      " \u001b[90m [48062228] \u001b[39m\u001b[91m- FilePathsBase v0.9.20\u001b[39m\n",
      " \u001b[90m [59287772] \u001b[39m\u001b[91m- Formatting v0.4.2\u001b[39m\n",
      " \u001b[90m [f6369f11] \u001b[39m\u001b[91m- ForwardDiff v0.10.35\u001b[39m\n",
      " \u001b[90m [92fee26a] \u001b[39m\u001b[91m- GZip v0.5.1\u001b[39m\n",
      " \u001b[90m [68eda718] \u001b[39m\u001b[91m- GeoFormatTypes v0.4.1\u001b[39m\n",
      " \u001b[90m [cf35fbd7] \u001b[39m\u001b[91m- GeoInterface v1.2.1\u001b[39m\n",
      " \u001b[90m [0329782f] \u001b[39m\u001b[91m- GeoInterfaceRecipes v1.0.0\u001b[39m\n",
      " \u001b[90m [0ef565a4] \u001b[39m\u001b[91m- Geodesy v1.1.0\u001b[39m\n",
      " \u001b[90m [cd3eb016] \u001b[39m\u001b[91m- HTTP v0.9.17\u001b[39m\n",
      " \u001b[90m [87dc4568] \u001b[39m\u001b[91m- HiGHS v1.5.0\u001b[39m\n",
      " \u001b[90m [83e8ac13] \u001b[39m\u001b[91m- IniFile v0.5.1\u001b[39m\n",
      " \u001b[90m [842dd82b] \u001b[39m\u001b[91m- InlineStrings v1.4.0\u001b[39m\n",
      " \u001b[90m [3587e190] \u001b[39m\u001b[91m- InverseFunctions v0.1.8\u001b[39m\n",
      " \u001b[90m [41ab1584] \u001b[39m\u001b[91m- InvertedIndices v1.3.0\u001b[39m\n",
      " \u001b[90m [92d709cd] \u001b[39m\u001b[91m- IrrationalConstants v0.2.2\u001b[39m\n",
      " \u001b[90m [82899510] \u001b[39m\u001b[91m- IteratorInterfaceExtensions v1.0.0\u001b[39m\n",
      " \u001b[90m [7d188eb4] \u001b[39m\u001b[91m- JSONSchema v1.0.1\u001b[39m\n",
      " \u001b[90m [4076af6c] \u001b[39m\u001b[91m- JuMP v1.9.0\u001b[39m\n",
      " \u001b[90m [b964fa9f] \u001b[39m\u001b[91m- LaTeXStrings v1.3.0\u001b[39m\n",
      " \u001b[90m [2ab3a3ac] \u001b[39m\u001b[91m- LogExpFunctions v0.3.23\u001b[39m\n",
      " \u001b[90m [1914dd2f] \u001b[39m\u001b[91m- MacroTools v0.5.10\u001b[39m\n",
      " \u001b[90m [b8f27783] \u001b[39m\u001b[91m- MathOptInterface v1.13.2\u001b[39m\n",
      " \u001b[90m [e1d29d7a] \u001b[39m\u001b[91m- Missings v1.1.0\u001b[39m\n",
      " \u001b[90m [d8a4904e] \u001b[39m\u001b[91m- MutableArithmetics v1.2.3\u001b[39m\n",
      " \u001b[90m [77ba4419] \u001b[39m\u001b[91m- NaNMath v1.0.2\u001b[39m\n",
      " \u001b[90m [b8a86587] \u001b[39m\u001b[91m- NearestNeighbors v0.4.13\u001b[39m\n",
      " \u001b[90m [bac558e1] \u001b[39m\u001b[91m- OrderedCollections v1.4.1\u001b[39m\n",
      " \u001b[90m [2dfb63ee] \u001b[39m\u001b[91m- PooledArrays v1.4.2\u001b[39m\n",
      " \u001b[90m [08abe8d2] \u001b[39m\u001b[91m- PrettyTables v2.2.3\u001b[39m\n",
      " \u001b[90m [49802e3a] \u001b[39m\u001b[91m- ProgressBars v1.5.0\u001b[39m\n",
      " \u001b[90m [a2afcdf7] \u001b[39m\u001b[91m- RELOG v0.7.2\u001b[39m\n",
      " \u001b[90m [3cdcf5f2] \u001b[39m\u001b[91m- RecipesBase v1.3.3\u001b[39m\n",
      " \u001b[90m [189a3867] \u001b[39m\u001b[91m- Reexport v1.2.2\u001b[39m\n",
      " \u001b[90m [91c51154] \u001b[39m\u001b[91m- SentinelArrays v1.3.18\u001b[39m\n",
      " \u001b[90m [8e980c4a] \u001b[39m\u001b[91m- Shapefile v0.8.1\u001b[39m\n",
      " \u001b[90m [a2af1166] \u001b[39m\u001b[91m- SortingAlgorithms v1.1.0\u001b[39m\n",
      " \u001b[90m [276daf66] \u001b[39m\u001b[91m- SpecialFunctions v2.2.0\u001b[39m\n",
      " \u001b[90m [90137ffa] \u001b[39m\u001b[91m- StaticArrays v1.5.19\u001b[39m\n",
      " \u001b[90m [1e83bf80] \u001b[39m\u001b[91m- StaticArraysCore v1.4.0\u001b[39m\n",
      " \u001b[90m [82ae8749] \u001b[39m\u001b[91m- StatsAPI v1.5.0\u001b[39m\n",
      " \u001b[90m [892a3eda] \u001b[39m\u001b[91m- StringManipulation v0.3.0\u001b[39m\n",
      " \u001b[90m [3783bdb8] \u001b[39m\u001b[91m- TableTraits v1.0.1\u001b[39m\n",
      " \u001b[90m [bd369af6] \u001b[39m\u001b[91m- Tables v1.10.1\u001b[39m\n",
      " \u001b[90m [3bb67fe8] \u001b[39m\u001b[91m- TranscodingStreams v0.9.11\u001b[39m\n",
      " \u001b[90m [5c2747f8] \u001b[39m\u001b[91m- URIs v1.4.2\u001b[39m\n",
      " \u001b[90m [ea10d353] \u001b[39m\u001b[91m- WeakRefStrings v1.4.2\u001b[39m\n",
      " \u001b[90m [76eceee3] \u001b[39m\u001b[91m- WorkerUtilities v1.6.1\u001b[39m\n",
      " \u001b[90m [a5390f91] \u001b[39m\u001b[91m- ZipFile v0.10.1\u001b[39m\n",
      " \u001b[90m [6e34b625] \u001b[39m\u001b[91m- Bzip2_jll v1.0.8+0\u001b[39m\n",
      " \u001b[90m [8fd58aa0] \u001b[39m\u001b[91m- HiGHS_jll v1.5.1+0\u001b[39m\n",
      " \u001b[90m [efe28fd5] \u001b[39m\u001b[91m- OpenSpecFun_jll v0.5.5+0\u001b[39m\n",
      " \u001b[90m [8ba89e20] \u001b[39m\u001b[91m- Distributed\u001b[39m\n",
      " \u001b[90m [9fa8497b] \u001b[39m\u001b[91m- Future\u001b[39m\n",
      " \u001b[90m [37e2e46d] \u001b[39m\u001b[91m- LinearAlgebra\u001b[39m\n",
      " \u001b[90m [9abbd945] \u001b[39m\u001b[91m- Profile\u001b[39m\n",
      " \u001b[90m [2f01184e] \u001b[39m\u001b[91m- SparseArrays\u001b[39m\n",
      " \u001b[90m [10745b16] \u001b[39m\u001b[91m- Statistics\u001b[39m\n",
      " \u001b[90m [e66e0078] \u001b[39m\u001b[91m- CompilerSupportLibraries_jll v0.5.2+0\u001b[39m\n",
      " \u001b[90m [4536629a] \u001b[39m\u001b[91m- OpenBLAS_jll v0.3.20+0\u001b[39m\n",
      " \u001b[90m [05823500] \u001b[39m\u001b[91m- OpenLibm_jll v0.8.1+0\u001b[39m\n",
      " \u001b[90m [8e850b90] \u001b[39m\u001b[91m- libblastrampoline_jll v5.1.1+0\u001b[39m\n"
     ]
    }
   ],
   "source": [
    "using Pkg\n",
    "Pkg.update()\n",
    "Pkg.status()\n",
    "Pkg.rm(\"RELOG\")"
   ]
  },
  {
   "cell_type": "markdown",
   "metadata": {},
   "source": [
    "## Scenario selection"
   ]
  },
  {
   "cell_type": "markdown",
   "metadata": {},
   "source": [
    "The possible scenarios you can run are files found in the 'input' folder, without the what'if before them. Conservative and optimistic folders contain scenarios too big for the jupyter journal to run, it is best to use HPC with these."
   ]
  },
  {
   "cell_type": "code",
   "execution_count": null,
   "metadata": {},
   "outputs": [],
   "source": [
    "problem = \"20230314_Recycling_min_v4\""
   ]
  },
  {
   "cell_type": "markdown",
   "metadata": {},
   "source": [
    "## Run the solver"
   ]
  },
  {
   "cell_type": "markdown",
   "metadata": {},
   "source": [
    "Make sure to create the output files."
   ]
  },
  {
   "cell_type": "code",
   "execution_count": null,
   "metadata": {},
   "outputs": [],
   "source": [
    "tick()\n",
    "# Solve optimization problem\n",
    "solution = RELOG.solve(\"input/$problem/case.json\")\n",
    "\n",
    "# Write CSV report showing plant costs, capacities, energy expenditure and\n",
    "# utilization factors\n",
    "RELOG.write_plants_report(solution, \"output/$problem/plants.csv\")\n",
    "\n",
    "# Write CSV report showing amount of product sent from initial locations to plants,\n",
    "# and from one plant to another. Includes the distance between each pair of\n",
    "# locations, amount-distance shipped, transportation costs and energy expenditure\n",
    "RELOG.write_transportation_report(solution, \"output/$problem/transportation.csv\")\n",
    "\n",
    "# Write CSV report showing primary product amounts, locations and marginal costs\n",
    "RELOG.write_products_report(solution, \"output/$problem/products.csv\");\n",
    "tock()"
   ]
  },
  {
   "cell_type": "code",
   "execution_count": null,
   "metadata": {},
   "outputs": [],
   "source": []
  },
  {
   "cell_type": "code",
   "execution_count": null,
   "metadata": {},
   "outputs": [],
   "source": []
  },
  {
   "cell_type": "code",
   "execution_count": null,
   "metadata": {},
   "outputs": [],
   "source": []
  },
  {
   "cell_type": "code",
   "execution_count": null,
   "metadata": {},
   "outputs": [],
   "source": []
  }
 ],
 "metadata": {
  "kernelspec": {
   "display_name": "Julia 1.8.2",
   "language": "julia",
   "name": "julia-1.8"
  },
  "language_info": {
   "file_extension": ".jl",
   "mimetype": "application/julia",
   "name": "julia",
   "version": "1.8.2"
  }
 },
 "nbformat": 4,
 "nbformat_minor": 4
}
