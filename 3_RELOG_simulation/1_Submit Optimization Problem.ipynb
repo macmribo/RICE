{
 "cells": [
  {
   "cell_type": "markdown",
   "metadata": {},
   "source": [
    "## Load libraries"
   ]
  },
  {
   "cell_type": "code",
   "execution_count": 1,
   "metadata": {
    "tags": []
   },
   "outputs": [],
   "source": [
    "# Improve output style on Jupyter Notebook\n",
    "using Logging\n",
    "global_logger(ConsoleLogger(stdout));\n",
    "\n",
    "# Import package\n",
    "using RELOG\n",
    "\n",
    "# Package to time cells\n",
    "using TickTock\n"
   ]
  },
  {
   "cell_type": "markdown",
   "metadata": {},
   "source": [
    "## Scenario selection"
   ]
  },
  {
   "cell_type": "markdown",
   "metadata": {},
   "source": [
    "The possible scenarios you can run are files found in the 'input' folder, without the what'if before them. Conservative and optimistic folders contain scenarios too big for the jupyter journal to run, it is best to use HPC with these."
   ]
  },
  {
   "cell_type": "code",
   "execution_count": 2,
   "metadata": {},
   "outputs": [
    {
     "data": {
      "text/plain": [
       "\"20230213_ordered_waste\""
      ]
     },
     "execution_count": 2,
     "metadata": {},
     "output_type": "execute_result"
    }
   ],
   "source": [
    "#problem = \"initial\"\n",
    "#problem = \"cui\"\n",
    "#problem = \"test_1\"\n",
    "problem = \"20230213_ordered_waste\""
   ]
  },
  {
   "cell_type": "markdown",
   "metadata": {},
   "source": [
    "## Run the solver"
   ]
  },
  {
   "cell_type": "markdown",
   "metadata": {},
   "source": [
    "Make sure to create the output files."
   ]
  },
  {
   "cell_type": "code",
   "execution_count": null,
   "metadata": {},
   "outputs": [
    {
     "name": "stdout",
     "output_type": "stream",
     "text": [
      "\u001b[36m\u001b[1m[ \u001b[22m\u001b[39m\u001b[36m\u001b[1mInfo: \u001b[22m\u001b[39m started timer at: 2023-02-13T19:56:44.427\n",
      "\u001b[36m\u001b[1m[ \u001b[22m\u001b[39m\u001b[36m\u001b[1mInfo: \u001b[22m\u001b[39mReading input/20230213_ordered_waste/case.json...\n",
      "\u001b[36m\u001b[1m[ \u001b[22m\u001b[39m\u001b[36m\u001b[1mInfo: \u001b[22m\u001b[39m         122 collection centers\n",
      "\u001b[36m\u001b[1m[ \u001b[22m\u001b[39m\u001b[36m\u001b[1mInfo: \u001b[22m\u001b[39m         109 candidate plant locations\n",
      "\u001b[36m\u001b[1m[ \u001b[22m\u001b[39m\u001b[36m\u001b[1mInfo: \u001b[22m\u001b[39mBuilding graph...\n",
      "\u001b[36m\u001b[1m[ \u001b[22m\u001b[39m\u001b[36m\u001b[1mInfo: \u001b[22m\u001b[39m              28 time periods\n",
      "\u001b[36m\u001b[1m[ \u001b[22m\u001b[39m\u001b[36m\u001b[1mInfo: \u001b[22m\u001b[39m             109 process nodes\n",
      "\u001b[36m\u001b[1m[ \u001b[22m\u001b[39m\u001b[36m\u001b[1mInfo: \u001b[22m\u001b[39m            1744 shipping nodes (plant)\n",
      "\u001b[36m\u001b[1m[ \u001b[22m\u001b[39m\u001b[36m\u001b[1mInfo: \u001b[22m\u001b[39m             122 shipping nodes (collection)\n",
      "\u001b[36m\u001b[1m[ \u001b[22m\u001b[39m\u001b[36m\u001b[1mInfo: \u001b[22m\u001b[39m           15042 arcs\n",
      "\u001b[36m\u001b[1m[ \u001b[22m\u001b[39m\u001b[36m\u001b[1mInfo: \u001b[22m\u001b[39mBuilding optimization model...\n",
      "\u001b[36m\u001b[1m[ \u001b[22m\u001b[39m\u001b[36m\u001b[1mInfo: \u001b[22m\u001b[39mOptimizing MILP...\n"
     ]
    }
   ],
   "source": [
    "tick()\n",
    "# Solve optimization problem\n",
    "solution = RELOG.solve(\"input/$problem/case.json\")\n",
    "\n",
    "# Write CSV report showing plant costs, capacities, energy expenditure and\n",
    "# utilization factors\n",
    "RELOG.write_plants_report(solution, \"output/$problem/plants.csv\")\n",
    "\n",
    "# Write CSV report showing amount of product sent from initial locations to plants,\n",
    "# and from one plant to another. Includes the distance between each pair of\n",
    "# locations, amount-distance shipped, transportation costs and energy expenditure\n",
    "RELOG.write_transportation_report(solution, \"output/$problem/transportation.csv\")\n",
    "\n",
    "# Write CSV report showing primary product amounts, locations and marginal costs\n",
    "RELOG.write_products_report(solution, \"output/$problem/products.csv\");\n",
    "tock()"
   ]
  },
  {
   "cell_type": "code",
   "execution_count": null,
   "metadata": {},
   "outputs": [],
   "source": []
  }
 ],
 "metadata": {
  "kernelspec": {
   "display_name": "Julia 1.8.2",
   "language": "julia",
   "name": "julia-1.8"
  },
  "language_info": {
   "file_extension": ".jl",
   "mimetype": "application/julia",
   "name": "julia",
   "version": "1.8.2"
  }
 },
 "nbformat": 4,
 "nbformat_minor": 4
}
