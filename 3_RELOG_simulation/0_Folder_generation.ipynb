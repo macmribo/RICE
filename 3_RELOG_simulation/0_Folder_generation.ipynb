{
 "cells": [
  {
   "cell_type": "markdown",
   "id": "64cebd0f-7d52-46b7-96d9-cc62c4243295",
   "metadata": {},
   "source": [
    "# Folder generation"
   ]
  },
  {
   "cell_type": "markdown",
   "id": "64319948-0170-4898-821b-da434fbdbd56",
   "metadata": {},
   "source": [
    "This jupyter journal was created to generate the needed folders to get ready with a new RELOG simulation.\n",
    "There are three main folders in which we need to create new folders:\n",
    "* Input: Here is where the input data is saved. We will create two folders here, one for the normal solver input data (the data that we will save here is generated using the `data_preprocess_1.ipynb` found [here](PV_Recycling_Plant/data/data_preprocess_1.ipynb)), and another one for the sensitivity analysis input scenarios or 'what-if'(generated using `Generate What-If Scenarios.ipynb` [notebook](Generate What-If Scenarios.\n",
    "* Output: Here is where the solutions of the simulations will be saved. The same way as before, we will create two folders named the same as the folders in the input file, one for the normal solver output data (generated with the `1_Submit Optimization Problem.ipynb`), and another one for the sensitivity analysis output scenarios or 'what-if' (generated with the python file `2_Submit What-if Scenarios.ipynb`).\n",
    "* Figures: Same folders as before one for the solver images and another for the sensitivity analysis.\n",
    "\n",
    "Lastly, I will generate a special folder that include the necessary files to make an hpc simulation in the case that the simulation takes too long."
   ]
  },
  {
   "cell_type": "markdown",
   "id": "9d455969-f7a3-413f-ac82-ed95ae053788",
   "metadata": {},
   "source": [
    "## Folder name convention:"
   ]
  },
  {
   "cell_type": "markdown",
   "id": "60767aaa-729a-411e-b99e-c3cc95da9144",
   "metadata": {},
   "source": [
    "I like naming my scenarios with the date I created them in ISO format (i.e. YYYYMMDD) and a name that helps me identify my scenario. I like putting an identifying name, and a version, in case I make small changes on the simulation I want to create."
   ]
  },
  {
   "cell_type": "code",
   "execution_count": 1,
   "id": "098a1a46-5e76-4858-920a-6d8bd2d21506",
   "metadata": {},
   "outputs": [],
   "source": [
    "import os\n",
    "from datetime import datetime\n",
    "import shutil\n",
    "from distutils.dir_util import copy_tree"
   ]
  },
  {
   "cell_type": "code",
   "execution_count": 59,
   "id": "981be564-d465-4e0b-9f68-c4b1497528ab",
   "metadata": {},
   "outputs": [],
   "source": [
    "date = datetime.today().strftime('%Y%m%d')\n",
    "simulation_name = f'{date}_Recycling_super_v6' # This line is the only one that needs to be changed. CASE0 is gthe name and v1 is the version\n",
    "simulation_whatif = 'what-if_' + simulation_name"
   ]
  },
  {
   "cell_type": "markdown",
   "id": "c0249945-3e0f-4851-94cc-33b78f1de85c",
   "metadata": {},
   "source": [
    "## Folder generation:"
   ]
  },
  {
   "cell_type": "code",
   "execution_count": 60,
   "id": "2fec549a-7206-4d5f-98d2-fe6b2ffc376d",
   "metadata": {},
   "outputs": [],
   "source": [
    "cwd = os.getcwd()"
   ]
  },
  {
   "cell_type": "code",
   "execution_count": 61,
   "id": "1e2516d1-1e55-4aa8-9ece-6374628f8974",
   "metadata": {},
   "outputs": [],
   "source": [
    "input_file = os.path.join(cwd, 'input', simulation_name)\n",
    "input_file_whatif = os.path.join(cwd, 'input', simulation_whatif)\n",
    "output_file = os.path.join(cwd, 'output', simulation_name)\n",
    "output_file_whatif = os.path.join(cwd, 'output', simulation_whatif)\n",
    "figures_file = os.path.join(cwd, 'figures', simulation_name)\n",
    "figures_file_whatif = os.path.join(cwd, 'figures', simulation_whatif)"
   ]
  },
  {
   "cell_type": "code",
   "execution_count": 62,
   "id": "4686affb-3fde-4cca-9bca-531979ea8278",
   "metadata": {},
   "outputs": [],
   "source": [
    "files_to_create = [input_file, input_file_whatif, output_file, output_file_whatif, figures_file, figures_file_whatif]"
   ]
  },
  {
   "cell_type": "code",
   "execution_count": 63,
   "id": "b3abd86c-8f80-43cb-946a-ab98f1a00769",
   "metadata": {},
   "outputs": [
    {
     "data": {
      "text/plain": [
       "'/Users/mmendez/Documents/Postdoc/Software_dev/RICE/3_RELOG_simulation/figures/what-if_20230316_Recycling_super_v6'"
      ]
     },
     "execution_count": 63,
     "metadata": {},
     "output_type": "execute_result"
    }
   ],
   "source": [
    "files_to_create[5]"
   ]
  },
  {
   "cell_type": "code",
   "execution_count": 64,
   "id": "3a2d2d95-8d72-40da-9f2c-cd5e1d7bc1e8",
   "metadata": {},
   "outputs": [
    {
     "name": "stdout",
     "output_type": "stream",
     "text": [
      "The new directory for /Users/mmendez/Documents/Postdoc/Software_dev/RICE/3_RELOG_simulation/input/20230316_Recycling_super_v6 has been created!\n",
      "The new directory for /Users/mmendez/Documents/Postdoc/Software_dev/RICE/3_RELOG_simulation/input/what-if_20230316_Recycling_super_v6 has been created!\n",
      "The new directory for /Users/mmendez/Documents/Postdoc/Software_dev/RICE/3_RELOG_simulation/output/20230316_Recycling_super_v6 has been created!\n",
      "The new directory for /Users/mmendez/Documents/Postdoc/Software_dev/RICE/3_RELOG_simulation/output/what-if_20230316_Recycling_super_v6 has been created!\n",
      "The new directory for /Users/mmendez/Documents/Postdoc/Software_dev/RICE/3_RELOG_simulation/figures/20230316_Recycling_super_v6 has been created!\n",
      "The new directory for /Users/mmendez/Documents/Postdoc/Software_dev/RICE/3_RELOG_simulation/figures/what-if_20230316_Recycling_super_v6 has been created!\n"
     ]
    }
   ],
   "source": [
    "for files in range(len(files_to_create)):\n",
    "    # Check whether the specified path exists or not\n",
    "    isExist = os.path.exists(files_to_create[files])\n",
    "    if isExist:\n",
    "        print(f\"The path for {files_to_create[files]} already exists!\")\n",
    "    if not isExist:\n",
    "        # Create a new directory because it does not exist\n",
    "        os.makedirs(files_to_create[files])\n",
    "        print(f\"The new directory for {files_to_create[files]} has been created!\")"
   ]
  },
  {
   "cell_type": "markdown",
   "id": "550b0f2a-8c5c-4a54-b07b-47f16015c2ab",
   "metadata": {},
   "source": [
    "## HPC case generation"
   ]
  },
  {
   "cell_type": "markdown",
   "id": "4fd1eb4b-fe7d-4084-8ab6-86957e511ca7",
   "metadata": {},
   "source": [
    "Only use this one when you have your input files ready for simulation, this means that the `input` folder has the `case.json` (i.e. the saved file made in the [RELOG case builder](https://relog.axavier.org/casebuilder)), and the `what-if_blablabla` has been also generated."
   ]
  },
  {
   "cell_type": "code",
   "execution_count": 8,
   "id": "f3525200-b839-401e-b403-f2cc968cf85b",
   "metadata": {},
   "outputs": [],
   "source": [
    "cwd = os.getcwd()"
   ]
  },
  {
   "cell_type": "code",
   "execution_count": 9,
   "id": "e52c1fef-77da-4d38-9285-e39796e549c2",
   "metadata": {},
   "outputs": [],
   "source": [
    "test = False"
   ]
  },
  {
   "cell_type": "code",
   "execution_count": 10,
   "id": "a57a19de-3a96-41a1-b20d-88f772660f0e",
   "metadata": {},
   "outputs": [],
   "source": [
    "if test:\n",
    "    simulation_name = 'bleh'  #test to see the error\n",
    "else:\n",
    "    #simulation_name = f'{date}_CASE0_v1' # This line is to generte  file the same day, use the following line if you want to manually specify the simulation folder\n",
    "    simulation_name = '20230315_Recycling_super_v5'"
   ]
  },
  {
   "cell_type": "markdown",
   "id": "f4ad6a22-cd2c-452a-8f84-b81f2d69f95c",
   "metadata": {},
   "source": [
    "1. Make sure that the simulation folder exists in the main folders, that it has a `case.json` file inside and that it also has the what-if scenarios generated. If these are not created it will throw an error asking you to do those steps first."
   ]
  },
  {
   "cell_type": "code",
   "execution_count": 32,
   "id": "cb943601-aaa9-48a1-92e9-28480c568a36",
   "metadata": {},
   "outputs": [],
   "source": [
    "input_solver_folder_location = os.path.join(cwd, 'input', simulation_name)\n",
    "input_whatif_folder_location = os.path.join(cwd, 'input', 'what-if_'+simulation_name)\n",
    "simulation_folders = [input_solver_folder_location, input_whatif_folder_location ]"
   ]
  },
  {
   "cell_type": "code",
   "execution_count": null,
   "id": "6725572e-eae3-4ba5-96bc-58b7c9a899bc",
   "metadata": {},
   "outputs": [],
   "source": []
  },
  {
   "cell_type": "markdown",
   "id": "15ce4acc-81a8-4306-a37d-bf70814a03d1",
   "metadata": {},
   "source": [
    "### Check if the paths exists."
   ]
  },
  {
   "cell_type": "code",
   "execution_count": 33,
   "id": "a89c88cb-b2fc-4436-bee9-c82052486226",
   "metadata": {},
   "outputs": [
    {
     "name": "stdout",
     "output_type": "stream",
     "text": [
      "The path for /Users/mmendez/Documents/Postdoc/Software_dev/RICE/3_RELOG_simulation/input/20230315_Recycling_super_v5 exists! You may continue to the next step.\n",
      "The path for /Users/mmendez/Documents/Postdoc/Software_dev/RICE/3_RELOG_simulation/input/what-if_20230315_Recycling_super_v5 exists! You may continue to the next step.\n"
     ]
    }
   ],
   "source": [
    "for files in range(len(simulation_folders)):\n",
    "    isExist = os.path.exists(simulation_folders[files])\n",
    "    if isExist:\n",
    "        print(f\"The path for {simulation_folders[files]} exists! You may continue to the next step.\")\n",
    "    else:\n",
    "        raise PathNotFoundError(f'The path {input_solver_file_location} does not exist, please generate the necessary folders using the 0_Folder_generation.ipynb found in 3_RELOG_simulation.')"
   ]
  },
  {
   "cell_type": "markdown",
   "id": "52a72c62-c430-46e0-b1c1-f35c1debc973",
   "metadata": {},
   "source": [
    "### Check if the files are inside."
   ]
  },
  {
   "cell_type": "code",
   "execution_count": 34,
   "id": "59c0d749-adfa-4f6e-8f15-036a6cf5b05d",
   "metadata": {},
   "outputs": [
    {
     "name": "stdout",
     "output_type": "stream",
     "text": [
      "Case.json exists!\n",
      "The what-if files exist, you may continue!\n"
     ]
    }
   ],
   "source": [
    "if os.listdir(simulation_folders[0]) == ['case.json']:\n",
    "    print('Case.json exists!')\n",
    "else:\n",
    "    raise FileNotFoundError('The file ''case.json'' does not exist, please generate the the file using RELOG\\'s case builder.')\n",
    "if len(input_whatif_folder_location) == 0:\n",
    "    raise FileNotFoundError('The what-if files have not been generated, please go to 3_RELOG_simulation/input/Generate What-If Scenarios.ipynb and generate the scenario files.')\n",
    "else:\n",
    "    print('The what-if files exist, you may continue!')"
   ]
  },
  {
   "cell_type": "code",
   "execution_count": 35,
   "id": "8b595b3d-f8e9-4e83-9fde-d3a93a180aa3",
   "metadata": {},
   "outputs": [],
   "source": [
    "hpc_input_solver_folder = os.path.join(cwd, 'hpc_simulation_folders', simulation_name, 'input', 'solver') \n",
    "hpc_input_whatif_folder = os.path.join(cwd, 'hpc_simulation_folders', simulation_name, 'input', 'what-if') \n",
    "hpc_output_solver_folder = os.path.join(cwd, 'hpc_simulation_folders', simulation_name, 'output', 'solver') \n",
    "hpc_output_whatif_folder = os.path.join(cwd, 'hpc_simulation_folders', simulation_name, 'output', 'what-if') \n",
    "check_list = [hpc_input_solver_folder, hpc_input_whatif_folder, hpc_output_solver_folder, hpc_output_whatif_folder]"
   ]
  },
  {
   "cell_type": "code",
   "execution_count": 36,
   "id": "99c8e6a4-ba7b-49c2-a19a-f4fd1f16fe01",
   "metadata": {},
   "outputs": [
    {
     "name": "stdout",
     "output_type": "stream",
     "text": [
      "The new directory for /Users/mmendez/Documents/Postdoc/Software_dev/RICE/3_RELOG_simulation/hpc_simulation_folders/20230315_Recycling_super_v5/input/solver has been created!\n",
      "The new directory for /Users/mmendez/Documents/Postdoc/Software_dev/RICE/3_RELOG_simulation/hpc_simulation_folders/20230315_Recycling_super_v5/input/what-if has been created!\n",
      "The new directory for /Users/mmendez/Documents/Postdoc/Software_dev/RICE/3_RELOG_simulation/hpc_simulation_folders/20230315_Recycling_super_v5/output/solver has been created!\n",
      "The new directory for /Users/mmendez/Documents/Postdoc/Software_dev/RICE/3_RELOG_simulation/hpc_simulation_folders/20230315_Recycling_super_v5/output/what-if has been created!\n"
     ]
    }
   ],
   "source": [
    "for files in range(len(check_list)):\n",
    "    # Check whether the specified path exists or not\n",
    "    isExist = os.path.exists(check_list[files])\n",
    "    if isExist:\n",
    "        print(f\"The path for {check_list[files]} already exists!\")\n",
    "    if not isExist:\n",
    "        # Create a new directory because it does not exist\n",
    "        os.makedirs(check_list[files])\n",
    "        print(f\"The new directory for {check_list[files]} has been created!\")"
   ]
  },
  {
   "cell_type": "markdown",
   "id": "c25c0ffd-2c15-46d5-85d2-40a77b5ed3c7",
   "metadata": {},
   "source": [
    "### Copy the files from the template codes into the simulation folder:"
   ]
  },
  {
   "cell_type": "code",
   "execution_count": 37,
   "id": "6096b5c1-dddb-479c-b9cf-676d89b02f08",
   "metadata": {},
   "outputs": [],
   "source": [
    "cwd = os.getcwd()\n",
    "template_files = os.path.join(cwd, 'hpc_simulation_folders', 'template_codes')\n",
    "input_files = os.path.join(cwd, 'hpc_simulation_folders', simulation_name)"
   ]
  },
  {
   "cell_type": "code",
   "execution_count": 38,
   "id": "cd26a3cf-323d-4a81-b1a3-1d683cee2262",
   "metadata": {},
   "outputs": [
    {
     "data": {
      "text/plain": [
       "['/Users/mmendez/Documents/Postdoc/Software_dev/RICE/3_RELOG_simulation/hpc_simulation_folders/20230315_Recycling_super_v5/what-if.jl',\n",
       " '/Users/mmendez/Documents/Postdoc/Software_dev/RICE/3_RELOG_simulation/hpc_simulation_folders/20230315_Recycling_super_v5/file_batch.sbatch',\n",
       " '/Users/mmendez/Documents/Postdoc/Software_dev/RICE/3_RELOG_simulation/hpc_simulation_folders/20230315_Recycling_super_v5/.ipynb_checkpoints/what-if-checkpoint.jl',\n",
       " '/Users/mmendez/Documents/Postdoc/Software_dev/RICE/3_RELOG_simulation/hpc_simulation_folders/20230315_Recycling_super_v5/.ipynb_checkpoints/solver-checkpoint.jl',\n",
       " '/Users/mmendez/Documents/Postdoc/Software_dev/RICE/3_RELOG_simulation/hpc_simulation_folders/20230315_Recycling_super_v5/solver.jl']"
      ]
     },
     "execution_count": 38,
     "metadata": {},
     "output_type": "execute_result"
    }
   ],
   "source": [
    "copy_tree(template_files, input_files)"
   ]
  },
  {
   "cell_type": "markdown",
   "id": "49f46068-8e9a-4915-8885-457584433035",
   "metadata": {},
   "source": [
    "### Change the word 'scenario' for the folder scenario name in the solver.jl and the what-if.jl files:"
   ]
  },
  {
   "cell_type": "code",
   "execution_count": 39,
   "id": "287c2162-3e54-44e8-b366-52add3168497",
   "metadata": {},
   "outputs": [
    {
     "data": {
      "text/plain": [
       "['/Users/mmendez/Documents/Postdoc/Software_dev/RICE/3_RELOG_simulation/hpc_simulation_folders/20230315_Recycling_super_v5/what-if.jl',\n",
       " '/Users/mmendez/Documents/Postdoc/Software_dev/RICE/3_RELOG_simulation/hpc_simulation_folders/20230315_Recycling_super_v5/file_batch.sbatch',\n",
       " '/Users/mmendez/Documents/Postdoc/Software_dev/RICE/3_RELOG_simulation/hpc_simulation_folders/20230315_Recycling_super_v5/.ipynb_checkpoints/what-if-checkpoint.jl',\n",
       " '/Users/mmendez/Documents/Postdoc/Software_dev/RICE/3_RELOG_simulation/hpc_simulation_folders/20230315_Recycling_super_v5/.ipynb_checkpoints/solver-checkpoint.jl',\n",
       " '/Users/mmendez/Documents/Postdoc/Software_dev/RICE/3_RELOG_simulation/hpc_simulation_folders/20230315_Recycling_super_v5/solver.jl']"
      ]
     },
     "execution_count": 39,
     "metadata": {},
     "output_type": "execute_result"
    }
   ],
   "source": [
    "copy_tree(template_files, input_files)"
   ]
  },
  {
   "cell_type": "code",
   "execution_count": 40,
   "id": "44032ee3-ffab-4437-aabf-62da55637a23",
   "metadata": {},
   "outputs": [],
   "source": [
    "# Read in the file\n",
    "with open(os.path.join(input_files, 'solver.jl'), 'r') as file :\n",
    "    filedata = file.read()\n",
    "\n",
    "# Replace the target string\n",
    "filedata = filedata.replace('scenario', simulation_name)\n",
    "\n",
    "# Write the file out again\n",
    "with open(os.path.join(input_files, 'solver.jl'), 'w') as file:\n",
    "    file.write(filedata)"
   ]
  },
  {
   "cell_type": "code",
   "execution_count": 41,
   "id": "57d92bbb-a092-4f96-bd6d-c81de15d329d",
   "metadata": {},
   "outputs": [],
   "source": [
    "# Read in the file\n",
    "with open(os.path.join(input_files, 'what-if.jl'), 'r') as file :\n",
    "    filedata = file.read()\n",
    "\n",
    "# Replace the target string\n",
    "filedata = filedata.replace('scenario', simulation_name)\n",
    "\n",
    "# Write the file out again\n",
    "with open(os.path.join(input_files, 'what-if.jl'), 'w') as file:\n",
    "    file.write(filedata)"
   ]
  },
  {
   "cell_type": "markdown",
   "id": "a8fe2e7e-792c-4937-a7f2-931f3787e324",
   "metadata": {},
   "source": [
    "### Copy the solver and whatif files to the hpc scenario folders"
   ]
  },
  {
   "cell_type": "code",
   "execution_count": 42,
   "id": "16aa1bbd-8ba9-4d78-9b80-01734f231b61",
   "metadata": {
    "scrolled": true,
    "tags": []
   },
   "outputs": [
    {
     "data": {
      "text/plain": [
       "[]"
      ]
     },
     "execution_count": 42,
     "metadata": {},
     "output_type": "execute_result"
    }
   ],
   "source": [
    "copy_tree(input_solver_folder_location, hpc_input_solver_folder)\n",
    "copy_tree(input_whatif_folder_location, hpc_input_whatif_folder)"
   ]
  },
  {
   "cell_type": "markdown",
   "id": "94a5e468-18a4-467a-9794-adfcbd445705",
   "metadata": {},
   "source": [
    "Now that you have your simulation ready for hpc, copy the simulation folder and paste it in the HPC folder. In my case, I go to the terminal ang run the following line:\n",
    "`scp -r /Users/mmendez/Documents/Postdoc/Software_dev/RICE/3_RELOG_simulation/hpc_simulation_folders/name_of_scenario mmendez@eagle.nrel.gov:/projects/pvsoiling/RELOG/`\n",
    "\n",
    "**Note: It will ask for the Eagle password**\n",
    "\n",
    "After I am done with the simulation, I copy the samle file but now it has output files in it so I take the simulation output folder and save it in the hpc_scenario_outputs folder. After that I manually copy and paste this file into the local output simulation folder.\n",
    "`scp -r mmendez@eagle.nrel.gov:/projects/pvsoiling/RELOG/scenario_name/output /Users/mmendez/Documents/Postdoc/Software_dev/RICE/3_RELOG_simulation/hpc_simulation-folders/hpc_scenario_outputs/name_of_scenario`\n",
    "\n",
    "**Note: It will ask for the Eagle password**  \n",
    "    \n"
   ]
  },
  {
   "cell_type": "markdown",
   "id": "aec965c4-8376-4e1f-92f2-94126ab5d8e3",
   "metadata": {},
   "source": [
    "### Little bonus code for the lazy\n",
    "Just run this cell and copy the line you need to either copy from local machine to HPC, of from HPC to local machine:"
   ]
  },
  {
   "cell_type": "markdown",
   "id": "f70a0cfa-38b3-4b93-8fbc-fbc580769619",
   "metadata": {},
   "source": [
    "Local machine to HPC (copy and paste it into your terminal):"
   ]
  },
  {
   "cell_type": "code",
   "execution_count": 43,
   "id": "bf11ec59-88e7-4460-a705-4fa369cd22b6",
   "metadata": {},
   "outputs": [],
   "source": [
    "cwd = os.getcwd()"
   ]
  },
  {
   "cell_type": "code",
   "execution_count": 44,
   "id": "3e22fd36-5bab-4437-83f2-c694f33ab722",
   "metadata": {},
   "outputs": [
    {
     "name": "stdout",
     "output_type": "stream",
     "text": [
      "scp -r /Users/mmendez/Documents/Postdoc/Software_dev/RICE/3_RELOG_simulation/hpc_simulation_folders/20230315_Recycling_super_v5 mmendez@eagle.nrel.gov:/projects/pvsoiling/RELOG\n"
     ]
    }
   ],
   "source": [
    "local_path = os.path.join(cwd, 'hpc_simulation_folders', simulation_name) #change the last entry for the specific name of your simulation\n",
    "print('scp -r', local_path, 'mmendez@eagle.nrel.gov:/projects/pvsoiling/RELOG')"
   ]
  },
  {
   "cell_type": "markdown",
   "id": "5a408511-48f1-48b9-b7e8-cfaf4071a257",
   "metadata": {},
   "source": [
    "HPC to local machine (copy and paste it into your terminal), this path only works me, but if you have access to the same project folder, use it)."
   ]
  },
  {
   "cell_type": "code",
   "execution_count": 30,
   "id": "5a070fe2-1999-44f5-9628-220d6301b1ca",
   "metadata": {},
   "outputs": [
    {
     "name": "stdout",
     "output_type": "stream",
     "text": [
      "scp -r mmendez@eagle.nrel.gov:/projects/pvsoiling/RELOG/20230315_Recycling_midsuper_v5/output /Users/mmendez/Documents/Postdoc/Software_dev/RICE/3_RELOG_simulation/hpc_simulation_folders/20230315_Recycling_midsuper_v5\n"
     ]
    }
   ],
   "source": [
    "hpc_path = os.path.join(f'mmendez@eagle.nrel.gov:/projects/pvsoiling/RELOG/{simulation_name}/output', ) #change the last entry for the specific name of your simulation\n",
    "print('scp -r', hpc_path, local_path)"
   ]
  },
  {
   "cell_type": "code",
   "execution_count": null,
   "id": "f4e38303-f9ea-429b-8309-2adf685f9398",
   "metadata": {},
   "outputs": [],
   "source": []
  },
  {
   "cell_type": "code",
   "execution_count": null,
   "id": "cc0ddc31-58d0-481d-9342-10f1119b0b63",
   "metadata": {},
   "outputs": [],
   "source": []
  },
  {
   "cell_type": "code",
   "execution_count": null,
   "id": "52f10350-9200-49ab-b6d5-b289cbef8a73",
   "metadata": {},
   "outputs": [],
   "source": []
  }
 ],
 "metadata": {
  "kernelspec": {
   "display_name": "RELOG",
   "language": "python",
   "name": "relog"
  },
  "language_info": {
   "codemirror_mode": {
    "name": "ipython",
    "version": 3
   },
   "file_extension": ".py",
   "mimetype": "text/x-python",
   "name": "python",
   "nbconvert_exporter": "python",
   "pygments_lexer": "ipython3",
   "version": "3.10.6"
  }
 },
 "nbformat": 4,
 "nbformat_minor": 5
}
