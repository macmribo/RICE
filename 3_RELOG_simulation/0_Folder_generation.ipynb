{
 "cells": [
  {
   "cell_type": "markdown",
   "id": "64cebd0f-7d52-46b7-96d9-cc62c4243295",
   "metadata": {},
   "source": [
    "# Folder generation"
   ]
  },
  {
   "cell_type": "markdown",
   "id": "64319948-0170-4898-821b-da434fbdbd56",
   "metadata": {},
   "source": [
    "This jupyter journal was created to generate the needed folders to get ready with a new RELOG simulation.\n",
    "There are three main folders in which we need to create new folders:\n",
    "* Input: Here is where the input data is saved. We will create two folders here, one for the normal solver input data (the data that we will save here is generated using the `data_preprocess_1.ipynb` found [here](PV_Recycling_Plant/data/data_preprocess_1.ipynb)), and another one for the sensitivity analysis input scenarios or 'what-if'(generated using `Generate What-If Scenarios.ipynb` [notebook](Generate What-If Scenarios.\n",
    "* Output: Here is where the solutions of the simulations will be saved. The same way as before, we will create two folders named the same as the folders in the input file, one for the normal solver output data (generated with the `1_Submit Optimization Problem.ipynb`), and another one for the sensitivity analysis output scenarios or 'what-if' (generated with the python file `2_Submit What-if Scenarios.ipynb`).\n",
    "* Figures: Same folders as before one for the solver images and another for the sensitivity analysis."
   ]
  },
  {
   "cell_type": "markdown",
   "id": "9d455969-f7a3-413f-ac82-ed95ae053788",
   "metadata": {},
   "source": [
    "## Folder name convention:"
   ]
  },
  {
   "cell_type": "markdown",
   "id": "60767aaa-729a-411e-b99e-c3cc95da9144",
   "metadata": {},
   "source": [
    "I like naming my scenarios with the date I created them in ISO format (i.e. YYYYMMDD) and a name that helps me identify my scenario."
   ]
  },
  {
   "cell_type": "code",
   "execution_count": 3,
   "id": "098a1a46-5e76-4858-920a-6d8bd2d21506",
   "metadata": {},
   "outputs": [],
   "source": [
    "import os"
   ]
  },
  {
   "cell_type": "code",
   "execution_count": 12,
   "id": "981be564-d465-4e0b-9f68-c4b1497528ab",
   "metadata": {},
   "outputs": [],
   "source": [
    "simulation_name = '20230213_folder_generation_test' # This line is the only one that needs to be changed.\n",
    "simulation_whatif = 'what-if_' + simulation_name"
   ]
  },
  {
   "cell_type": "code",
   "execution_count": 13,
   "id": "2fec549a-7206-4d5f-98d2-fe6b2ffc376d",
   "metadata": {},
   "outputs": [],
   "source": [
    "cwd = os.getcwd()"
   ]
  },
  {
   "cell_type": "code",
   "execution_count": 9,
   "id": "1e2516d1-1e55-4aa8-9ece-6374628f8974",
   "metadata": {},
   "outputs": [],
   "source": [
    "input_file = os.path.join(cwd, 'input', simulation_name)\n",
    "input_file_whatif = os.path.join(cwd, 'input', simulation_whatif)\n",
    "output_file = os.path.join(cwd, 'output', simulation_name)\n",
    "output_file_whatif = os.path.join(cwd, 'output', simulation_whatif)\n",
    "figures_file = os.path.join(cwd, 'figures', simulation_name)\n",
    "figures_file_whatif = os.path.join(cwd, 'figures', simulation_whatif)"
   ]
  },
  {
   "cell_type": "code",
   "execution_count": 14,
   "id": "4686affb-3fde-4cca-9bca-531979ea8278",
   "metadata": {},
   "outputs": [],
   "source": [
    "files_to_create = [input_file, input_file_whatif, output_file, output_file_whatif, figures_file, figures_file_whatif]"
   ]
  },
  {
   "cell_type": "code",
   "execution_count": 18,
   "id": "b3abd86c-8f80-43cb-946a-ab98f1a00769",
   "metadata": {},
   "outputs": [
    {
     "data": {
      "text/plain": [
       "'/Users/mmendez/Documents/Postdoc/Software_dev/RICE/PV_Recycling_Plant/RELOG_simulation/figures/what-if_20230213_folder_generation_test'"
      ]
     },
     "execution_count": 18,
     "metadata": {},
     "output_type": "execute_result"
    }
   ],
   "source": [
    "files_to_create[5]"
   ]
  },
  {
   "cell_type": "code",
   "execution_count": 20,
   "id": "3a2d2d95-8d72-40da-9f2c-cd5e1d7bc1e8",
   "metadata": {},
   "outputs": [
    {
     "name": "stdout",
     "output_type": "stream",
     "text": [
      "The path for /Users/mmendez/Documents/Postdoc/Software_dev/RICE/PV_Recycling_Plant/RELOG_simulation/input/20230213_folder_generation_test already exists!\n",
      "The path for /Users/mmendez/Documents/Postdoc/Software_dev/RICE/PV_Recycling_Plant/RELOG_simulation/input/what-if_20230213_folder_generation_test already exists!\n",
      "The path for /Users/mmendez/Documents/Postdoc/Software_dev/RICE/PV_Recycling_Plant/RELOG_simulation/output/20230213_folder_generation_test already exists!\n",
      "The path for /Users/mmendez/Documents/Postdoc/Software_dev/RICE/PV_Recycling_Plant/RELOG_simulation/output/what-if_20230213_folder_generation_test already exists!\n",
      "The path for /Users/mmendez/Documents/Postdoc/Software_dev/RICE/PV_Recycling_Plant/RELOG_simulation/figures/20230213_folder_generation_test already exists!\n",
      "The path for /Users/mmendez/Documents/Postdoc/Software_dev/RICE/PV_Recycling_Plant/RELOG_simulation/figures/what-if_20230213_folder_generation_test already exists!\n"
     ]
    }
   ],
   "source": [
    "for files in range(len(files_to_create)):\n",
    "    # Check whether the specified path exists or not\n",
    "    isExist = os.path.exists(files_to_create[files])\n",
    "    if isExist:\n",
    "        print(f\"The path for {files_to_create[files]} already exists!\")\n",
    "    if not isExist:\n",
    "        # Create a new directory because it does not exist\n",
    "        os.makedirs(files_to_create[files])\n",
    "        print(f\"The new directory for {files_to_create[files]} has been created!\")"
   ]
  },
  {
   "cell_type": "code",
   "execution_count": null,
   "id": "2da68061-dc8d-47da-8dee-4c71db0d5dec",
   "metadata": {},
   "outputs": [],
   "source": []
  }
 ],
 "metadata": {
  "kernelspec": {
   "display_name": "RELOG",
   "language": "python",
   "name": "relog"
  },
  "language_info": {
   "codemirror_mode": {
    "name": "ipython",
    "version": 3
   },
   "file_extension": ".py",
   "mimetype": "text/x-python",
   "name": "python",
   "nbconvert_exporter": "python",
   "pygments_lexer": "ipython3",
   "version": "3.10.6"
  }
 },
 "nbformat": 4,
 "nbformat_minor": 5
}
