{
 "cells": [
  {
   "cell_type": "code",
   "execution_count": 13,
   "metadata": {},
   "outputs": [
    {
     "name": "stderr",
     "output_type": "stream",
     "text": [
      "\u001b[32m\u001b[1m    Updating\u001b[22m\u001b[39m registry at `~/.julia/registries/General.toml`\n",
      "\u001b[32m\u001b[1m   Resolving\u001b[22m\u001b[39m package versions...\n",
      "\u001b[32m\u001b[1m  No Changes\u001b[22m\u001b[39m to `~/.julia/environments/v1.8/Project.toml`\n",
      "\u001b[32m\u001b[1m  No Changes\u001b[22m\u001b[39m to `~/.julia/environments/v1.8/Manifest.toml`\n"
     ]
    }
   ],
   "source": [
    "# Improve output style on Jupyter Notebook\n",
    "using Logging\n",
    "global_logger(ConsoleLogger(stdout));\n",
    "\n",
    "# Install extra packages\n",
    "using Pkg\n",
    "Pkg.add(\"Glob\")\n",
    "\n",
    "# Package to time cells\n",
    "using TickTock"
   ]
  },
  {
   "cell_type": "code",
   "execution_count": 2,
   "metadata": {},
   "outputs": [],
   "source": [
    "using RELOG\n",
    "using Glob\n",
    "using Logging\n"
   ]
  },
  {
   "cell_type": "code",
   "execution_count": 8,
   "metadata": {},
   "outputs": [
    {
     "data": {
      "text/plain": [
       "\"/Users/mmendez/Documents/Postdoc/Software_dev/RICE/3_RELOG_simulation/output\""
      ]
     },
     "execution_count": 8,
     "metadata": {},
     "output_type": "execute_result"
    }
   ],
   "source": [
    "folder = joinpath(pwd(), \"output\")"
   ]
  },
  {
   "cell_type": "code",
   "execution_count": 9,
   "metadata": {},
   "outputs": [
    {
     "data": {
      "text/plain": [
       "15-element Vector{String}:\n",
       " \".DS_Store\"\n",
       " \".ipynb_checkpoints\"\n",
       " \"00_old_simulations\"\n",
       " \"20230213_ordered_waste\"\n",
       " \"20230222_CASE0_v1\"\n",
       " \"20230223_CASE0_v2\"\n",
       " \"20230301_CASE0_v3\"\n",
       " \"20230303_CASE0_v4\"\n",
       " \"20230303_CASE0_v5\"\n",
       " \"what-if_20230213_ordered_waste\"\n",
       " \"what-if_20230222_CASE0_v1\"\n",
       " \"what-if_20230223_CASE0_v2\"\n",
       " \"what-if_20230301_CASE0_v3\"\n",
       " \"what-if_20230303_CASE0_v4\"\n",
       " \"what-if_20230303_CASE0_v5\""
      ]
     },
     "execution_count": 9,
     "metadata": {},
     "output_type": "execute_result"
    }
   ],
   "source": [
    "readdir(folder)"
   ]
  },
  {
   "cell_type": "code",
   "execution_count": 2,
   "metadata": {},
   "outputs": [
    {
     "data": {
      "text/plain": [
       "\"/Users/mmendez/Documents/Postdoc/Software_dev/RICE/3_RELOG_simulation/output\""
      ]
     },
     "execution_count": 2,
     "metadata": {},
     "output_type": "execute_result"
    }
   ],
   "source": []
  },
  {
   "cell_type": "code",
   "execution_count": 12,
   "metadata": {},
   "outputs": [
    {
     "ename": "LoadError",
     "evalue": "UndefVarError: glob not defined",
     "output_type": "error",
     "traceback": [
      "UndefVarError: glob not defined",
      "",
      "Stacktrace:",
      " [1] top-level scope",
      "   @ In[12]:1",
      " [2] eval",
      "   @ ./boot.jl:368 [inlined]",
      " [3] include_string(mapexpr::typeof(REPL.softscope), mod::Module, code::String, filename::String)",
      "   @ Base ./loading.jl:1428"
     ]
    }
   ],
   "source": [
    "glob(\" \", folder)"
   ]
  },
  {
   "cell_type": "code",
   "execution_count": 3,
   "metadata": {},
   "outputs": [
    {
     "data": {
      "text/plain": [
       "\"20230301_CASE0_v3\""
      ]
     },
     "execution_count": 3,
     "metadata": {},
     "output_type": "execute_result"
    }
   ],
   "source": [
    "#problem = \"initial\"\n",
    "problem = \"20230301_CASE0_v3\""
   ]
  },
  {
   "cell_type": "code",
   "execution_count": 4,
   "metadata": {},
   "outputs": [
    {
     "name": "stdout",
     "output_type": "stream",
     "text": [
      "\u001b[36m\u001b[1m[ \u001b[22m\u001b[39m\u001b[36m\u001b[1mInfo: \u001b[22m\u001b[39m started timer at: 2023-03-02T14:51:17.285\n",
      "\u001b[36m\u001b[1m[ \u001b[22m\u001b[39m\u001b[36m\u001b[1mInfo: \u001b[22m\u001b[39mReading input/20230301_CASE0_v3/case.json...\n",
      "\u001b[36m\u001b[1m[ \u001b[22m\u001b[39m\u001b[36m\u001b[1mInfo: \u001b[22m\u001b[39m         134 collection centers\n",
      "\u001b[36m\u001b[1m[ \u001b[22m\u001b[39m\u001b[36m\u001b[1mInfo: \u001b[22m\u001b[39m         312 candidate plant locations\n",
      "\u001b[36m\u001b[1m[ \u001b[22m\u001b[39m\u001b[36m\u001b[1mInfo: \u001b[22m\u001b[39mBuilding graph...\n",
      "\u001b[36m\u001b[1m[ \u001b[22m\u001b[39m\u001b[36m\u001b[1mInfo: \u001b[22m\u001b[39m              26 time periods\n",
      "\u001b[36m\u001b[1m[ \u001b[22m\u001b[39m\u001b[36m\u001b[1mInfo: \u001b[22m\u001b[39m             312 process nodes\n",
      "\u001b[36m\u001b[1m[ \u001b[22m\u001b[39m\u001b[36m\u001b[1mInfo: \u001b[22m\u001b[39m            2496 shipping nodes (plant)\n",
      "\u001b[36m\u001b[1m[ \u001b[22m\u001b[39m\u001b[36m\u001b[1mInfo: \u001b[22m\u001b[39m             134 shipping nodes (collection)\n",
      "\u001b[36m\u001b[1m[ \u001b[22m\u001b[39m\u001b[36m\u001b[1mInfo: \u001b[22m\u001b[39m           44304 arcs\n",
      "\u001b[36m\u001b[1m[ \u001b[22m\u001b[39m\u001b[36m\u001b[1mInfo: \u001b[22m\u001b[39mBuilding optimization model...\n",
      "\u001b[36m\u001b[1m[ \u001b[22m\u001b[39m\u001b[36m\u001b[1mInfo: \u001b[22m\u001b[39mOptimizing MILP...\n",
      "\u001b[36m\u001b[1m[ \u001b[22m\u001b[39m\u001b[36m\u001b[1mInfo: \u001b[22m\u001b[39mRe-optimizing with integer variables fixed...\n",
      "\u001b[36m\u001b[1m[ \u001b[22m\u001b[39m\u001b[36m\u001b[1mInfo: \u001b[22m\u001b[39mExtracting solution...\n",
      "\u001b[36m\u001b[1m[ \u001b[22m\u001b[39m\u001b[36m\u001b[1mInfo: \u001b[22m\u001b[39mReading input/what-if_20230301_CASE0_v3/storage_ultra_cap_0.25_cost_100.json...\n",
      "\u001b[36m\u001b[1m[ \u001b[22m\u001b[39m\u001b[36m\u001b[1mInfo: \u001b[22m\u001b[39m         134 collection centers\n",
      "\u001b[36m\u001b[1m[ \u001b[22m\u001b[39m\u001b[36m\u001b[1mInfo: \u001b[22m\u001b[39m         312 candidate plant locations\n",
      "\u001b[36m\u001b[1m[ \u001b[22m\u001b[39m\u001b[36m\u001b[1mInfo: \u001b[22m\u001b[39mBuilding new graph...\n",
      "\u001b[36m\u001b[1m[ \u001b[22m\u001b[39m\u001b[36m\u001b[1mInfo: \u001b[22m\u001b[39m              26 time periods\n",
      "\u001b[36m\u001b[1m[ \u001b[22m\u001b[39m\u001b[36m\u001b[1mInfo: \u001b[22m\u001b[39m             312 process nodes\n",
      "\u001b[36m\u001b[1m[ \u001b[22m\u001b[39m\u001b[36m\u001b[1mInfo: \u001b[22m\u001b[39m            2496 shipping nodes (plant)\n",
      "\u001b[36m\u001b[1m[ \u001b[22m\u001b[39m\u001b[36m\u001b[1mInfo: \u001b[22m\u001b[39m             134 shipping nodes (collection)\n",
      "\u001b[36m\u001b[1m[ \u001b[22m\u001b[39m\u001b[36m\u001b[1mInfo: \u001b[22m\u001b[39m           44304 arcs\n",
      "\u001b[36m\u001b[1m[ \u001b[22m\u001b[39m\u001b[36m\u001b[1mInfo: \u001b[22m\u001b[39mBuilding new optimization model...\n",
      "\u001b[36m\u001b[1m[ \u001b[22m\u001b[39m\u001b[36m\u001b[1mInfo: \u001b[22m\u001b[39mFixing decision variables...\n",
      "\u001b[36m\u001b[1m[ \u001b[22m\u001b[39m\u001b[36m\u001b[1mInfo: \u001b[22m\u001b[39mOptimizing MILP...\n",
      "\u001b[36m\u001b[1m[ \u001b[22m\u001b[39m\u001b[36m\u001b[1mInfo: \u001b[22m\u001b[39mExtracting solution...\n"
     ]
    },
    {
     "ename": "LoadError",
     "evalue": "Primal solution not available",
     "output_type": "error",
     "traceback": [
      "Primal solution not available",
      "",
      "Stacktrace:",
      "  [1] error(s::String)",
      "    @ Base ./error.jl:35",
      "  [2] get(model::Clp.Optimizer, attr::MathOptInterface.VariablePrimal, x::MathOptInterface.VariableIndex)",
      "    @ Clp ~/.julia/packages/Clp/EmULO/src/MOI_wrapper/MOI_wrapper.jl:549",
      "  [3] get(model::MathOptInterface.Utilities.CachingOptimizer{Clp.Optimizer, MathOptInterface.Utilities.UniversalFallback{Clp.OptimizerCache}}, attr::MathOptInterface.VariablePrimal, index::MathOptInterface.VariableIndex)",
      "    @ MathOptInterface.Utilities ~/.julia/packages/MathOptInterface/Ohzb2/src/Utilities/cachingoptimizer.jl:911",
      "  [4] get(b::MathOptInterface.Bridges.LazyBridgeOptimizer{MathOptInterface.Utilities.CachingOptimizer{Clp.Optimizer, MathOptInterface.Utilities.UniversalFallback{Clp.OptimizerCache}}}, attr::MathOptInterface.VariablePrimal, index::MathOptInterface.VariableIndex)",
      "    @ MathOptInterface.Bridges ~/.julia/packages/MathOptInterface/Ohzb2/src/Bridges/bridge_optimizer.jl:1116",
      "  [5] get(model::MathOptInterface.Utilities.CachingOptimizer{MathOptInterface.Bridges.LazyBridgeOptimizer{MathOptInterface.Utilities.CachingOptimizer{Clp.Optimizer, MathOptInterface.Utilities.UniversalFallback{Clp.OptimizerCache}}}, MathOptInterface.Utilities.UniversalFallback{MathOptInterface.Utilities.Model{Float64}}}, attr::MathOptInterface.VariablePrimal, index::MathOptInterface.VariableIndex)",
      "    @ MathOptInterface.Utilities ~/.julia/packages/MathOptInterface/Ohzb2/src/Utilities/cachingoptimizer.jl:911",
      "  [6] _moi_get_result(::MathOptInterface.Utilities.CachingOptimizer{MathOptInterface.Bridges.LazyBridgeOptimizer{MathOptInterface.Utilities.CachingOptimizer{Clp.Optimizer, MathOptInterface.Utilities.UniversalFallback{Clp.OptimizerCache}}}, MathOptInterface.Utilities.UniversalFallback{MathOptInterface.Utilities.Model{Float64}}}, ::MathOptInterface.VariablePrimal, ::Vararg{Any})",
      "    @ JuMP ~/.julia/packages/JuMP/gVq7V/src/JuMP.jl:1155",
      "  [7] get(model::JuMP.Model, attr::MathOptInterface.VariablePrimal, v::JuMP.VariableRef)",
      "    @ JuMP ~/.julia/packages/JuMP/gVq7V/src/JuMP.jl:1212",
      "  [8] value(v::JuMP.VariableRef; result::Int64)",
      "    @ JuMP ~/.julia/packages/JuMP/gVq7V/src/variables.jl:1032",
      "  [9] value(v::JuMP.VariableRef)",
      "    @ JuMP ~/.julia/packages/JuMP/gVq7V/src/variables.jl:1031",
      " [10] (::RELOG.var\"#52#68\"{JuMP.Model, RELOG.ProcessNode})(t::Int64)",
      "    @ RELOG ./none:0",
      " [11] iterate",
      "    @ ./generator.jl:47 [inlined]",
      " [12] collect(itr::Base.Generator{UnitRange{Int64}, RELOG.var\"#52#68\"{JuMP.Model, RELOG.ProcessNode}})",
      "    @ Base ./array.jl:787",
      " [13] get_solution(model::JuMP.Model; marginal_costs::Bool)",
      "    @ RELOG ~/.julia/packages/RELOG/vFFgb/src/model/getsol.jl:63",
      " [14] resolve(model_old::JuMP.Model, instance::RELOG.Instance; optimizer::Nothing)",
      "    @ RELOG ~/.julia/packages/RELOG/vFFgb/src/model/resolve.jl:40",
      " [15] resolve",
      "    @ ~/.julia/packages/RELOG/vFFgb/src/model/resolve.jl:13 [inlined]",
      " [16] resolve(model_old::JuMP.Model, filename::String; kwargs::Base.Pairs{Symbol, Union{}, Tuple{}, NamedTuple{(), Tuple{}}})",
      "    @ RELOG ~/.julia/packages/RELOG/vFFgb/src/model/resolve.jl:10",
      " [17] resolve(model_old::JuMP.Model, filename::String)",
      "    @ RELOG ~/.julia/packages/RELOG/vFFgb/src/model/resolve.jl:7",
      " [18] top-level scope",
      "    @ ./In[4]:8",
      " [19] eval",
      "    @ ./boot.jl:368 [inlined]",
      " [20] include_string(mapexpr::typeof(REPL.softscope), mod::Module, code::String, filename::String)",
      "    @ Base ./loading.jl:1428"
     ]
    }
   ],
   "source": [
    "tick()\n",
    "# Solve reference case\n",
    "\n",
    "_, model = RELOG.solve(\"input/$problem/case.json\", return_model=true);\n",
    "\n",
    "# Solve what-if scenarios\n",
    "for filename in glob(\"input/what-if_$problem/*.json\")\n",
    "    solution = RELOG.resolve(model, filename)\n",
    "    prefix = joinpath(\n",
    "        \"output\",\n",
    "        \"what-if\",\n",
    "        replace(basename(filename), \".json\" => \"\"),\n",
    "    )\n",
    "    RELOG.write_plants_report(solution, \"$(prefix)_plants.csv\")\n",
    "    RELOG.write_products_report(solution, \"$(prefix)_products.csv\")\n",
    "    RELOG.write_plant_outputs_report(solution, \"$(prefix)_plant_outputs.csv\")\n",
    "    RELOG.write_plant_emissions_report(solution, \"$(prefix)_plant_emissions.csv\")\n",
    "    RELOG.write_transportation_report(solution, \"$(prefix)_tr.csv\")\n",
    "    RELOG.write_transportation_emissions_report(solution, \"$(prefix)_tr_emissions.csv\")\n",
    "end\n",
    "tock()"
   ]
  },
  {
   "cell_type": "code",
   "execution_count": null,
   "metadata": {},
   "outputs": [],
   "source": []
  },
  {
   "cell_type": "code",
   "execution_count": null,
   "metadata": {},
   "outputs": [],
   "source": []
  },
  {
   "cell_type": "code",
   "execution_count": null,
   "metadata": {},
   "outputs": [],
   "source": []
  }
 ],
 "metadata": {
  "kernelspec": {
   "display_name": "Julia 1.8.2",
   "language": "julia",
   "name": "julia-1.8"
  },
  "language_info": {
   "file_extension": ".jl",
   "mimetype": "application/julia",
   "name": "julia",
   "version": "1.8.2"
  }
 },
 "nbformat": 4,
 "nbformat_minor": 4
}
