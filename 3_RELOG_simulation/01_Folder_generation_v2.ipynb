{
 "cells": [
  {
   "cell_type": "markdown",
   "id": "64cebd0f-7d52-46b7-96d9-cc62c4243295",
   "metadata": {},
   "source": [
    "# Folder generation"
   ]
  },
  {
   "cell_type": "markdown",
   "id": "64319948-0170-4898-821b-da434fbdbd56",
   "metadata": {},
   "source": [
    "This jupyter journal was created to generate the needed folders to get ready with a new RELOG simulation.\n",
    "There are three main folders in which we need to create new folders:\n",
    "* Input: Here is where the input data is saved. We will create two folders here, one for the normal solver input data (the data that we will save here is generated using the `data_preprocess_1.ipynb` found [here](PV_Recycling_Plant/data/data_preprocess_1.ipynb)), and another one for the sensitivity analysis input scenarios or 'what-if'(generated using `Generate What-If Scenarios.ipynb` [notebook](Generate What-If Scenarios.\n",
    "* Output: Here is where the solutions of the simulations will be saved. The same way as before, we will create two folders named the same as the folders in the input file, one for the normal solver output data (generated with the `1_Submit Optimization Problem.ipynb`), and another one for the sensitivity analysis output scenarios or 'what-if' (generated with the python file `2_Submit What-if Scenarios.ipynb`).\n",
    "* Figures: Same folders as before one for the solver images and another for the sensitivity analysis.\n",
    "\n",
    "Lastly, I will generate a special folder that include the necessary files to make an hpc simulation in the case that the simulation takes too long."
   ]
  },
  {
   "cell_type": "code",
   "execution_count": 1,
   "id": "098a1a46-5e76-4858-920a-6d8bd2d21506",
   "metadata": {},
   "outputs": [],
   "source": [
    "import os\n",
    "from datetime import datetime\n",
    "import shutil\n",
    "from distutils.dir_util import copy_tree"
   ]
  },
  {
   "cell_type": "markdown",
   "id": "aaa28942-d93d-4b2d-b928-442ea703e5ab",
   "metadata": {},
   "source": [
    "Files for the sensitivity analysis."
   ]
  },
  {
   "cell_type": "code",
   "execution_count": 2,
   "id": "b192a51f-6abb-4b33-a65c-204596ab8fda",
   "metadata": {},
   "outputs": [],
   "source": [
    "facility_label = ['Manufacturing', 'Recycling','Manufacturing_cap', 'Recycling_cap']\n",
    "location_label = ['NAICS', '40209']\n",
    "factor_label_rec = ['05', '1', '2', '5', '10']\n",
    "factor_label_man = ['05', '1', '2', '5', '10'] # 0 is 0,5"
   ]
  },
  {
   "cell_type": "code",
   "execution_count": 3,
   "id": "0066fd60-2af1-4775-9409-cd33549ec8d1",
   "metadata": {},
   "outputs": [],
   "source": [
    "files_list = []\n",
    "for fac in facility_label:\n",
    "    for loc in location_label:\n",
    "        if fac.startswith('Manufacturing'):\n",
    "            for fac_man in factor_label_man:\n",
    "                files_list.append(fac+'_'+loc+'_'+fac_man)\n",
    "        else:\n",
    "            for fac_rec in factor_label_rec:\n",
    "                files_list.append(fac+'_'+loc+'_'+fac_rec) "
   ]
  },
  {
   "cell_type": "code",
   "execution_count": 4,
   "id": "638ec489-188e-4421-9063-a017ec097816",
   "metadata": {},
   "outputs": [
    {
     "data": {
      "text/plain": [
       "40"
      ]
     },
     "execution_count": 4,
     "metadata": {},
     "output_type": "execute_result"
    }
   ],
   "source": [
    "len(files_list)"
   ]
  },
  {
   "cell_type": "markdown",
   "id": "8b5be433-163a-4e51-9ec0-3d82a6f27bcb",
   "metadata": {},
   "source": [
    "File list generation for NAICS and 40209 together, and for selected."
   ]
  },
  {
   "cell_type": "code",
   "execution_count": 5,
   "id": "b97bc9ce-94b8-4102-a47e-7f0c3775cf42",
   "metadata": {},
   "outputs": [],
   "source": [
    "facility_label_both = ['Manufacturing', 'Recycling']\n",
    "location_label = ['BOTH', 'BOTHS']\n",
    "discount_yn = ['ND', 'D']\n",
    "discount_perc = ['30']\n",
    "factor_label = ['1']\n",
    " # add the appropiate discount or a list of discounts, the numbers are in %"
   ]
  },
  {
   "cell_type": "code",
   "execution_count": 6,
   "id": "d8464f2b-4922-49fd-8303-ae570c1b5031",
   "metadata": {},
   "outputs": [],
   "source": [
    "for faci in facility_label_both:\n",
    "    for loc in location_label:\n",
    "        for disc in discount_yn:\n",
    "            if disc.startswith('ND'):\n",
    "                for fac in factor_label:\n",
    "                        files_list.append(faci+'_'+loc+'_'+disc+'_'+fac)\n",
    "            else:\n",
    "                for perc in discount_perc:\n",
    "                    for fac in factor_label:\n",
    "                        files_list.append(faci+'_'+loc+'_'+disc+'_'+perc+'_'+fac) "
   ]
  },
  {
   "cell_type": "code",
   "execution_count": 7,
   "id": "4f3ea9bb-4b11-494f-9206-683e9ebb2964",
   "metadata": {
    "scrolled": true,
    "tags": []
   },
   "outputs": [
    {
     "data": {
      "text/plain": [
       "['Manufacturing_NAICS_05',\n",
       " 'Manufacturing_NAICS_1',\n",
       " 'Manufacturing_NAICS_2',\n",
       " 'Manufacturing_NAICS_5',\n",
       " 'Manufacturing_NAICS_10',\n",
       " 'Manufacturing_40209_05',\n",
       " 'Manufacturing_40209_1',\n",
       " 'Manufacturing_40209_2',\n",
       " 'Manufacturing_40209_5',\n",
       " 'Manufacturing_40209_10',\n",
       " 'Recycling_NAICS_05',\n",
       " 'Recycling_NAICS_1',\n",
       " 'Recycling_NAICS_2',\n",
       " 'Recycling_NAICS_5',\n",
       " 'Recycling_NAICS_10',\n",
       " 'Recycling_40209_05',\n",
       " 'Recycling_40209_1',\n",
       " 'Recycling_40209_2',\n",
       " 'Recycling_40209_5',\n",
       " 'Recycling_40209_10',\n",
       " 'Manufacturing_cap_NAICS_05',\n",
       " 'Manufacturing_cap_NAICS_1',\n",
       " 'Manufacturing_cap_NAICS_2',\n",
       " 'Manufacturing_cap_NAICS_5',\n",
       " 'Manufacturing_cap_NAICS_10',\n",
       " 'Manufacturing_cap_40209_05',\n",
       " 'Manufacturing_cap_40209_1',\n",
       " 'Manufacturing_cap_40209_2',\n",
       " 'Manufacturing_cap_40209_5',\n",
       " 'Manufacturing_cap_40209_10',\n",
       " 'Recycling_cap_NAICS_05',\n",
       " 'Recycling_cap_NAICS_1',\n",
       " 'Recycling_cap_NAICS_2',\n",
       " 'Recycling_cap_NAICS_5',\n",
       " 'Recycling_cap_NAICS_10',\n",
       " 'Recycling_cap_40209_05',\n",
       " 'Recycling_cap_40209_1',\n",
       " 'Recycling_cap_40209_2',\n",
       " 'Recycling_cap_40209_5',\n",
       " 'Recycling_cap_40209_10',\n",
       " 'Manufacturing_BOTH_ND_1',\n",
       " 'Manufacturing_BOTH_D_30_1',\n",
       " 'Manufacturing_BOTHS_ND_1',\n",
       " 'Manufacturing_BOTHS_D_30_1',\n",
       " 'Recycling_BOTH_ND_1',\n",
       " 'Recycling_BOTH_D_30_1',\n",
       " 'Recycling_BOTHS_ND_1',\n",
       " 'Recycling_BOTHS_D_30_1']"
      ]
     },
     "execution_count": 7,
     "metadata": {},
     "output_type": "execute_result"
    }
   ],
   "source": [
    "files_list"
   ]
  },
  {
   "cell_type": "markdown",
   "id": "c0249945-3e0f-4851-94cc-33b78f1de85c",
   "metadata": {},
   "source": [
    "## Folder generation:"
   ]
  },
  {
   "cell_type": "code",
   "execution_count": 8,
   "id": "1b53f575-d76c-4383-9cb3-222c9db84416",
   "metadata": {},
   "outputs": [],
   "source": [
    "whatif = False"
   ]
  },
  {
   "cell_type": "code",
   "execution_count": 9,
   "id": "2fec549a-7206-4d5f-98d2-fe6b2ffc376d",
   "metadata": {},
   "outputs": [],
   "source": [
    "cwd = os.getcwd()"
   ]
  },
  {
   "cell_type": "code",
   "execution_count": 10,
   "id": "f66c0d7f-b854-487c-95b2-f1a30a02b8a1",
   "metadata": {},
   "outputs": [
    {
     "data": {
      "text/plain": [
       "48"
      ]
     },
     "execution_count": 10,
     "metadata": {},
     "output_type": "execute_result"
    }
   ],
   "source": [
    "len(files_list)"
   ]
  },
  {
   "cell_type": "code",
   "execution_count": 11,
   "id": "1e2516d1-1e55-4aa8-9ece-6374628f8974",
   "metadata": {
    "scrolled": true,
    "tags": []
   },
   "outputs": [
    {
     "name": "stdout",
     "output_type": "stream",
     "text": [
      "The path for /Users/hwikoff/Documents/RICE/3_RELOG_simulation/simulations/Manufacturing_NAICS_05/input already exists!\n",
      "The path for /Users/hwikoff/Documents/RICE/3_RELOG_simulation/simulations/Manufacturing_NAICS_05/output already exists!\n",
      "The path for /Users/hwikoff/Documents/RICE/3_RELOG_simulation/simulations/Manufacturing_NAICS_05/figures already exists!\n",
      "The path for /Users/hwikoff/Documents/RICE/3_RELOG_simulation/simulations/Manufacturing_NAICS_1/input already exists!\n",
      "The path for /Users/hwikoff/Documents/RICE/3_RELOG_simulation/simulations/Manufacturing_NAICS_1/output already exists!\n",
      "The path for /Users/hwikoff/Documents/RICE/3_RELOG_simulation/simulations/Manufacturing_NAICS_1/figures already exists!\n",
      "The path for /Users/hwikoff/Documents/RICE/3_RELOG_simulation/simulations/Manufacturing_NAICS_2/input already exists!\n",
      "The path for /Users/hwikoff/Documents/RICE/3_RELOG_simulation/simulations/Manufacturing_NAICS_2/output already exists!\n",
      "The path for /Users/hwikoff/Documents/RICE/3_RELOG_simulation/simulations/Manufacturing_NAICS_2/figures already exists!\n",
      "The path for /Users/hwikoff/Documents/RICE/3_RELOG_simulation/simulations/Manufacturing_NAICS_5/input already exists!\n",
      "The path for /Users/hwikoff/Documents/RICE/3_RELOG_simulation/simulations/Manufacturing_NAICS_5/output already exists!\n",
      "The path for /Users/hwikoff/Documents/RICE/3_RELOG_simulation/simulations/Manufacturing_NAICS_5/figures already exists!\n",
      "The path for /Users/hwikoff/Documents/RICE/3_RELOG_simulation/simulations/Manufacturing_NAICS_10/input already exists!\n",
      "The path for /Users/hwikoff/Documents/RICE/3_RELOG_simulation/simulations/Manufacturing_NAICS_10/output already exists!\n",
      "The path for /Users/hwikoff/Documents/RICE/3_RELOG_simulation/simulations/Manufacturing_NAICS_10/figures already exists!\n",
      "The path for /Users/hwikoff/Documents/RICE/3_RELOG_simulation/simulations/Manufacturing_40209_05/input already exists!\n",
      "The path for /Users/hwikoff/Documents/RICE/3_RELOG_simulation/simulations/Manufacturing_40209_05/output already exists!\n",
      "The path for /Users/hwikoff/Documents/RICE/3_RELOG_simulation/simulations/Manufacturing_40209_05/figures already exists!\n",
      "The path for /Users/hwikoff/Documents/RICE/3_RELOG_simulation/simulations/Manufacturing_40209_1/input already exists!\n",
      "The path for /Users/hwikoff/Documents/RICE/3_RELOG_simulation/simulations/Manufacturing_40209_1/output already exists!\n",
      "The path for /Users/hwikoff/Documents/RICE/3_RELOG_simulation/simulations/Manufacturing_40209_1/figures already exists!\n",
      "The path for /Users/hwikoff/Documents/RICE/3_RELOG_simulation/simulations/Manufacturing_40209_2/input already exists!\n",
      "The path for /Users/hwikoff/Documents/RICE/3_RELOG_simulation/simulations/Manufacturing_40209_2/output already exists!\n",
      "The path for /Users/hwikoff/Documents/RICE/3_RELOG_simulation/simulations/Manufacturing_40209_2/figures already exists!\n",
      "The path for /Users/hwikoff/Documents/RICE/3_RELOG_simulation/simulations/Manufacturing_40209_5/input already exists!\n",
      "The path for /Users/hwikoff/Documents/RICE/3_RELOG_simulation/simulations/Manufacturing_40209_5/output already exists!\n",
      "The path for /Users/hwikoff/Documents/RICE/3_RELOG_simulation/simulations/Manufacturing_40209_5/figures already exists!\n",
      "The path for /Users/hwikoff/Documents/RICE/3_RELOG_simulation/simulations/Manufacturing_40209_10/input already exists!\n",
      "The path for /Users/hwikoff/Documents/RICE/3_RELOG_simulation/simulations/Manufacturing_40209_10/output already exists!\n",
      "The path for /Users/hwikoff/Documents/RICE/3_RELOG_simulation/simulations/Manufacturing_40209_10/figures already exists!\n",
      "The path for /Users/hwikoff/Documents/RICE/3_RELOG_simulation/simulations/Recycling_NAICS_05/input already exists!\n",
      "The path for /Users/hwikoff/Documents/RICE/3_RELOG_simulation/simulations/Recycling_NAICS_05/output already exists!\n",
      "The path for /Users/hwikoff/Documents/RICE/3_RELOG_simulation/simulations/Recycling_NAICS_05/figures already exists!\n",
      "The path for /Users/hwikoff/Documents/RICE/3_RELOG_simulation/simulations/Recycling_NAICS_1/input already exists!\n",
      "The path for /Users/hwikoff/Documents/RICE/3_RELOG_simulation/simulations/Recycling_NAICS_1/output already exists!\n",
      "The path for /Users/hwikoff/Documents/RICE/3_RELOG_simulation/simulations/Recycling_NAICS_1/figures already exists!\n",
      "The path for /Users/hwikoff/Documents/RICE/3_RELOG_simulation/simulations/Recycling_NAICS_2/input already exists!\n",
      "The path for /Users/hwikoff/Documents/RICE/3_RELOG_simulation/simulations/Recycling_NAICS_2/output already exists!\n",
      "The path for /Users/hwikoff/Documents/RICE/3_RELOG_simulation/simulations/Recycling_NAICS_2/figures already exists!\n",
      "The path for /Users/hwikoff/Documents/RICE/3_RELOG_simulation/simulations/Recycling_NAICS_5/input already exists!\n",
      "The path for /Users/hwikoff/Documents/RICE/3_RELOG_simulation/simulations/Recycling_NAICS_5/output already exists!\n",
      "The path for /Users/hwikoff/Documents/RICE/3_RELOG_simulation/simulations/Recycling_NAICS_5/figures already exists!\n",
      "The path for /Users/hwikoff/Documents/RICE/3_RELOG_simulation/simulations/Recycling_NAICS_10/input already exists!\n",
      "The path for /Users/hwikoff/Documents/RICE/3_RELOG_simulation/simulations/Recycling_NAICS_10/output already exists!\n",
      "The path for /Users/hwikoff/Documents/RICE/3_RELOG_simulation/simulations/Recycling_NAICS_10/figures already exists!\n",
      "The path for /Users/hwikoff/Documents/RICE/3_RELOG_simulation/simulations/Recycling_40209_05/input already exists!\n",
      "The path for /Users/hwikoff/Documents/RICE/3_RELOG_simulation/simulations/Recycling_40209_05/output already exists!\n",
      "The path for /Users/hwikoff/Documents/RICE/3_RELOG_simulation/simulations/Recycling_40209_05/figures already exists!\n",
      "The path for /Users/hwikoff/Documents/RICE/3_RELOG_simulation/simulations/Recycling_40209_1/input already exists!\n",
      "The path for /Users/hwikoff/Documents/RICE/3_RELOG_simulation/simulations/Recycling_40209_1/output already exists!\n",
      "The path for /Users/hwikoff/Documents/RICE/3_RELOG_simulation/simulations/Recycling_40209_1/figures already exists!\n",
      "The path for /Users/hwikoff/Documents/RICE/3_RELOG_simulation/simulations/Recycling_40209_2/input already exists!\n",
      "The path for /Users/hwikoff/Documents/RICE/3_RELOG_simulation/simulations/Recycling_40209_2/output already exists!\n",
      "The path for /Users/hwikoff/Documents/RICE/3_RELOG_simulation/simulations/Recycling_40209_2/figures already exists!\n",
      "The path for /Users/hwikoff/Documents/RICE/3_RELOG_simulation/simulations/Recycling_40209_5/input already exists!\n",
      "The path for /Users/hwikoff/Documents/RICE/3_RELOG_simulation/simulations/Recycling_40209_5/output already exists!\n",
      "The path for /Users/hwikoff/Documents/RICE/3_RELOG_simulation/simulations/Recycling_40209_5/figures already exists!\n",
      "The path for /Users/hwikoff/Documents/RICE/3_RELOG_simulation/simulations/Recycling_40209_10/input already exists!\n",
      "The path for /Users/hwikoff/Documents/RICE/3_RELOG_simulation/simulations/Recycling_40209_10/output already exists!\n",
      "The path for /Users/hwikoff/Documents/RICE/3_RELOG_simulation/simulations/Recycling_40209_10/figures already exists!\n",
      "The path for /Users/hwikoff/Documents/RICE/3_RELOG_simulation/simulations/Manufacturing_cap_NAICS_05/input already exists!\n",
      "The path for /Users/hwikoff/Documents/RICE/3_RELOG_simulation/simulations/Manufacturing_cap_NAICS_05/output already exists!\n",
      "The path for /Users/hwikoff/Documents/RICE/3_RELOG_simulation/simulations/Manufacturing_cap_NAICS_05/figures already exists!\n",
      "The path for /Users/hwikoff/Documents/RICE/3_RELOG_simulation/simulations/Manufacturing_cap_NAICS_1/input already exists!\n",
      "The path for /Users/hwikoff/Documents/RICE/3_RELOG_simulation/simulations/Manufacturing_cap_NAICS_1/output already exists!\n",
      "The path for /Users/hwikoff/Documents/RICE/3_RELOG_simulation/simulations/Manufacturing_cap_NAICS_1/figures already exists!\n",
      "The path for /Users/hwikoff/Documents/RICE/3_RELOG_simulation/simulations/Manufacturing_cap_NAICS_2/input already exists!\n",
      "The path for /Users/hwikoff/Documents/RICE/3_RELOG_simulation/simulations/Manufacturing_cap_NAICS_2/output already exists!\n",
      "The path for /Users/hwikoff/Documents/RICE/3_RELOG_simulation/simulations/Manufacturing_cap_NAICS_2/figures already exists!\n",
      "The path for /Users/hwikoff/Documents/RICE/3_RELOG_simulation/simulations/Manufacturing_cap_NAICS_5/input already exists!\n",
      "The path for /Users/hwikoff/Documents/RICE/3_RELOG_simulation/simulations/Manufacturing_cap_NAICS_5/output already exists!\n",
      "The path for /Users/hwikoff/Documents/RICE/3_RELOG_simulation/simulations/Manufacturing_cap_NAICS_5/figures already exists!\n",
      "The path for /Users/hwikoff/Documents/RICE/3_RELOG_simulation/simulations/Manufacturing_cap_NAICS_10/input already exists!\n",
      "The path for /Users/hwikoff/Documents/RICE/3_RELOG_simulation/simulations/Manufacturing_cap_NAICS_10/output already exists!\n",
      "The path for /Users/hwikoff/Documents/RICE/3_RELOG_simulation/simulations/Manufacturing_cap_NAICS_10/figures already exists!\n",
      "The path for /Users/hwikoff/Documents/RICE/3_RELOG_simulation/simulations/Manufacturing_cap_40209_05/input already exists!\n",
      "The path for /Users/hwikoff/Documents/RICE/3_RELOG_simulation/simulations/Manufacturing_cap_40209_05/output already exists!\n",
      "The path for /Users/hwikoff/Documents/RICE/3_RELOG_simulation/simulations/Manufacturing_cap_40209_05/figures already exists!\n",
      "The path for /Users/hwikoff/Documents/RICE/3_RELOG_simulation/simulations/Manufacturing_cap_40209_1/input already exists!\n",
      "The path for /Users/hwikoff/Documents/RICE/3_RELOG_simulation/simulations/Manufacturing_cap_40209_1/output already exists!\n",
      "The path for /Users/hwikoff/Documents/RICE/3_RELOG_simulation/simulations/Manufacturing_cap_40209_1/figures already exists!\n",
      "The path for /Users/hwikoff/Documents/RICE/3_RELOG_simulation/simulations/Manufacturing_cap_40209_2/input already exists!\n",
      "The path for /Users/hwikoff/Documents/RICE/3_RELOG_simulation/simulations/Manufacturing_cap_40209_2/output already exists!\n",
      "The path for /Users/hwikoff/Documents/RICE/3_RELOG_simulation/simulations/Manufacturing_cap_40209_2/figures already exists!\n",
      "The path for /Users/hwikoff/Documents/RICE/3_RELOG_simulation/simulations/Manufacturing_cap_40209_5/input already exists!\n",
      "The path for /Users/hwikoff/Documents/RICE/3_RELOG_simulation/simulations/Manufacturing_cap_40209_5/output already exists!\n",
      "The path for /Users/hwikoff/Documents/RICE/3_RELOG_simulation/simulations/Manufacturing_cap_40209_5/figures already exists!\n",
      "The path for /Users/hwikoff/Documents/RICE/3_RELOG_simulation/simulations/Manufacturing_cap_40209_10/input already exists!\n",
      "The path for /Users/hwikoff/Documents/RICE/3_RELOG_simulation/simulations/Manufacturing_cap_40209_10/output already exists!\n",
      "The path for /Users/hwikoff/Documents/RICE/3_RELOG_simulation/simulations/Manufacturing_cap_40209_10/figures already exists!\n",
      "The path for /Users/hwikoff/Documents/RICE/3_RELOG_simulation/simulations/Recycling_cap_NAICS_05/input already exists!\n",
      "The path for /Users/hwikoff/Documents/RICE/3_RELOG_simulation/simulations/Recycling_cap_NAICS_05/output already exists!\n",
      "The path for /Users/hwikoff/Documents/RICE/3_RELOG_simulation/simulations/Recycling_cap_NAICS_05/figures already exists!\n",
      "The path for /Users/hwikoff/Documents/RICE/3_RELOG_simulation/simulations/Recycling_cap_NAICS_1/input already exists!\n",
      "The path for /Users/hwikoff/Documents/RICE/3_RELOG_simulation/simulations/Recycling_cap_NAICS_1/output already exists!\n",
      "The path for /Users/hwikoff/Documents/RICE/3_RELOG_simulation/simulations/Recycling_cap_NAICS_1/figures already exists!\n",
      "The path for /Users/hwikoff/Documents/RICE/3_RELOG_simulation/simulations/Recycling_cap_NAICS_2/input already exists!\n",
      "The path for /Users/hwikoff/Documents/RICE/3_RELOG_simulation/simulations/Recycling_cap_NAICS_2/output already exists!\n",
      "The path for /Users/hwikoff/Documents/RICE/3_RELOG_simulation/simulations/Recycling_cap_NAICS_2/figures already exists!\n",
      "The path for /Users/hwikoff/Documents/RICE/3_RELOG_simulation/simulations/Recycling_cap_NAICS_5/input already exists!\n",
      "The path for /Users/hwikoff/Documents/RICE/3_RELOG_simulation/simulations/Recycling_cap_NAICS_5/output already exists!\n",
      "The path for /Users/hwikoff/Documents/RICE/3_RELOG_simulation/simulations/Recycling_cap_NAICS_5/figures already exists!\n",
      "The path for /Users/hwikoff/Documents/RICE/3_RELOG_simulation/simulations/Recycling_cap_NAICS_10/input already exists!\n",
      "The path for /Users/hwikoff/Documents/RICE/3_RELOG_simulation/simulations/Recycling_cap_NAICS_10/output already exists!\n",
      "The path for /Users/hwikoff/Documents/RICE/3_RELOG_simulation/simulations/Recycling_cap_NAICS_10/figures already exists!\n",
      "The path for /Users/hwikoff/Documents/RICE/3_RELOG_simulation/simulations/Recycling_cap_40209_05/input already exists!\n",
      "The path for /Users/hwikoff/Documents/RICE/3_RELOG_simulation/simulations/Recycling_cap_40209_05/output already exists!\n",
      "The path for /Users/hwikoff/Documents/RICE/3_RELOG_simulation/simulations/Recycling_cap_40209_05/figures already exists!\n",
      "The path for /Users/hwikoff/Documents/RICE/3_RELOG_simulation/simulations/Recycling_cap_40209_1/input already exists!\n",
      "The path for /Users/hwikoff/Documents/RICE/3_RELOG_simulation/simulations/Recycling_cap_40209_1/output already exists!\n",
      "The path for /Users/hwikoff/Documents/RICE/3_RELOG_simulation/simulations/Recycling_cap_40209_1/figures already exists!\n",
      "The path for /Users/hwikoff/Documents/RICE/3_RELOG_simulation/simulations/Recycling_cap_40209_2/input already exists!\n",
      "The path for /Users/hwikoff/Documents/RICE/3_RELOG_simulation/simulations/Recycling_cap_40209_2/output already exists!\n",
      "The path for /Users/hwikoff/Documents/RICE/3_RELOG_simulation/simulations/Recycling_cap_40209_2/figures already exists!\n",
      "The path for /Users/hwikoff/Documents/RICE/3_RELOG_simulation/simulations/Recycling_cap_40209_5/input already exists!\n",
      "The path for /Users/hwikoff/Documents/RICE/3_RELOG_simulation/simulations/Recycling_cap_40209_5/output already exists!\n",
      "The path for /Users/hwikoff/Documents/RICE/3_RELOG_simulation/simulations/Recycling_cap_40209_5/figures already exists!\n",
      "The path for /Users/hwikoff/Documents/RICE/3_RELOG_simulation/simulations/Recycling_cap_40209_10/input already exists!\n",
      "The path for /Users/hwikoff/Documents/RICE/3_RELOG_simulation/simulations/Recycling_cap_40209_10/output already exists!\n",
      "The path for /Users/hwikoff/Documents/RICE/3_RELOG_simulation/simulations/Recycling_cap_40209_10/figures already exists!\n",
      "The path for /Users/hwikoff/Documents/RICE/3_RELOG_simulation/simulations/Manufacturing_BOTH_ND_1/input already exists!\n",
      "The path for /Users/hwikoff/Documents/RICE/3_RELOG_simulation/simulations/Manufacturing_BOTH_ND_1/output already exists!\n",
      "The path for /Users/hwikoff/Documents/RICE/3_RELOG_simulation/simulations/Manufacturing_BOTH_ND_1/figures already exists!\n",
      "The new directory for /Users/hwikoff/Documents/RICE/3_RELOG_simulation/simulations/Manufacturing_BOTH_D_30_1/input has been created!\n",
      "The new directory for /Users/hwikoff/Documents/RICE/3_RELOG_simulation/simulations/Manufacturing_BOTH_D_30_1/output has been created!\n",
      "The new directory for /Users/hwikoff/Documents/RICE/3_RELOG_simulation/simulations/Manufacturing_BOTH_D_30_1/figures has been created!\n",
      "The path for /Users/hwikoff/Documents/RICE/3_RELOG_simulation/simulations/Manufacturing_BOTHS_ND_1/input already exists!\n",
      "The path for /Users/hwikoff/Documents/RICE/3_RELOG_simulation/simulations/Manufacturing_BOTHS_ND_1/output already exists!\n",
      "The path for /Users/hwikoff/Documents/RICE/3_RELOG_simulation/simulations/Manufacturing_BOTHS_ND_1/figures already exists!\n",
      "The new directory for /Users/hwikoff/Documents/RICE/3_RELOG_simulation/simulations/Manufacturing_BOTHS_D_30_1/input has been created!\n",
      "The new directory for /Users/hwikoff/Documents/RICE/3_RELOG_simulation/simulations/Manufacturing_BOTHS_D_30_1/output has been created!\n",
      "The new directory for /Users/hwikoff/Documents/RICE/3_RELOG_simulation/simulations/Manufacturing_BOTHS_D_30_1/figures has been created!\n",
      "The path for /Users/hwikoff/Documents/RICE/3_RELOG_simulation/simulations/Recycling_BOTH_ND_1/input already exists!\n",
      "The path for /Users/hwikoff/Documents/RICE/3_RELOG_simulation/simulations/Recycling_BOTH_ND_1/output already exists!\n",
      "The path for /Users/hwikoff/Documents/RICE/3_RELOG_simulation/simulations/Recycling_BOTH_ND_1/figures already exists!\n",
      "The new directory for /Users/hwikoff/Documents/RICE/3_RELOG_simulation/simulations/Recycling_BOTH_D_30_1/input has been created!\n",
      "The new directory for /Users/hwikoff/Documents/RICE/3_RELOG_simulation/simulations/Recycling_BOTH_D_30_1/output has been created!\n",
      "The new directory for /Users/hwikoff/Documents/RICE/3_RELOG_simulation/simulations/Recycling_BOTH_D_30_1/figures has been created!\n",
      "The path for /Users/hwikoff/Documents/RICE/3_RELOG_simulation/simulations/Recycling_BOTHS_ND_1/input already exists!\n",
      "The path for /Users/hwikoff/Documents/RICE/3_RELOG_simulation/simulations/Recycling_BOTHS_ND_1/output already exists!\n",
      "The path for /Users/hwikoff/Documents/RICE/3_RELOG_simulation/simulations/Recycling_BOTHS_ND_1/figures already exists!\n",
      "The new directory for /Users/hwikoff/Documents/RICE/3_RELOG_simulation/simulations/Recycling_BOTHS_D_30_1/input has been created!\n",
      "The new directory for /Users/hwikoff/Documents/RICE/3_RELOG_simulation/simulations/Recycling_BOTHS_D_30_1/output has been created!\n",
      "The new directory for /Users/hwikoff/Documents/RICE/3_RELOG_simulation/simulations/Recycling_BOTHS_D_30_1/figures has been created!\n"
     ]
    }
   ],
   "source": [
    "for simulation_name in files_list:\n",
    "    if whatif:\n",
    "        input_file = os.path.join(cwd, 'simulations',simulation_name, 'input')\n",
    "        input_file_whatif = os.path.join(cwd, 'simulations','what-if_'+ simulation_name, 'input')\n",
    "        output_file = os.path.join(cwd,'simulations', simulation_name, 'output')\n",
    "        output_file_whatif = os.path.join(cwd,'simulations', 'what-if_'+ simulation_name, 'output')\n",
    "        figures_file = os.path.join(cwd, 'simulations','figures', simulation_name)\n",
    "        figures_file_whatif = os.path.join(cwd, 'simulations','what-if_'+ simulation_name, 'figures',)\n",
    "        files_to_create = [input_file, input_file_whatif, output_file, output_file_whatif, figures_file, figures_file_whatif]\n",
    "    else:\n",
    "        input_file = os.path.join(cwd,'simulations', simulation_name, 'input')\n",
    "        output_file = os.path.join(cwd,'simulations', simulation_name, 'output')\n",
    "        figures_file = os.path.join(cwd,'simulations', simulation_name, 'figures')\n",
    "        files_to_create = [input_file, output_file, figures_file]\n",
    "    for files in range(len(files_to_create)):\n",
    "        # Check whether the specified path exists or not\n",
    "        isExist = os.path.exists(files_to_create[files])\n",
    "        if isExist:\n",
    "            print(f\"The path for {files_to_create[files]} already exists!\")\n",
    "        if not isExist:\n",
    "            # Create a new directory because it does not exist\n",
    "            os.makedirs(files_to_create[files])\n",
    "            print(f\"The new directory for {files_to_create[files]} has been created!\")"
   ]
  },
  {
   "cell_type": "markdown",
   "id": "0b6f3984-be18-46fe-988a-12393ea9953e",
   "metadata": {},
   "source": [
    "Paste the template codes necessary for the hpc simulation."
   ]
  },
  {
   "cell_type": "code",
   "execution_count": 12,
   "id": "08cba521-9193-4be6-a9a3-d44b6026e8c8",
   "metadata": {},
   "outputs": [],
   "source": [
    "for simulation_name in files_list:\n",
    "    # Copy the files from the template codes into the simulation folder:\n",
    "    cwd = os.getcwd()\n",
    "    template_files = os.path.join(cwd, 'template_codes')\n",
    "    input_files = os.path.join(cwd, 'simulations', simulation_name)\n",
    "    copy_tree(template_files, input_files)\n",
    "\n",
    "    # Read in the file\n",
    "    with open(os.path.join(input_files, 'solver.jl'), 'r') as file :\n",
    "        filedata = file.read()\n",
    "# Change the word 'scenario' for the folder scenario name in the solver.jl and the what-if.jl files:\n",
    "    # Replace the target string\n",
    "    filedata = filedata.replace('scenario', simulation_name)\n",
    "\n",
    "    # Write the file out again\n",
    "    with open(os.path.join(input_files, 'solver.jl'), 'w') as file:\n",
    "        file.write(filedata)\n",
    "    if whatif:\n",
    "        # Read in the file\n",
    "        with open(os.path.join(input_files, 'what-if.jl'), 'r') as file :\n",
    "            filedata = file.read()\n",
    "\n",
    "        # Replace the target string\n",
    "        filedata = filedata.replace('scenario', simulation_name)\n",
    "\n",
    "        # Write the file out again\n",
    "        with open(os.path.join(input_files, 'what-if.jl'), 'w') as file:\n",
    "            file.write(filedata)"
   ]
  },
  {
   "cell_type": "markdown",
   "id": "aec965c4-8376-4e1f-92f2-94126ab5d8e3",
   "metadata": {},
   "source": [
    "## Little bonus code for the lazy\n",
    "Just run this cell and copy the line you need to either copy from local machine to HPC, of from HPC to local machine in the executable 'local_to_hpc' and 'hpc_to_local' accordingly under the line '! /bin/bash'."
   ]
  },
  {
   "cell_type": "markdown",
   "id": "f70a0cfa-38b3-4b93-8fbc-fbc580769619",
   "metadata": {},
   "source": [
    "Local machine to HPC (copy and paste it into your terminal):"
   ]
  },
  {
   "cell_type": "code",
   "execution_count": 15,
   "id": "bf11ec59-88e7-4460-a705-4fa369cd22b6",
   "metadata": {},
   "outputs": [],
   "source": [
    "cwd = os.getcwd()"
   ]
  },
  {
   "cell_type": "code",
   "execution_count": 16,
   "id": "1838db9a-f3a4-41c0-a247-1f48f50f42f7",
   "metadata": {},
   "outputs": [],
   "source": [
    "hpc_user = 'hwikoff@eagle.nrel.gov:'"
   ]
  },
  {
   "cell_type": "code",
   "execution_count": 43,
   "id": "6d500b1e-ef31-4678-b51e-adc61150a018",
   "metadata": {
    "scrolled": true,
    "tags": []
   },
   "outputs": [
    {
     "name": "stdout",
     "output_type": "stream",
     "text": [
      "LOCAL-HPC TO HPC:\n",
      "scp -r /Users/hwikoff/Documents/RICE/3_RELOG_simulation/simulations/Manufacturing_NAICS_05 hwikoff@eagle.nrel.gov:/projects/rice\n",
      "scp -r /Users/hwikoff/Documents/RICE/3_RELOG_simulation/simulations/Manufacturing_NAICS_1 hwikoff@eagle.nrel.gov:/projects/rice\n",
      "scp -r /Users/hwikoff/Documents/RICE/3_RELOG_simulation/simulations/Manufacturing_NAICS_2 hwikoff@eagle.nrel.gov:/projects/rice\n",
      "scp -r /Users/hwikoff/Documents/RICE/3_RELOG_simulation/simulations/Manufacturing_NAICS_5 hwikoff@eagle.nrel.gov:/projects/rice\n",
      "scp -r /Users/hwikoff/Documents/RICE/3_RELOG_simulation/simulations/Manufacturing_NAICS_10 hwikoff@eagle.nrel.gov:/projects/rice\n",
      "scp -r /Users/hwikoff/Documents/RICE/3_RELOG_simulation/simulations/Manufacturing_40209_05 hwikoff@eagle.nrel.gov:/projects/rice\n",
      "scp -r /Users/hwikoff/Documents/RICE/3_RELOG_simulation/simulations/Manufacturing_40209_1 hwikoff@eagle.nrel.gov:/projects/rice\n",
      "scp -r /Users/hwikoff/Documents/RICE/3_RELOG_simulation/simulations/Manufacturing_40209_2 hwikoff@eagle.nrel.gov:/projects/rice\n",
      "scp -r /Users/hwikoff/Documents/RICE/3_RELOG_simulation/simulations/Manufacturing_40209_5 hwikoff@eagle.nrel.gov:/projects/rice\n",
      "scp -r /Users/hwikoff/Documents/RICE/3_RELOG_simulation/simulations/Manufacturing_40209_10 hwikoff@eagle.nrel.gov:/projects/rice\n",
      "scp -r /Users/hwikoff/Documents/RICE/3_RELOG_simulation/simulations/Recycling_NAICS_05 hwikoff@eagle.nrel.gov:/projects/rice\n",
      "scp -r /Users/hwikoff/Documents/RICE/3_RELOG_simulation/simulations/Recycling_NAICS_1 hwikoff@eagle.nrel.gov:/projects/rice\n",
      "scp -r /Users/hwikoff/Documents/RICE/3_RELOG_simulation/simulations/Recycling_NAICS_2 hwikoff@eagle.nrel.gov:/projects/rice\n",
      "scp -r /Users/hwikoff/Documents/RICE/3_RELOG_simulation/simulations/Recycling_NAICS_5 hwikoff@eagle.nrel.gov:/projects/rice\n",
      "scp -r /Users/hwikoff/Documents/RICE/3_RELOG_simulation/simulations/Recycling_NAICS_10 hwikoff@eagle.nrel.gov:/projects/rice\n",
      "scp -r /Users/hwikoff/Documents/RICE/3_RELOG_simulation/simulations/Recycling_40209_05 hwikoff@eagle.nrel.gov:/projects/rice\n",
      "scp -r /Users/hwikoff/Documents/RICE/3_RELOG_simulation/simulations/Recycling_40209_1 hwikoff@eagle.nrel.gov:/projects/rice\n",
      "scp -r /Users/hwikoff/Documents/RICE/3_RELOG_simulation/simulations/Recycling_40209_2 hwikoff@eagle.nrel.gov:/projects/rice\n",
      "scp -r /Users/hwikoff/Documents/RICE/3_RELOG_simulation/simulations/Recycling_40209_5 hwikoff@eagle.nrel.gov:/projects/rice\n",
      "scp -r /Users/hwikoff/Documents/RICE/3_RELOG_simulation/simulations/Recycling_40209_10 hwikoff@eagle.nrel.gov:/projects/rice\n",
      "scp -r /Users/hwikoff/Documents/RICE/3_RELOG_simulation/simulations/Manufacturing_cap_NAICS_05 hwikoff@eagle.nrel.gov:/projects/rice\n",
      "scp -r /Users/hwikoff/Documents/RICE/3_RELOG_simulation/simulations/Manufacturing_cap_NAICS_1 hwikoff@eagle.nrel.gov:/projects/rice\n",
      "scp -r /Users/hwikoff/Documents/RICE/3_RELOG_simulation/simulations/Manufacturing_cap_NAICS_2 hwikoff@eagle.nrel.gov:/projects/rice\n",
      "scp -r /Users/hwikoff/Documents/RICE/3_RELOG_simulation/simulations/Manufacturing_cap_NAICS_5 hwikoff@eagle.nrel.gov:/projects/rice\n",
      "scp -r /Users/hwikoff/Documents/RICE/3_RELOG_simulation/simulations/Manufacturing_cap_NAICS_10 hwikoff@eagle.nrel.gov:/projects/rice\n",
      "scp -r /Users/hwikoff/Documents/RICE/3_RELOG_simulation/simulations/Manufacturing_cap_40209_05 hwikoff@eagle.nrel.gov:/projects/rice\n",
      "scp -r /Users/hwikoff/Documents/RICE/3_RELOG_simulation/simulations/Manufacturing_cap_40209_1 hwikoff@eagle.nrel.gov:/projects/rice\n",
      "scp -r /Users/hwikoff/Documents/RICE/3_RELOG_simulation/simulations/Manufacturing_cap_40209_2 hwikoff@eagle.nrel.gov:/projects/rice\n",
      "scp -r /Users/hwikoff/Documents/RICE/3_RELOG_simulation/simulations/Manufacturing_cap_40209_5 hwikoff@eagle.nrel.gov:/projects/rice\n",
      "scp -r /Users/hwikoff/Documents/RICE/3_RELOG_simulation/simulations/Manufacturing_cap_40209_10 hwikoff@eagle.nrel.gov:/projects/rice\n",
      "scp -r /Users/hwikoff/Documents/RICE/3_RELOG_simulation/simulations/Recycling_cap_NAICS_05 hwikoff@eagle.nrel.gov:/projects/rice\n",
      "scp -r /Users/hwikoff/Documents/RICE/3_RELOG_simulation/simulations/Recycling_cap_NAICS_1 hwikoff@eagle.nrel.gov:/projects/rice\n",
      "scp -r /Users/hwikoff/Documents/RICE/3_RELOG_simulation/simulations/Recycling_cap_NAICS_2 hwikoff@eagle.nrel.gov:/projects/rice\n",
      "scp -r /Users/hwikoff/Documents/RICE/3_RELOG_simulation/simulations/Recycling_cap_NAICS_5 hwikoff@eagle.nrel.gov:/projects/rice\n",
      "scp -r /Users/hwikoff/Documents/RICE/3_RELOG_simulation/simulations/Recycling_cap_NAICS_10 hwikoff@eagle.nrel.gov:/projects/rice\n",
      "scp -r /Users/hwikoff/Documents/RICE/3_RELOG_simulation/simulations/Recycling_cap_40209_05 hwikoff@eagle.nrel.gov:/projects/rice\n",
      "scp -r /Users/hwikoff/Documents/RICE/3_RELOG_simulation/simulations/Recycling_cap_40209_1 hwikoff@eagle.nrel.gov:/projects/rice\n",
      "scp -r /Users/hwikoff/Documents/RICE/3_RELOG_simulation/simulations/Recycling_cap_40209_2 hwikoff@eagle.nrel.gov:/projects/rice\n",
      "scp -r /Users/hwikoff/Documents/RICE/3_RELOG_simulation/simulations/Recycling_cap_40209_5 hwikoff@eagle.nrel.gov:/projects/rice\n",
      "scp -r /Users/hwikoff/Documents/RICE/3_RELOG_simulation/simulations/Recycling_cap_40209_10 hwikoff@eagle.nrel.gov:/projects/rice\n",
      "scp -r /Users/hwikoff/Documents/RICE/3_RELOG_simulation/simulations/Manufacturing_BOTH_ND_1 hwikoff@eagle.nrel.gov:/projects/rice\n",
      "scp -r /Users/hwikoff/Documents/RICE/3_RELOG_simulation/simulations/Manufacturing_BOTH_D_10_1 hwikoff@eagle.nrel.gov:/projects/rice\n",
      "scp -r /Users/hwikoff/Documents/RICE/3_RELOG_simulation/simulations/Manufacturing_BOTHS_ND_1 hwikoff@eagle.nrel.gov:/projects/rice\n",
      "scp -r /Users/hwikoff/Documents/RICE/3_RELOG_simulation/simulations/Manufacturing_BOTHS_D_10_1 hwikoff@eagle.nrel.gov:/projects/rice\n",
      "scp -r /Users/hwikoff/Documents/RICE/3_RELOG_simulation/simulations/Recycling_BOTH_ND_1 hwikoff@eagle.nrel.gov:/projects/rice\n",
      "scp -r /Users/hwikoff/Documents/RICE/3_RELOG_simulation/simulations/Recycling_BOTH_D_10_1 hwikoff@eagle.nrel.gov:/projects/rice\n",
      "scp -r /Users/hwikoff/Documents/RICE/3_RELOG_simulation/simulations/Recycling_BOTHS_ND_1 hwikoff@eagle.nrel.gov:/projects/rice\n",
      "scp -r /Users/hwikoff/Documents/RICE/3_RELOG_simulation/simulations/Recycling_BOTHS_D_10_1 hwikoff@eagle.nrel.gov:/projects/rice\n"
     ]
    }
   ],
   "source": [
    "print('LOCAL TO HPC:')\n",
    "for simulation_name in files_list:\n",
    "    local_path = os.path.join(cwd, 'simulations',simulation_name) #change the last entry for the specific name of your simulation\n",
    "    hpc_path = os.path.join(hpc_user, 'projects', 'rice')\n",
    "    print('scp -r', local_path,'{}/projects/rice'.format(hpc_user)) # Change to \\ if it is windows"
   ]
  },
  {
   "cell_type": "markdown",
   "id": "5a408511-48f1-48b9-b7e8-cfaf4071a257",
   "metadata": {},
   "source": [
    "HPC to local machine (copy and paste it into your terminal), this path only works me, but if you have access to the same project folder, use it)."
   ]
  },
  {
   "cell_type": "code",
   "execution_count": 42,
   "id": "5a070fe2-1999-44f5-9628-220d6301b1ca",
   "metadata": {
    "scrolled": true,
    "tags": []
   },
   "outputs": [
    {
     "name": "stdout",
     "output_type": "stream",
     "text": [
      "HPC TO LOCAL-HPC:\n",
      "scp -r hwikoff@eagle.nrel.gov:/projects/rice/Manufacturing_NAICS_05/output /Users/hwikoff/Documents/RICE/3_RELOG_simulation/simulations/Manufacturing_NAICS_05\n",
      "scp -r hwikoff@eagle.nrel.gov:/projects/rice/Manufacturing_NAICS_1/output /Users/hwikoff/Documents/RICE/3_RELOG_simulation/simulations/Manufacturing_NAICS_1\n",
      "scp -r hwikoff@eagle.nrel.gov:/projects/rice/Manufacturing_NAICS_2/output /Users/hwikoff/Documents/RICE/3_RELOG_simulation/simulations/Manufacturing_NAICS_2\n",
      "scp -r hwikoff@eagle.nrel.gov:/projects/rice/Manufacturing_NAICS_5/output /Users/hwikoff/Documents/RICE/3_RELOG_simulation/simulations/Manufacturing_NAICS_5\n",
      "scp -r hwikoff@eagle.nrel.gov:/projects/rice/Manufacturing_NAICS_10/output /Users/hwikoff/Documents/RICE/3_RELOG_simulation/simulations/Manufacturing_NAICS_10\n",
      "scp -r hwikoff@eagle.nrel.gov:/projects/rice/Manufacturing_40209_05/output /Users/hwikoff/Documents/RICE/3_RELOG_simulation/simulations/Manufacturing_40209_05\n",
      "scp -r hwikoff@eagle.nrel.gov:/projects/rice/Manufacturing_40209_1/output /Users/hwikoff/Documents/RICE/3_RELOG_simulation/simulations/Manufacturing_40209_1\n",
      "scp -r hwikoff@eagle.nrel.gov:/projects/rice/Manufacturing_40209_2/output /Users/hwikoff/Documents/RICE/3_RELOG_simulation/simulations/Manufacturing_40209_2\n",
      "scp -r hwikoff@eagle.nrel.gov:/projects/rice/Manufacturing_40209_5/output /Users/hwikoff/Documents/RICE/3_RELOG_simulation/simulations/Manufacturing_40209_5\n",
      "scp -r hwikoff@eagle.nrel.gov:/projects/rice/Manufacturing_40209_10/output /Users/hwikoff/Documents/RICE/3_RELOG_simulation/simulations/Manufacturing_40209_10\n",
      "scp -r hwikoff@eagle.nrel.gov:/projects/rice/Recycling_NAICS_05/output /Users/hwikoff/Documents/RICE/3_RELOG_simulation/simulations/Recycling_NAICS_05\n",
      "scp -r hwikoff@eagle.nrel.gov:/projects/rice/Recycling_NAICS_1/output /Users/hwikoff/Documents/RICE/3_RELOG_simulation/simulations/Recycling_NAICS_1\n",
      "scp -r hwikoff@eagle.nrel.gov:/projects/rice/Recycling_NAICS_2/output /Users/hwikoff/Documents/RICE/3_RELOG_simulation/simulations/Recycling_NAICS_2\n",
      "scp -r hwikoff@eagle.nrel.gov:/projects/rice/Recycling_NAICS_5/output /Users/hwikoff/Documents/RICE/3_RELOG_simulation/simulations/Recycling_NAICS_5\n",
      "scp -r hwikoff@eagle.nrel.gov:/projects/rice/Recycling_NAICS_10/output /Users/hwikoff/Documents/RICE/3_RELOG_simulation/simulations/Recycling_NAICS_10\n",
      "scp -r hwikoff@eagle.nrel.gov:/projects/rice/Recycling_40209_05/output /Users/hwikoff/Documents/RICE/3_RELOG_simulation/simulations/Recycling_40209_05\n",
      "scp -r hwikoff@eagle.nrel.gov:/projects/rice/Recycling_40209_1/output /Users/hwikoff/Documents/RICE/3_RELOG_simulation/simulations/Recycling_40209_1\n",
      "scp -r hwikoff@eagle.nrel.gov:/projects/rice/Recycling_40209_2/output /Users/hwikoff/Documents/RICE/3_RELOG_simulation/simulations/Recycling_40209_2\n",
      "scp -r hwikoff@eagle.nrel.gov:/projects/rice/Recycling_40209_5/output /Users/hwikoff/Documents/RICE/3_RELOG_simulation/simulations/Recycling_40209_5\n",
      "scp -r hwikoff@eagle.nrel.gov:/projects/rice/Recycling_40209_10/output /Users/hwikoff/Documents/RICE/3_RELOG_simulation/simulations/Recycling_40209_10\n",
      "scp -r hwikoff@eagle.nrel.gov:/projects/rice/Manufacturing_cap_NAICS_05/output /Users/hwikoff/Documents/RICE/3_RELOG_simulation/simulations/Manufacturing_cap_NAICS_05\n",
      "scp -r hwikoff@eagle.nrel.gov:/projects/rice/Manufacturing_cap_NAICS_1/output /Users/hwikoff/Documents/RICE/3_RELOG_simulation/simulations/Manufacturing_cap_NAICS_1\n",
      "scp -r hwikoff@eagle.nrel.gov:/projects/rice/Manufacturing_cap_NAICS_2/output /Users/hwikoff/Documents/RICE/3_RELOG_simulation/simulations/Manufacturing_cap_NAICS_2\n",
      "scp -r hwikoff@eagle.nrel.gov:/projects/rice/Manufacturing_cap_NAICS_5/output /Users/hwikoff/Documents/RICE/3_RELOG_simulation/simulations/Manufacturing_cap_NAICS_5\n",
      "scp -r hwikoff@eagle.nrel.gov:/projects/rice/Manufacturing_cap_NAICS_10/output /Users/hwikoff/Documents/RICE/3_RELOG_simulation/simulations/Manufacturing_cap_NAICS_10\n",
      "scp -r hwikoff@eagle.nrel.gov:/projects/rice/Manufacturing_cap_40209_05/output /Users/hwikoff/Documents/RICE/3_RELOG_simulation/simulations/Manufacturing_cap_40209_05\n",
      "scp -r hwikoff@eagle.nrel.gov:/projects/rice/Manufacturing_cap_40209_1/output /Users/hwikoff/Documents/RICE/3_RELOG_simulation/simulations/Manufacturing_cap_40209_1\n",
      "scp -r hwikoff@eagle.nrel.gov:/projects/rice/Manufacturing_cap_40209_2/output /Users/hwikoff/Documents/RICE/3_RELOG_simulation/simulations/Manufacturing_cap_40209_2\n",
      "scp -r hwikoff@eagle.nrel.gov:/projects/rice/Manufacturing_cap_40209_5/output /Users/hwikoff/Documents/RICE/3_RELOG_simulation/simulations/Manufacturing_cap_40209_5\n",
      "scp -r hwikoff@eagle.nrel.gov:/projects/rice/Manufacturing_cap_40209_10/output /Users/hwikoff/Documents/RICE/3_RELOG_simulation/simulations/Manufacturing_cap_40209_10\n",
      "scp -r hwikoff@eagle.nrel.gov:/projects/rice/Recycling_cap_NAICS_05/output /Users/hwikoff/Documents/RICE/3_RELOG_simulation/simulations/Recycling_cap_NAICS_05\n",
      "scp -r hwikoff@eagle.nrel.gov:/projects/rice/Recycling_cap_NAICS_1/output /Users/hwikoff/Documents/RICE/3_RELOG_simulation/simulations/Recycling_cap_NAICS_1\n",
      "scp -r hwikoff@eagle.nrel.gov:/projects/rice/Recycling_cap_NAICS_2/output /Users/hwikoff/Documents/RICE/3_RELOG_simulation/simulations/Recycling_cap_NAICS_2\n",
      "scp -r hwikoff@eagle.nrel.gov:/projects/rice/Recycling_cap_NAICS_5/output /Users/hwikoff/Documents/RICE/3_RELOG_simulation/simulations/Recycling_cap_NAICS_5\n",
      "scp -r hwikoff@eagle.nrel.gov:/projects/rice/Recycling_cap_NAICS_10/output /Users/hwikoff/Documents/RICE/3_RELOG_simulation/simulations/Recycling_cap_NAICS_10\n",
      "scp -r hwikoff@eagle.nrel.gov:/projects/rice/Recycling_cap_40209_05/output /Users/hwikoff/Documents/RICE/3_RELOG_simulation/simulations/Recycling_cap_40209_05\n",
      "scp -r hwikoff@eagle.nrel.gov:/projects/rice/Recycling_cap_40209_1/output /Users/hwikoff/Documents/RICE/3_RELOG_simulation/simulations/Recycling_cap_40209_1\n",
      "scp -r hwikoff@eagle.nrel.gov:/projects/rice/Recycling_cap_40209_2/output /Users/hwikoff/Documents/RICE/3_RELOG_simulation/simulations/Recycling_cap_40209_2\n",
      "scp -r hwikoff@eagle.nrel.gov:/projects/rice/Recycling_cap_40209_5/output /Users/hwikoff/Documents/RICE/3_RELOG_simulation/simulations/Recycling_cap_40209_5\n",
      "scp -r hwikoff@eagle.nrel.gov:/projects/rice/Recycling_cap_40209_10/output /Users/hwikoff/Documents/RICE/3_RELOG_simulation/simulations/Recycling_cap_40209_10\n",
      "scp -r hwikoff@eagle.nrel.gov:/projects/rice/Manufacturing_BOTH_ND_1/output /Users/hwikoff/Documents/RICE/3_RELOG_simulation/simulations/Manufacturing_BOTH_ND_1\n",
      "scp -r hwikoff@eagle.nrel.gov:/projects/rice/Manufacturing_BOTH_D_10_1/output /Users/hwikoff/Documents/RICE/3_RELOG_simulation/simulations/Manufacturing_BOTH_D_10_1\n",
      "scp -r hwikoff@eagle.nrel.gov:/projects/rice/Manufacturing_BOTHS_ND_1/output /Users/hwikoff/Documents/RICE/3_RELOG_simulation/simulations/Manufacturing_BOTHS_ND_1\n",
      "scp -r hwikoff@eagle.nrel.gov:/projects/rice/Manufacturing_BOTHS_D_10_1/output /Users/hwikoff/Documents/RICE/3_RELOG_simulation/simulations/Manufacturing_BOTHS_D_10_1\n",
      "scp -r hwikoff@eagle.nrel.gov:/projects/rice/Recycling_BOTH_ND_1/output /Users/hwikoff/Documents/RICE/3_RELOG_simulation/simulations/Recycling_BOTH_ND_1\n",
      "scp -r hwikoff@eagle.nrel.gov:/projects/rice/Recycling_BOTH_D_10_1/output /Users/hwikoff/Documents/RICE/3_RELOG_simulation/simulations/Recycling_BOTH_D_10_1\n",
      "scp -r hwikoff@eagle.nrel.gov:/projects/rice/Recycling_BOTHS_ND_1/output /Users/hwikoff/Documents/RICE/3_RELOG_simulation/simulations/Recycling_BOTHS_ND_1\n",
      "scp -r hwikoff@eagle.nrel.gov:/projects/rice/Recycling_BOTHS_D_10_1/output /Users/hwikoff/Documents/RICE/3_RELOG_simulation/simulations/Recycling_BOTHS_D_10_1\n"
     ]
    }
   ],
   "source": [
    "print('HPC TO LOCAL:')\n",
    "for simulation_name in files_list:\n",
    "    local_path = os.path.join(cwd, 'simulations', simulation_name) \n",
    "    hpc_path = os.path.join('hwikoff@eagle.nrel.gov:', 'projects', 'rice', simulation_name, 'output' ) #change the last entry for the specific name of your simulation\n",
    "    print('scp -r', hpc_path, local_path)"
   ]
  },
  {
   "cell_type": "code",
   "execution_count": null,
   "id": "8f173ae0-259b-47a8-a7ed-acafd0d57fc9",
   "metadata": {},
   "outputs": [],
   "source": []
  },
  {
   "cell_type": "code",
   "execution_count": null,
   "id": "42ebbc24-6a00-4a5d-8172-44ccf13a7002",
   "metadata": {},
   "outputs": [],
   "source": []
  },
  {
   "cell_type": "code",
   "execution_count": null,
   "id": "556a1b12-87c0-4817-8799-0b4ddd57bb8e",
   "metadata": {},
   "outputs": [],
   "source": []
  }
 ],
 "metadata": {
  "kernelspec": {
   "display_name": "RICE",
   "language": "python",
   "name": "rice"
  },
  "language_info": {
   "codemirror_mode": {
    "name": "ipython",
    "version": 3
   },
   "file_extension": ".py",
   "mimetype": "text/x-python",
   "name": "python",
   "nbconvert_exporter": "python",
   "pygments_lexer": "ipython3",
   "version": "3.9.16"
  }
 },
 "nbformat": 4,
 "nbformat_minor": 5
}
