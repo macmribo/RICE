{
 "cells": [
  {
   "cell_type": "markdown",
   "id": "63241ded-4f54-4b5a-92a8-1ac639db7a49",
   "metadata": {},
   "source": [
    "# What-if scenario file generator"
   ]
  },
  {
   "cell_type": "markdown",
   "id": "37f73f55-ccf1-4fc6-8773-bab05c2597fb",
   "metadata": {},
   "source": [
    "### Load necessary libraries"
   ]
  },
  {
   "cell_type": "code",
   "execution_count": 1,
   "id": "d4789fdd-989d-49c9-bdda-efe0e68c1a9a",
   "metadata": {},
   "outputs": [],
   "source": [
    "import json\n",
    "import numpy as np\n",
    "import os"
   ]
  },
  {
   "cell_type": "markdown",
   "id": "9a861903-aee9-4ac8-864f-7e6e0ad348d0",
   "metadata": {},
   "source": [
    "### Create the conservative what if scenario files"
   ]
  },
  {
   "cell_type": "code",
   "execution_count": 2,
   "id": "0634bd3a-c569-4a1a-a70e-68dfd4a7abad",
   "metadata": {},
   "outputs": [],
   "source": [
    "conservative_file = 'input/conservative/locodata_ultra.json'\n",
    "optimistic_file = 'input/optimistic/locodata_ultra.json'"
   ]
  },
  {
   "cell_type": "code",
   "execution_count": 7,
   "id": "8d09cf9e-7431-47d5-8370-9647e51e5b9f",
   "metadata": {},
   "outputs": [],
   "source": [
    "conservative_whatif = 'input/whatif-conservative/'\n",
    "optimistic_whatif = 'input/whatif-optimistic/'"
   ]
  },
  {
   "cell_type": "code",
   "execution_count": null,
   "id": "082aaa6f-1dcb-49d5-8cd2-9af2f9ce7c10",
   "metadata": {},
   "outputs": [],
   "source": [
    "with open(conservative_file) as f:\n",
    "    data_c = json.load(f)\n",
    "    \n",
    "with open(optimistic_file) as f:\n",
    "    data_o = json.load(f)"
   ]
  },
  {
   "cell_type": "markdown",
   "id": "7be61b79-f3a3-4a12-8484-cf28e8326987",
   "metadata": {},
   "source": [
    "### Arrays with the parameter changes"
   ]
  },
  {
   "cell_type": "code",
   "execution_count": 4,
   "id": "42655a58-5e70-4ecf-835a-1f7cfb6bceda",
   "metadata": {},
   "outputs": [],
   "source": [
    "storage_cost = np.array([0.0, 50, 100, 150, 300, 600])\n",
    "storage_cap = np.array([0.25, 0.5, 1, 2, 4])"
   ]
  },
  {
   "cell_type": "markdown",
   "id": "619b5a79-7760-44b1-a163-5554be89830c",
   "metadata": {},
   "source": [
    "### Change the original file and save the different scenarios"
   ]
  },
  {
   "cell_type": "markdown",
   "id": "7d273f1d-98d3-4c24-9fc9-c7fa75808547",
   "metadata": {},
   "source": [
    "#### Conservative"
   ]
  },
  {
   "cell_type": "code",
   "execution_count": 8,
   "id": "8ba07801-d1d3-4fce-963d-75360a8cf7ab",
   "metadata": {},
   "outputs": [],
   "source": [
    "for cap in storage_cap:\n",
    "    for cost in storage_cost:\n",
    "        with open(conservative_file) as f:\n",
    "            data = json.load(f)\n",
    "        for locations in data['plants']['Ultra Plant']['locations']:\n",
    "            data['plants']['Ultra Plant']['locations'][locations]['storage']['limit (tonne)'] = np.multiply(data['plants']['Ultra Plant']['locations'][locations]['storage']['limit (tonne)'],cap).tolist()\n",
    "            data['plants']['Ultra Plant']['locations'][locations]['storage']['cost ($/tonne)'] = np.array([cost for item in range(len(data['plants']['Ultra Plant']['locations'][locations]['storage']['cost ($/tonne)']))]).tolist()\n",
    "        with open(os.path.join(conservative_whatif, 'storage_ultra_cap_' +str(cap)+ '_cost_'+str(cost)+'.json'), 'w') as f:\n",
    "                json.dump(data, f, indent=2)      "
   ]
  },
  {
   "cell_type": "markdown",
   "id": "3384cdb0-c506-49a2-9fbf-326ead5f1f9f",
   "metadata": {},
   "source": [
    "#### Optimistic"
   ]
  },
  {
   "cell_type": "code",
   "execution_count": 9,
   "id": "f46e3ec8-aef5-47e7-94ff-56d964be43f2",
   "metadata": {},
   "outputs": [],
   "source": [
    "for cap in storage_cap:\n",
    "    for cost in storage_cost:\n",
    "        with open(conservative_file) as f:\n",
    "            data = json.load(f)\n",
    "        for locations in data['plants']['Ultra Plant']['locations']:\n",
    "            data['plants']['Ultra Plant']['locations'][locations]['storage']['limit (tonne)'] = np.multiply(data['plants']['Ultra Plant']['locations'][locations]['storage']['limit (tonne)'],cap).tolist()\n",
    "            data['plants']['Ultra Plant']['locations'][locations]['storage']['cost ($/tonne)'] = np.array([cost for item in range(len(data['plants']['Ultra Plant']['locations'][locations]['storage']['cost ($/tonne)']))]).tolist()\n",
    "        with open(os.path.join(optimistic_whatif, 'storage_ultra_cap_' +str(cap)+ '_cost_'+str(cost)+'.json'), 'w') as f:\n",
    "                json.dump(data, f, indent=2)      "
   ]
  },
  {
   "cell_type": "markdown",
   "id": "c431e621-4dfc-47ac-b4f2-26b3898b7c1b",
   "metadata": {},
   "source": [
    "#### Small case"
   ]
  },
  {
   "cell_type": "code",
   "execution_count": null,
   "id": "911d8f0b-2d78-47f1-a146-2878188d5479",
   "metadata": {},
   "outputs": [],
   "source": [
    "small_case_file = 'input/smallproblem/InputPipelineData.json'\n",
    "small_case_whatif = 'input/whatif-smallproblem/'"
   ]
  },
  {
   "cell_type": "code",
   "execution_count": null,
   "id": "d35c6b23-9a8e-41b8-88bc-dae96407085d",
   "metadata": {},
   "outputs": [],
   "source": [
    "for cap in storage_cap:\n",
    "    for cost in storage_cost:\n",
    "        with open(small_case_file) as f:\n",
    "            data_s = json.load(f)\n",
    "        for locations in data_s['plants']['Ultra Plant']['locations']:\n",
    "            data_s['plants']['Ultra Plant']['locations'][locations]['storage']['limit (tonne)'] = np.multiply(data_s['plants']['Ultra Plant']['locations'][locations]['storage']['limit (tonne)'],cap).tolist()\n",
    "            data_s['plants']['Ultra Plant']['locations'][locations]['storage']['cost ($/tonne)'] = np.array([cost for item in range(len(data_s['plants']['Ultra Plant']['locations'][locations]['storage']['cost ($/tonne)']))]).tolist()\n",
    "        with open(os.path.join(small_case_whatif, 'storage_ultra_cap_' +str(cap)+ '_cost_'+str(cost)+'.json'), 'w') as f:\n",
    "                json.dump(data_s, f, indent=2)    "
   ]
  },
  {
   "cell_type": "code",
   "execution_count": null,
   "id": "8119e730-a554-4993-a52d-af4ed4234ebd",
   "metadata": {},
   "outputs": [],
   "source": []
  }
 ],
 "metadata": {
  "kernelspec": {
   "display_name": "RELOG",
   "language": "python",
   "name": "relog"
  },
  "language_info": {
   "codemirror_mode": {
    "name": "ipython",
    "version": 3
   },
   "file_extension": ".py",
   "mimetype": "text/x-python",
   "name": "python",
   "nbconvert_exporter": "python",
   "pygments_lexer": "ipython3",
   "version": "3.10.6"
  }
 },
 "nbformat": 4,
 "nbformat_minor": 5
}
