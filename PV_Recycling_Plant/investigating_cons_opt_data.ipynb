{
 "cells": [
  {
   "cell_type": "code",
   "execution_count": 13,
   "id": "000864f6-da09-4bb5-8f17-93742b21750e",
   "metadata": {},
   "outputs": [],
   "source": [
    "import json\n",
    "import numpy as np\n",
    "import os\n",
    "import pandas as pd"
   ]
  },
  {
   "cell_type": "code",
   "execution_count": 2,
   "id": "e002b922-480d-41a0-8f8f-8c9d513dfc00",
   "metadata": {},
   "outputs": [],
   "source": [
    "conservative_file = 'input/conservative/locodata_ultra.json'\n",
    "optimistic_file = 'input/optimistic/locodata_ultra.json'"
   ]
  },
  {
   "cell_type": "code",
   "execution_count": 31,
   "id": "3b2caf3b-e875-42c6-b789-b32e8593ca5c",
   "metadata": {},
   "outputs": [],
   "source": [
    "with open(conservative_file) as f:\n",
    "    data_c = json.load(f)\n",
    "    \n",
    "with open(optimistic_file) as f:\n",
    "    data_o = json.load(f)"
   ]
  },
  {
   "cell_type": "code",
   "execution_count": 46,
   "id": "d386aa82-ac8c-4c85-a397-02090cb40c17",
   "metadata": {},
   "outputs": [],
   "source": [
    "data_d_loc = data_c['plants']['Ultra Plant']['locations']"
   ]
  },
  {
   "cell_type": "code",
   "execution_count": 56,
   "id": "afba0bb9-b762-4a41-a9f0-cff38c0f7b56",
   "metadata": {},
   "outputs": [],
   "source": [
    "locs = []\n",
    "for location in data_d_loc:\n",
    "    locs.append(location)\n",
    "    "
   ]
  },
  {
   "cell_type": "code",
   "execution_count": 57,
   "id": "db2b8594-1679-49bc-8fb7-b5ce50ffae6d",
   "metadata": {},
   "outputs": [
    {
     "data": {
      "text/plain": [
       "['Clayton, Georgia',\n",
       " 'Union, New Mexico',\n",
       " 'Catron, New Mexico',\n",
       " 'Cibola, New Mexico',\n",
       " 'Baltimore, Maryland',\n",
       " 'Sussex, Delaware',\n",
       " 'Smith, Texas',\n",
       " 'Tarrant, Texas',\n",
       " 'King, Washington',\n",
       " 'Los Angeles, California',\n",
       " 'Morgan, Indiana',\n",
       " 'El Paso, Colorado',\n",
       " 'Clark, Nevada',\n",
       " 'Orangeburg, South Carolina',\n",
       " 'Franklin, Ohio',\n",
       " 'Clinton, Ohio',\n",
       " 'Portage, Ohio',\n",
       " 'Spartanburg, South Carolina',\n",
       " 'Rapides, Louisiana',\n",
       " 'Norfolk, Virginia',\n",
       " 'Providence, Rhode Island',\n",
       " 'San Mateo, California',\n",
       " 'Flathead, Montana',\n",
       " 'Albany, New York',\n",
       " 'Tehama, California',\n",
       " 'Midland, Michigan',\n",
       " 'Oakland, Michigan',\n",
       " 'Bernalillo, New Mexico',\n",
       " 'Hillsborough, Florida',\n",
       " 'Franklin, Washington',\n",
       " 'Waupaca, Wisconsin',\n",
       " 'Sonoma, California',\n",
       " 'Hardin, Iowa',\n",
       " 'Nevada, California',\n",
       " 'Porter, Indiana',\n",
       " 'Westchester, New York',\n",
       " 'Smith, Mississippi',\n",
       " 'Imperial, California',\n",
       " 'Chaves, New Mexico',\n",
       " 'Sebastian, Arkansas',\n",
       " 'Pottawattamie, Iowa',\n",
       " 'Christian, Kentucky',\n",
       " 'Saline, Arkansas',\n",
       " 'Spokane, Washington',\n",
       " 'Otsego, Michigan',\n",
       " 'Beaver, Pennsylvania',\n",
       " 'Montgomery, Pennsylvania',\n",
       " 'San Miguel, New Mexico',\n",
       " 'Luna, New Mexico',\n",
       " 'Mason, Washington',\n",
       " 'Leavenworth, Kansas',\n",
       " 'Cleveland, Oklahoma',\n",
       " 'Adams, Colorado',\n",
       " 'Franklin, Missouri',\n",
       " 'Hamilton, Ohio',\n",
       " 'Hidalgo, New Mexico',\n",
       " 'Onslow, North Carolina',\n",
       " 'Blair, Pennsylvania',\n",
       " 'Siskiyou, California',\n",
       " 'Lawrence, Arkansas',\n",
       " 'Belknap, New Hampshire',\n",
       " 'Anoka, Minnesota',\n",
       " 'Lincoln, Wyoming',\n",
       " 'Wake, North Carolina',\n",
       " 'York, South Carolina',\n",
       " 'Winnebago, Illinois',\n",
       " 'Nemaha, Nebraska',\n",
       " 'Madison, Montana',\n",
       " 'Harris, Texas',\n",
       " 'Sullivan, Tennessee',\n",
       " 'Torrance, New Mexico',\n",
       " 'Sarasota, Florida',\n",
       " 'Multnomah, Oregon',\n",
       " 'Morgan, Illinois',\n",
       " 'Medina, Texas',\n",
       " 'Grant, Indiana',\n",
       " 'San Juan, New Mexico',\n",
       " 'Lincoln, New Mexico',\n",
       " 'Clark, Arkansas',\n",
       " 'DeKalb, Alabama',\n",
       " 'Liberty, Montana',\n",
       " 'Wyandot, Ohio',\n",
       " 'Anderson, South Carolina',\n",
       " 'Marshall, Oklahoma',\n",
       " 'Middlesex, Massachusetts',\n",
       " 'Maricopa, Arizona',\n",
       " 'Mason, Michigan',\n",
       " 'Guadalupe, New Mexico',\n",
       " 'Monroe, New York',\n",
       " 'Clay, Minnesota',\n",
       " 'Rock, Nebraska',\n",
       " 'Cook, Illinois',\n",
       " 'Crook, Wyoming',\n",
       " 'Big Horn, Montana',\n",
       " 'Eastland, Texas',\n",
       " 'Champaign, Illinois']"
      ]
     },
     "execution_count": 57,
     "metadata": {},
     "output_type": "execute_result"
    }
   ],
   "source": [
    "for locations in locs:\n",
    "    for material in data_d_loc['disposal']:\n",
    "        "
   ]
  },
  {
   "cell_type": "code",
   "execution_count": 58,
   "id": "fba11202-8d50-4121-9892-e51bf6735a66",
   "metadata": {},
   "outputs": [],
   "source": [
    "# Given nested dictionary\n",
    "list = [\n",
    "   {\n",
    "      \"Fruit\": [{\"Price\": 15.2, \"Quality\": \"A\"},\n",
    "         {\"Price\": 19, \"Quality\": \"B\"},\n",
    "         {\"Price\": 17.8, \"Quality\": \"C\"},\n",
    "      ],\n",
    "      \"Name\": \"Orange\"\n",
    "   },\n",
    "   {\n",
    "      \"Fruit\": [{\"Price\": 23.2, \"Quality\": \"A\"},\n",
    "         {\"Price\": 28, \"Quality\": \"B\"}\n",
    "      ],\n",
    "      \"Name\": \"Grapes\"\n",
    "   }\n",
    "]\n",
    "\n",
    "rows = []\n",
    "\n",
    "# Getting rows\n"
   ]
  },
  {
   "cell_type": "code",
   "execution_count": 59,
   "id": "3ee58cff-0118-44f9-a642-1a62f13db0de",
   "metadata": {},
   "outputs": [
    {
     "name": "stdout",
     "output_type": "stream",
     "text": [
      "[{'Price': 15.2, 'Quality': 'A'}, {'Price': 19, 'Quality': 'B'}, {'Price': 17.8, 'Quality': 'C'}]\n",
      "Orange\n",
      "Orange\n",
      "[{'Price': 15.2, 'Quality': 'A', 'Name': 'Orange'}]\n",
      "Orange\n",
      "[{'Price': 15.2, 'Quality': 'A', 'Name': 'Orange'}, {'Price': 19, 'Quality': 'B', 'Name': 'Orange'}]\n",
      "Orange\n",
      "[{'Price': 15.2, 'Quality': 'A', 'Name': 'Orange'}, {'Price': 19, 'Quality': 'B', 'Name': 'Orange'}, {'Price': 17.8, 'Quality': 'C', 'Name': 'Orange'}]\n",
      "[{'Price': 23.2, 'Quality': 'A'}, {'Price': 28, 'Quality': 'B'}]\n",
      "Grapes\n",
      "Grapes\n",
      "[{'Price': 15.2, 'Quality': 'A', 'Name': 'Orange'}, {'Price': 19, 'Quality': 'B', 'Name': 'Orange'}, {'Price': 17.8, 'Quality': 'C', 'Name': 'Orange'}, {'Price': 23.2, 'Quality': 'A', 'Name': 'Grapes'}]\n",
      "Grapes\n",
      "[{'Price': 15.2, 'Quality': 'A', 'Name': 'Orange'}, {'Price': 19, 'Quality': 'B', 'Name': 'Orange'}, {'Price': 17.8, 'Quality': 'C', 'Name': 'Orange'}, {'Price': 23.2, 'Quality': 'A', 'Name': 'Grapes'}, {'Price': 28, 'Quality': 'B', 'Name': 'Grapes'}]\n"
     ]
    }
   ],
   "source": [
    "for data in list:\n",
    "    data_row = data['Fruit']\n",
    "    print(data_row)\n",
    "    n = data['Name']\n",
    "    print(n)\n",
    "    for row in data_row:\n",
    "        row['Name'] = n\n",
    "        print(row['Name'])\n",
    "        rows.append(row)\n",
    "        print(rows)"
   ]
  },
  {
   "cell_type": "code",
   "execution_count": 60,
   "id": "26f79b21-5d67-4694-9d25-415cd9f67035",
   "metadata": {},
   "outputs": [
    {
     "name": "stdout",
     "output_type": "stream",
     "text": [
      "           Name Price            \n",
      "Quality             A     B     C\n",
      "0        Grapes  23.2  28.0   NaN\n",
      "1        Orange  15.2  19.0  17.8\n"
     ]
    }
   ],
   "source": [
    "df = pd.DataFrame(rows)\n",
    "\n",
    "df = df.pivot_table(index='Name', columns=['Quality'],\n",
    "               values=['Price']).reset_index()\n",
    "print(df)"
   ]
  },
  {
   "cell_type": "code",
   "execution_count": null,
   "id": "42d9dac5-4e70-4009-9da2-4b9335a059d4",
   "metadata": {},
   "outputs": [],
   "source": []
  }
 ],
 "metadata": {
  "kernelspec": {
   "display_name": "RELOG",
   "language": "python",
   "name": "relog"
  },
  "language_info": {
   "codemirror_mode": {
    "name": "ipython",
    "version": 3
   },
   "file_extension": ".py",
   "mimetype": "text/x-python",
   "name": "python",
   "nbconvert_exporter": "python",
   "pygments_lexer": "ipython3",
   "version": "3.10.6"
  }
 },
 "nbformat": 4,
 "nbformat_minor": 5
}
