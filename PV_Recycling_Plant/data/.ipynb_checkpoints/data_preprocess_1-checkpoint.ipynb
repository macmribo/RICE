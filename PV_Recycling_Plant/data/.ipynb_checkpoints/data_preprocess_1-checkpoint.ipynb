{
 "cells": [
  {
   "cell_type": "markdown",
   "id": "f13be76b-3940-4e9c-aa20-fb54ed18ecb6",
   "metadata": {},
   "source": [
    "# Data Preprocess 1"
   ]
  },
  {
   "cell_type": "markdown",
   "id": "e06618fb-2bfc-4e01-be6e-88270b72b82f",
   "metadata": {},
   "source": [
    "This journal describes how to prepare the data to run the RELOG scenarios. He we will cover:\n",
    "1. Waste files generation. Correlates latitude and longitude with a region and state. Takes PV ICE-generated data file and creates individual waste files based on the type of waste.\n",
    "2. Make initial amounts file. Using the previously generated files, we show how to make an 'Initial amounts file' so it is in RELOG input data format. \n",
    "3. Make recycling candidates files. Generate the PV recycling plant candidates files using the correct area cost factor.\n",
    "4. Make a shankey diagram from section 1.\n",
    "5. Render a cloropeth map from section 2 (not finished!)\n",
    "\n",
    "A continuation of this journal can be found in [Data Preprocess 2](./data_preprocess_2.ipynb).\n",
    "\n",
    "***NOTE:** All quantities are given in **metric tonnes**.*"
   ]
  },
  {
   "cell_type": "markdown",
   "id": "021e1ed1-e865-4e3c-874c-534b729c6cee",
   "metadata": {},
   "source": [
    "## 0. Load necessary libraries"
   ]
  },
  {
   "cell_type": "code",
   "execution_count": 1,
   "id": "f079c6c9-cc2f-40ac-84cc-42ab867771af",
   "metadata": {},
   "outputs": [],
   "source": [
    "import numpy as np\n",
    "import pandas as pd\n",
    "import os,sys\n",
    "import matplotlib.pyplot as plt\n",
    "from pathlib import Path\n",
    "\n",
    "from geopy.geocoders import Nominatim\n",
    "from geopy.point import Point\n",
    "# initialize Nominatim API\n",
    "geolocator = Nominatim(user_agent=\"geoapiExercises\")"
   ]
  },
  {
   "cell_type": "markdown",
   "id": "ecbc9389-84b8-45a9-9980-5d3acbeb3c25",
   "metadata": {},
   "source": [
    "---\n",
    "## 1. Waste files generation"
   ]
  },
  {
   "cell_type": "markdown",
   "id": "0ccf2824-3754-4d24-b7d8-27e4aec656a2",
   "metadata": {},
   "source": [
    "### 1.1. Get the GIS locations from the latitude and longitude"
   ]
  },
  {
   "cell_type": "markdown",
   "id": "b756d0fb-34ad-4f3f-829f-805728eb8b06",
   "metadata": {},
   "source": [
    "Filter the USA areas."
   ]
  },
  {
   "cell_type": "code",
   "execution_count": 2,
   "id": "9c77f800-d9f1-4b2a-91b7-c70366777a90",
   "metadata": {},
   "outputs": [],
   "source": [
    "GIS = pd.read_excel('Geo_data/gis_centroid_n.xlsx')\n",
    "GIS_us = GIS[GIS.country == 'USA']\n",
    "GIS_us.reset_index(inplace=True)\n",
    "GIS_us = GIS_us.iloc[0:134]\n",
    "GIS_us.to_csv('Geo_data/GIS_us_collection_centers_only.csv')"
   ]
  },
  {
   "cell_type": "code",
   "execution_count": 3,
   "id": "bb37f295-2df7-4046-bf33-da6791e6b8f5",
   "metadata": {},
   "outputs": [],
   "source": [
    "def city_state_country(row):\n",
    "    # I map latitude and longitude with actual names of those places.\n",
    "    coord = f\"{row['lat']}, {row['long']}\"\n",
    "    location = geolocator.reverse(coord, exactly_one=True)\n",
    "    address = location.raw['address']\n",
    "    city = address.get('city', '')\n",
    "    county = address.get('county', '')\n",
    "    state = address.get('state', '')\n",
    "    country = address.get('country', '')\n",
    "    county_state = address.get('county', 'state')\n",
    "    row['city'] = city\n",
    "    row['county'] = county\n",
    "    row['state'] = state\n",
    "    row['country'] = country\n",
    "    row['location'] = county_state\n",
    "    return row"
   ]
  },
  {
   "cell_type": "markdown",
   "id": "277d843c-d26a-4c39-81a7-f02e37f32a43",
   "metadata": {},
   "source": [
    "Generate a GIS file with the name of the locations, this will be useful for section 2, 3 and 4. Where the location names matter to assign area cost factors and to locate waste in a map. I would recommend running this function once, saving the output, and then, when needed, just read the generated csv."
   ]
  },
  {
   "cell_type": "code",
   "execution_count": 4,
   "id": "7605c3b4-e83d-44fe-8a62-2e741af9e015",
   "metadata": {},
   "outputs": [],
   "source": [
    "# This one takes a long time!! Apply the previous function to obtain the names of the locations.\n",
    "GIS = GIS.apply(city_state_country, axis=1)"
   ]
  },
  {
   "cell_type": "code",
   "execution_count": 5,
   "id": "7c58a329-2421-4877-b816-6078ba0ac617",
   "metadata": {},
   "outputs": [],
   "source": [
    "GIS.to_csv('Geo_data/gis_region_names.csv')"
   ]
  },
  {
   "cell_type": "code",
   "execution_count": 6,
   "id": "7d0f625f-eb62-4c4c-8696-a036e209df79",
   "metadata": {},
   "outputs": [],
   "source": [
    "GIS_us_long_lat = GIS_us[['long', 'lat']]\n",
    "GIS_us_id = GIS_us[['id']]"
   ]
  },
  {
   "cell_type": "markdown",
   "id": "2ce3036c-0ec8-4984-83bd-8968a5dafc3d",
   "metadata": {},
   "source": [
    "### 1.2. Correlate GIS longitude and latitude with FIPS codes for the map diagram and EJ API queries"
   ]
  },
  {
   "cell_type": "code",
   "execution_count": 7,
   "id": "d172f006-1a93-4356-8323-b5123c0f438b",
   "metadata": {},
   "outputs": [],
   "source": [
    "fips_county_codes = []\n",
    "fips_state_codes = []"
   ]
  },
  {
   "cell_type": "code",
   "execution_count": 8,
   "id": "7a586cdc-60af-4c0c-8fa4-f95c81454800",
   "metadata": {},
   "outputs": [],
   "source": [
    "# Code from https://gis.stackexchange.com/questions/294641/python-code-for-transforming-lat-long-into-fips-codes\n",
    "import requests\n",
    "import urllib\n",
    "\n",
    "#Encode parameters \n",
    "for lon, lat in GIS_us_long_lat.itertuples(index=False):\n",
    "    params = urllib.parse.urlencode({'latitude': lat, 'longitude':lon, 'format':'json'})\n",
    "    #Contruct request URL\n",
    "    url = 'https://geo.fcc.gov/api/census/block/find?' + params\n",
    "\n",
    "    #Get response from API\n",
    "    response = requests.get(url)\n",
    "\n",
    "    #Parse json in response\n",
    "    data = response.json()\n",
    "    fips_county_codes.append(data['County']['FIPS'])\n",
    "    fips_state_codes.append(data['State']['FIPS'])\n",
    "    #Print FIPS code"
   ]
  },
  {
   "cell_type": "code",
   "execution_count": 9,
   "id": "6c344036-72c2-4a37-a07e-873b96f5da27",
   "metadata": {},
   "outputs": [
    {
     "data": {
      "text/plain": [
       "{'Block': {'FIPS': '511455004001005',\n",
       "  'bbox': [-78.080715, 37.624393, -78.006353, 37.65739]},\n",
       " 'County': {'FIPS': '51145', 'name': 'Powhatan County'},\n",
       " 'State': {'FIPS': '51', 'code': 'VA', 'name': 'Virginia'},\n",
       " 'status': 'OK',\n",
       " 'executionTime': '0'}"
      ]
     },
     "execution_count": 9,
     "metadata": {},
     "output_type": "execute_result"
    }
   ],
   "source": [
    "data"
   ]
  },
  {
   "cell_type": "code",
   "execution_count": 10,
   "id": "dc0ddec5-e2b7-4c32-b22a-77fc659f9a93",
   "metadata": {},
   "outputs": [
    {
     "name": "stderr",
     "output_type": "stream",
     "text": [
      "/var/folders/w2/85_h_nyn0mlbxf81x3k9n53xh90n_1/T/ipykernel_68921/3894708014.py:1: SettingWithCopyWarning: \n",
      "A value is trying to be set on a copy of a slice from a DataFrame.\n",
      "Try using .loc[row_indexer,col_indexer] = value instead\n",
      "\n",
      "See the caveats in the documentation: https://pandas.pydata.org/pandas-docs/stable/user_guide/indexing.html#returning-a-view-versus-a-copy\n",
      "  GIS_us_long_lat['fips_county'] = fips_county_codes\n",
      "/var/folders/w2/85_h_nyn0mlbxf81x3k9n53xh90n_1/T/ipykernel_68921/3894708014.py:2: SettingWithCopyWarning: \n",
      "A value is trying to be set on a copy of a slice from a DataFrame.\n",
      "Try using .loc[row_indexer,col_indexer] = value instead\n",
      "\n",
      "See the caveats in the documentation: https://pandas.pydata.org/pandas-docs/stable/user_guide/indexing.html#returning-a-view-versus-a-copy\n",
      "  GIS_us_long_lat['fips_state'] = fips_state_codes\n"
     ]
    }
   ],
   "source": [
    "GIS_us_long_lat['fips_county'] = fips_county_codes\n",
    "GIS_us_long_lat['fips_state'] = fips_state_codes"
   ]
  },
  {
   "cell_type": "code",
   "execution_count": 11,
   "id": "3fe94795-ffb5-4417-9e2f-9b5a1a97c1e7",
   "metadata": {},
   "outputs": [],
   "source": [
    "GIS_us_long_lat.to_csv('Geo_data/GIS_us_long_lat.csv')"
   ]
  },
  {
   "cell_type": "markdown",
   "id": "94e499ef-253d-4ba3-a18a-9e70747d8485",
   "metadata": {},
   "source": [
    "### 1.3. Separate the PV ICE output and create individual material file"
   ]
  },
  {
   "cell_type": "code",
   "execution_count": 12,
   "id": "89d2d6b9-2393-4f42-adc8-df61ffc441bc",
   "metadata": {},
   "outputs": [],
   "source": [
    "cwd = os.getcwd()\n",
    "pvice_folder = os.path.join(cwd, 'PV_ICE_raw_outputs')"
   ]
  },
  {
   "cell_type": "code",
   "execution_count": 13,
   "id": "c43fe815-feb7-440b-96b2-3c07d75182d9",
   "metadata": {},
   "outputs": [],
   "source": [
    "csi_eol = pd.read_csv(os.path.join(pvice_folder, 'PVICE_RELOG_PCA_cSi_WasteEOL.csv'), index_col='year')\n",
    "cdte_eol = pd.read_csv(os.path.join(pvice_folder, 'PVICE_RELOG_PCA_CdTe_WasteEOL.csv'), index_col='year')"
   ]
  },
  {
   "cell_type": "code",
   "execution_count": 14,
   "id": "542e78db-46c8-43f9-954f-935f0e3ca136",
   "metadata": {},
   "outputs": [
    {
     "name": "stdout",
     "output_type": "stream",
     "text": [
      "We have 134 collection centers.\n"
     ]
    }
   ],
   "source": [
    "print('We have %s collection centers.' % len(GIS_us))"
   ]
  },
  {
   "cell_type": "markdown",
   "id": "546f7d65-a509-4dab-8056-3f3754b8a02f",
   "metadata": {},
   "source": [
    "Now I need to select the columns and separate them by material, then add a column identifying the locations. Ideally, I need to populate the table for the material"
   ]
  },
  {
   "cell_type": "code",
   "execution_count": 15,
   "id": "7528bc00-292b-48a6-8a74-8d1807d5b5df",
   "metadata": {},
   "outputs": [],
   "source": [
    "material_list_csi = ['glass', 'silicon', 'silver', 'copper', 'aluminium_frames', 'encapsulant', 'backsheet', 'Module']\n",
    "material_list_cdte = ['cadmium', 'tellurium', 'glass_cdte', 'aluminium_frames_cdte', 'Module', 'copper_cdte', 'encapsulant_cdte']"
   ]
  },
  {
   "cell_type": "code",
   "execution_count": 16,
   "id": "0814fb51-0c62-4e37-9c48-487b5f4535cf",
   "metadata": {},
   "outputs": [],
   "source": [
    "nums = np.arange(1,42)\n",
    "years = np.arange(2010,2051)\n",
    "years_dict = {nums[i]: years[i] for i in range(len(nums))}"
   ]
  },
  {
   "cell_type": "code",
   "execution_count": 17,
   "id": "f5375c80-531b-46aa-9254-c5fee96ce019",
   "metadata": {},
   "outputs": [],
   "source": [
    "mats = ['csi', 'cdte']"
   ]
  },
  {
   "cell_type": "code",
   "execution_count": 19,
   "id": "ee27b739-d5b2-40fe-89b5-d1a24456c6b7",
   "metadata": {},
   "outputs": [],
   "source": [
    "for y in mats:\n",
    "    if y == 'csi':\n",
    "        for x in material_list_csi:\n",
    "            globals()['%s_%s_sel' % (y, x)] = [col for col in globals()['%s_eol' % y].columns if x in col]\n",
    "            globals()['%s_%s' % (y, x)] = csi_eol.filter(globals()['%s_%s_sel' % (y, x)], axis=1)\n",
    "            globals()['%s_%s' % (y, x)] = globals()['%s_%s' % (y, x)].transpose()\n",
    "            globals()['%s_%s' % (y, x)].reset_index(inplace=True)\n",
    "            globals()['%s_%s' % (y, x)] = pd.concat([globals()['%s_%s' % (y, x)], GIS_us_long_lat], axis=1, ignore_index=True)\n",
    "            globals()['%s_%s' % (y, x)].rename(columns = years_dict, inplace=True)\n",
    "           # globals()['%s_%s' % (y, x)].rename(columns = {42:'PCA area'}, inplace=True)\n",
    "            globals()['%s_%s' % (y, x)].rename(columns = {42:'longitude', 43:'latitude', 44:'FIPS'}, inplace=True)\n",
    "            globals()['%s_%s' % (y, x)]['total waste'] = globals()['%s_%s' % (y, x)].loc[:, 2010:2050].sum(axis=1)\n",
    "            globals()['%s_%s' % (y, x)].to_csv('PV_ICE_separate_outputs/{}_wasteEOL_{}.csv'.format(y, x), index=False)\n",
    "    elif y == 'cdte':\n",
    "        for x in material_list_cdte:\n",
    "            globals()['%s_%s_sel' % (y, x)] = [col for col in globals()['%s_eol' % y].columns if x in col]\n",
    "            globals()['%s_%s' % (y, x)] = cdte_eol.filter(globals()['%s_%s_sel' % (y, x)], axis=1)\n",
    "            globals()['%s_%s' % (y, x)] = globals()['%s_%s' % (y, x)].transpose()\n",
    "            globals()['%s_%s' % (y, x)].reset_index(inplace=True)\n",
    "            globals()['%s_%s' % (y, x)] = pd.concat([globals()['%s_%s' % (y, x)], GIS_us_long_lat], axis=1, ignore_index=True)\n",
    "            globals()['%s_%s' % (y, x)].rename(columns = years_dict, inplace=True)\n",
    "           # globals()['%s_%s' % (y, x)].rename(columns = {42:'PCA area'}, inplace=True)\n",
    "            globals()['%s_%s' % (y, x)].rename(columns = {42:'longitude', 43:'latitude', 44:'FIPS'}, inplace=True)\n",
    "            globals()['%s_%s' % (y, x)]['total waste'] = globals()['%s_%s' % (y, x)].loc[:, 2010:2050].sum(axis=1)\n",
    "            globals()['%s_%s' % (y, x)].to_csv('PV_ICE_separate_outputs/{}_wasteEOL_{}.csv'.format(y, x), index=False)"
   ]
  },
  {
   "cell_type": "markdown",
   "id": "efd2fb46-6abe-4b74-9616-ecb1b7881374",
   "metadata": {},
   "source": [
    "## 2. Make the initial amounts file"
   ]
  },
  {
   "cell_type": "markdown",
   "id": "79574205-1e58-4de1-8bac-32fbcbe06a4f",
   "metadata": {},
   "source": [
    "Here I will be generating the file that has the waste initial amounts according to RELOG's template (Initial amounts - Template.csv).\n",
    "![image.png](images/Initial_amounts_temp.png)\n",
    "\n",
    "I have two options:\n",
    "1) Add at the wastes and then do the processing to create ONE template of initial amounts.\n",
    "2) Create THREE templates, two with CdTe and cSi separated, and then create another one summing the previous two.\n",
    "\n",
    "I am going to do option 2, that way if we decide to generate a separate RELOG scenario with one or the other technology, we have already separate files. I am also  going to create the files for individual materials in case they update the software so we also have material timeseries."
   ]
  },
  {
   "cell_type": "markdown",
   "id": "723bd467-c9ea-458b-a90d-3c7af691413a",
   "metadata": {},
   "source": [
    "### 2.1. Load the waste files that we just generated."
   ]
  },
  {
   "cell_type": "markdown",
   "id": "24846d57-57c3-43ba-993d-e366d21364e0",
   "metadata": {},
   "source": [
    "**LOAD OPTION 1:** If you have run Section 1 cells, fetch the data as csi_Module and cdte_Module. I make a copy of these files since I will be changing them considerably."
   ]
  },
  {
   "cell_type": "code",
   "execution_count": 20,
   "id": "8c120a9a-ec75-49d5-8eb6-373825def9d6",
   "metadata": {
    "tags": []
   },
   "outputs": [],
   "source": [
    "csi_Module_ia = csi_Module.copy()\n",
    "csi_glass_ia = csi_glass.copy()\n",
    "csi_silicon_ia = csi_silicon.copy()\n",
    "csi_silver_ia = csi_silver.copy()\n",
    "csi_copper_ia = csi_copper.copy()\n",
    "csi_aluminium_frames_ia = csi_aluminium_frames.copy()\n",
    "csi_encapsulant_ia = csi_encapsulant.copy()\n",
    "csi_backsheet_ia = csi_backsheet.copy()\n",
    "\n",
    "\n",
    "cdte_Module_ia = cdte_Module.copy()\n",
    "cdte_cadmium_ia = cdte_cadmium.copy()\n",
    "cdte_tellurium_ia = cdte_tellurium.copy()\n",
    "cdte_glass_cdte_ia = cdte_glass_cdte.copy()\n",
    "cdte_aluminium_frames_cdte_ia = cdte_aluminium_frames_cdte.copy()\n",
    "cdte_copper_cdte_ia = cdte_copper_cdte.copy()\n",
    "cdte_encapsulant_cdte_ia = cdte_encapsulant_cdte.copy()\n",
    "\n",
    "# 'ia' stands for initial amounts"
   ]
  },
  {
   "cell_type": "markdown",
   "id": "a600cb92-c733-4255-ae1e-4538b1567140",
   "metadata": {},
   "source": [
    "**LOAD OPTION 2:** If you haven't run Section 1 cells, use function load_csv with the corresponding file name."
   ]
  },
  {
   "cell_type": "code",
   "execution_count": null,
   "id": "aa75f309-2680-4323-a279-237c288e7445",
   "metadata": {
    "tags": []
   },
   "outputs": [],
   "source": [
    "# Uncomment if you need this option\n",
    "# csi_Module = pd.read_csv('csi_wasteEOL_Module.csv')\n",
    "# cdte_Module = pd.read_csv('cdte_wasteEOL_Module.csv')"
   ]
  },
  {
   "cell_type": "markdown",
   "id": "5c2693bd-a573-4f75-abad-db7a04dba108",
   "metadata": {},
   "source": [
    "### 2.2. Drop unnecessary columns"
   ]
  },
  {
   "cell_type": "markdown",
   "id": "89d113ce-8404-4d82-a532-f85dd53d275a",
   "metadata": {},
   "source": [
    "Drop columns: 0, 2010 (there is no waste here), FIPS, 45, longitude, latitude and total waste columns. Then I insert the 'name' row and then move longitude and latitude rows"
   ]
  },
  {
   "cell_type": "code",
   "execution_count": 21,
   "id": "b43df2bb-2030-47b3-bd04-0b359cb86984",
   "metadata": {
    "tags": []
   },
   "outputs": [],
   "source": [
    "csi_Module_ia.drop([0, 2010, 'FIPS', 45, 'total waste', 'latitude', 'longitude'], axis=1, inplace= True) # Run this one only once or it will throw an error.\n",
    "csi_glass_ia.drop([0, 2010, 'FIPS', 45, 'total waste', 'latitude', 'longitude'], axis=1, inplace= True) # Run this one only once or it will throw an error.\n",
    "csi_silicon_ia.drop([0, 2010, 'FIPS', 45, 'total waste', 'latitude', 'longitude'], axis=1, inplace= True) # Run this one only once or it will throw an error.\n",
    "csi_silver_ia.drop([0, 2010, 'FIPS', 45, 'total waste', 'latitude', 'longitude'], axis=1, inplace= True) # Run this one only once or it will throw an error.\n",
    "csi_copper_ia.drop([0, 2010, 'FIPS', 45, 'total waste', 'latitude', 'longitude'], axis=1, inplace= True) # Run this one only once or it will throw an error.\n",
    "csi_aluminium_frames_ia.drop([0, 2010, 'FIPS', 45, 'total waste', 'latitude', 'longitude'], axis=1, inplace= True) # Run this one only once or it will throw an error.\n",
    "csi_encapsulant_ia.drop([0, 2010, 'FIPS', 45, 'total waste', 'latitude', 'longitude'], axis=1, inplace= True) # Run this one only once or it will throw an error.\n",
    "csi_backsheet_ia.drop([0, 2010, 'FIPS', 45, 'total waste', 'latitude', 'longitude'], axis=1, inplace= True) # Run this one only once or it will throw an error."
   ]
  },
  {
   "cell_type": "code",
   "execution_count": 22,
   "id": "79ca44dc-8cc8-4e0a-9e47-77a1baffccfe",
   "metadata": {},
   "outputs": [],
   "source": [
    "cdte_Module_ia.drop([0, 2010, 'FIPS', 45, 'total waste', 'latitude', 'longitude'], axis=1, inplace= True) # Run this one only once or it will throw an error.\n",
    "cdte_cadmium_ia.drop([0, 2010, 'FIPS', 45, 'total waste', 'latitude', 'longitude'], axis=1, inplace= True) # Run this one only once or it will throw an error.\n",
    "cdte_tellurium_ia.drop([0, 2010, 'FIPS', 45, 'total waste', 'latitude', 'longitude'], axis=1, inplace= True) # Run this one only once or it will throw an error.\n",
    "cdte_glass_cdte_ia.drop([0, 2010, 'FIPS', 45, 'total waste', 'latitude', 'longitude'], axis=1, inplace= True) # Run this one only once or it will throw an error.)\n",
    "cdte_aluminium_frames_cdte_ia.drop([0, 2010, 'FIPS', 45, 'total waste', 'latitude', 'longitude'], axis=1, inplace= True) # Run this one only once or it will throw an error.\n",
    "cdte_copper_cdte_ia.drop([0, 2010, 'FIPS', 45, 'total waste', 'latitude', 'longitude'], axis=1, inplace= True) # Run this one only once or it will throw an error.\n",
    "cdte_encapsulant_cdte_ia.drop([0, 2010, 'FIPS', 45, 'total waste', 'latitude', 'longitude'], axis=1, inplace= True) # Run this one only once or it will throw an error."
   ]
  },
  {
   "cell_type": "markdown",
   "id": "7b794f3c-8010-48f2-8d57-567d84b71c53",
   "metadata": {},
   "source": [
    "### 2.3. Add the name locations, latitude and longitude with the right names to the right position."
   ]
  },
  {
   "cell_type": "markdown",
   "id": "cfc6337c-30d8-49e3-865e-b31dbd2cd952",
   "metadata": {},
   "source": [
    "I take the location file from GIS."
   ]
  },
  {
   "cell_type": "code",
   "execution_count": 23,
   "id": "9aaf7638-dbac-4f81-8bee-8a14ef767136",
   "metadata": {},
   "outputs": [],
   "source": [
    "GIS_usa = GIS[GIS.country == 'United States']\n",
    "GIS_usa.reset_index(inplace=True)\n",
    "GIS_usa = GIS_usa.iloc[0:134] # I slice it until 142 because the next locations are not in ReEDS."
   ]
  },
  {
   "cell_type": "code",
   "execution_count": 24,
   "id": "9bcc35a6-0e1c-4cf7-a28c-aedc5cbdd002",
   "metadata": {
    "tags": []
   },
   "outputs": [],
   "source": [
    "csi_Module_ia.insert(0, 'name', GIS_usa[['location']]) # Run this one only once or it will throw an error.\n",
    "csi_Module_ia.insert(1, 'latitude (deg)', GIS_usa[['lat']]) \n",
    "csi_Module_ia.insert(2, 'longitude (deg)', GIS_usa[['long']]) \n",
    "\n",
    "csi_glass_ia.insert(0, 'name', GIS_usa[['location']]) # Run this one only once or it will throw an error.\n",
    "csi_glass_ia.insert(1, 'latitude (deg)', GIS_usa[['lat']]) \n",
    "csi_glass_ia.insert(2, 'longitude (deg)', GIS_usa[['long']]) \n",
    "\n",
    "csi_silicon_ia.insert(0, 'name', GIS_usa[['location']]) # Run this one only once or it will throw an error.\n",
    "csi_silicon_ia.insert(1, 'latitude (deg)', GIS_usa[['lat']]) \n",
    "csi_silicon_ia.insert(2, 'longitude (deg)', GIS_usa[['long']]) \n",
    "\n",
    "csi_silver_ia.insert(0, 'name', GIS_usa[['location']]) # Run this one only once or it will throw an error.\n",
    "csi_silver_ia.insert(1, 'latitude (deg)', GIS_usa[['lat']]) \n",
    "csi_silver_ia.insert(2, 'longitude (deg)', GIS_usa[['long']]) \n",
    "\n",
    "csi_copper_ia.insert(0, 'name', GIS_usa[['location']]) # Run this one only once or it will throw an error.\n",
    "csi_copper_ia.insert(1, 'latitude (deg)', GIS_usa[['lat']]) \n",
    "csi_copper_ia.insert(2, 'longitude (deg)', GIS_usa[['long']]) \n",
    "\n",
    "csi_aluminium_frames_ia.insert(0, 'name', GIS_usa[['location']]) # Run this one only once or it will throw an error.\n",
    "csi_aluminium_frames_ia.insert(1, 'latitude (deg)', GIS_usa[['lat']]) \n",
    "csi_aluminium_frames_ia.insert(2, 'longitude (deg)', GIS_usa[['long']]) \n",
    "\n",
    "csi_encapsulant_ia.insert(0, 'name', GIS_usa[['location']]) # Run this one only once or it will throw an error.\n",
    "csi_encapsulant_ia.insert(1, 'latitude (deg)', GIS_usa[['lat']]) \n",
    "csi_encapsulant_ia.insert(2, 'longitude (deg)', GIS_usa[['long']]) \n",
    "\n",
    "csi_backsheet_ia.insert(0, 'name', GIS_usa[['location']]) # Run this one only once or it will throw an error.\n",
    "csi_backsheet_ia.insert(1, 'latitude (deg)', GIS_usa[['lat']]) \n",
    "csi_backsheet_ia.insert(2, 'longitude (deg)', GIS_usa[['long']]) "
   ]
  },
  {
   "cell_type": "code",
   "execution_count": 25,
   "id": "210e6bea-0a83-4e6b-872d-9df118e7322a",
   "metadata": {},
   "outputs": [],
   "source": [
    "cdte_Module_ia.insert(0, 'name', GIS_usa[['location']]) # Run this one only once or it will throw an error.\n",
    "cdte_Module_ia.insert(1, 'latitude (deg)', GIS_usa[['lat']]) \n",
    "cdte_Module_ia.insert(2, 'longitude (deg)', GIS_usa[['long']]) \n",
    "\n",
    "cdte_cadmium_ia.insert(0, 'name', GIS_usa[['location']]) # Run this one only once or it will throw an error.\n",
    "cdte_cadmium_ia.insert(1, 'latitude (deg)', GIS_usa[['lat']]) \n",
    "cdte_cadmium_ia.insert(2, 'longitude (deg)', GIS_usa[['long']]) \n",
    "\n",
    "cdte_tellurium_ia.insert(0, 'name', GIS_usa[['location']]) # Run this one only once or it will throw an error.\n",
    "cdte_tellurium_ia.insert(1, 'latitude (deg)', GIS_usa[['lat']]) \n",
    "cdte_tellurium_ia.insert(2, 'longitude (deg)', GIS_usa[['long']]) \n",
    "\n",
    "cdte_glass_cdte_ia.insert(0, 'name', GIS_usa[['location']]) # Run this one only once or it will throw an error.\n",
    "cdte_glass_cdte_ia.insert(1, 'latitude (deg)', GIS_usa[['lat']]) \n",
    "cdte_glass_cdte_ia.insert(2, 'longitude (deg)', GIS_usa[['long']]) \n",
    "\n",
    "cdte_aluminium_frames_cdte_ia.insert(0, 'name', GIS_usa[['location']]) # Run this one only once or it will throw an error.\n",
    "cdte_aluminium_frames_cdte_ia.insert(1, 'latitude (deg)', GIS_usa[['lat']]) \n",
    "cdte_aluminium_frames_cdte_ia.insert(2, 'longitude (deg)', GIS_usa[['long']]) \n",
    "\n",
    "cdte_copper_cdte_ia.insert(0, 'name', GIS_usa[['location']]) # Run this one only once or it will throw an error.\n",
    "cdte_copper_cdte_ia.insert(1, 'latitude (deg)', GIS_usa[['lat']]) \n",
    "cdte_copper_cdte_ia.insert(2, 'longitude (deg)', GIS_usa[['long']]) \n",
    "\n",
    "cdte_encapsulant_cdte_ia.insert(0, 'name', GIS_usa[['location']]) # Run this one only once or it will throw an error.\n",
    "cdte_encapsulant_cdte_ia.insert(1, 'latitude (deg)', GIS_usa[['lat']]) \n",
    "cdte_encapsulant_cdte_ia.insert(2, 'longitude (deg)', GIS_usa[['long']]) "
   ]
  },
  {
   "cell_type": "markdown",
   "id": "23fddd00-152e-4204-83e6-f5c6c7447df9",
   "metadata": {},
   "source": [
    "#### 2.3.1 (Optional/to be decided) Add accumulated waste until year 2023"
   ]
  },
  {
   "cell_type": "markdown",
   "id": "ae6e26bf-f6f3-4b54-955a-0254b02c9379",
   "metadata": {},
   "source": [
    "Since I am studying from 2023 onward with RELOG, I add the waste gereated grom 2011 until 2023. I am considering doing this from 2050."
   ]
  },
  {
   "cell_type": "code",
   "execution_count": 26,
   "id": "2991dbf6-45a0-472e-b12c-f1f1a8594b41",
   "metadata": {},
   "outputs": [],
   "source": [
    "csi_Module_ia_sumyears = csi_Module_ia.loc[:, 2011:2023].sum(axis=1)\n",
    "csi_glass_ia_sumyears = csi_glass_ia.loc[:, 2011:2023].sum(axis=1)\n",
    "csi_silicon_ia_sumyears = csi_silicon_ia.loc[:, 2011:2023].sum(axis=1)\n",
    "csi_silver_ia_sumyears = csi_silver_ia.loc[:, 2011:2023].sum(axis=1)\n",
    "csi_copper_ia_sumyears = csi_copper_ia.loc[:, 2011:2023].sum(axis=1)\n",
    "csi_aluminium_frames_ia_sumyears = csi_aluminium_frames_ia.loc[:, 2011:2023].sum(axis=1)\n",
    "csi_encapsulant_ia_sumyears = csi_encapsulant_ia.loc[:, 2011:2023].sum(axis=1)\n",
    "csi_backsheet_ia_sumyears = csi_backsheet_ia.loc[:, 2011:2023].sum(axis=1)\n",
    "\n",
    "\n",
    "cdte_Module_ia_sumyears = cdte_Module_ia.loc[:, 2011:2023].sum(axis=1)\n",
    "cdte_cadmium_ia_sumyears = cdte_cadmium_ia.loc[:, 2011:2023].sum(axis=1)\n",
    "cdte_tellurium_ia_sumyears = cdte_tellurium_ia.loc[:, 2011:2023].sum(axis=1)\n",
    "cdte_glass_cdte_ia_sumyears = cdte_glass_cdte_ia.loc[:, 2011:2023].sum(axis=1)\n",
    "cdte_aluminium_frames_cdte_ia_sumyears = cdte_aluminium_frames_cdte_ia.loc[:, 2011:2023].sum(axis=1)\n",
    "cdte_copper_cdte_ia_sumyears = cdte_copper_cdte_ia.loc[:, 2011:2023].sum(axis=1)\n",
    "cdte_encapsulant_cdte_ia_sumyears = cdte_encapsulant_cdte_ia.loc[:, 2011:2023].sum(axis=1)"
   ]
  },
  {
   "cell_type": "code",
   "execution_count": 27,
   "id": "ca229e11-ebe6-4123-9616-15578a5036d6",
   "metadata": {},
   "outputs": [
    {
     "data": {
      "text/html": [
       "<div>\n",
       "<style scoped>\n",
       "    .dataframe tbody tr th:only-of-type {\n",
       "        vertical-align: middle;\n",
       "    }\n",
       "\n",
       "    .dataframe tbody tr th {\n",
       "        vertical-align: top;\n",
       "    }\n",
       "\n",
       "    .dataframe thead th {\n",
       "        text-align: right;\n",
       "    }\n",
       "</style>\n",
       "<table border=\"1\" class=\"dataframe\">\n",
       "  <thead>\n",
       "    <tr style=\"text-align: right;\">\n",
       "      <th></th>\n",
       "      <th>name</th>\n",
       "      <th>latitude (deg)</th>\n",
       "      <th>longitude (deg)</th>\n",
       "      <th>2011</th>\n",
       "      <th>2012</th>\n",
       "      <th>2013</th>\n",
       "      <th>2014</th>\n",
       "      <th>2015</th>\n",
       "      <th>2016</th>\n",
       "      <th>2017</th>\n",
       "      <th>...</th>\n",
       "      <th>2041</th>\n",
       "      <th>2042</th>\n",
       "      <th>2043</th>\n",
       "      <th>2044</th>\n",
       "      <th>2045</th>\n",
       "      <th>2046</th>\n",
       "      <th>2047</th>\n",
       "      <th>2048</th>\n",
       "      <th>2049</th>\n",
       "      <th>2050</th>\n",
       "    </tr>\n",
       "  </thead>\n",
       "  <tbody>\n",
       "    <tr>\n",
       "      <th>0</th>\n",
       "      <td>Snohomish County</td>\n",
       "      <td>47.820991</td>\n",
       "      <td>-121.452252</td>\n",
       "      <td>3.193918e-12</td>\n",
       "      <td>7.089638e-10</td>\n",
       "      <td>4.304089e-08</td>\n",
       "      <td>5.858025e-07</td>\n",
       "      <td>3.788957e-06</td>\n",
       "      <td>1.600914e-05</td>\n",
       "      <td>5.166969e-05</td>\n",
       "      <td>...</td>\n",
       "      <td>4.225937</td>\n",
       "      <td>3.603057</td>\n",
       "      <td>1.433767</td>\n",
       "      <td>1.957628</td>\n",
       "      <td>2.638610</td>\n",
       "      <td>3.513321</td>\n",
       "      <td>4.625574</td>\n",
       "      <td>6.028302</td>\n",
       "      <td>7.785236</td>\n",
       "      <td>9.970716</td>\n",
       "    </tr>\n",
       "    <tr>\n",
       "      <th>1</th>\n",
       "      <td>state</td>\n",
       "      <td>35.120104</td>\n",
       "      <td>-117.159039</td>\n",
       "      <td>1.004440e-07</td>\n",
       "      <td>9.567703e-06</td>\n",
       "      <td>1.321375e-04</td>\n",
       "      <td>8.233185e-04</td>\n",
       "      <td>3.342137e-03</td>\n",
       "      <td>1.040533e-02</td>\n",
       "      <td>2.712618e-02</td>\n",
       "      <td>...</td>\n",
       "      <td>569.813433</td>\n",
       "      <td>232.343159</td>\n",
       "      <td>50.796752</td>\n",
       "      <td>64.018787</td>\n",
       "      <td>79.043556</td>\n",
       "      <td>95.607059</td>\n",
       "      <td>113.350480</td>\n",
       "      <td>131.926967</td>\n",
       "      <td>151.159163</td>\n",
       "      <td>171.195973</td>\n",
       "    </tr>\n",
       "    <tr>\n",
       "      <th>2</th>\n",
       "      <td>Warren County</td>\n",
       "      <td>38.791108</td>\n",
       "      <td>-78.257714</td>\n",
       "      <td>0.000000e+00</td>\n",
       "      <td>0.000000e+00</td>\n",
       "      <td>0.000000e+00</td>\n",
       "      <td>1.084450e-12</td>\n",
       "      <td>1.741209e-10</td>\n",
       "      <td>3.701481e-09</td>\n",
       "      <td>3.419047e-08</td>\n",
       "      <td>...</td>\n",
       "      <td>0.243191</td>\n",
       "      <td>1.305137</td>\n",
       "      <td>0.153481</td>\n",
       "      <td>0.189806</td>\n",
       "      <td>0.230010</td>\n",
       "      <td>0.273501</td>\n",
       "      <td>0.320117</td>\n",
       "      <td>0.370942</td>\n",
       "      <td>0.429426</td>\n",
       "      <td>0.502632</td>\n",
       "    </tr>\n",
       "    <tr>\n",
       "      <th>3</th>\n",
       "      <td>Sumter County</td>\n",
       "      <td>28.708695</td>\n",
       "      <td>-82.192477</td>\n",
       "      <td>4.919949e-09</td>\n",
       "      <td>4.692309e-07</td>\n",
       "      <td>6.528567e-06</td>\n",
       "      <td>4.113722e-05</td>\n",
       "      <td>1.689599e-04</td>\n",
       "      <td>5.307845e-04</td>\n",
       "      <td>1.387715e-03</td>\n",
       "      <td>...</td>\n",
       "      <td>54.809674</td>\n",
       "      <td>84.644900</td>\n",
       "      <td>28.336043</td>\n",
       "      <td>35.553030</td>\n",
       "      <td>43.629739</td>\n",
       "      <td>52.334157</td>\n",
       "      <td>61.348384</td>\n",
       "      <td>70.326498</td>\n",
       "      <td>78.990640</td>\n",
       "      <td>87.242911</td>\n",
       "    </tr>\n",
       "    <tr>\n",
       "      <th>4</th>\n",
       "      <td>Palm Beach County</td>\n",
       "      <td>26.677092</td>\n",
       "      <td>-80.563731</td>\n",
       "      <td>3.398141e-09</td>\n",
       "      <td>3.231395e-07</td>\n",
       "      <td>4.417846e-06</td>\n",
       "      <td>2.709678e-05</td>\n",
       "      <td>1.080439e-04</td>\n",
       "      <td>3.298795e-04</td>\n",
       "      <td>8.403096e-04</td>\n",
       "      <td>...</td>\n",
       "      <td>11.923197</td>\n",
       "      <td>41.420079</td>\n",
       "      <td>15.712627</td>\n",
       "      <td>21.398098</td>\n",
       "      <td>28.709236</td>\n",
       "      <td>37.970950</td>\n",
       "      <td>49.539330</td>\n",
       "      <td>63.796105</td>\n",
       "      <td>81.131285</td>\n",
       "      <td>101.899028</td>\n",
       "    </tr>\n",
       "    <tr>\n",
       "      <th>...</th>\n",
       "      <td>...</td>\n",
       "      <td>...</td>\n",
       "      <td>...</td>\n",
       "      <td>...</td>\n",
       "      <td>...</td>\n",
       "      <td>...</td>\n",
       "      <td>...</td>\n",
       "      <td>...</td>\n",
       "      <td>...</td>\n",
       "      <td>...</td>\n",
       "      <td>...</td>\n",
       "      <td>...</td>\n",
       "      <td>...</td>\n",
       "      <td>...</td>\n",
       "      <td>...</td>\n",
       "      <td>...</td>\n",
       "      <td>...</td>\n",
       "      <td>...</td>\n",
       "      <td>...</td>\n",
       "      <td>...</td>\n",
       "      <td>...</td>\n",
       "    </tr>\n",
       "    <tr>\n",
       "      <th>129</th>\n",
       "      <td>Laurens County</td>\n",
       "      <td>34.683402</td>\n",
       "      <td>-82.058502</td>\n",
       "      <td>0.000000e+00</td>\n",
       "      <td>0.000000e+00</td>\n",
       "      <td>0.000000e+00</td>\n",
       "      <td>1.182429e-12</td>\n",
       "      <td>1.898525e-10</td>\n",
       "      <td>4.058815e-09</td>\n",
       "      <td>4.091988e-08</td>\n",
       "      <td>...</td>\n",
       "      <td>9.265095</td>\n",
       "      <td>15.357635</td>\n",
       "      <td>16.873106</td>\n",
       "      <td>24.727228</td>\n",
       "      <td>35.554042</td>\n",
       "      <td>50.207683</td>\n",
       "      <td>69.685341</td>\n",
       "      <td>95.104257</td>\n",
       "      <td>127.644170</td>\n",
       "      <td>168.436932</td>\n",
       "    </tr>\n",
       "    <tr>\n",
       "      <th>130</th>\n",
       "      <td>Clarendon County</td>\n",
       "      <td>33.666562</td>\n",
       "      <td>-80.470185</td>\n",
       "      <td>0.000000e+00</td>\n",
       "      <td>0.000000e+00</td>\n",
       "      <td>0.000000e+00</td>\n",
       "      <td>9.341398e-12</td>\n",
       "      <td>1.499868e-09</td>\n",
       "      <td>3.194560e-08</td>\n",
       "      <td>3.042457e-07</td>\n",
       "      <td>...</td>\n",
       "      <td>20.699864</td>\n",
       "      <td>53.617502</td>\n",
       "      <td>23.525717</td>\n",
       "      <td>29.919382</td>\n",
       "      <td>37.294691</td>\n",
       "      <td>45.558695</td>\n",
       "      <td>54.560802</td>\n",
       "      <td>64.131877</td>\n",
       "      <td>74.149605</td>\n",
       "      <td>84.611741</td>\n",
       "    </tr>\n",
       "    <tr>\n",
       "      <th>131</th>\n",
       "      <td>Burke County</td>\n",
       "      <td>35.703545</td>\n",
       "      <td>-81.469485</td>\n",
       "      <td>1.815085e-09</td>\n",
       "      <td>1.748642e-07</td>\n",
       "      <td>2.576853e-06</td>\n",
       "      <td>1.760175e-05</td>\n",
       "      <td>7.831025e-05</td>\n",
       "      <td>2.641415e-04</td>\n",
       "      <td>7.356550e-04</td>\n",
       "      <td>...</td>\n",
       "      <td>43.631660</td>\n",
       "      <td>32.519321</td>\n",
       "      <td>5.611085</td>\n",
       "      <td>6.902817</td>\n",
       "      <td>8.283868</td>\n",
       "      <td>9.687003</td>\n",
       "      <td>11.032189</td>\n",
       "      <td>12.244395</td>\n",
       "      <td>13.280203</td>\n",
       "      <td>14.157456</td>\n",
       "    </tr>\n",
       "    <tr>\n",
       "      <th>132</th>\n",
       "      <td>Wayne County</td>\n",
       "      <td>35.438992</td>\n",
       "      <td>-78.063174</td>\n",
       "      <td>4.912997e-10</td>\n",
       "      <td>5.184675e-08</td>\n",
       "      <td>1.130786e-06</td>\n",
       "      <td>1.100857e-05</td>\n",
       "      <td>6.244102e-05</td>\n",
       "      <td>2.498056e-04</td>\n",
       "      <td>7.974522e-04</td>\n",
       "      <td>...</td>\n",
       "      <td>183.849460</td>\n",
       "      <td>124.396254</td>\n",
       "      <td>17.323228</td>\n",
       "      <td>21.003489</td>\n",
       "      <td>24.758215</td>\n",
       "      <td>28.304888</td>\n",
       "      <td>31.309365</td>\n",
       "      <td>33.443627</td>\n",
       "      <td>34.469798</td>\n",
       "      <td>34.328378</td>\n",
       "    </tr>\n",
       "    <tr>\n",
       "      <th>133</th>\n",
       "      <td>Powhatan County</td>\n",
       "      <td>37.641073</td>\n",
       "      <td>-78.022226</td>\n",
       "      <td>0.000000e+00</td>\n",
       "      <td>0.000000e+00</td>\n",
       "      <td>0.000000e+00</td>\n",
       "      <td>1.594607e-11</td>\n",
       "      <td>2.560323e-09</td>\n",
       "      <td>5.447460e-08</td>\n",
       "      <td>5.102081e-07</td>\n",
       "      <td>...</td>\n",
       "      <td>15.256181</td>\n",
       "      <td>36.483343</td>\n",
       "      <td>15.907939</td>\n",
       "      <td>19.951738</td>\n",
       "      <td>24.463761</td>\n",
       "      <td>29.301232</td>\n",
       "      <td>34.265975</td>\n",
       "      <td>39.135164</td>\n",
       "      <td>43.715061</td>\n",
       "      <td>47.906702</td>\n",
       "    </tr>\n",
       "  </tbody>\n",
       "</table>\n",
       "<p>134 rows × 43 columns</p>\n",
       "</div>"
      ],
      "text/plain": [
       "                  name  latitude (deg)  longitude (deg)          2011  \\\n",
       "0     Snohomish County       47.820991      -121.452252  3.193918e-12   \n",
       "1                state       35.120104      -117.159039  1.004440e-07   \n",
       "2        Warren County       38.791108       -78.257714  0.000000e+00   \n",
       "3        Sumter County       28.708695       -82.192477  4.919949e-09   \n",
       "4    Palm Beach County       26.677092       -80.563731  3.398141e-09   \n",
       "..                 ...             ...              ...           ...   \n",
       "129     Laurens County       34.683402       -82.058502  0.000000e+00   \n",
       "130   Clarendon County       33.666562       -80.470185  0.000000e+00   \n",
       "131       Burke County       35.703545       -81.469485  1.815085e-09   \n",
       "132       Wayne County       35.438992       -78.063174  4.912997e-10   \n",
       "133    Powhatan County       37.641073       -78.022226  0.000000e+00   \n",
       "\n",
       "             2012          2013          2014          2015          2016  \\\n",
       "0    7.089638e-10  4.304089e-08  5.858025e-07  3.788957e-06  1.600914e-05   \n",
       "1    9.567703e-06  1.321375e-04  8.233185e-04  3.342137e-03  1.040533e-02   \n",
       "2    0.000000e+00  0.000000e+00  1.084450e-12  1.741209e-10  3.701481e-09   \n",
       "3    4.692309e-07  6.528567e-06  4.113722e-05  1.689599e-04  5.307845e-04   \n",
       "4    3.231395e-07  4.417846e-06  2.709678e-05  1.080439e-04  3.298795e-04   \n",
       "..            ...           ...           ...           ...           ...   \n",
       "129  0.000000e+00  0.000000e+00  1.182429e-12  1.898525e-10  4.058815e-09   \n",
       "130  0.000000e+00  0.000000e+00  9.341398e-12  1.499868e-09  3.194560e-08   \n",
       "131  1.748642e-07  2.576853e-06  1.760175e-05  7.831025e-05  2.641415e-04   \n",
       "132  5.184675e-08  1.130786e-06  1.100857e-05  6.244102e-05  2.498056e-04   \n",
       "133  0.000000e+00  0.000000e+00  1.594607e-11  2.560323e-09  5.447460e-08   \n",
       "\n",
       "             2017  ...        2041        2042       2043       2044  \\\n",
       "0    5.166969e-05  ...    4.225937    3.603057   1.433767   1.957628   \n",
       "1    2.712618e-02  ...  569.813433  232.343159  50.796752  64.018787   \n",
       "2    3.419047e-08  ...    0.243191    1.305137   0.153481   0.189806   \n",
       "3    1.387715e-03  ...   54.809674   84.644900  28.336043  35.553030   \n",
       "4    8.403096e-04  ...   11.923197   41.420079  15.712627  21.398098   \n",
       "..            ...  ...         ...         ...        ...        ...   \n",
       "129  4.091988e-08  ...    9.265095   15.357635  16.873106  24.727228   \n",
       "130  3.042457e-07  ...   20.699864   53.617502  23.525717  29.919382   \n",
       "131  7.356550e-04  ...   43.631660   32.519321   5.611085   6.902817   \n",
       "132  7.974522e-04  ...  183.849460  124.396254  17.323228  21.003489   \n",
       "133  5.102081e-07  ...   15.256181   36.483343  15.907939  19.951738   \n",
       "\n",
       "          2045       2046        2047        2048        2049        2050  \n",
       "0     2.638610   3.513321    4.625574    6.028302    7.785236    9.970716  \n",
       "1    79.043556  95.607059  113.350480  131.926967  151.159163  171.195973  \n",
       "2     0.230010   0.273501    0.320117    0.370942    0.429426    0.502632  \n",
       "3    43.629739  52.334157   61.348384   70.326498   78.990640   87.242911  \n",
       "4    28.709236  37.970950   49.539330   63.796105   81.131285  101.899028  \n",
       "..         ...        ...         ...         ...         ...         ...  \n",
       "129  35.554042  50.207683   69.685341   95.104257  127.644170  168.436932  \n",
       "130  37.294691  45.558695   54.560802   64.131877   74.149605   84.611741  \n",
       "131   8.283868   9.687003   11.032189   12.244395   13.280203   14.157456  \n",
       "132  24.758215  28.304888   31.309365   33.443627   34.469798   34.328378  \n",
       "133  24.463761  29.301232   34.265975   39.135164   43.715061   47.906702  \n",
       "\n",
       "[134 rows x 43 columns]"
      ]
     },
     "execution_count": 27,
     "metadata": {},
     "output_type": "execute_result"
    }
   ],
   "source": [
    "csi_Module_ia\n",
    "csi_glass_ia\n",
    "csi_silicon_ia\n",
    "csi_silver_ia\n",
    "csi_copper_ia\n",
    "csi_aluminium_frames_ia\n",
    "csi_encapsulant_ia\n",
    "csi_backsheet_ia\n",
    "\n",
    "cdte_Module_ia\n",
    "cdte_cadmium_ia\n",
    "cdte_tellurium_ia\n",
    "cdte_glass_cdte_ia\n",
    "cdte_aluminium_frames_cdte_ia\n",
    "cdte_copper_cdte_ia\n",
    "cdte_encapsulant_cdte_ia"
   ]
  },
  {
   "cell_type": "markdown",
   "id": "9622d0f3-0e33-457f-8644-4698a31f965e",
   "metadata": {},
   "source": [
    "Drop columns 2011 to 2022"
   ]
  },
  {
   "cell_type": "code",
   "execution_count": 28,
   "id": "6532ffed-63e1-42d9-96ea-1712bbe5b053",
   "metadata": {},
   "outputs": [],
   "source": [
    "csi_Module_ia.drop(csi_Module_ia.loc[:, 2011:2023], inplace=True, axis=1)\n",
    "csi_glass_ia.drop(csi_glass_ia.loc[:, 2011:2023], inplace=True, axis=1)\n",
    "csi_silicon_ia.drop(csi_silicon_ia.loc[:, 2011:2023], inplace=True, axis=1)\n",
    "csi_silver_ia.drop(csi_silver_ia.loc[:, 2011:2023], inplace=True, axis=1)\n",
    "csi_copper_ia.drop(csi_copper_ia.loc[:, 2011:2023], inplace=True, axis=1)\n",
    "csi_aluminium_frames_ia.drop(csi_aluminium_frames_ia.loc[:, 2011:2023], inplace=True, axis=1)\n",
    "csi_encapsulant_ia.drop(csi_encapsulant_ia.loc[:, 2011:2023], inplace=True, axis=1)\n",
    "csi_backsheet_ia.drop(csi_backsheet_ia.loc[:, 2011:2023], inplace=True, axis=1)\n",
    "\n",
    "cdte_Module_ia.drop(cdte_Module_ia.loc[:, 2011:2023], inplace=True, axis=1)\n",
    "cdte_cadmium_ia.drop(cdte_cadmium_ia.loc[:, 2011:2023], inplace=True, axis=1)\n",
    "cdte_tellurium_ia.drop(cdte_tellurium_ia.loc[:, 2011:2023], inplace=True, axis=1)\n",
    "cdte_glass_cdte_ia.drop(cdte_glass_cdte_ia.loc[:, 2011:2023], inplace=True, axis=1)\n",
    "cdte_aluminium_frames_cdte_ia.drop(cdte_aluminium_frames_cdte_ia.loc[:, 2011:2023], inplace=True, axis=1)\n",
    "cdte_copper_cdte_ia.drop(cdte_copper_cdte_ia.loc[:, 2011:2023], inplace=True, axis=1)\n",
    "cdte_encapsulant_cdte_ia.drop(cdte_encapsulant_cdte_ia.loc[:, 2011:2023], inplace=True, axis=1)"
   ]
  },
  {
   "cell_type": "markdown",
   "id": "7a218269-50c4-492b-b3c2-3a613f7cd73f",
   "metadata": {},
   "source": [
    "Insert the 2023 column that summed the waste between 2011 to 2023."
   ]
  },
  {
   "cell_type": "code",
   "execution_count": null,
   "id": "d8869630-637f-44b8-ac35-b29a3ab4456e",
   "metadata": {},
   "outputs": [],
   "source": [
    "csi_Module_ia.insert(3, 2023, csi_Module_ia_sumyears)\n",
    "csi_glass_ia.insert(3, 2023, csi_glass_ia_sumyears)\n",
    "csi_silicon_ia.insert(3, 2023, csi_silicon_ia_sumyears)\n",
    "csi_silver_ia.insert(3, 2023, csi_silver_ia_sumyears)\n",
    "csi_copper_ia.insert(3, 2023, csi_copper_ia_sumyears)\n",
    "csi_aluminium_frames_ia.insert(3, 2023, csi_aluminium_frames_ia_sumyears)\n",
    "csi_encapsulant_ia.insert(3, 2023, csi_encapsulant_ia_sumyears)\n",
    "csi_backsheet_ia.insert(3, 2023, csi_backsheet_ia_sumyears)\n",
    "\n",
    "cdte_Module_ia.insert(3, 2023, cdte_Module_ia_sumyears) \n",
    "cdte_cadmium_ia.insert(3, 2023, cdte_cadmium_ia_sumyears) \n",
    "cdte_tellurium_ia.insert(3, 2023, cdte_tellurium_ia_sumyears) \n",
    "cdte_glass_cdte_ia.insert(3, 2023, cdte_glass_cdte_ia_sumyears) \n",
    "cdte_aluminium_frames_cdte_ia.insert(3, 2023, cdte_aluminium_frames_cdte_ia_sumyears) \n",
    "cdte_copper_cdte_ia.insert(3, 2023, cdte_copper_cdte_ia_sumyears) \n",
    "cdte_encapsulant_cdte_ia.insert(3, 2023, cdte_encapsulant_cdte_ia_sumyears) "
   ]
  },
  {
   "cell_type": "code",
   "execution_count": null,
   "id": "89715bee-7024-48a8-a4c9-ec6188902789",
   "metadata": {},
   "outputs": [],
   "source": []
  },
  {
   "cell_type": "code",
   "execution_count": null,
   "id": "e5af8adc-861e-4d71-b759-066cfa51a7d1",
   "metadata": {},
   "outputs": [],
   "source": []
  },
  {
   "cell_type": "markdown",
   "id": "e01663ec-c4ce-4c08-9ee6-582587720e57",
   "metadata": {},
   "source": [
    "#### 2.3.1. Change years for amounts"
   ]
  },
  {
   "cell_type": "markdown",
   "id": "6d999a28-71a3-4a24-afea-6252ef677f1d",
   "metadata": {},
   "source": [
    "Change the column names as 'amount 1', 'amount 2', etc. I am not sure if it matters, but I am going to do it just in case!\n",
    "From 2023 to 2050, we have a total of 27 amounts."
   ]
  },
  {
   "cell_type": "code",
   "execution_count": 30,
   "id": "6d84bcf0-b5a9-4a3c-89d7-5404eaa2f0bb",
   "metadata": {},
   "outputs": [],
   "source": [
    "csi_Module_ia.set_axis(['name', 'latitude (deg)', 'longitude (deg)','amount 1','amount 2','amount 3','amount 4','amount 5','amount 6','amount 7','amount 8','amount 9','amount 10','amount 11','amount 12','amount 13','amount 14','amount 15','amount 16','amount 17','amount 18','amount 19','amount 20','amount 21','amount 22','amount 23','amount 24','amount 25','amount 26','amount 27'], axis=1, inplace=True)\n",
    "csi_glass_ia.set_axis(['name', 'latitude (deg)', 'longitude (deg)','amount 1','amount 2','amount 3','amount 4','amount 5','amount 6','amount 7','amount 8','amount 9','amount 10','amount 11','amount 12','amount 13','amount 14','amount 15','amount 16','amount 17','amount 18','amount 19','amount 20','amount 21','amount 22','amount 23','amount 24','amount 25','amount 26','amount 27'], axis=1, inplace=True)\n",
    "csi_silicon_ia.set_axis(['name', 'latitude (deg)', 'longitude (deg)','amount 1','amount 2','amount 3','amount 4','amount 5','amount 6','amount 7','amount 8','amount 9','amount 10','amount 11','amount 12','amount 13','amount 14','amount 15','amount 16','amount 17','amount 18','amount 19','amount 20','amount 21','amount 22','amount 23','amount 24','amount 25','amount 26','amount 27'], axis=1, inplace=True)\n",
    "csi_silver_ia.set_axis(['name', 'latitude (deg)', 'longitude (deg)','amount 1','amount 2','amount 3','amount 4','amount 5','amount 6','amount 7','amount 8','amount 9','amount 10','amount 11','amount 12','amount 13','amount 14','amount 15','amount 16','amount 17','amount 18','amount 19','amount 20','amount 21','amount 22','amount 23','amount 24','amount 25','amount 26','amount 27'], axis=1, inplace=True)\n",
    "csi_copper_ia.set_axis(['name', 'latitude (deg)', 'longitude (deg)','amount 1','amount 2','amount 3','amount 4','amount 5','amount 6','amount 7','amount 8','amount 9','amount 10','amount 11','amount 12','amount 13','amount 14','amount 15','amount 16','amount 17','amount 18','amount 19','amount 20','amount 21','amount 22','amount 23','amount 24','amount 25','amount 26','amount 27'], axis=1, inplace=True)\n",
    "csi_aluminium_frames_ia.set_axis(['name', 'latitude (deg)', 'longitude (deg)','amount 1','amount 2','amount 3','amount 4','amount 5','amount 6','amount 7','amount 8','amount 9','amount 10','amount 11','amount 12','amount 13','amount 14','amount 15','amount 16','amount 17','amount 18','amount 19','amount 20','amount 21','amount 22','amount 23','amount 24','amount 25','amount 26','amount 27'], axis=1, inplace=True)\n",
    "csi_encapsulant_ia.set_axis(['name', 'latitude (deg)', 'longitude (deg)','amount 1','amount 2','amount 3','amount 4','amount 5','amount 6','amount 7','amount 8','amount 9','amount 10','amount 11','amount 12','amount 13','amount 14','amount 15','amount 16','amount 17','amount 18','amount 19','amount 20','amount 21','amount 22','amount 23','amount 24','amount 25','amount 26','amount 27'], axis=1, inplace=True)\n",
    "csi_backsheet_ia.set_axis(['name', 'latitude (deg)', 'longitude (deg)','amount 1','amount 2','amount 3','amount 4','amount 5','amount 6','amount 7','amount 8','amount 9','amount 10','amount 11','amount 12','amount 13','amount 14','amount 15','amount 16','amount 17','amount 18','amount 19','amount 20','amount 21','amount 22','amount 23','amount 24','amount 25','amount 26','amount 27'], axis=1, inplace=True)\n",
    "\n",
    "cdte_Module_ia.set_axis(['name', 'latitude (deg)', 'longitude (deg)','amount 1','amount 2','amount 3','amount 4','amount 5','amount 6','amount 7','amount 8','amount 9','amount 10','amount 11','amount 12','amount 13','amount 14','amount 15','amount 16','amount 17','amount 18','amount 19','amount 20','amount 21','amount 22','amount 23','amount 24','amount 25','amount 26','amount 27'], axis=1, inplace=True)\n",
    "cdte_cadmium_ia.set_axis(['name', 'latitude (deg)', 'longitude (deg)','amount 1','amount 2','amount 3','amount 4','amount 5','amount 6','amount 7','amount 8','amount 9','amount 10','amount 11','amount 12','amount 13','amount 14','amount 15','amount 16','amount 17','amount 18','amount 19','amount 20','amount 21','amount 22','amount 23','amount 24','amount 25','amount 26','amount 27'], axis=1, inplace=True)\n",
    "cdte_tellurium_ia.set_axis(['name', 'latitude (deg)', 'longitude (deg)','amount 1','amount 2','amount 3','amount 4','amount 5','amount 6','amount 7','amount 8','amount 9','amount 10','amount 11','amount 12','amount 13','amount 14','amount 15','amount 16','amount 17','amount 18','amount 19','amount 20','amount 21','amount 22','amount 23','amount 24','amount 25','amount 26','amount 27'], axis=1, inplace=True)\n",
    "cdte_glass_cdte_ia.set_axis(['name', 'latitude (deg)', 'longitude (deg)','amount 1','amount 2','amount 3','amount 4','amount 5','amount 6','amount 7','amount 8','amount 9','amount 10','amount 11','amount 12','amount 13','amount 14','amount 15','amount 16','amount 17','amount 18','amount 19','amount 20','amount 21','amount 22','amount 23','amount 24','amount 25','amount 26','amount 27'], axis=1, inplace=True)\n",
    "cdte_aluminium_frames_cdte_ia.set_axis(['name', 'latitude (deg)', 'longitude (deg)','amount 1','amount 2','amount 3','amount 4','amount 5','amount 6','amount 7','amount 8','amount 9','amount 10','amount 11','amount 12','amount 13','amount 14','amount 15','amount 16','amount 17','amount 18','amount 19','amount 20','amount 21','amount 22','amount 23','amount 24','amount 25','amount 26','amount 27'], axis=1, inplace=True)\n",
    "cdte_copper_cdte_ia.set_axis(['name', 'latitude (deg)', 'longitude (deg)','amount 1','amount 2','amount 3','amount 4','amount 5','amount 6','amount 7','amount 8','amount 9','amount 10','amount 11','amount 12','amount 13','amount 14','amount 15','amount 16','amount 17','amount 18','amount 19','amount 20','amount 21','amount 22','amount 23','amount 24','amount 25','amount 26','amount 27'], axis=1, inplace=True)\n",
    "cdte_encapsulant_cdte_ia.set_axis(['name', 'latitude (deg)', 'longitude (deg)','amount 1','amount 2','amount 3','amount 4','amount 5','amount 6','amount 7','amount 8','amount 9','amount 10','amount 11','amount 12','amount 13','amount 14','amount 15','amount 16','amount 17','amount 18','amount 19','amount 20','amount 21','amount 22','amount 23','amount 24','amount 25','amount 26','amount 27'], axis=1, inplace=True)\n"
   ]
  },
  {
   "cell_type": "markdown",
   "id": "486effc6-978a-4e73-870c-e79efb283652",
   "metadata": {},
   "source": [
    "### 2.4. Create new PV datasets that add cSi and CdTe "
   ]
  },
  {
   "cell_type": "markdown",
   "id": "2964892e-5aaa-4f91-bca9-ad6ba8af19f4",
   "metadata": {},
   "source": [
    "Here I add cSi and CdTe modules as one, and common materials as one."
   ]
  },
  {
   "cell_type": "code",
   "execution_count": 31,
   "id": "42faeffd-9532-4527-82f1-c1b20731e4fd",
   "metadata": {},
   "outputs": [],
   "source": [
    "pv_Modules_ia = pd.DataFrame(columns = ['name', 'latitude (deg)', 'longitude (deg)','amount 1','amount 2','amount 3','amount 4','amount 5','amount 6','amount 7','amount 8','amount 9','amount 10','amount 11','amount 12','amount 13','amount 14','amount 15','amount 16','amount 17','amount 18','amount 19','amount 20','amount 21','amount 22','amount 23','amount 24','amount 25','amount 26','amount 27'])\n",
    "pv_glass_ia = pd.DataFrame(columns = ['name', 'latitude (deg)', 'longitude (deg)','amount 1','amount 2','amount 3','amount 4','amount 5','amount 6','amount 7','amount 8','amount 9','amount 10','amount 11','amount 12','amount 13','amount 14','amount 15','amount 16','amount 17','amount 18','amount 19','amount 20','amount 21','amount 22','amount 23','amount 24','amount 25','amount 26','amount 27'])\n",
    "pv_copper_ia = pd.DataFrame(columns = ['name', 'latitude (deg)', 'longitude (deg)','amount 1','amount 2','amount 3','amount 4','amount 5','amount 6','amount 7','amount 8','amount 9','amount 10','amount 11','amount 12','amount 13','amount 14','amount 15','amount 16','amount 17','amount 18','amount 19','amount 20','amount 21','amount 22','amount 23','amount 24','amount 25','amount 26','amount 27'])\n",
    "pv_aluminium_frames_ia = pd.DataFrame(columns = ['name', 'latitude (deg)', 'longitude (deg)','amount 1','amount 2','amount 3','amount 4','amount 5','amount 6','amount 7','amount 8','amount 9','amount 10','amount 11','amount 12','amount 13','amount 14','amount 15','amount 16','amount 17','amount 18','amount 19','amount 20','amount 21','amount 22','amount 23','amount 24','amount 25','amount 26','amount 27'])\n",
    "pv_encapsulant_ia = pd.DataFrame(columns = ['name', 'latitude (deg)', 'longitude (deg)','amount 1','amount 2','amount 3','amount 4','amount 5','amount 6','amount 7','amount 8','amount 9','amount 10','amount 11','amount 12','amount 13','amount 14','amount 15','amount 16','amount 17','amount 18','amount 19','amount 20','amount 21','amount 22','amount 23','amount 24','amount 25','amount 26','amount 27'])\n"
   ]
  },
  {
   "cell_type": "markdown",
   "id": "3802b500-259e-4205-be1e-4d9971df9696",
   "metadata": {},
   "source": [
    "Fill the data of name, latitude and longitude."
   ]
  },
  {
   "cell_type": "code",
   "execution_count": 32,
   "id": "379e93b7-7fc1-454d-b59b-c29f63e40834",
   "metadata": {
    "tags": []
   },
   "outputs": [],
   "source": [
    "pv_Modules_ia['name'], pv_Modules_ia['latitude (deg)'],pv_Modules_ia['longitude (deg)'] = csi_Module_ia[['name']], csi_Module_ia[['latitude (deg)']],csi_Module_ia[['longitude (deg)']] \n",
    "pv_glass_ia['name'], pv_glass_ia['latitude (deg)'],pv_glass_ia['longitude (deg)'] = csi_Module_ia[['name']], csi_Module_ia[['latitude (deg)']],csi_Module_ia[['longitude (deg)']] \n",
    "pv_copper_ia['name'], pv_copper_ia['latitude (deg)'],pv_copper_ia['longitude (deg)'] = csi_Module_ia[['name']], csi_Module_ia[['latitude (deg)']],csi_Module_ia[['longitude (deg)']] \n",
    "pv_aluminium_frames_ia['name'], pv_aluminium_frames_ia['latitude (deg)'],pv_aluminium_frames_ia['longitude (deg)'] = csi_Module_ia[['name']], csi_Module_ia[['latitude (deg)']],csi_Module_ia[['longitude (deg)']] \n",
    "pv_encapsulant_ia['name'], pv_encapsulant_ia['latitude (deg)'],pv_encapsulant_ia['longitude (deg)'] = csi_Module_ia[['name']], csi_Module_ia[['latitude (deg)']],csi_Module_ia[['longitude (deg)']] "
   ]
  },
  {
   "cell_type": "markdown",
   "id": "3c8f4785-123a-406a-abb4-2277a24a3ab8",
   "metadata": {},
   "source": [
    "Add amounts."
   ]
  },
  {
   "cell_type": "code",
   "execution_count": 33,
   "id": "bba3c984-b987-4a98-940e-dea3241741f3",
   "metadata": {},
   "outputs": [],
   "source": [
    "pv_Modules_ia.iloc[:,3:31] = cdte_Module_ia.iloc[:,3:31] + csi_Module_ia.iloc[:,3:31] \n",
    "pv_glass_ia.iloc[:,3:31] = csi_glass_ia.iloc[:,3:31] + cdte_glass_cdte_ia.iloc[:,3:31] \n",
    "pv_copper_ia.iloc[:,3:31] = csi_copper_ia.iloc[:,3:31] + cdte_copper_cdte_ia.iloc[:,3:31] \n",
    "pv_aluminium_frames_ia.iloc[:,3:31] = csi_aluminium_frames_ia.iloc[:,3:31] + cdte_aluminium_frames_cdte_ia.iloc[:,3:31] \n",
    "pv_encapsulant_ia.iloc[:,3:31] = csi_encapsulant_ia.iloc[:,3:31] + cdte_encapsulant_cdte_ia.iloc[:,3:31] \n",
    "\n",
    "\n",
    "\n"
   ]
  },
  {
   "cell_type": "markdown",
   "id": "93d4a681-bb80-43c6-bcb6-0c0966c585b9",
   "metadata": {},
   "source": [
    "### 2.5. Export the 'Ininital amounts' files"
   ]
  },
  {
   "cell_type": "code",
   "execution_count": 34,
   "id": "50863b12-0a7a-42f9-8577-f061f5e351a5",
   "metadata": {},
   "outputs": [],
   "source": [
    "pv_Modules_ia.to_csv('RELOG_import_data/pv_Modules_ia.csv')\n",
    "pv_glass_ia.to_csv('RELOG_import_data/pv_glass_ia.csv')\n",
    "pv_copper_ia.to_csv('RELOG_import_data/pv_copper_ia.csv')\n",
    "pv_aluminium_frames_ia.to_csv('RELOG_import_data/pv_aluminium_frames_ia.csv')\n",
    "pv_encapsulant_ia.to_csv('RELOG_import_data/pv_encapsulant_ia.csv')\n",
    "\n",
    "csi_Module_ia.to_csv('RELOG_import_data/csi_Module_ia.csv')\n",
    "csi_glass_ia.to_csv('RELOG_import_data/csi_glass_ia.csv')\n",
    "csi_silicon_ia.to_csv('RELOG_import_data/csi_silicon_ia.csv')\n",
    "csi_silver_ia.to_csv('RELOG_import_data/csi_silver_ia.csv')\n",
    "csi_copper_ia.to_csv('RELOG_import_data/csi_copper_ia.csv')\n",
    "csi_aluminium_frames_ia.to_csv('RELOG_import_data/csi_aluminium_frames_ia.csv')\n",
    "csi_encapsulant_ia.to_csv('RELOG_import_data/csi_encapsulant_ia.csv')\n",
    "csi_backsheet_ia.to_csv('RELOG_import_data/csi_backsheet_ia.csv')\n",
    "\n",
    "cdte_Module_ia.to_csv('RELOG_import_data/cdte_Module_ia.csv')\n",
    "cdte_cadmium_ia.to_csv('RELOG_import_data/cdte_cadmium_ia.csv')\n",
    "cdte_tellurium_ia.to_csv('RELOG_import_data/cdte_tellurium_ia.csv')\n",
    "cdte_glass_cdte_ia.to_csv('RELOG_import_data/cdte_glass_cdte_ia.csv')\n",
    "cdte_aluminium_frames_cdte_ia.to_csv('RELOG_import_data/cdte_aluminium_frames_cdte_ia.csv')\n",
    "cdte_copper_cdte_ia.to_csv('RELOG_import_data/cdte_copper_cdte_ia.csv')\n",
    "cdte_encapsulant_cdte_ia.to_csv('RELOG_import_data/cdte_encapsulant_cdte_ia.csv')\n"
   ]
  },
  {
   "cell_type": "markdown",
   "id": "69dfa9ce-ef8f-4667-b90a-5f4b62fd1873",
   "metadata": {},
   "source": [
    "Remember that silver, silicon and backsheet are exclusively from cSi modules, likewise cadmium and tellurium are exclusive from CdTe. Further studies might not mix glass due to different compositions."
   ]
  },
  {
   "cell_type": "markdown",
   "id": "3faced24-5c34-4361-98e8-643534206408",
   "metadata": {},
   "source": [
    "---\n",
    "## 3. Make the recycling candidate file"
   ]
  },
  {
   "cell_type": "markdown",
   "id": "670c2e73-dfe3-4748-ac6e-b04e785fa2dc",
   "metadata": {},
   "source": [
    "Here we need to format the candidate location file as RELOG format. We are going to use Iloeje's file. This file was downloaded from [Iloeje's RELOG protocol](https://gcc02.safelinks.protection.outlook.com/?url=https%3A%2F%2Fzenodo.org%2Frecord%2F7093835&data=05%7C01%7CMacarena.MendezRibo%40nrel.gov%7Cff06eb8094844577193c08daf5ad67c6%7Ca0f29d7e28cd4f5484427885aee7c080%7C0%7C0%7C638092422384595963%7CUnknown%7CTWFpbGZsb3d8eyJWIjoiMC4wLjAwMDAiLCJQIjoiV2luMzIiLCJBTiI6Ik1haWwiLCJXVCI6Mn0%3D%7C3000%7C%7C%7C&sdata=WSieyEH9ngwW08cjlpBDggXqMZKiTjn9rrnFYbGGPac%3D&reserved=0) named 'CandidateLocations.csv', the file is the same for 'conservative' and 'optimistic'. \n",
    "Although this file is technically already with the right format, the area cost factor is set for Georgia, so we have to change this, and set it for California, because it is where we made the Recycling Plant's calculations."
   ]
  },
  {
   "cell_type": "markdown",
   "id": "2ff89a6f-7bf1-4d39-9454-631b85e8c91f",
   "metadata": {},
   "source": [
    "### 3.1. States into region bins."
   ]
  },
  {
   "cell_type": "code",
   "execution_count": 35,
   "id": "fd4742d4-50d1-459f-8d26-32fc3bf7cbd4",
   "metadata": {},
   "outputs": [],
   "source": [
    "from itertools import chain"
   ]
  },
  {
   "cell_type": "code",
   "execution_count": 36,
   "id": "81728baa-db36-410e-af59-6e1ff3468fdf",
   "metadata": {},
   "outputs": [],
   "source": [
    "us_regions = {'New England' : set(['Connecticut', 'Maine', 'Massachusetts', 'New Hampshire', 'Rhode Island', 'Vermont']),\n",
    "            'Middle Atlantic': set(['Delaware', 'the District of Columbia', 'Maryland', 'New Jersey', 'New York', 'Pennsylvania', 'Virginia', 'West Virginia']),\n",
    "            'South Atlantic': set(['Georgia', 'North Carolina', 'South Carolina']),\n",
    "            'Midwest': set(['Illinois', 'Indiana', 'Iowa', 'Kansas', 'Michigan', 'Minnesota', 'Missouri', 'Nebraska', 'North Dakota', 'Ohio', 'South Dakota', 'Wisconsin']),\n",
    "            'Gulf': set(['Texas', 'Louisiana', 'Mississippi', 'Alabama', 'Florida', 'Arkansas', 'Kentucky', 'Tennessee']),\n",
    "            'Southwest': set(['Nevada', 'Oklahoma', 'Utah']),\n",
    "            'Mountain': set(['Arizona', 'Colorado', 'Idaho', 'Montana', 'New Mexico', 'Wyoming']),\n",
    "            'Pacific Coast': set(['California', 'Oregon', 'Washington', 'Alaska', 'Hawaii'])}"
   ]
  },
  {
   "cell_type": "markdown",
   "id": "6130ca15-a16f-4249-8461-e371c1b18a4f",
   "metadata": {},
   "source": [
    "### 3.2. Generate cost indexes"
   ]
  },
  {
   "cell_type": "markdown",
   "id": "fecb9b01-5714-497d-bb75-110b6f6ab779",
   "metadata": {},
   "source": [
    "Relative labor rate and productivity indexes in the\n",
    "chemical and allied products industries for the United States (1989). Source: PLANT DESIGN AND ECONOMICS FOR CHEMICAL ENGINEERS, Peter M. S."
   ]
  },
  {
   "cell_type": "code",
   "execution_count": 37,
   "id": "543ef051-2d9f-4f55-9020-9d73967a7ef5",
   "metadata": {},
   "outputs": [],
   "source": [
    "cost_index = {'Geographical area': ['New England', 'Middle Atlantic', 'South Atlantic', 'Midwest', 'Gulf', 'Southwest', 'Mountain', 'Pacific Coast'], 'Relative labor rate': [1.14, 1.06, 0.84, 1.03, 0.95, 0.88, 0.88, 1.22], 'Relative productivity factor': [0.95, 0.96, 0.91, 1.06, 1.22, 1.04, 0.97, 0.89]}\n",
    "index_df = pd.DataFrame(data=cost_index)                                 "
   ]
  },
  {
   "cell_type": "code",
   "execution_count": 38,
   "id": "a78c6e7f-c73c-4857-984a-bd867ae9a372",
   "metadata": {},
   "outputs": [
    {
     "data": {
      "text/html": [
       "<div>\n",
       "<style scoped>\n",
       "    .dataframe tbody tr th:only-of-type {\n",
       "        vertical-align: middle;\n",
       "    }\n",
       "\n",
       "    .dataframe tbody tr th {\n",
       "        vertical-align: top;\n",
       "    }\n",
       "\n",
       "    .dataframe thead th {\n",
       "        text-align: right;\n",
       "    }\n",
       "</style>\n",
       "<table border=\"1\" class=\"dataframe\">\n",
       "  <thead>\n",
       "    <tr style=\"text-align: right;\">\n",
       "      <th></th>\n",
       "      <th>Geographical area</th>\n",
       "      <th>Relative labor rate</th>\n",
       "      <th>Relative productivity factor</th>\n",
       "    </tr>\n",
       "  </thead>\n",
       "  <tbody>\n",
       "    <tr>\n",
       "      <th>0</th>\n",
       "      <td>New England</td>\n",
       "      <td>1.14</td>\n",
       "      <td>0.95</td>\n",
       "    </tr>\n",
       "    <tr>\n",
       "      <th>1</th>\n",
       "      <td>Middle Atlantic</td>\n",
       "      <td>1.06</td>\n",
       "      <td>0.96</td>\n",
       "    </tr>\n",
       "    <tr>\n",
       "      <th>2</th>\n",
       "      <td>South Atlantic</td>\n",
       "      <td>0.84</td>\n",
       "      <td>0.91</td>\n",
       "    </tr>\n",
       "    <tr>\n",
       "      <th>3</th>\n",
       "      <td>Midwest</td>\n",
       "      <td>1.03</td>\n",
       "      <td>1.06</td>\n",
       "    </tr>\n",
       "    <tr>\n",
       "      <th>4</th>\n",
       "      <td>Gulf</td>\n",
       "      <td>0.95</td>\n",
       "      <td>1.22</td>\n",
       "    </tr>\n",
       "    <tr>\n",
       "      <th>5</th>\n",
       "      <td>Southwest</td>\n",
       "      <td>0.88</td>\n",
       "      <td>1.04</td>\n",
       "    </tr>\n",
       "    <tr>\n",
       "      <th>6</th>\n",
       "      <td>Mountain</td>\n",
       "      <td>0.88</td>\n",
       "      <td>0.97</td>\n",
       "    </tr>\n",
       "    <tr>\n",
       "      <th>7</th>\n",
       "      <td>Pacific Coast</td>\n",
       "      <td>1.22</td>\n",
       "      <td>0.89</td>\n",
       "    </tr>\n",
       "  </tbody>\n",
       "</table>\n",
       "</div>"
      ],
      "text/plain": [
       "  Geographical area  Relative labor rate  Relative productivity factor\n",
       "0       New England                 1.14                          0.95\n",
       "1   Middle Atlantic                 1.06                          0.96\n",
       "2    South Atlantic                 0.84                          0.91\n",
       "3           Midwest                 1.03                          1.06\n",
       "4              Gulf                 0.95                          1.22\n",
       "5         Southwest                 0.88                          1.04\n",
       "6          Mountain                 0.88                          0.97\n",
       "7     Pacific Coast                 1.22                          0.89"
      ]
     },
     "execution_count": 38,
     "metadata": {},
     "output_type": "execute_result"
    }
   ],
   "source": [
    "index_df"
   ]
  },
  {
   "cell_type": "markdown",
   "id": "fc9e022c-5236-4f16-ab9b-6dde89c164d7",
   "metadata": {},
   "source": [
    "Now I need to get the factor normalized with California (Pacific Coast), I get this calculation also from the book \"Plant design and economics for...\"\n",
    "\n",
    "NOTE: I have to calculate the price for CdTe in California as well,  this might be a problem if we estimate the price based on FS's which are based in Ohio."
   ]
  },
  {
   "cell_type": "code",
   "execution_count": 39,
   "id": "77820701-6216-4d33-a8a5-b58153289076",
   "metadata": {},
   "outputs": [],
   "source": [
    "pc_labor_rate = index_df.loc[index_df['Geographical area'] == 'Pacific Coast']['Relative labor rate'].values \n",
    "pc_prod_factor = index_df.loc[index_df['Geographical area'] == 'Pacific Coast']['Relative productivity factor'].values "
   ]
  },
  {
   "cell_type": "code",
   "execution_count": 40,
   "id": "723960d7-679a-4749-a3d0-baeb3f9df16c",
   "metadata": {},
   "outputs": [
    {
     "data": {
      "text/plain": [
       "array([0.89])"
      ]
     },
     "execution_count": 40,
     "metadata": {},
     "output_type": "execute_result"
    }
   ],
   "source": [
    "pc_prod_factor"
   ]
  },
  {
   "cell_type": "code",
   "execution_count": 41,
   "id": "aba1f5e6-c00d-4250-a0b4-fd2def5b9627",
   "metadata": {},
   "outputs": [],
   "source": [
    "index_df['Relative labor rate CA'], index_df['Relative productivity factor CA'] = index_df['Relative labor rate']/pc_labor_rate, index_df['Relative productivity factor']/pc_prod_factor"
   ]
  },
  {
   "cell_type": "markdown",
   "id": "adfd1b89-2134-4f05-a389-3d1daef081e4",
   "metadata": {},
   "source": [
    "Now let's calculate the \"Construction cost\" or area factor:"
   ]
  },
  {
   "cell_type": "code",
   "execution_count": 42,
   "id": "59b4c3b2-108e-4248-92dc-ebb2d278edd9",
   "metadata": {},
   "outputs": [],
   "source": [
    "index_df['Area factor'] = index_df['Relative labor rate CA']/ index_df['Relative productivity factor CA']"
   ]
  },
  {
   "cell_type": "code",
   "execution_count": 43,
   "id": "60a6eabf-96ed-4145-9790-4e1a82da63b0",
   "metadata": {},
   "outputs": [
    {
     "data": {
      "text/html": [
       "<div>\n",
       "<style scoped>\n",
       "    .dataframe tbody tr th:only-of-type {\n",
       "        vertical-align: middle;\n",
       "    }\n",
       "\n",
       "    .dataframe tbody tr th {\n",
       "        vertical-align: top;\n",
       "    }\n",
       "\n",
       "    .dataframe thead th {\n",
       "        text-align: right;\n",
       "    }\n",
       "</style>\n",
       "<table border=\"1\" class=\"dataframe\">\n",
       "  <thead>\n",
       "    <tr style=\"text-align: right;\">\n",
       "      <th></th>\n",
       "      <th>Geographical area</th>\n",
       "      <th>Relative labor rate</th>\n",
       "      <th>Relative productivity factor</th>\n",
       "      <th>Relative labor rate CA</th>\n",
       "      <th>Relative productivity factor CA</th>\n",
       "      <th>Area factor</th>\n",
       "    </tr>\n",
       "  </thead>\n",
       "  <tbody>\n",
       "    <tr>\n",
       "      <th>0</th>\n",
       "      <td>New England</td>\n",
       "      <td>1.14</td>\n",
       "      <td>0.95</td>\n",
       "      <td>0.934426</td>\n",
       "      <td>1.067416</td>\n",
       "      <td>0.875410</td>\n",
       "    </tr>\n",
       "    <tr>\n",
       "      <th>1</th>\n",
       "      <td>Middle Atlantic</td>\n",
       "      <td>1.06</td>\n",
       "      <td>0.96</td>\n",
       "      <td>0.868852</td>\n",
       "      <td>1.078652</td>\n",
       "      <td>0.805499</td>\n",
       "    </tr>\n",
       "    <tr>\n",
       "      <th>2</th>\n",
       "      <td>South Atlantic</td>\n",
       "      <td>0.84</td>\n",
       "      <td>0.91</td>\n",
       "      <td>0.688525</td>\n",
       "      <td>1.022472</td>\n",
       "      <td>0.673392</td>\n",
       "    </tr>\n",
       "    <tr>\n",
       "      <th>3</th>\n",
       "      <td>Midwest</td>\n",
       "      <td>1.03</td>\n",
       "      <td>1.06</td>\n",
       "      <td>0.844262</td>\n",
       "      <td>1.191011</td>\n",
       "      <td>0.708862</td>\n",
       "    </tr>\n",
       "    <tr>\n",
       "      <th>4</th>\n",
       "      <td>Gulf</td>\n",
       "      <td>0.95</td>\n",
       "      <td>1.22</td>\n",
       "      <td>0.778689</td>\n",
       "      <td>1.370787</td>\n",
       "      <td>0.568060</td>\n",
       "    </tr>\n",
       "    <tr>\n",
       "      <th>5</th>\n",
       "      <td>Southwest</td>\n",
       "      <td>0.88</td>\n",
       "      <td>1.04</td>\n",
       "      <td>0.721311</td>\n",
       "      <td>1.168539</td>\n",
       "      <td>0.617276</td>\n",
       "    </tr>\n",
       "    <tr>\n",
       "      <th>6</th>\n",
       "      <td>Mountain</td>\n",
       "      <td>0.88</td>\n",
       "      <td>0.97</td>\n",
       "      <td>0.721311</td>\n",
       "      <td>1.089888</td>\n",
       "      <td>0.661822</td>\n",
       "    </tr>\n",
       "    <tr>\n",
       "      <th>7</th>\n",
       "      <td>Pacific Coast</td>\n",
       "      <td>1.22</td>\n",
       "      <td>0.89</td>\n",
       "      <td>1.000000</td>\n",
       "      <td>1.000000</td>\n",
       "      <td>1.000000</td>\n",
       "    </tr>\n",
       "  </tbody>\n",
       "</table>\n",
       "</div>"
      ],
      "text/plain": [
       "  Geographical area  Relative labor rate  Relative productivity factor  \\\n",
       "0       New England                 1.14                          0.95   \n",
       "1   Middle Atlantic                 1.06                          0.96   \n",
       "2    South Atlantic                 0.84                          0.91   \n",
       "3           Midwest                 1.03                          1.06   \n",
       "4              Gulf                 0.95                          1.22   \n",
       "5         Southwest                 0.88                          1.04   \n",
       "6          Mountain                 0.88                          0.97   \n",
       "7     Pacific Coast                 1.22                          0.89   \n",
       "\n",
       "   Relative labor rate CA  Relative productivity factor CA  Area factor  \n",
       "0                0.934426                         1.067416     0.875410  \n",
       "1                0.868852                         1.078652     0.805499  \n",
       "2                0.688525                         1.022472     0.673392  \n",
       "3                0.844262                         1.191011     0.708862  \n",
       "4                0.778689                         1.370787     0.568060  \n",
       "5                0.721311                         1.168539     0.617276  \n",
       "6                0.721311                         1.089888     0.661822  \n",
       "7                1.000000                         1.000000     1.000000  "
      ]
     },
     "execution_count": 43,
     "metadata": {},
     "output_type": "execute_result"
    }
   ],
   "source": [
    "index_df"
   ]
  },
  {
   "cell_type": "markdown",
   "id": "0af8767f-5a01-4ab1-ad88-95140c10d26d",
   "metadata": {},
   "source": [
    "### 3.3. Load the candidate location file"
   ]
  },
  {
   "cell_type": "markdown",
   "id": "bf7c3217-5dcf-402e-9b7d-c42b9857bf86",
   "metadata": {},
   "source": [
    "Load the Recycling plant's candidate locations. The candidate locations are based on the Recycling plants from [Iloeje et al.](https://www.sciencedirect.com/science/article/pii/S2589004222011026), the file can be downloaded [here](https://zenodo.org/record/7093835#.Y-PlXsHMKek)."
   ]
  },
  {
   "cell_type": "code",
   "execution_count": 44,
   "id": "52853b3f-0ea7-43e4-9002-a9afbfeaff35",
   "metadata": {},
   "outputs": [],
   "source": [
    "cadidate_loc = pd.read_csv('RELOG_templates/CandidateLocations.csv')"
   ]
  },
  {
   "cell_type": "code",
   "execution_count": 45,
   "id": "d3306aff-3bcf-48ff-a451-182d55e4e20b",
   "metadata": {},
   "outputs": [
    {
     "data": {
      "text/html": [
       "<div>\n",
       "<style scoped>\n",
       "    .dataframe tbody tr th:only-of-type {\n",
       "        vertical-align: middle;\n",
       "    }\n",
       "\n",
       "    .dataframe tbody tr th {\n",
       "        vertical-align: top;\n",
       "    }\n",
       "\n",
       "    .dataframe thead th {\n",
       "        text-align: right;\n",
       "    }\n",
       "</style>\n",
       "<table border=\"1\" class=\"dataframe\">\n",
       "  <thead>\n",
       "    <tr style=\"text-align: right;\">\n",
       "      <th></th>\n",
       "      <th>name</th>\n",
       "      <th>latitude (deg)</th>\n",
       "      <th>longitude (deg)</th>\n",
       "      <th>area cost factor</th>\n",
       "    </tr>\n",
       "  </thead>\n",
       "  <tbody>\n",
       "    <tr>\n",
       "      <th>0</th>\n",
       "      <td>Clayton, Georgia</td>\n",
       "      <td>33.585419</td>\n",
       "      <td>-84.377769</td>\n",
       "      <td>1.000000</td>\n",
       "    </tr>\n",
       "    <tr>\n",
       "      <th>1</th>\n",
       "      <td>Union, New Mexico</td>\n",
       "      <td>36.392799</td>\n",
       "      <td>-103.049035</td>\n",
       "      <td>1.226190</td>\n",
       "    </tr>\n",
       "    <tr>\n",
       "      <th>2</th>\n",
       "      <td>Catron, New Mexico</td>\n",
       "      <td>34.333582</td>\n",
       "      <td>-108.477077</td>\n",
       "      <td>1.226190</td>\n",
       "    </tr>\n",
       "    <tr>\n",
       "      <th>3</th>\n",
       "      <td>Cibola, New Mexico</td>\n",
       "      <td>35.278379</td>\n",
       "      <td>-107.985038</td>\n",
       "      <td>1.226190</td>\n",
       "    </tr>\n",
       "    <tr>\n",
       "      <th>4</th>\n",
       "      <td>Baltimore, Maryland</td>\n",
       "      <td>39.364614</td>\n",
       "      <td>-76.615753</td>\n",
       "      <td>1.178571</td>\n",
       "    </tr>\n",
       "    <tr>\n",
       "      <th>...</th>\n",
       "      <td>...</td>\n",
       "      <td>...</td>\n",
       "      <td>...</td>\n",
       "      <td>...</td>\n",
       "    </tr>\n",
       "    <tr>\n",
       "      <th>91</th>\n",
       "      <td>Cook, Illinois</td>\n",
       "      <td>42.053655</td>\n",
       "      <td>-87.910040</td>\n",
       "      <td>1.285714</td>\n",
       "    </tr>\n",
       "    <tr>\n",
       "      <th>92</th>\n",
       "      <td>Crook, Wyoming</td>\n",
       "      <td>44.641221</td>\n",
       "      <td>-104.055843</td>\n",
       "      <td>1.214286</td>\n",
       "    </tr>\n",
       "    <tr>\n",
       "      <th>93</th>\n",
       "      <td>Big Horn, Montana</td>\n",
       "      <td>45.427881</td>\n",
       "      <td>-108.533904</td>\n",
       "      <td>1.273810</td>\n",
       "    </tr>\n",
       "    <tr>\n",
       "      <th>94</th>\n",
       "      <td>Eastland, Texas</td>\n",
       "      <td>32.272396</td>\n",
       "      <td>-99.011002</td>\n",
       "      <td>1.023810</td>\n",
       "    </tr>\n",
       "    <tr>\n",
       "      <th>95</th>\n",
       "      <td>Champaign, Illinois</td>\n",
       "      <td>40.127200</td>\n",
       "      <td>-88.243560</td>\n",
       "      <td>1.285714</td>\n",
       "    </tr>\n",
       "  </tbody>\n",
       "</table>\n",
       "<p>96 rows × 4 columns</p>\n",
       "</div>"
      ],
      "text/plain": [
       "                   name  latitude (deg)  longitude (deg)  area cost factor\n",
       "0      Clayton, Georgia       33.585419       -84.377769          1.000000\n",
       "1     Union, New Mexico       36.392799      -103.049035          1.226190\n",
       "2    Catron, New Mexico       34.333582      -108.477077          1.226190\n",
       "3    Cibola, New Mexico       35.278379      -107.985038          1.226190\n",
       "4   Baltimore, Maryland       39.364614       -76.615753          1.178571\n",
       "..                  ...             ...              ...               ...\n",
       "91       Cook, Illinois       42.053655       -87.910040          1.285714\n",
       "92       Crook, Wyoming       44.641221      -104.055843          1.214286\n",
       "93    Big Horn, Montana       45.427881      -108.533904          1.273810\n",
       "94      Eastland, Texas       32.272396       -99.011002          1.023810\n",
       "95  Champaign, Illinois       40.127200       -88.243560          1.285714\n",
       "\n",
       "[96 rows x 4 columns]"
      ]
     },
     "execution_count": 45,
     "metadata": {},
     "output_type": "execute_result"
    }
   ],
   "source": [
    "cadidate_loc"
   ]
  },
  {
   "cell_type": "markdown",
   "id": "6413455b-65e0-410f-9a26-3f646bf86909",
   "metadata": {},
   "source": [
    "Let's create a new column with states so we can map the area cost factor with the right area."
   ]
  },
  {
   "cell_type": "code",
   "execution_count": 46,
   "id": "2f523e2d-a06a-4146-b8fc-d8a148cb24b8",
   "metadata": {},
   "outputs": [],
   "source": [
    "cadidate_loc['State'] = cadidate_loc['name'].str.rsplit(', ').str[-1] "
   ]
  },
  {
   "cell_type": "code",
   "execution_count": 48,
   "id": "ea594566-6fb4-40ba-a65d-5c77f7b6c47c",
   "metadata": {},
   "outputs": [
    {
     "data": {
      "text/html": [
       "<div>\n",
       "<style scoped>\n",
       "    .dataframe tbody tr th:only-of-type {\n",
       "        vertical-align: middle;\n",
       "    }\n",
       "\n",
       "    .dataframe tbody tr th {\n",
       "        vertical-align: top;\n",
       "    }\n",
       "\n",
       "    .dataframe thead th {\n",
       "        text-align: right;\n",
       "    }\n",
       "</style>\n",
       "<table border=\"1\" class=\"dataframe\">\n",
       "  <thead>\n",
       "    <tr style=\"text-align: right;\">\n",
       "      <th></th>\n",
       "      <th>name</th>\n",
       "      <th>latitude (deg)</th>\n",
       "      <th>longitude (deg)</th>\n",
       "      <th>area cost factor</th>\n",
       "      <th>State</th>\n",
       "    </tr>\n",
       "  </thead>\n",
       "  <tbody>\n",
       "    <tr>\n",
       "      <th>0</th>\n",
       "      <td>Clayton, Georgia</td>\n",
       "      <td>33.585419</td>\n",
       "      <td>-84.377769</td>\n",
       "      <td>1.000000</td>\n",
       "      <td>Georgia</td>\n",
       "    </tr>\n",
       "    <tr>\n",
       "      <th>1</th>\n",
       "      <td>Union, New Mexico</td>\n",
       "      <td>36.392799</td>\n",
       "      <td>-103.049035</td>\n",
       "      <td>1.226190</td>\n",
       "      <td>New Mexico</td>\n",
       "    </tr>\n",
       "    <tr>\n",
       "      <th>2</th>\n",
       "      <td>Catron, New Mexico</td>\n",
       "      <td>34.333582</td>\n",
       "      <td>-108.477077</td>\n",
       "      <td>1.226190</td>\n",
       "      <td>New Mexico</td>\n",
       "    </tr>\n",
       "    <tr>\n",
       "      <th>3</th>\n",
       "      <td>Cibola, New Mexico</td>\n",
       "      <td>35.278379</td>\n",
       "      <td>-107.985038</td>\n",
       "      <td>1.226190</td>\n",
       "      <td>New Mexico</td>\n",
       "    </tr>\n",
       "    <tr>\n",
       "      <th>4</th>\n",
       "      <td>Baltimore, Maryland</td>\n",
       "      <td>39.364614</td>\n",
       "      <td>-76.615753</td>\n",
       "      <td>1.178571</td>\n",
       "      <td>Maryland</td>\n",
       "    </tr>\n",
       "    <tr>\n",
       "      <th>...</th>\n",
       "      <td>...</td>\n",
       "      <td>...</td>\n",
       "      <td>...</td>\n",
       "      <td>...</td>\n",
       "      <td>...</td>\n",
       "    </tr>\n",
       "    <tr>\n",
       "      <th>91</th>\n",
       "      <td>Cook, Illinois</td>\n",
       "      <td>42.053655</td>\n",
       "      <td>-87.910040</td>\n",
       "      <td>1.285714</td>\n",
       "      <td>Illinois</td>\n",
       "    </tr>\n",
       "    <tr>\n",
       "      <th>92</th>\n",
       "      <td>Crook, Wyoming</td>\n",
       "      <td>44.641221</td>\n",
       "      <td>-104.055843</td>\n",
       "      <td>1.214286</td>\n",
       "      <td>Wyoming</td>\n",
       "    </tr>\n",
       "    <tr>\n",
       "      <th>93</th>\n",
       "      <td>Big Horn, Montana</td>\n",
       "      <td>45.427881</td>\n",
       "      <td>-108.533904</td>\n",
       "      <td>1.273810</td>\n",
       "      <td>Montana</td>\n",
       "    </tr>\n",
       "    <tr>\n",
       "      <th>94</th>\n",
       "      <td>Eastland, Texas</td>\n",
       "      <td>32.272396</td>\n",
       "      <td>-99.011002</td>\n",
       "      <td>1.023810</td>\n",
       "      <td>Texas</td>\n",
       "    </tr>\n",
       "    <tr>\n",
       "      <th>95</th>\n",
       "      <td>Champaign, Illinois</td>\n",
       "      <td>40.127200</td>\n",
       "      <td>-88.243560</td>\n",
       "      <td>1.285714</td>\n",
       "      <td>Illinois</td>\n",
       "    </tr>\n",
       "  </tbody>\n",
       "</table>\n",
       "<p>96 rows × 5 columns</p>\n",
       "</div>"
      ],
      "text/plain": [
       "                   name  latitude (deg)  longitude (deg)  area cost factor  \\\n",
       "0      Clayton, Georgia       33.585419       -84.377769          1.000000   \n",
       "1     Union, New Mexico       36.392799      -103.049035          1.226190   \n",
       "2    Catron, New Mexico       34.333582      -108.477077          1.226190   \n",
       "3    Cibola, New Mexico       35.278379      -107.985038          1.226190   \n",
       "4   Baltimore, Maryland       39.364614       -76.615753          1.178571   \n",
       "..                  ...             ...              ...               ...   \n",
       "91       Cook, Illinois       42.053655       -87.910040          1.285714   \n",
       "92       Crook, Wyoming       44.641221      -104.055843          1.214286   \n",
       "93    Big Horn, Montana       45.427881      -108.533904          1.273810   \n",
       "94      Eastland, Texas       32.272396       -99.011002          1.023810   \n",
       "95  Champaign, Illinois       40.127200       -88.243560          1.285714   \n",
       "\n",
       "         State  \n",
       "0      Georgia  \n",
       "1   New Mexico  \n",
       "2   New Mexico  \n",
       "3   New Mexico  \n",
       "4     Maryland  \n",
       "..         ...  \n",
       "91    Illinois  \n",
       "92     Wyoming  \n",
       "93     Montana  \n",
       "94       Texas  \n",
       "95    Illinois  \n",
       "\n",
       "[96 rows x 5 columns]"
      ]
     },
     "execution_count": 48,
     "metadata": {},
     "output_type": "execute_result"
    }
   ],
   "source": [
    "cadidate_loc"
   ]
  },
  {
   "cell_type": "markdown",
   "id": "18db4452-95f5-4adb-84d8-63f72a220d6a",
   "metadata": {},
   "source": [
    "### 3.4. Adjust area factors"
   ]
  },
  {
   "cell_type": "markdown",
   "id": "82cdc757-ee9b-4bce-94c6-155fe3f33018",
   "metadata": {},
   "source": [
    "Since the loaded candidate locations are related to a plant build in Georgia (that's why its area factor is 1), we need to adjust the area cost factors to the plant we modeled, which is based in California."
   ]
  },
  {
   "cell_type": "markdown",
   "id": "4a92f087-d5c5-483e-8da8-a3e7f242233d",
   "metadata": {},
   "source": [
    "Make a dictionary of Geographical area (or regions) and area factors."
   ]
  },
  {
   "cell_type": "code",
   "execution_count": 49,
   "id": "9a5f1006-564e-4047-917c-909b4a0ac566",
   "metadata": {},
   "outputs": [],
   "source": [
    "index_dict = dict(zip(index_df['Geographical area'], index_df['Area factor']))"
   ]
  },
  {
   "cell_type": "code",
   "execution_count": 50,
   "id": "cbd2ec00-6ee0-4c5c-b9a4-f8931196db69",
   "metadata": {},
   "outputs": [
    {
     "data": {
      "text/plain": [
       "{'New England': 0.8754098360655738,\n",
       " 'Middle Atlantic': 0.8054986338797815,\n",
       " 'South Atlantic': 0.6733921815889029,\n",
       " 'Midwest': 0.7088617383235385,\n",
       " 'Gulf': 0.5680596613813491,\n",
       " 'Southwest': 0.6172761664564944,\n",
       " 'Mountain': 0.6618218691904681,\n",
       " 'Pacific Coast': 1.0}"
      ]
     },
     "execution_count": 50,
     "metadata": {},
     "output_type": "execute_result"
    }
   ],
   "source": [
    "index_dict"
   ]
  },
  {
   "cell_type": "code",
   "execution_count": 51,
   "id": "1071750b-05e2-4c0c-bcb7-df1787b82571",
   "metadata": {},
   "outputs": [
    {
     "data": {
      "text/plain": [
       "dict_keys(['New England', 'Middle Atlantic', 'South Atlantic', 'Midwest', 'Gulf', 'Southwest', 'Mountain', 'Pacific Coast'])"
      ]
     },
     "execution_count": 51,
     "metadata": {},
     "output_type": "execute_result"
    }
   ],
   "source": [
    "us_regions.keys()"
   ]
  },
  {
   "cell_type": "code",
   "execution_count": 52,
   "id": "d906c38d-904d-4c82-bf06-d009f5fb3070",
   "metadata": {},
   "outputs": [],
   "source": [
    "for key in us_regions:\n",
    "    cadidate_loc.loc[cadidate_loc['State'].isin(us_regions[key]), 'Region'] = key"
   ]
  },
  {
   "cell_type": "code",
   "execution_count": 53,
   "id": "6ae9e2ac-76e9-4b89-b54e-f593d29b82fe",
   "metadata": {},
   "outputs": [
    {
     "data": {
      "text/html": [
       "<div>\n",
       "<style scoped>\n",
       "    .dataframe tbody tr th:only-of-type {\n",
       "        vertical-align: middle;\n",
       "    }\n",
       "\n",
       "    .dataframe tbody tr th {\n",
       "        vertical-align: top;\n",
       "    }\n",
       "\n",
       "    .dataframe thead th {\n",
       "        text-align: right;\n",
       "    }\n",
       "</style>\n",
       "<table border=\"1\" class=\"dataframe\">\n",
       "  <thead>\n",
       "    <tr style=\"text-align: right;\">\n",
       "      <th></th>\n",
       "      <th>name</th>\n",
       "      <th>latitude (deg)</th>\n",
       "      <th>longitude (deg)</th>\n",
       "      <th>area cost factor</th>\n",
       "      <th>State</th>\n",
       "      <th>Region</th>\n",
       "    </tr>\n",
       "  </thead>\n",
       "  <tbody>\n",
       "    <tr>\n",
       "      <th>0</th>\n",
       "      <td>Clayton, Georgia</td>\n",
       "      <td>33.585419</td>\n",
       "      <td>-84.377769</td>\n",
       "      <td>1.000000</td>\n",
       "      <td>Georgia</td>\n",
       "      <td>South Atlantic</td>\n",
       "    </tr>\n",
       "    <tr>\n",
       "      <th>1</th>\n",
       "      <td>Union, New Mexico</td>\n",
       "      <td>36.392799</td>\n",
       "      <td>-103.049035</td>\n",
       "      <td>1.226190</td>\n",
       "      <td>New Mexico</td>\n",
       "      <td>Mountain</td>\n",
       "    </tr>\n",
       "    <tr>\n",
       "      <th>2</th>\n",
       "      <td>Catron, New Mexico</td>\n",
       "      <td>34.333582</td>\n",
       "      <td>-108.477077</td>\n",
       "      <td>1.226190</td>\n",
       "      <td>New Mexico</td>\n",
       "      <td>Mountain</td>\n",
       "    </tr>\n",
       "    <tr>\n",
       "      <th>3</th>\n",
       "      <td>Cibola, New Mexico</td>\n",
       "      <td>35.278379</td>\n",
       "      <td>-107.985038</td>\n",
       "      <td>1.226190</td>\n",
       "      <td>New Mexico</td>\n",
       "      <td>Mountain</td>\n",
       "    </tr>\n",
       "    <tr>\n",
       "      <th>4</th>\n",
       "      <td>Baltimore, Maryland</td>\n",
       "      <td>39.364614</td>\n",
       "      <td>-76.615753</td>\n",
       "      <td>1.178571</td>\n",
       "      <td>Maryland</td>\n",
       "      <td>Middle Atlantic</td>\n",
       "    </tr>\n",
       "    <tr>\n",
       "      <th>...</th>\n",
       "      <td>...</td>\n",
       "      <td>...</td>\n",
       "      <td>...</td>\n",
       "      <td>...</td>\n",
       "      <td>...</td>\n",
       "      <td>...</td>\n",
       "    </tr>\n",
       "    <tr>\n",
       "      <th>91</th>\n",
       "      <td>Cook, Illinois</td>\n",
       "      <td>42.053655</td>\n",
       "      <td>-87.910040</td>\n",
       "      <td>1.285714</td>\n",
       "      <td>Illinois</td>\n",
       "      <td>Midwest</td>\n",
       "    </tr>\n",
       "    <tr>\n",
       "      <th>92</th>\n",
       "      <td>Crook, Wyoming</td>\n",
       "      <td>44.641221</td>\n",
       "      <td>-104.055843</td>\n",
       "      <td>1.214286</td>\n",
       "      <td>Wyoming</td>\n",
       "      <td>Mountain</td>\n",
       "    </tr>\n",
       "    <tr>\n",
       "      <th>93</th>\n",
       "      <td>Big Horn, Montana</td>\n",
       "      <td>45.427881</td>\n",
       "      <td>-108.533904</td>\n",
       "      <td>1.273810</td>\n",
       "      <td>Montana</td>\n",
       "      <td>Mountain</td>\n",
       "    </tr>\n",
       "    <tr>\n",
       "      <th>94</th>\n",
       "      <td>Eastland, Texas</td>\n",
       "      <td>32.272396</td>\n",
       "      <td>-99.011002</td>\n",
       "      <td>1.023810</td>\n",
       "      <td>Texas</td>\n",
       "      <td>Gulf</td>\n",
       "    </tr>\n",
       "    <tr>\n",
       "      <th>95</th>\n",
       "      <td>Champaign, Illinois</td>\n",
       "      <td>40.127200</td>\n",
       "      <td>-88.243560</td>\n",
       "      <td>1.285714</td>\n",
       "      <td>Illinois</td>\n",
       "      <td>Midwest</td>\n",
       "    </tr>\n",
       "  </tbody>\n",
       "</table>\n",
       "<p>96 rows × 6 columns</p>\n",
       "</div>"
      ],
      "text/plain": [
       "                   name  latitude (deg)  longitude (deg)  area cost factor  \\\n",
       "0      Clayton, Georgia       33.585419       -84.377769          1.000000   \n",
       "1     Union, New Mexico       36.392799      -103.049035          1.226190   \n",
       "2    Catron, New Mexico       34.333582      -108.477077          1.226190   \n",
       "3    Cibola, New Mexico       35.278379      -107.985038          1.226190   \n",
       "4   Baltimore, Maryland       39.364614       -76.615753          1.178571   \n",
       "..                  ...             ...              ...               ...   \n",
       "91       Cook, Illinois       42.053655       -87.910040          1.285714   \n",
       "92       Crook, Wyoming       44.641221      -104.055843          1.214286   \n",
       "93    Big Horn, Montana       45.427881      -108.533904          1.273810   \n",
       "94      Eastland, Texas       32.272396       -99.011002          1.023810   \n",
       "95  Champaign, Illinois       40.127200       -88.243560          1.285714   \n",
       "\n",
       "         State           Region  \n",
       "0      Georgia   South Atlantic  \n",
       "1   New Mexico         Mountain  \n",
       "2   New Mexico         Mountain  \n",
       "3   New Mexico         Mountain  \n",
       "4     Maryland  Middle Atlantic  \n",
       "..         ...              ...  \n",
       "91    Illinois          Midwest  \n",
       "92     Wyoming         Mountain  \n",
       "93     Montana         Mountain  \n",
       "94       Texas             Gulf  \n",
       "95    Illinois          Midwest  \n",
       "\n",
       "[96 rows x 6 columns]"
      ]
     },
     "execution_count": 53,
     "metadata": {},
     "output_type": "execute_result"
    }
   ],
   "source": [
    "cadidate_loc"
   ]
  },
  {
   "cell_type": "code",
   "execution_count": null,
   "id": "7c11fcd0-3071-4627-a87b-338245d2b451",
   "metadata": {},
   "outputs": [],
   "source": []
  },
  {
   "cell_type": "code",
   "execution_count": 54,
   "id": "3c84daa8-db23-4fc3-959c-e8a0ffc969ce",
   "metadata": {},
   "outputs": [],
   "source": [
    "cadidate_loc[\"area cost factor\"] = cadidate_loc[\"Region\"].apply(lambda x: index_dict.get(x))"
   ]
  },
  {
   "cell_type": "markdown",
   "id": "8dd61081-24bb-4c12-bcf7-3f6c8cec2b5f",
   "metadata": {},
   "source": [
    "Now we drop the state and Region columns:"
   ]
  },
  {
   "cell_type": "code",
   "execution_count": 55,
   "id": "84c20246-e75c-4c04-b760-8bee656fa822",
   "metadata": {},
   "outputs": [],
   "source": [
    "candidate_loc_clean = cadidate_loc.drop(['State', 'Region'], axis=1)"
   ]
  },
  {
   "cell_type": "code",
   "execution_count": 56,
   "id": "e722eb99-b8d3-4ec8-a932-47c1c14d359c",
   "metadata": {},
   "outputs": [
    {
     "data": {
      "text/html": [
       "<div>\n",
       "<style scoped>\n",
       "    .dataframe tbody tr th:only-of-type {\n",
       "        vertical-align: middle;\n",
       "    }\n",
       "\n",
       "    .dataframe tbody tr th {\n",
       "        vertical-align: top;\n",
       "    }\n",
       "\n",
       "    .dataframe thead th {\n",
       "        text-align: right;\n",
       "    }\n",
       "</style>\n",
       "<table border=\"1\" class=\"dataframe\">\n",
       "  <thead>\n",
       "    <tr style=\"text-align: right;\">\n",
       "      <th></th>\n",
       "      <th>name</th>\n",
       "      <th>latitude (deg)</th>\n",
       "      <th>longitude (deg)</th>\n",
       "      <th>area cost factor</th>\n",
       "    </tr>\n",
       "  </thead>\n",
       "  <tbody>\n",
       "    <tr>\n",
       "      <th>0</th>\n",
       "      <td>Clayton, Georgia</td>\n",
       "      <td>33.585419</td>\n",
       "      <td>-84.377769</td>\n",
       "      <td>0.673392</td>\n",
       "    </tr>\n",
       "    <tr>\n",
       "      <th>1</th>\n",
       "      <td>Union, New Mexico</td>\n",
       "      <td>36.392799</td>\n",
       "      <td>-103.049035</td>\n",
       "      <td>0.661822</td>\n",
       "    </tr>\n",
       "    <tr>\n",
       "      <th>2</th>\n",
       "      <td>Catron, New Mexico</td>\n",
       "      <td>34.333582</td>\n",
       "      <td>-108.477077</td>\n",
       "      <td>0.661822</td>\n",
       "    </tr>\n",
       "    <tr>\n",
       "      <th>3</th>\n",
       "      <td>Cibola, New Mexico</td>\n",
       "      <td>35.278379</td>\n",
       "      <td>-107.985038</td>\n",
       "      <td>0.661822</td>\n",
       "    </tr>\n",
       "    <tr>\n",
       "      <th>4</th>\n",
       "      <td>Baltimore, Maryland</td>\n",
       "      <td>39.364614</td>\n",
       "      <td>-76.615753</td>\n",
       "      <td>0.805499</td>\n",
       "    </tr>\n",
       "    <tr>\n",
       "      <th>...</th>\n",
       "      <td>...</td>\n",
       "      <td>...</td>\n",
       "      <td>...</td>\n",
       "      <td>...</td>\n",
       "    </tr>\n",
       "    <tr>\n",
       "      <th>91</th>\n",
       "      <td>Cook, Illinois</td>\n",
       "      <td>42.053655</td>\n",
       "      <td>-87.910040</td>\n",
       "      <td>0.708862</td>\n",
       "    </tr>\n",
       "    <tr>\n",
       "      <th>92</th>\n",
       "      <td>Crook, Wyoming</td>\n",
       "      <td>44.641221</td>\n",
       "      <td>-104.055843</td>\n",
       "      <td>0.661822</td>\n",
       "    </tr>\n",
       "    <tr>\n",
       "      <th>93</th>\n",
       "      <td>Big Horn, Montana</td>\n",
       "      <td>45.427881</td>\n",
       "      <td>-108.533904</td>\n",
       "      <td>0.661822</td>\n",
       "    </tr>\n",
       "    <tr>\n",
       "      <th>94</th>\n",
       "      <td>Eastland, Texas</td>\n",
       "      <td>32.272396</td>\n",
       "      <td>-99.011002</td>\n",
       "      <td>0.568060</td>\n",
       "    </tr>\n",
       "    <tr>\n",
       "      <th>95</th>\n",
       "      <td>Champaign, Illinois</td>\n",
       "      <td>40.127200</td>\n",
       "      <td>-88.243560</td>\n",
       "      <td>0.708862</td>\n",
       "    </tr>\n",
       "  </tbody>\n",
       "</table>\n",
       "<p>96 rows × 4 columns</p>\n",
       "</div>"
      ],
      "text/plain": [
       "                   name  latitude (deg)  longitude (deg)  area cost factor\n",
       "0      Clayton, Georgia       33.585419       -84.377769          0.673392\n",
       "1     Union, New Mexico       36.392799      -103.049035          0.661822\n",
       "2    Catron, New Mexico       34.333582      -108.477077          0.661822\n",
       "3    Cibola, New Mexico       35.278379      -107.985038          0.661822\n",
       "4   Baltimore, Maryland       39.364614       -76.615753          0.805499\n",
       "..                  ...             ...              ...               ...\n",
       "91       Cook, Illinois       42.053655       -87.910040          0.708862\n",
       "92       Crook, Wyoming       44.641221      -104.055843          0.661822\n",
       "93    Big Horn, Montana       45.427881      -108.533904          0.661822\n",
       "94      Eastland, Texas       32.272396       -99.011002          0.568060\n",
       "95  Champaign, Illinois       40.127200       -88.243560          0.708862\n",
       "\n",
       "[96 rows x 4 columns]"
      ]
     },
     "execution_count": 56,
     "metadata": {},
     "output_type": "execute_result"
    }
   ],
   "source": [
    "candidate_loc_clean"
   ]
  },
  {
   "cell_type": "code",
   "execution_count": 57,
   "id": "824fecf7-e3ff-493d-9528-e45ab5370d86",
   "metadata": {},
   "outputs": [],
   "source": [
    "candidate_loc_clean['latitude (deg)'] = candidate_loc_clean['latitude (deg)'].round(decimals=4)\n",
    "candidate_loc_clean['longitude (deg)'] = candidate_loc_clean['longitude (deg)'].round(decimals=4)\n",
    "candidate_loc_clean['area cost factor'] = candidate_loc_clean['area cost factor'].round(decimals=2)"
   ]
  },
  {
   "cell_type": "code",
   "execution_count": 58,
   "id": "13b15323-feff-4c5c-b1a4-2b3d31d7a337",
   "metadata": {},
   "outputs": [
    {
     "data": {
      "text/html": [
       "<div>\n",
       "<style scoped>\n",
       "    .dataframe tbody tr th:only-of-type {\n",
       "        vertical-align: middle;\n",
       "    }\n",
       "\n",
       "    .dataframe tbody tr th {\n",
       "        vertical-align: top;\n",
       "    }\n",
       "\n",
       "    .dataframe thead th {\n",
       "        text-align: right;\n",
       "    }\n",
       "</style>\n",
       "<table border=\"1\" class=\"dataframe\">\n",
       "  <thead>\n",
       "    <tr style=\"text-align: right;\">\n",
       "      <th></th>\n",
       "      <th>name</th>\n",
       "      <th>latitude (deg)</th>\n",
       "      <th>longitude (deg)</th>\n",
       "      <th>area cost factor</th>\n",
       "    </tr>\n",
       "  </thead>\n",
       "  <tbody>\n",
       "    <tr>\n",
       "      <th>0</th>\n",
       "      <td>Clayton, Georgia</td>\n",
       "      <td>33.5854</td>\n",
       "      <td>-84.3778</td>\n",
       "      <td>0.67</td>\n",
       "    </tr>\n",
       "    <tr>\n",
       "      <th>1</th>\n",
       "      <td>Union, New Mexico</td>\n",
       "      <td>36.3928</td>\n",
       "      <td>-103.0490</td>\n",
       "      <td>0.66</td>\n",
       "    </tr>\n",
       "    <tr>\n",
       "      <th>2</th>\n",
       "      <td>Catron, New Mexico</td>\n",
       "      <td>34.3336</td>\n",
       "      <td>-108.4771</td>\n",
       "      <td>0.66</td>\n",
       "    </tr>\n",
       "    <tr>\n",
       "      <th>3</th>\n",
       "      <td>Cibola, New Mexico</td>\n",
       "      <td>35.2784</td>\n",
       "      <td>-107.9850</td>\n",
       "      <td>0.66</td>\n",
       "    </tr>\n",
       "    <tr>\n",
       "      <th>4</th>\n",
       "      <td>Baltimore, Maryland</td>\n",
       "      <td>39.3646</td>\n",
       "      <td>-76.6158</td>\n",
       "      <td>0.81</td>\n",
       "    </tr>\n",
       "    <tr>\n",
       "      <th>...</th>\n",
       "      <td>...</td>\n",
       "      <td>...</td>\n",
       "      <td>...</td>\n",
       "      <td>...</td>\n",
       "    </tr>\n",
       "    <tr>\n",
       "      <th>91</th>\n",
       "      <td>Cook, Illinois</td>\n",
       "      <td>42.0537</td>\n",
       "      <td>-87.9100</td>\n",
       "      <td>0.71</td>\n",
       "    </tr>\n",
       "    <tr>\n",
       "      <th>92</th>\n",
       "      <td>Crook, Wyoming</td>\n",
       "      <td>44.6412</td>\n",
       "      <td>-104.0558</td>\n",
       "      <td>0.66</td>\n",
       "    </tr>\n",
       "    <tr>\n",
       "      <th>93</th>\n",
       "      <td>Big Horn, Montana</td>\n",
       "      <td>45.4279</td>\n",
       "      <td>-108.5339</td>\n",
       "      <td>0.66</td>\n",
       "    </tr>\n",
       "    <tr>\n",
       "      <th>94</th>\n",
       "      <td>Eastland, Texas</td>\n",
       "      <td>32.2724</td>\n",
       "      <td>-99.0110</td>\n",
       "      <td>0.57</td>\n",
       "    </tr>\n",
       "    <tr>\n",
       "      <th>95</th>\n",
       "      <td>Champaign, Illinois</td>\n",
       "      <td>40.1272</td>\n",
       "      <td>-88.2436</td>\n",
       "      <td>0.71</td>\n",
       "    </tr>\n",
       "  </tbody>\n",
       "</table>\n",
       "<p>96 rows × 4 columns</p>\n",
       "</div>"
      ],
      "text/plain": [
       "                   name  latitude (deg)  longitude (deg)  area cost factor\n",
       "0      Clayton, Georgia         33.5854         -84.3778              0.67\n",
       "1     Union, New Mexico         36.3928        -103.0490              0.66\n",
       "2    Catron, New Mexico         34.3336        -108.4771              0.66\n",
       "3    Cibola, New Mexico         35.2784        -107.9850              0.66\n",
       "4   Baltimore, Maryland         39.3646         -76.6158              0.81\n",
       "..                  ...             ...              ...               ...\n",
       "91       Cook, Illinois         42.0537         -87.9100              0.71\n",
       "92       Crook, Wyoming         44.6412        -104.0558              0.66\n",
       "93    Big Horn, Montana         45.4279        -108.5339              0.66\n",
       "94      Eastland, Texas         32.2724         -99.0110              0.57\n",
       "95  Champaign, Illinois         40.1272         -88.2436              0.71\n",
       "\n",
       "[96 rows x 4 columns]"
      ]
     },
     "execution_count": 58,
     "metadata": {},
     "output_type": "execute_result"
    }
   ],
   "source": [
    "candidate_loc_clean"
   ]
  },
  {
   "cell_type": "code",
   "execution_count": 60,
   "id": "7ea45701-001c-49db-a5ed-0204718ec017",
   "metadata": {},
   "outputs": [],
   "source": [
    "candidate_loc_clean.to_csv('RELOG_import_data/CandidateLocations_CA.csv', index=False)"
   ]
  },
  {
   "cell_type": "code",
   "execution_count": null,
   "id": "51bab377-9cda-4148-ad59-d8153147e03a",
   "metadata": {},
   "outputs": [],
   "source": [
    "# with pd.option_context('display.max_rows', None,\n",
    "#                        'display.max_columns', None,\n",
    "#                        'display.precision', 3,\n",
    "#                        ):\n",
    "#     print(candidate_locations)"
   ]
  },
  {
   "cell_type": "markdown",
   "id": "36f67302-f231-4411-b2a7-0cf66dc2cfbf",
   "metadata": {},
   "source": [
    "---\n",
    "#### 3.3.1. If no file is given, these cells shows how to set up the dataframe in RELOG format"
   ]
  },
  {
   "cell_type": "markdown",
   "id": "302f5687-d7b8-4c61-b064-3e4dd79d52e8",
   "metadata": {},
   "source": [
    "Setup the template for the collection center file."
   ]
  },
  {
   "cell_type": "code",
   "execution_count": null,
   "id": "6f2636bf-8450-4990-8520-e65648a0cc7c",
   "metadata": {
    "tags": []
   },
   "outputs": [],
   "source": [
    "candidate_locations = pd.DataFrame(columns=['name', 'latitude (deg)', 'longitude (deg)', 'area cost factor'])                "
   ]
  },
  {
   "cell_type": "markdown",
   "id": "c990a5a1-587c-4566-b8ae-6b8f12121d6f",
   "metadata": {},
   "source": [
    "I am going to correlate states and regions as well and then delete it, this is to add the area cost factors."
   ]
  },
  {
   "cell_type": "code",
   "execution_count": null,
   "id": "35d984bc-2b8e-40a5-8ac0-e7a0782566a9",
   "metadata": {},
   "outputs": [],
   "source": [
    "candidate_locations['name'], candidate_locations['state'], candidate_locations['latitude (deg)'], candidate_locations['longitude (deg)'] = GIS_usa['location'], GIS_usa['state'], GIS_usa['long'], GIS_usa['lat']"
   ]
  },
  {
   "cell_type": "markdown",
   "id": "5cedb0dc-3bd3-4b01-b6d2-de34a53ad3d0",
   "metadata": {},
   "source": [
    "---\n",
    "## 4. Sankey Diagram"
   ]
  },
  {
   "cell_type": "markdown",
   "id": "c38b154b-61ba-43fe-b1d6-811bb5648aea",
   "metadata": {},
   "source": [
    "For the Sankey Diagram, I need:\n",
    "1) Get the waste (cSi + CdTe).\n",
    "    * Get the cSi waste and CdTe waste.\n",
    "    * Get the amount of each material in cSi and CdTe.\n",
    "2) Add all those materials into material bins.\n",
    "3) Pass them by an intermediate bin with the recycling process an d  their recycling yield.\n",
    "4) Add all those materials and check how much of each could contribute to revenue based on their value.\n",
    "\n",
    "**Note:** To visualize the Sankey diagram in Jupyter, you may need to add the plotly extension, you can install it by running this line in the terminal: `jupyter labextension install plotlywidget`. [Source]()."
   ]
  },
  {
   "cell_type": "markdown",
   "id": "391eea01-8e53-4633-8c1c-93260a1b6bc5",
   "metadata": {},
   "source": [
    "### 4.0. Load the waste files if you haven't run the previous cells"
   ]
  },
  {
   "cell_type": "code",
   "execution_count": null,
   "id": "9076a733-e608-4a11-bc9b-0ce6d8140eea",
   "metadata": {},
   "outputs": [],
   "source": [
    "# Uncomment if you need this option\n",
    "\n",
    "csi_Module = pd.read_csv('csi_wasteEOL_Module.csv')\n",
    "csi_aluminium_frames = pd.read_csv('csi_wasteEOL_aluminium_frames.csv')\n",
    "csi_backsheet = pd.read_csv('csi_wasteEOL_backsheet.csv')\n",
    "csi_copper = pd.read_csv('csi_wasteEOL_copper.csv')\n",
    "csi_encapsulant = pd.read_csv('csi_wasteEOL_encapsulant.csv')\n",
    "csi_glass = pd.read_csv('csi_wasteEOL_glass.csv')\n",
    "csi_silicon = pd.read_csv('csi_wasteEOL_silicon.csv')\n",
    "csi_silver = pd.read_csv('csi_wasteEOL_silver.csv')\n",
    "\n",
    "\n",
    "\n",
    "cdte_Module = pd.read_csv('cdte_wasteEOL_Module.csv')\n",
    "cdte_aluminium_frames_cdte = pd.read_csv('cdte_wasteEOL_aluminium_frames_cdte.csv')\n",
    "cdte_cadmium = pd.read_csv('cdte_wasteEOL_cadmium.csv')\n",
    "cdte_copper_cdte = pd.read_csv('cdte_wasteEOL_copper_cdte.csv')\n",
    "cdte_encapsulant_cdte = pd.read_csv('cdte_wasteEOL_encapsulant_cdte.csv')\n",
    "cdte_glass_cdte = pd.read_csv('cdte_wasteEOL_glass_cdte.csv')\n",
    "cdte_tellurium = pd.read_csv('cdte_wasteEOL_tellurium.csv')"
   ]
  },
  {
   "cell_type": "markdown",
   "id": "f190fd9e-dacd-422b-b07c-41d0ea6792a3",
   "metadata": {},
   "source": [
    "### 4.1. Get all waste"
   ]
  },
  {
   "cell_type": "code",
   "execution_count": null,
   "id": "991c3d11-429b-4550-8a89-47abc36e874d",
   "metadata": {},
   "outputs": [],
   "source": [
    "csi_waste = csi_Module['total waste'].sum()\n",
    "cdte_waste = cdte_Module['total waste'].sum()\n",
    "all_waste = csi_waste + cdte_waste\n",
    "print(f'There are {all_waste:.2f} tonnes of PV waste (that\\'s {all_waste/1000000:.2f} million metric tonnes).')\n",
    "print(f'There are {csi_waste:.2f} tonnes of cSi, and {cdte_waste:.2f} tonnes of CdTe.')\n",
    "perc_csi = csi_waste/all_waste\n",
    "perc_cdte = cdte_waste/all_waste\n",
    "print(f'Of all the waste, {perc_csi*100:.2f}% is cSi, and {perc_cdte*100:.2f}% is CdTe.')"
   ]
  },
  {
   "cell_type": "code",
   "execution_count": null,
   "id": "a84b1439-2a17-4c98-b2b1-4b0c753bc479",
   "metadata": {},
   "outputs": [],
   "source": [
    "# Option for one year, just change the year to the one you need\n",
    "\n",
    "csi_waste_2050 = csi_Module['2050'].sum()\n",
    "cdte_waste_2050 = cdte_Module['2050'].sum()\n",
    "all_waste_2050 = csi_waste_2050 + cdte_waste_2050\n",
    "print(f'There are {all_waste_2050:.2f} tonnes of PV waste (that\\'s {all_waste_2050/1000000:.2f} million metric tonnes).')\n",
    "print(f'There are {csi_waste_2050:.2f} tonnes of cSi, and {cdte_waste_2050:.2f} tonnes of CdTe.')\n",
    "perc_csi_2050 = csi_waste_2050/all_waste_2050\n",
    "perc_cdte_2050 = cdte_waste_2050/all_waste_2050\n",
    "print(f'Of all the waste, {perc_csi_2050*100:.2f}% is cSi, and {perc_cdte_2050*100:.2f}% is CdTe.')"
   ]
  },
  {
   "cell_type": "markdown",
   "id": "b9455cc4-f754-4291-baef-977f8a2c68e6",
   "metadata": {},
   "source": [
    "### 4.2. Waste material bins"
   ]
  },
  {
   "cell_type": "markdown",
   "id": "9b82a6b8-8001-41c7-82a8-fe659da2516a",
   "metadata": {},
   "source": [
    "#### 4.2.1. cSi"
   ]
  },
  {
   "cell_type": "code",
   "execution_count": null,
   "id": "ad6f2926-da22-4b5e-a381-2b5cb9c81646",
   "metadata": {},
   "outputs": [],
   "source": [
    "csi_waste = {'Modules' : csi_Module['total waste'].sum(),\n",
    "            'Glass' : csi_glass['total waste'].sum(),\n",
    "            'Silicon' : csi_silicon['total waste'].sum(),\n",
    "            'Silver': csi_silver['total waste'].sum(),\n",
    "            'Copper' : csi_copper['total waste'].sum(),\n",
    "            'Aluminium frames': csi_aluminium_frames['total waste'].sum(),\n",
    "            'Encapsulant': csi_encapsulant['total waste'].sum(),\n",
    "            'Backsheet': csi_backsheet['total waste'].sum(),}"
   ]
  },
  {
   "cell_type": "code",
   "execution_count": null,
   "id": "0308524c-1565-442e-8417-81d0d26d61f0",
   "metadata": {},
   "outputs": [],
   "source": [
    "\n",
    "csi_waste_2050 = {'Modules' : csi_Module['2050'].sum(),\n",
    "            'Glass' : csi_glass['2050'].sum(),\n",
    "            'Silicon' : csi_silicon['2050'].sum(),\n",
    "            'Silver': csi_silver['2050'].sum(),\n",
    "            'Copper' : csi_copper['2050'].sum(),\n",
    "            'Aluminium frames': csi_aluminium_frames['2050'].sum(),\n",
    "            'Encapsulant': csi_encapsulant['2050'].sum(),\n",
    "            'Backsheet': csi_backsheet['2050'].sum(),}"
   ]
  },
  {
   "cell_type": "markdown",
   "id": "8539127c-4d07-4d18-955e-e0f95c41608a",
   "metadata": {},
   "source": [
    "#### 4.2.2. CdTe"
   ]
  },
  {
   "cell_type": "code",
   "execution_count": null,
   "id": "118a236c-4ae6-456c-a2be-7b42dc23007c",
   "metadata": {},
   "outputs": [],
   "source": [
    "cdte_waste = {'Modules' : cdte_Module['total waste'].sum(),\n",
    "            'Glass' : cdte_glass_cdte['total waste'].sum(),\n",
    "            'Cadmium': cdte_cadmium['total waste'].sum(),\n",
    "            'Tellurium': cdte_tellurium['total waste'].sum(),\n",
    "            'Copper' : cdte_copper_cdte['total waste'].sum(), # No data about the copper recovery, so I assume the same as FRELP\n",
    "            'Aluminium frames': cdte_aluminium_frames_cdte['total waste'].sum(),\n",
    "            'Encapsulant': cdte_encapsulant_cdte['total waste'].sum(),} # Here there is no info so I assume the same as the glass"
   ]
  },
  {
   "cell_type": "code",
   "execution_count": null,
   "id": "21045105-a096-413f-a021-bc4626d525df",
   "metadata": {},
   "outputs": [],
   "source": [
    "# Option for one year, just change the year to the one you need\n",
    "\n",
    "cdte_waste_2050 = {'Modules' : cdte_Module['2050'].sum(),\n",
    "            'Glass' : cdte_glass_cdte['2050'].sum(),\n",
    "            'Cadmium': cdte_cadmium['2050'].sum(),\n",
    "            'Tellurium': cdte_tellurium['2050'].sum(),\n",
    "            'Copper' : cdte_copper_cdte['2050'].sum(), # No data about the copper recovery, so I assume the same as FRELP\n",
    "            'Aluminium frames': cdte_aluminium_frames_cdte['2050'].sum(),\n",
    "            'Encapsulant': cdte_encapsulant_cdte['2050'].sum(),} # Here there is no info so I assume the same as the glass\n"
   ]
  },
  {
   "cell_type": "markdown",
   "id": "a560461f-f7d7-46b2-8886-083efc290821",
   "metadata": {},
   "source": [
    "### 4.3. Recycling bins <a id='#Section4.3'></a>"
   ]
  },
  {
   "cell_type": "markdown",
   "id": "755cbaeb-b26d-4039-8edf-ae42b64324e2",
   "metadata": {},
   "source": [
    "#### 4.3.1. cSi"
   ]
  },
  {
   "cell_type": "code",
   "execution_count": null,
   "id": "120df3fe-ce6b-4618-92e9-16859e97acd2",
   "metadata": {},
   "outputs": [],
   "source": [
    "#FRELP efficiencies unless indicated\n",
    "\n",
    "csi_recycled = {'Modules' : csi_Module['total waste'].sum(),\n",
    "            'Glass' : csi_glass['total waste'].sum()*0.98, \n",
    "            'Silicon' : csi_silicon['total waste'].sum()*0.95,\n",
    "            'Silver': csi_silver['total waste'].sum()*0.95,\n",
    "            'Copper' : csi_copper['total waste'].sum()*0.95,\n",
    "            'Aluminium frames': csi_aluminium_frames['total waste'].sum(), # Assume 100% from the frames\n",
    "            'Encapsulant': csi_encapsulant['total waste'].sum(), # Here the encapsulant is incinerated so, 100% goes out\n",
    "            'Backsheet': csi_backsheet['total waste'].sum(),# Same as encapsulant\n",
    "            'Landfill': csi_glass['total waste'].sum()*(1-0.98) + \n",
    "                csi_silicon['total waste'].sum()*(1-0.95) + \n",
    "                csi_silver['total waste'].sum()*(1-0.95) + \n",
    "                csi_copper['total waste'].sum()*(1-0.95),\n",
    "            'Energy': csi_encapsulant['total waste'].sum()+csi_backsheet['total waste'].sum()} # Amount of waste that is burned and returned as energy "
   ]
  },
  {
   "cell_type": "code",
   "execution_count": null,
   "id": "d98bef82-0ac0-4180-abb5-351333efcf18",
   "metadata": {},
   "outputs": [],
   "source": [
    "# Option for one year, just change the year to the one you need\n",
    "\n",
    "csi_recycled_2050 = {'Modules' : csi_Module['2050'].sum(),\n",
    "            'Glass' : csi_glass['2050'].sum()*0.98, \n",
    "            'Silicon' : csi_silicon['2050'].sum()*0.95,\n",
    "            'Silver': csi_silver['2050'].sum()*0.95,\n",
    "            'Copper' : csi_copper['2050'].sum()*0.95,\n",
    "            'Aluminium frames': csi_aluminium_frames['2050'].sum(), # Assume 100% from the frames\n",
    "            'Encapsulant': csi_encapsulant['2050'].sum(), # Here the encapsulant is incinerated so, 100% goes out\n",
    "            'Backsheet': csi_backsheet['2050'].sum(),# Same as encapsulant\n",
    "            'Landfill': csi_glass['2050'].sum()*(1-0.98) + \n",
    "                csi_silicon['2050'].sum()*(1-0.95) + \n",
    "                csi_silver['2050'].sum()*(1-0.95) + \n",
    "                csi_copper['2050'].sum()*(1-0.95),\n",
    "            'Energy': csi_encapsulant['2050'].sum()+csi_backsheet['2050'].sum()} "
   ]
  },
  {
   "cell_type": "markdown",
   "id": "93a4327d-31ad-4161-99c4-594d99f578d0",
   "metadata": {},
   "source": [
    "#### 4.3.2. CdTe"
   ]
  },
  {
   "cell_type": "code",
   "execution_count": null,
   "id": "abec07e4-e62e-4de6-8ee6-8c42dd171ed2",
   "metadata": {},
   "outputs": [],
   "source": [
    "# First Solar efficiencies unless indicated\n",
    "\n",
    "cdte_recycled = {'Modules' : cdte_Module['total waste'].sum(),\n",
    "            'Glass' : cdte_glass_cdte['total waste'].sum()*0.9,\n",
    "            'Cadmium': cdte_cadmium['total waste'].sum()*0.95,\n",
    "            'Tellurium': cdte_tellurium['total waste'].sum()*0.95,\n",
    "            'Copper' : cdte_copper_cdte['total waste'].sum()*0.95, # No data about the copper recovery, so I assume the same as FRELP\n",
    "            'Aluminium frames': cdte_aluminium_frames_cdte['total waste'].sum(),\n",
    "            'Encapsulant': cdte_encapsulant_cdte['total waste'].sum()*0.9,# Here there is no info so I assume the same as the glass\n",
    "            'Landfill':cdte_glass_cdte['total waste'].sum()*(1-0.9) +\n",
    "                cdte_cadmium['total waste'].sum()*(1-0.95) +\n",
    "                cdte_tellurium['total waste'].sum()*(1-0.95) +\n",
    "                cdte_copper_cdte['total waste'].sum()*(1-0.95) +\n",
    "                cdte_encapsulant_cdte['total waste'].sum()*(1-0.9),\n",
    "            } "
   ]
  },
  {
   "cell_type": "code",
   "execution_count": null,
   "id": "936ba03b-5a78-4cb6-ab5a-ad54464ed90f",
   "metadata": {},
   "outputs": [],
   "source": [
    "# Option for one year, just change the year to the one you need\n",
    "\n",
    "cdte_recycled_2050 = {'Modules' : cdte_Module['2050'].sum(),\n",
    "            'Glass' : cdte_glass_cdte['2050'].sum()*0.9,\n",
    "            'Cadmium': cdte_cadmium['2050'].sum()*0.95,\n",
    "            'Tellurium': cdte_tellurium['2050'].sum()*0.95,\n",
    "            'Copper' : cdte_copper_cdte['2050'].sum()*0.95, # No data about the copper recovery, so I assume the same as FRELP\n",
    "            'Aluminium frames': cdte_aluminium_frames_cdte['2050'].sum(),\n",
    "            'Encapsulant': cdte_encapsulant_cdte['2050'].sum()*0.9,# Here there is no info so I assume the same as the glass\n",
    "            'Landfill':cdte_glass_cdte['2050'].sum()*(1-0.9) +\n",
    "                cdte_cadmium['2050'].sum()*(1-0.95) +\n",
    "                cdte_tellurium['2050'].sum()*(1-0.95) +\n",
    "                cdte_copper_cdte['2050'].sum()*(1-0.95) +\n",
    "                cdte_encapsulant_cdte['2050'].sum()*(1-0.9),\n",
    "            } "
   ]
  },
  {
   "cell_type": "code",
   "execution_count": null,
   "id": "db45e463-4b34-4bd5-872d-325a80251125",
   "metadata": {},
   "outputs": [],
   "source": []
  },
  {
   "cell_type": "code",
   "execution_count": null,
   "id": "1b8a04ca-289d-4594-99e5-37302830e084",
   "metadata": {},
   "outputs": [],
   "source": []
  },
  {
   "cell_type": "markdown",
   "id": "835184a7-dd6b-4810-b9f8-7d38652d42d2",
   "metadata": {},
   "source": [
    "### 4.4. Generate figures"
   ]
  },
  {
   "cell_type": "code",
   "execution_count": null,
   "id": "1fde3867-7b14-4f56-908d-b3b55533e17b",
   "metadata": {},
   "outputs": [],
   "source": [
    "import plotly.graph_objects as go"
   ]
  },
  {
   "cell_type": "code",
   "execution_count": null,
   "id": "e722d168-0f94-4f87-9214-19b4b574d471",
   "metadata": {},
   "outputs": [],
   "source": [
    "if not os.path.exists(\"images\"):\n",
    "    os.mkdir(\"images\")"
   ]
  },
  {
   "cell_type": "code",
   "execution_count": null,
   "id": "22504f67-fc60-4ceb-a653-8891c771f090",
   "metadata": {},
   "outputs": [],
   "source": [
    "my_colors = {'pvwaste':'rgba(255, 243, 217, 1)',\n",
    "             'csi_blue': 'rgba(199, 219, 244,1)',\n",
    "             'cdte_tiel': 'rgba(215, 250, 245, 1)',\n",
    "             'product_green': 'rgba(217, 240, 217, 1)',\n",
    "             'energy_yellow': 'rgba(252, 252, 202, 1)',\n",
    "             'waste_red': 'rgba(247, 145, 116,1)',\n",
    "             'worth_green': 'rgba(192, 232, 131,1)'}"
   ]
  },
  {
   "cell_type": "code",
   "execution_count": null,
   "id": "3db7a1eb-f7ca-4fc7-b5d3-88665b3c42c7",
   "metadata": {},
   "outputs": [],
   "source": [
    "material_list_csi = ['glass', 'silicon', 'silver', 'copper', 'aluminium_frames', 'encapsulant', 'backsheet', 'Module']\n",
    "material_list_cdte = ['cadmium', 'telluride', 'glass_cdte', 'aluminium_frames_cdte', 'Module', 'copper_cdte', 'encapsulant_cdte']"
   ]
  },
  {
   "cell_type": "markdown",
   "id": "6ab554b7-f262-452e-9112-3215ba027571",
   "metadata": {},
   "source": [
    "#### 4.4.1. Sankey Option 1 - Labeled"
   ]
  },
  {
   "cell_type": "code",
   "execution_count": null,
   "id": "b5c4d65d-5605-4f4c-9a5c-bbb6fea260d8",
   "metadata": {
    "tags": []
   },
   "outputs": [],
   "source": [
    "fig = go.Figure(data=[go.Sankey(\n",
    "    arrangement = \"snap\",\n",
    "    node = dict(\n",
    "      pad = 10,\n",
    "      thickness = 20,\n",
    "      line = dict(color = 'black', width = 0.5),\n",
    "      label = ['PV Waste', 'cSi', 'CdTe', \n",
    "               'Glass', 'Silicon', 'Silver', 'Copper', 'Aluminum frames', 'Encapsulant', 'Backsheet', \n",
    "               'Glass', 'Cadmium', 'Tellurium', 'Copper', 'Aluminum frames', 'Encapsulant', \n",
    "               'cSi Recycling', 'CdTe Recycling', \n",
    "               'Glass scrap', 'Manufacturing grade silicon', 'Copper scrap', 'Silver scrap', 'Cadmium scrap', 'Tellurium scrap', 'Aluminum scrap', 'Landfill', 'Energy'],\n",
    "      color = [my_colors['pvwaste'], my_colors['csi_blue'], my_colors['cdte_tiel'], \n",
    "               my_colors['csi_blue'], my_colors['csi_blue'], my_colors['csi_blue'], my_colors['csi_blue'], my_colors['csi_blue'], my_colors['csi_blue'], my_colors['csi_blue'], \n",
    "               my_colors['cdte_tiel'],my_colors['cdte_tiel'],my_colors['cdte_tiel'],my_colors['cdte_tiel'],my_colors['cdte_tiel'],my_colors['cdte_tiel'], \n",
    "               my_colors['csi_blue'], my_colors['cdte_tiel'], \n",
    "               my_colors['product_green'], my_colors['product_green'], my_colors['product_green'], my_colors['product_green'], my_colors['product_green'], my_colors['product_green'], my_colors['product_green'], my_colors['waste_red'], my_colors['worth_green']]\n",
    "),\n",
    "    link = dict(\n",
    "      source = [0, 0, \n",
    "                1, 1, 1, 1, 1, 1, 1, \n",
    "                2, 2, 2, 2, 2, 2, \n",
    "                3, 4, 5, 6, 7, 8, 9,\n",
    "                10, 11, 12, 13, 14, 15,\n",
    "                16,16,16,16,16,16,16,\n",
    "                17,17,17,17,17,17, ], # indices correspond to labels, eg A1, A2, A1, B1, ...\n",
    "      target = [1, 2, \n",
    "                3, 4, 5, 6, 7, 8, 9, \n",
    "                10, 11, 12, 13, 14, 15,\n",
    "                16, 16, 16, 16, 16, 16, 16,\n",
    "                17, 17, 17, 17, 17, 17,\n",
    "                18, 19, 20, 21, 24, 25, 26,\n",
    "                18, 20, 22, 23, 24, 25],\n",
    "      value = [csi_waste['Modules'], cdte_waste['Modules'], \n",
    "               csi_waste['Glass'], csi_waste['Silicon'], csi_waste['Silver'], csi_waste['Copper'], csi_waste['Aluminium frames'], csi_waste['Encapsulant'], csi_waste['Backsheet'], \n",
    "               cdte_waste['Glass'], cdte_waste['Cadmium'], cdte_waste['Tellurium'], cdte_waste['Copper'], cdte_waste['Aluminium frames'], cdte_waste['Encapsulant'],\n",
    "               csi_waste['Glass'], csi_waste['Silicon'], csi_waste['Silver'], csi_waste['Copper'], csi_waste['Aluminium frames'], csi_waste['Encapsulant'], csi_waste['Backsheet'], \n",
    "               cdte_waste['Glass'], cdte_waste['Cadmium'], cdte_waste['Tellurium'], cdte_waste['Copper'], cdte_waste['Aluminium frames'], cdte_waste['Encapsulant'],\n",
    "               csi_recycled['Glass'], csi_recycled['Silicon'], csi_recycled['Copper'], csi_recycled['Silver'], csi_recycled['Aluminium frames'], csi_recycled['Landfill'],csi_recycled['Energy'],\n",
    "               cdte_recycled['Glass'], cdte_recycled['Copper'], cdte_recycled['Cadmium'], cdte_recycled['Tellurium'], cdte_recycled['Aluminium frames'], cdte_recycled['Landfill']],\n",
    "      color = 'rgba(240, 240, 245, 0.65)'\n",
    "  ))])\n",
    "\n",
    "fig.update_layout(font_family=\"Times New Roman\", font_size=10)\n",
    "fig.write_image(\"images/sankey/sankey_labeled.svg\")"
   ]
  },
  {
   "cell_type": "markdown",
   "id": "ca7d7e53-b49c-4168-908f-0927b1adf7b0",
   "metadata": {},
   "source": [
    "#### 4.4.2. Sankey Option 2 - Labeled simplified"
   ]
  },
  {
   "cell_type": "code",
   "execution_count": null,
   "id": "d7bb1675-653a-4628-8091-62ad22201c5e",
   "metadata": {},
   "outputs": [],
   "source": [
    "fig = go.Figure(data=[go.Sankey(\n",
    "    arrangement = \"snap\",\n",
    "    node = dict(\n",
    "      pad = 10,\n",
    "      thickness = 20,\n",
    "      line = dict(color = 'black', width = 0.5),\n",
    "      label = ['PV Waste', 'cSi Recycling', 'CdTe Recycling', \n",
    "               'Glass scrap', 'Manufacturing grade silicon', 'Copper scrap', 'Silver scrap', 'Cadmium scrap', 'Tellurium scrap', 'Aluminum scrap', 'Landfill', 'Energy'],\n",
    "      color = [my_colors['pvwaste'], my_colors['csi_blue'], my_colors['cdte_tiel'], \n",
    "               my_colors['product_green'], my_colors['product_green'], my_colors['product_green'], my_colors['product_green'], my_colors['product_green'], my_colors['product_green'], my_colors['product_green'], my_colors['waste_red'], my_colors['worth_green']]\n",
    "),\n",
    "    link = dict(\n",
    "      source = [0, 0, \n",
    "                1,1,1,1,1,1,1,\n",
    "                2,2,2,2,2,2, ], # indices correspond to labels, eg A1, A2, A1, B1, ...\n",
    "      target = [1, 2,\n",
    "                3, 4, 5, 6, 9, 10, 11,\n",
    "                3, 5, 7, 8, 9, 10],\n",
    "      value = [csi_waste['Modules'], cdte_waste['Modules'], \n",
    "               csi_recycled['Glass'], csi_recycled['Silicon'], csi_recycled['Copper'], csi_recycled['Silver'], csi_recycled['Aluminium frames'], csi_recycled['Landfill'],csi_recycled['Energy'],\n",
    "               cdte_recycled['Glass'], cdte_recycled['Copper'], cdte_recycled['Cadmium'], cdte_recycled['Tellurium'], cdte_recycled['Aluminium frames'], cdte_recycled['Landfill']],\n",
    "      color = 'rgba(240, 240, 245, 0.65)'\n",
    "  ))])\n",
    "\n",
    "fig.update_layout(font_family=\"Times New Roman\", font_size=10)\n",
    "fig.write_image(\"images/sankey/sankey_labeled_simplified.svg\")"
   ]
  },
  {
   "cell_type": "markdown",
   "id": "00aea21e-ccc4-4802-aca7-77f78ab467bf",
   "metadata": {},
   "source": [
    "#### 4.4.3. Sankey Option 3 - Muted"
   ]
  },
  {
   "cell_type": "code",
   "execution_count": null,
   "id": "1fb0ca3b-13db-4a23-b4d6-8a892c7ee9e3",
   "metadata": {},
   "outputs": [],
   "source": [
    "fig = go.Figure(data=[go.Sankey(\n",
    "    arrangement = \"snap\",\n",
    "    node = dict(\n",
    "      pad = 10,\n",
    "      thickness = 20,\n",
    "      line = dict(color = 'black', width = 0.5),\n",
    "      label = ['', '', '', \n",
    "               '', '', '', '', '', '', '', \n",
    "               '', '', '', '', '', '', \n",
    "               '', '', \n",
    "               '', '', '', '', '', '', '', '', ''],\n",
    "      color = [my_colors['pvwaste'], my_colors['csi_blue'], my_colors['cdte_tiel'], \n",
    "               my_colors['csi_blue'], my_colors['csi_blue'], my_colors['csi_blue'], my_colors['csi_blue'], my_colors['csi_blue'], my_colors['csi_blue'], my_colors['csi_blue'], \n",
    "               my_colors['cdte_tiel'],my_colors['cdte_tiel'],my_colors['cdte_tiel'],my_colors['cdte_tiel'],my_colors['cdte_tiel'],my_colors['cdte_tiel'], \n",
    "               my_colors['csi_blue'], my_colors['cdte_tiel'], \n",
    "               my_colors['product_green'], my_colors['product_green'], my_colors['product_green'], my_colors['product_green'], my_colors['product_green'], my_colors['product_green'], my_colors['product_green'], my_colors['waste_red'], my_colors['worth_green']]\n",
    "),\n",
    "    link = dict(\n",
    "      source = [0, 0, \n",
    "                1, 1, 1, 1, 1, 1, 1, \n",
    "                2, 2, 2, 2, 2, 2, \n",
    "                3, 4, 5, 6, 7, 8, 9,\n",
    "                10, 11, 12, 13, 14, 15,\n",
    "                16,16,16,16,16,16,16,\n",
    "                17,17,17,17,17,17, ], # indices correspond to labels, eg A1, A2, A1, B1, ...\n",
    "      target = [1, 2, \n",
    "                3, 4, 5, 6, 7, 8, 9, \n",
    "                10, 11, 12, 13, 14, 15,\n",
    "                16, 16, 16, 16, 16, 16, 16,\n",
    "                17, 17, 17, 17, 17, 17,\n",
    "                18, 19, 20, 21, 24, 25, 26,\n",
    "                18, 20, 22, 23, 24, 25],\n",
    "      value = [csi_waste['Modules'], cdte_waste['Modules'], \n",
    "               csi_waste['Glass'], csi_waste['Silicon'], csi_waste['Silver'], csi_waste['Copper'], csi_waste['Aluminium frames'], csi_waste['Encapsulant'], csi_waste['Backsheet'], \n",
    "               cdte_waste['Glass'], cdte_waste['Cadmium'], cdte_waste['Tellurium'], cdte_waste['Copper'], cdte_waste['Aluminium frames'], cdte_waste['Encapsulant'],\n",
    "               csi_waste['Glass'], csi_waste['Silicon'], csi_waste['Silver'], csi_waste['Copper'], csi_waste['Aluminium frames'], csi_waste['Encapsulant'], csi_waste['Backsheet'], \n",
    "               cdte_waste['Glass'], cdte_waste['Cadmium'], cdte_waste['Tellurium'], cdte_waste['Copper'], cdte_waste['Aluminium frames'], cdte_waste['Encapsulant'],\n",
    "               csi_recycled['Glass'], csi_recycled['Silicon'], csi_recycled['Copper'], csi_recycled['Silver'], csi_recycled['Aluminium frames'], csi_recycled['Landfill'],csi_recycled['Energy'],\n",
    "               cdte_recycled['Glass'], cdte_recycled['Copper'], cdte_recycled['Cadmium'], cdte_recycled['Tellurium'], cdte_recycled['Aluminium frames'], cdte_recycled['Landfill']],\n",
    "      color = 'rgba(240, 240, 245, 0.65)'\n",
    "  ))])\n",
    "\n",
    "fig.update_layout(font_family=\"Times New Roman\", font_size=10)\n",
    "fig.write_image(\"images/sankey/sankey_muted.svg\")\n",
    "#fig.write_image(\"images/sankey_mute.svg\")"
   ]
  },
  {
   "cell_type": "markdown",
   "id": "9c6fc7f7-6897-40a0-bcc4-5cb52bc99e5d",
   "metadata": {},
   "source": [
    "#### 4.4.4. Sankey Option 4 - Muted simplified"
   ]
  },
  {
   "cell_type": "code",
   "execution_count": null,
   "id": "8b808bc7-f1a9-40ae-bc95-0e4d491824ab",
   "metadata": {},
   "outputs": [],
   "source": [
    "fig = go.Figure(data=[go.Sankey(\n",
    "    arrangement = \"snap\",\n",
    "    node = dict(\n",
    "      pad = 10,\n",
    "      thickness = 20,\n",
    "      line = dict(color = 'black', width = 0.5),\n",
    "      label = ['', '', '', \n",
    "               '', '', '', '', '', '', '', '', ''],\n",
    "      color = [my_colors['pvwaste'], my_colors['csi_blue'], my_colors['cdte_tiel'], \n",
    "               my_colors['product_green'], my_colors['product_green'], my_colors['product_green'], my_colors['product_green'], my_colors['product_green'], my_colors['product_green'], my_colors['product_green'], my_colors['waste_red'], my_colors['worth_green']]\n",
    "),\n",
    "    link = dict(\n",
    "      source = [0, 0, \n",
    "                1,1,1,1,1,1,1,\n",
    "                2,2,2,2,2,2, ], # indices correspond to labels, eg A1, A2, A1, B1, ...\n",
    "      target = [1, 2,\n",
    "                3, 4, 5, 6, 9, 10, 11,\n",
    "                3, 5, 7, 8, 9, 10],\n",
    "      value = [csi_waste['Modules'], cdte_waste['Modules'], \n",
    "               csi_recycled['Glass'], csi_recycled['Silicon'], csi_recycled['Copper'], csi_recycled['Silver'], csi_recycled['Aluminium frames'], csi_recycled['Landfill'],csi_recycled['Energy'],\n",
    "               cdte_recycled['Glass'], cdte_recycled['Copper'], cdte_recycled['Cadmium'], cdte_recycled['Tellurium'], cdte_recycled['Aluminium frames'], cdte_recycled['Landfill']],\n",
    "      color = 'rgba(240, 240, 245, 0.65)'\n",
    "  ))])\n",
    "\n",
    "fig.update_layout(font_family=\"Times New Roman\", font_size=10)\n",
    "fig.write_image(\"images/sankey/sankey_muted_simplified.svg\")"
   ]
  },
  {
   "cell_type": "code",
   "execution_count": null,
   "id": "4ce1fb6a-cc62-4cef-9ab4-c5dfcb5d35c1",
   "metadata": {},
   "outputs": [],
   "source": [
    "# Figure for one year \n",
    "\n",
    "fig = go.Figure(data=[go.Sankey(\n",
    "    arrangement = \"snap\",\n",
    "    node = dict(\n",
    "      pad = 10,\n",
    "      thickness = 20,\n",
    "      line = dict(color = 'black', width = 0.5),\n",
    "      label = ['', '', '', \n",
    "               '', '', '', '', '', '', '', '', ''],\n",
    "      color = [my_colors['pvwaste'], my_colors['csi_blue'], my_colors['cdte_tiel'], \n",
    "               my_colors['product_green'], my_colors['product_green'], my_colors['product_green'], my_colors['product_green'], my_colors['product_green'], my_colors['product_green'], my_colors['product_green'], my_colors['waste_red'], my_colors['worth_green']],\n",
    "      hovertemplate= 'Node value is %{value}'\n",
    "    ),\n",
    "    link = dict(\n",
    "      source = [0, 0, \n",
    "                1,1,1,1,1,1,1,\n",
    "                2,2,2,2,2,2, ], # indices correspond to labels, eg A1, A2, A1, B1, ...\n",
    "      target = [1, 2,\n",
    "                3, 4, 5, 6, 9, 10, 11,\n",
    "                3, 5, 7, 8, 9, 10],\n",
    "      value = [csi_waste_2050['Modules'], cdte_waste_2050['Modules'], \n",
    "               csi_recycled_2050['Glass'], csi_recycled_2050['Silicon'], csi_recycled_2050['Copper'], csi_recycled_2050['Silver'], csi_recycled_2050['Aluminium frames'], csi_recycled_2050['Landfill'],csi_recycled_2050['Energy'],\n",
    "               cdte_recycled_2050['Glass'], cdte_recycled_2050['Copper'], cdte_recycled_2050['Cadmium'], cdte_recycled_2050['Tellurium'], cdte_recycled_2050['Aluminium frames'], cdte_recycled_2050['Landfill']],\n",
    "      color = 'rgba(240, 240, 245, 0.65)',\n",
    "      hovertemplate= 'Link value is %{value}' \n",
    "  ))])\n",
    "\n",
    "fig.update_layout(font_family=\"Times New Roman\", font_size=10)\n",
    "fig.write_image(\"images/sankey/sankey_muted_simplified_2050.png\")\n",
    "fig.show()"
   ]
  },
  {
   "cell_type": "code",
   "execution_count": null,
   "id": "e7524145-a3c5-4e78-ae77-923cf2e3ca70",
   "metadata": {},
   "outputs": [],
   "source": []
  },
  {
   "cell_type": "markdown",
   "id": "071808a3-5e9e-4697-88fe-95438887ca7c",
   "metadata": {},
   "source": [
    "---\n",
    "## 5. Cloropeth map option 1 (still under construction)"
   ]
  },
  {
   "cell_type": "code",
   "execution_count": null,
   "id": "d8ec8c10-22d5-45f4-8db5-98714da4188c",
   "metadata": {},
   "outputs": [],
   "source": [
    "pv_waste_map = csi_Module[['FIPS']].copy()\n",
    "pv_waste_map['total waste'] = csi_Module['total waste'] + cdte_Module['total waste']\n",
    "pv_waste_map.to_csv('images/cloropeth/pv_waste_map.csv')\n",
    "\n",
    "csi_waste_map = csi_Module[['FIPS', 'total waste']]\n",
    "csi_waste_map.to_csv('images/cloropeth/csi_waste_map.csv')\n",
    "\n",
    "cdte_waste_map = cdte_Module[['FIPS', 'total waste']]\n",
    "cdte_waste_map.to_csv('images/cloropeth/cdte_waste_map.csv')"
   ]
  },
  {
   "cell_type": "code",
   "execution_count": null,
   "id": "09113160-6e45-413c-bd65-7c33ab437a2f",
   "metadata": {},
   "outputs": [],
   "source": [
    "from urllib.request import urlopen\n",
    "import json\n",
    "with urlopen('https://raw.githubusercontent.com/plotly/datasets/master/geojson-counties-fips.json') as response:\n",
    "    counties = json.load(response)\n",
    "\n",
    "import pandas as pd\n",
    "df = pd.read_csv(\"images/cloropeth/pv_waste_map.csv\",\n",
    "                   dtype={\"FIPS\": str})\n",
    "\n",
    "import plotly.express as px\n",
    "\n",
    "fig = px.choropleth_mapbox(df, geojson=counties, locations='FIPS', color='total waste',\n",
    "                           color_continuous_scale=\"Viridis\",\n",
    "                           range_color=(8, 1200000), # min an max values of waste\n",
    "                           mapbox_style=\"carto-positron\",\n",
    "                           zoom=2.5, center = {\"lat\": 37.0902, \"lon\": -95.7129},\n",
    "                           opacity=0.5,\n",
    "                           labels={'total waste':'Accumulated waste'}\n",
    "                          )\n",
    "fig.update_layout(margin={\"r\":0,\"t\":0,\"l\":0,\"b\":0})\n",
    "fig.write_image(\"images/cloropeth/map_allPV_op1.svg\")"
   ]
  },
  {
   "cell_type": "markdown",
   "id": "973dd0b3-532e-4839-aeed-fc3a35c024a8",
   "metadata": {},
   "source": [
    "Cloropeth map option 2"
   ]
  },
  {
   "cell_type": "code",
   "execution_count": null,
   "id": "906e55fd-8455-4c39-986d-80dee26296cb",
   "metadata": {},
   "outputs": [],
   "source": [
    "from urllib.request import urlopen\n",
    "import json\n",
    "with urlopen('https://raw.githubusercontent.com/plotly/datasets/master/geojson-counties-fips.json') as response:\n",
    "    counties = json.load(response)\n",
    "\n",
    "import pandas as pd\n",
    "df = pd.read_csv(\"pv_waste_map.csv\",\n",
    "                   dtype={\"FIPS\": str})\n",
    "\n",
    "import plotly.express as px\n",
    "\n",
    "fig = px.choropleth(df, geojson=counties, locations='FIPS', color='total waste',\n",
    "                           color_continuous_scale=\"Viridis\",\n",
    "                           range_color=(1000, 50000),\n",
    "                           scope=\"usa\",\n",
    "                           labels={'total waste':'Total PV waste by 2050'}\n",
    "                          )\n",
    "fig.update_layout(margin={\"r\":0,\"t\":0,\"l\":0,\"b\":0})\n",
    "fig.write_image(\"images/cloropeth/map_allPV_op2.svg\")"
   ]
  },
  {
   "cell_type": "code",
   "execution_count": null,
   "id": "12987150-8a47-40c9-97df-3859634ad910",
   "metadata": {},
   "outputs": [],
   "source": [
    "pv_waste_map.min()"
   ]
  },
  {
   "cell_type": "code",
   "execution_count": null,
   "id": "0d6f49e3-c0e6-433a-b51a-e234e4b3b6d4",
   "metadata": {},
   "outputs": [],
   "source": [
    "pv_waste_map.max()"
   ]
  },
  {
   "cell_type": "code",
   "execution_count": null,
   "id": "22f53c38-bb95-4c45-b524-2a14e294e383",
   "metadata": {},
   "outputs": [],
   "source": [
    "from urllib.request import urlopen\n",
    "import json\n",
    "with urlopen('https://raw.githubusercontent.com/plotly/datasets/master/geojson-counties-fips.json') as response:\n",
    "    counties = json.load(response)\n",
    "\n",
    "import pandas as pd\n",
    "df = pd.read_csv(\"https://raw.githubusercontent.com/plotly/datasets/master/fips-unemp-16.csv\",\n",
    "                   dtype={\"fips\": str})\n",
    "\n",
    "import plotly.express as px\n",
    "\n",
    "fig = px.choropleth(df, geojson=counties, locations='fips', color='unemp',\n",
    "                           color_continuous_scale=\"Viridis\",\n",
    "                           range_color=(0, 12),\n",
    "                           scope=\"usa\",\n",
    "                           labels={'unemp':'unemployment rate'}\n",
    "                          )\n",
    "fig.update_layout(margin={\"r\":0,\"t\":0,\"l\":0,\"b\":0})\n",
    "fig.write_image(\"images/cloropeth/map_allPV_op2.svg\")\n"
   ]
  },
  {
   "cell_type": "code",
   "execution_count": null,
   "id": "26e18b0d-1039-4857-8ead-5660b2548fb2",
   "metadata": {},
   "outputs": [],
   "source": []
  }
 ],
 "metadata": {
  "kernelspec": {
   "display_name": "RELOG",
   "language": "python",
   "name": "relog"
  },
  "language_info": {
   "codemirror_mode": {
    "name": "ipython",
    "version": 3
   },
   "file_extension": ".py",
   "mimetype": "text/x-python",
   "name": "python",
   "nbconvert_exporter": "python",
   "pygments_lexer": "ipython3",
   "version": "3.10.6"
  },
  "toc-autonumbering": false
 },
 "nbformat": 4,
 "nbformat_minor": 5
}
