{
 "cells": [
  {
   "cell_type": "markdown",
   "id": "01b4fe07-ef1d-4ebd-8121-e23bd822977c",
   "metadata": {},
   "source": [
    "# Data Preprocess 2"
   ]
  },
  {
   "cell_type": "markdown",
   "id": "b4265650-a0aa-4780-8528-51b75ddce8c9",
   "metadata": {},
   "source": [
    "This journal uses the PV ICE data that we previously generated in [Data Preprocess 1 Section 1](./data_preprocess_1.ipynb) to obtain the tonnes of material processed per tonne of PV Module.\n",
    "\n",
    "Ideally, we should be able to do this with the time series waste data that PV ICE generates; unfortunately, RELOG does not have this capability.\n",
    "\n",
    "To accommodate, I will do the following:\n",
    "1. Load the waste material data.\n",
    "2. Get the total PV module waste generated from 2023 to 2050. *Note: The 2023 files include waste accumulated from 2010 to 2023*.\n",
    "3. Calculate % of specific material per tonne of total PV waste.\n",
    "\n",
    "***NOTE:** All quantities are given in **metric tonnes**.*"
   ]
  },
  {
   "cell_type": "markdown",
   "id": "3c4671d1-7454-400f-bc7e-30bc07bd47a6",
   "metadata": {},
   "source": [
    "## 0. Load necessary libraries"
   ]
  },
  {
   "cell_type": "code",
   "execution_count": 1,
   "id": "10eba751-7dc8-4988-a910-4d5718fa9a0a",
   "metadata": {},
   "outputs": [],
   "source": [
    "import numpy as np\n",
    "import pandas as pd\n",
    "import os,sys\n",
    "import matplotlib.pyplot as plt\n",
    "from pathlib import Path"
   ]
  },
  {
   "cell_type": "markdown",
   "id": "ac5ddd54-f894-45ee-a0e3-3ea31fb02282",
   "metadata": {},
   "source": [
    "## 1. Load waste material data"
   ]
  },
  {
   "cell_type": "markdown",
   "id": "6818c4a7-fa2c-4956-9c7d-a3b26cd5fd26",
   "metadata": {},
   "source": [
    "There are a lot of files here, so let's generate a code to load all the files with their variable name."
   ]
  },
  {
   "cell_type": "code",
   "execution_count": 2,
   "id": "31aa2f5b-9504-45f6-be14-43737cf2b262",
   "metadata": {},
   "outputs": [],
   "source": [
    "mats = ['csi', 'cdte']\n",
    "material_list_csi = ['glass', 'silicon', 'silver', 'copper', 'aluminium_frames', 'encapsulant', 'backsheet', 'Module']\n",
    "material_list_cdte = ['cadmium', 'tellurium', 'glass_cdte', 'aluminium_frames_cdte', 'Module', 'copper_cdte', 'encapsulant_cdte']"
   ]
  },
  {
   "cell_type": "markdown",
   "id": "1e8fed52-9feb-4435-aeb4-9ee7c2852e59",
   "metadata": {},
   "source": [
    "There are a bunch of columns that we do not want, so let's ignore them before loading all the files. To do this, I load one of the files (it does not matter which one), and allocate the column names to a variable. Here I want to ignore `['Unnamed: 0', 0, 2010, 'longitude', 'latitude', 'FIPS', 45]`.\n",
    "\n",
    "**TO DO:** Get rid of `'Unnamed: 0'` and `0` columns in data_preprocess_1 when I save the files in the first place, it is useless. Once I fix this and re-generate the files, I have to re-write part of this code."
   ]
  },
  {
   "cell_type": "code",
   "execution_count": 7,
   "id": "b4a5f67e-8dda-408b-83ad-ae8d607bed3e",
   "metadata": {},
   "outputs": [],
   "source": [
    "cols = list(pd.read_csv(\"csi_wasteEOL_Module.csv\", nrows =1))"
   ]
  },
  {
   "cell_type": "code",
   "execution_count": 8,
   "id": "62f99982-57d4-48c6-ab81-c43b4f8ab0a7",
   "metadata": {},
   "outputs": [],
   "source": [
    "rem_cols = ['0','2010','longitude', 'latitude', 'FIPS', '45', 'total waste']"
   ]
  },
  {
   "cell_type": "code",
   "execution_count": 9,
   "id": "64210086-30c7-4e1d-a05c-8d7ac87839ba",
   "metadata": {},
   "outputs": [
    {
     "data": {
      "text/plain": [
       "[None, None, None, None, None, None, None]"
      ]
     },
     "execution_count": 9,
     "metadata": {},
     "output_type": "execute_result"
    }
   ],
   "source": [
    "[cols.remove(item) for item in rem_cols] # This one only works once! It will throw an error if you run it again."
   ]
  },
  {
   "cell_type": "markdown",
   "id": "75e43b64-583a-4d89-a0d3-55cb200576b7",
   "metadata": {},
   "source": [
    "Load the files, set the column names as int for easy access, and make a list of the variables we are creating."
   ]
  },
  {
   "cell_type": "code",
   "execution_count": 10,
   "id": "0650df9c-c73f-42d6-8925-4334dd113864",
   "metadata": {},
   "outputs": [],
   "source": [
    "materials = []\n",
    "for y in mats:\n",
    "    if y == 'csi':\n",
    "        for x in material_list_csi:\n",
    "            globals()['%s_%s' % (y, x)] = pd.read_csv('{}_wasteEOL_{}.csv'.format(y, x), usecols =cols) # Load files\n",
    "            globals()['%s_%s' % (y, x)].columns = globals()['%s_%s' % (y, x)].columns.astype('int')\n",
    "            materials.append(globals()['%s_%s' % (y, x)])\n",
    "    elif y == 'cdte':\n",
    "        for x in material_list_cdte:\n",
    "            globals()['%s_%s' % (y, x)] = pd.read_csv('{}_wasteEOL_{}.csv'.format(y, x), usecols =cols)\n",
    "            globals()['%s_%s' % (y, x)].columns = globals()['%s_%s' % (y, x)].columns.astype('int')\n",
    "            materials.append(globals()['%s_%s' % (y, x)])"
   ]
  },
  {
   "cell_type": "markdown",
   "id": "5eef9c13-2704-4465-b33f-5d9e68e7d1ac",
   "metadata": {},
   "source": [
    "## 2. Calculate total waste per material"
   ]
  },
  {
   "cell_type": "markdown",
   "id": "6db66154-0b3c-4148-8b82-b0af8ed0a2b6",
   "metadata": {},
   "source": [
    "Sum all years to generate a `total waste` column."
   ]
  },
  {
   "cell_type": "code",
   "execution_count": 20,
   "id": "6c49fc9d-af5f-4b95-ab9b-cc2229363767",
   "metadata": {},
   "outputs": [
    {
     "name": "stdout",
     "output_type": "stream",
     "text": [
      "['__name__', '__doc__', '__package__', '__loader__', '__spec__', '__builtin__', '__builtins__', '_ih', '_oh', '_dh', 'In', 'Out', 'get_ipython', 'exit', 'quit', '_', '__', '___', '_i', '_ii', '_iii', '_i1', 'np', 'pd', 'os', 'sys', 'plt', 'Path', '_i2', 'mats', 'material_list_csi', 'material_list_cdte', '_i3', 'cols', '_i4', 'rem_cols', '_i5', '_i6', '_6', '_i7', '_i8', '_i9', '_9', '_i10', 'materials', 'y', 'x', 'csi_glass', 'csi_silicon', 'csi_silver', 'csi_copper', 'csi_aluminium_frames', 'csi_encapsulant', 'csi_backsheet', 'csi_Module', 'cdte_cadmium', 'cdte_tellurium', 'cdte_glass_cdte', 'cdte_aluminium_frames_cdte', 'cdte_Module', 'cdte_copper_cdte', 'cdte_encapsulant_cdte', '_i11', 'material', '_i12', '_i13', '_13', '_i14', '_i15', '_i16', '_16', '_i17', '_i18', '_18', '_i19', 'variable', 'vnames', '_i20']\n"
     ]
    }
   ],
   "source": []
  },
  {
   "cell_type": "code",
   "execution_count": 21,
   "id": "b107b0b6-792e-4d30-8748-a4f832f17cc6",
   "metadata": {
    "tags": []
   },
   "outputs": [],
   "source": [
    "for material in materials:\n",
    "    material['total waste'] = material.loc[:, :].sum(axis=1)"
   ]
  },
  {
   "cell_type": "markdown",
   "id": "4e7c9ccc-af4e-44ae-b0a2-85ade8872d30",
   "metadata": {},
   "source": [
    "Get the names of the created variables, create a list and then generate a dataframe with the total generated waste by material."
   ]
  },
  {
   "cell_type": "markdown",
   "id": "7c30d89b-06a3-41a6-93d3-990885d8e035",
   "metadata": {},
   "source": [
    "The following cell prints all the variables generated in this notebook, I copy and pasted the ones I am interested. This would be helpful to automate the total sum of wastes.\n"
   ]
  },
  {
   "cell_type": "code",
   "execution_count": 23,
   "id": "1373d2ea-e718-4216-8d85-865ba026dca5",
   "metadata": {},
   "outputs": [
    {
     "name": "stdout",
     "output_type": "stream",
     "text": [
      "['__name__', '__doc__', '__package__', '__loader__', '__spec__', '__builtin__', '__builtins__', '_ih', '_oh', '_dh', 'In', 'Out', 'get_ipython', 'exit', 'quit', '_', '__', '___', '_i', '_ii', '_iii', '_i1', 'np', 'pd', 'os', 'sys', 'plt', 'Path', '_i2', 'mats', 'material_list_csi', 'material_list_cdte', '_i3', 'cols', '_i4', 'rem_cols', '_i5', '_i6', '_6', '_i7', '_i8', '_i9', '_9', '_i10', 'materials', 'y', 'x', 'csi_glass', 'csi_silicon', 'csi_silver', 'csi_copper', 'csi_aluminium_frames', 'csi_encapsulant', 'csi_backsheet', 'csi_Module', 'cdte_cadmium', 'cdte_tellurium', 'cdte_glass_cdte', 'cdte_aluminium_frames_cdte', 'cdte_Module', 'cdte_copper_cdte', 'cdte_encapsulant_cdte', '_i11', 'material', '_i12', '_i13', '_13', '_i14', '_i15', '_i16', '_16', '_i17', '_i18', '_18', '_i19', 'variable', 'vnames', '_i20', '_i21', '_i22', 'material_vars', '_i23']\n"
     ]
    }
   ],
   "source": [
    "vnames = [name for name in globals()] \n",
    "print(vnames)"
   ]
  },
  {
   "cell_type": "code",
   "execution_count": 45,
   "id": "dfd0bbff-fd20-4dba-acbc-454c88fa7ba1",
   "metadata": {},
   "outputs": [],
   "source": [
    "material_vars = ['csi_glass', 'csi_silicon', 'csi_silver', 'csi_copper', 'csi_aluminium_frames', 'csi_encapsulant', 'csi_backsheet', 'csi_Module', 'cdte_cadmium', 'cdte_tellurium', 'cdte_glass_cdte', 'cdte_aluminium_frames_cdte', 'cdte_Module', 'cdte_copper_cdte', 'cdte_encapsulant_cdte']"
   ]
  },
  {
   "cell_type": "code",
   "execution_count": 46,
   "id": "5e337237-cbce-4a44-a0de-7ea2adf0a180",
   "metadata": {},
   "outputs": [],
   "source": [
    "total_wastes = pd.DataFrame()"
   ]
  },
  {
   "cell_type": "code",
   "execution_count": 47,
   "id": "97e3f5f2-d041-427c-ab48-4e61f8f24387",
   "metadata": {},
   "outputs": [],
   "source": [
    "total_wastes['Material'] = material_vars"
   ]
  },
  {
   "cell_type": "code",
   "execution_count": 48,
   "id": "a747f454-1bdc-4418-8c41-ef93c1c5682b",
   "metadata": {},
   "outputs": [
    {
     "data": {
      "text/plain": [
       "'csi_silicon'"
      ]
     },
     "execution_count": 48,
     "metadata": {},
     "output_type": "execute_result"
    }
   ],
   "source": [
    "material_vars[1]"
   ]
  },
  {
   "cell_type": "code",
   "execution_count": 49,
   "id": "1d815e53-cf91-471e-ad10-9cfe850c36a8",
   "metadata": {},
   "outputs": [],
   "source": [
    "total_waste = []\n",
    "for mats in range(len(material_vars)):\n",
    "    total_waste.append(materials[mats]['total waste'].sum(axis=0))"
   ]
  },
  {
   "cell_type": "code",
   "execution_count": 51,
   "id": "b80f057e-4c61-4e0f-b3ac-56e519634c33",
   "metadata": {},
   "outputs": [],
   "source": [
    "total_wastes['Total waste'] = total_waste"
   ]
  },
  {
   "cell_type": "markdown",
   "id": "2e7d7b53-8042-407d-abdf-a0b252f2f54d",
   "metadata": {},
   "source": [
    "## 3. Calculate tonnes of recycled material per tonne of PV processed."
   ]
  },
  {
   "cell_type": "markdown",
   "id": "2e7f92ea-e6a0-4cd4-8d57-1828200233fc",
   "metadata": {},
   "source": [
    "Calculate total PV input (cSi + CdTe)."
   ]
  },
  {
   "cell_type": "code",
   "execution_count": 77,
   "id": "23a164ae-b706-4803-bd5a-f5c59585c1fd",
   "metadata": {},
   "outputs": [
    {
     "data": {
      "text/plain": [
       "7    2.774263e+07\n",
       "Name: Total waste, dtype: float64"
      ]
     },
     "execution_count": 77,
     "metadata": {},
     "output_type": "execute_result"
    }
   ],
   "source": [
    "total_wastes[total_wastes['Material'] == 'csi_Module']['Total waste']"
   ]
  },
  {
   "cell_type": "code",
   "execution_count": 78,
   "id": "394766e2-5485-4be5-9958-2791bf61b089",
   "metadata": {},
   "outputs": [
    {
     "data": {
      "text/plain": [
       "12    5.556669e+06\n",
       "Name: Total waste, dtype: float64"
      ]
     },
     "execution_count": 78,
     "metadata": {},
     "output_type": "execute_result"
    }
   ],
   "source": [
    "total_wastes[total_wastes['Material'] == 'cdte_Module']['Total waste']"
   ]
  },
  {
   "cell_type": "code",
   "execution_count": 108,
   "id": "2843716f-bbe9-4d31-845f-a511cdfd4785",
   "metadata": {},
   "outputs": [],
   "source": [
    "total_pv_waste = np.array(sum(total_wastes[total_wastes['Material'] == 'csi_Module']['Total waste'],\\\n",
    "                              total_wastes[total_wastes['Material'] == 'cdte_Module']['Total waste']))"
   ]
  },
  {
   "cell_type": "code",
   "execution_count": 109,
   "id": "8f68c381-9275-4826-ba5d-cf060ae1a724",
   "metadata": {},
   "outputs": [
    {
     "data": {
      "text/plain": [
       "array([33299295.77638651])"
      ]
     },
     "execution_count": 109,
     "metadata": {},
     "output_type": "execute_result"
    }
   ],
   "source": [
    "total_pv_waste"
   ]
  },
  {
   "cell_type": "code",
   "execution_count": 88,
   "id": "d38bd3f6-c2a8-4498-9e1f-6b12b75a7469",
   "metadata": {},
   "outputs": [],
   "source": [
    "total_wastes['Tonnes of waste per tonne of PV'] = total_wastes['Total waste'].divide(total_pv_waste[0])"
   ]
  },
  {
   "cell_type": "markdown",
   "id": "acf24739-bee6-4282-a7b9-af70fc895fc9",
   "metadata": {},
   "source": [
    "Now, we add a new column with the material-specific recycling efficiencies. Luckily we made a dictionary of these values in [Data Preprocess 1 Section 4.3.](./data_preprocess_1.ipynb)"
   ]
  },
  {
   "cell_type": "code",
   "execution_count": 90,
   "id": "b1619028-1628-4a68-ab22-968f21f603c3",
   "metadata": {},
   "outputs": [],
   "source": [
    "total_wastes['Recycling Efficiencies'] = [0.98, 0.95, 0.95, 0.95, 1, 1, 1, 0, 0.95, 0.95, 0.9, 1, 0, 0.95, 0.9]"
   ]
  },
  {
   "cell_type": "code",
   "execution_count": 95,
   "id": "c45e5e99-ce99-4c12-864f-ebcd415d645f",
   "metadata": {},
   "outputs": [],
   "source": [
    "total_wastes['Tonnes of recycled material per tonne of PV'] =\\\n",
    "                            total_wastes['Tonnes of waste per tonne of PV'] *\\\n",
    "                            total_wastes['Recycling Efficiencies']"
   ]
  },
  {
   "cell_type": "code",
   "execution_count": 96,
   "id": "c67a2aa1-726b-4fa7-b4d0-baca0ec5d482",
   "metadata": {},
   "outputs": [
    {
     "data": {
      "text/html": [
       "<div>\n",
       "<style scoped>\n",
       "    .dataframe tbody tr th:only-of-type {\n",
       "        vertical-align: middle;\n",
       "    }\n",
       "\n",
       "    .dataframe tbody tr th {\n",
       "        vertical-align: top;\n",
       "    }\n",
       "\n",
       "    .dataframe thead th {\n",
       "        text-align: right;\n",
       "    }\n",
       "</style>\n",
       "<table border=\"1\" class=\"dataframe\">\n",
       "  <thead>\n",
       "    <tr style=\"text-align: right;\">\n",
       "      <th></th>\n",
       "      <th>Material</th>\n",
       "      <th>Total waste</th>\n",
       "      <th>Tonnes of waste per tonne of PV</th>\n",
       "      <th>Recycling Efficiencies</th>\n",
       "      <th>Tonnes of recycled material per tonne of PV</th>\n",
       "    </tr>\n",
       "  </thead>\n",
       "  <tbody>\n",
       "    <tr>\n",
       "      <th>0</th>\n",
       "      <td>csi_glass</td>\n",
       "      <td>2.028150e+07</td>\n",
       "      <td>0.609067</td>\n",
       "      <td>0.98</td>\n",
       "      <td>0.596885</td>\n",
       "    </tr>\n",
       "    <tr>\n",
       "      <th>1</th>\n",
       "      <td>csi_silicon</td>\n",
       "      <td>9.648958e+05</td>\n",
       "      <td>0.028976</td>\n",
       "      <td>0.95</td>\n",
       "      <td>0.027528</td>\n",
       "    </tr>\n",
       "    <tr>\n",
       "      <th>2</th>\n",
       "      <td>csi_silver</td>\n",
       "      <td>1.102219e+04</td>\n",
       "      <td>0.000331</td>\n",
       "      <td>0.95</td>\n",
       "      <td>0.000314</td>\n",
       "    </tr>\n",
       "    <tr>\n",
       "      <th>3</th>\n",
       "      <td>csi_copper</td>\n",
       "      <td>1.637505e+04</td>\n",
       "      <td>0.000492</td>\n",
       "      <td>0.95</td>\n",
       "      <td>0.000467</td>\n",
       "    </tr>\n",
       "    <tr>\n",
       "      <th>4</th>\n",
       "      <td>csi_aluminium_frames</td>\n",
       "      <td>3.428323e+06</td>\n",
       "      <td>0.102955</td>\n",
       "      <td>1.00</td>\n",
       "      <td>0.102955</td>\n",
       "    </tr>\n",
       "    <tr>\n",
       "      <th>5</th>\n",
       "      <td>csi_encapsulant</td>\n",
       "      <td>1.975741e+06</td>\n",
       "      <td>0.059333</td>\n",
       "      <td>1.00</td>\n",
       "      <td>0.059333</td>\n",
       "    </tr>\n",
       "    <tr>\n",
       "      <th>6</th>\n",
       "      <td>csi_backsheet</td>\n",
       "      <td>1.064773e+06</td>\n",
       "      <td>0.031976</td>\n",
       "      <td>1.00</td>\n",
       "      <td>0.031976</td>\n",
       "    </tr>\n",
       "    <tr>\n",
       "      <th>7</th>\n",
       "      <td>csi_Module</td>\n",
       "      <td>2.774263e+07</td>\n",
       "      <td>0.833130</td>\n",
       "      <td>0.00</td>\n",
       "      <td>0.000000</td>\n",
       "    </tr>\n",
       "    <tr>\n",
       "      <th>8</th>\n",
       "      <td>cdte_cadmium</td>\n",
       "      <td>2.053722e+03</td>\n",
       "      <td>0.000062</td>\n",
       "      <td>0.95</td>\n",
       "      <td>0.000059</td>\n",
       "    </tr>\n",
       "    <tr>\n",
       "      <th>9</th>\n",
       "      <td>cdte_tellurium</td>\n",
       "      <td>2.419863e+03</td>\n",
       "      <td>0.000073</td>\n",
       "      <td>0.95</td>\n",
       "      <td>0.000069</td>\n",
       "    </tr>\n",
       "    <tr>\n",
       "      <th>10</th>\n",
       "      <td>cdte_glass_cdte</td>\n",
       "      <td>5.290720e+06</td>\n",
       "      <td>0.158884</td>\n",
       "      <td>0.90</td>\n",
       "      <td>0.142995</td>\n",
       "    </tr>\n",
       "    <tr>\n",
       "      <th>11</th>\n",
       "      <td>cdte_aluminium_frames_cdte</td>\n",
       "      <td>1.099903e+05</td>\n",
       "      <td>0.003303</td>\n",
       "      <td>1.00</td>\n",
       "      <td>0.003303</td>\n",
       "    </tr>\n",
       "    <tr>\n",
       "      <th>12</th>\n",
       "      <td>cdte_Module</td>\n",
       "      <td>5.556669e+06</td>\n",
       "      <td>0.166870</td>\n",
       "      <td>0.00</td>\n",
       "      <td>0.000000</td>\n",
       "    </tr>\n",
       "    <tr>\n",
       "      <th>13</th>\n",
       "      <td>cdte_copper_cdte</td>\n",
       "      <td>1.926569e+04</td>\n",
       "      <td>0.000579</td>\n",
       "      <td>0.95</td>\n",
       "      <td>0.000550</td>\n",
       "    </tr>\n",
       "    <tr>\n",
       "      <th>14</th>\n",
       "      <td>cdte_encapsulant_cdte</td>\n",
       "      <td>1.322196e+05</td>\n",
       "      <td>0.003971</td>\n",
       "      <td>0.90</td>\n",
       "      <td>0.003574</td>\n",
       "    </tr>\n",
       "  </tbody>\n",
       "</table>\n",
       "</div>"
      ],
      "text/plain": [
       "                      Material   Total waste  Tonnes of waste per tonne of PV  \\\n",
       "0                    csi_glass  2.028150e+07                         0.609067   \n",
       "1                  csi_silicon  9.648958e+05                         0.028976   \n",
       "2                   csi_silver  1.102219e+04                         0.000331   \n",
       "3                   csi_copper  1.637505e+04                         0.000492   \n",
       "4         csi_aluminium_frames  3.428323e+06                         0.102955   \n",
       "5              csi_encapsulant  1.975741e+06                         0.059333   \n",
       "6                csi_backsheet  1.064773e+06                         0.031976   \n",
       "7                   csi_Module  2.774263e+07                         0.833130   \n",
       "8                 cdte_cadmium  2.053722e+03                         0.000062   \n",
       "9               cdte_tellurium  2.419863e+03                         0.000073   \n",
       "10             cdte_glass_cdte  5.290720e+06                         0.158884   \n",
       "11  cdte_aluminium_frames_cdte  1.099903e+05                         0.003303   \n",
       "12                 cdte_Module  5.556669e+06                         0.166870   \n",
       "13            cdte_copper_cdte  1.926569e+04                         0.000579   \n",
       "14       cdte_encapsulant_cdte  1.322196e+05                         0.003971   \n",
       "\n",
       "    Recycling Efficiencies  Tonnes of recycled material per tonne of PV  \n",
       "0                     0.98                                     0.596885  \n",
       "1                     0.95                                     0.027528  \n",
       "2                     0.95                                     0.000314  \n",
       "3                     0.95                                     0.000467  \n",
       "4                     1.00                                     0.102955  \n",
       "5                     1.00                                     0.059333  \n",
       "6                     1.00                                     0.031976  \n",
       "7                     0.00                                     0.000000  \n",
       "8                     0.95                                     0.000059  \n",
       "9                     0.95                                     0.000069  \n",
       "10                    0.90                                     0.142995  \n",
       "11                    1.00                                     0.003303  \n",
       "12                    0.00                                     0.000000  \n",
       "13                    0.95                                     0.000550  \n",
       "14                    0.90                                     0.003574  "
      ]
     },
     "execution_count": 96,
     "metadata": {},
     "output_type": "execute_result"
    }
   ],
   "source": [
    "total_wastes"
   ]
  },
  {
   "cell_type": "markdown",
   "id": "718adbad-ea61-4325-9abc-71d7e810c1e6",
   "metadata": {},
   "source": [
    "We assume that the material that is not recycled is landfilled. So let's calculate that!"
   ]
  },
  {
   "cell_type": "code",
   "execution_count": 97,
   "id": "dffee520-d2b0-4387-8e51-62d6f20632bb",
   "metadata": {},
   "outputs": [],
   "source": [
    "total_wastes['Tonnes of landfilled material per PV processed'] =\\\n",
    "                        total_wastes['Tonnes of waste per tonne of PV'] -\\\n",
    "                        total_wastes['Tonnes of recycled material per tonne of PV']"
   ]
  },
  {
   "cell_type": "markdown",
   "id": "2d77c69d-73df-4cc8-974a-5da5f6a6094b",
   "metadata": {},
   "source": [
    "Ignore the csi_Module and cdte_Modules. I should probably pop them out of the dataframe but for now I am keeping them for sanity check."
   ]
  },
  {
   "cell_type": "code",
   "execution_count": 98,
   "id": "78cf4c5c-6be4-4cad-aac7-9bd46b188593",
   "metadata": {},
   "outputs": [
    {
     "data": {
      "text/html": [
       "<div>\n",
       "<style scoped>\n",
       "    .dataframe tbody tr th:only-of-type {\n",
       "        vertical-align: middle;\n",
       "    }\n",
       "\n",
       "    .dataframe tbody tr th {\n",
       "        vertical-align: top;\n",
       "    }\n",
       "\n",
       "    .dataframe thead th {\n",
       "        text-align: right;\n",
       "    }\n",
       "</style>\n",
       "<table border=\"1\" class=\"dataframe\">\n",
       "  <thead>\n",
       "    <tr style=\"text-align: right;\">\n",
       "      <th></th>\n",
       "      <th>Material</th>\n",
       "      <th>Total waste</th>\n",
       "      <th>Tonnes of waste per tonne of PV</th>\n",
       "      <th>Recycling Efficiencies</th>\n",
       "      <th>Tonnes of recycled material per tonne of PV</th>\n",
       "      <th>Tonnes of landfilled material per PV processed</th>\n",
       "    </tr>\n",
       "  </thead>\n",
       "  <tbody>\n",
       "    <tr>\n",
       "      <th>0</th>\n",
       "      <td>csi_glass</td>\n",
       "      <td>2.028150e+07</td>\n",
       "      <td>0.609067</td>\n",
       "      <td>0.98</td>\n",
       "      <td>0.596885</td>\n",
       "      <td>0.012181</td>\n",
       "    </tr>\n",
       "    <tr>\n",
       "      <th>1</th>\n",
       "      <td>csi_silicon</td>\n",
       "      <td>9.648958e+05</td>\n",
       "      <td>0.028976</td>\n",
       "      <td>0.95</td>\n",
       "      <td>0.027528</td>\n",
       "      <td>0.001449</td>\n",
       "    </tr>\n",
       "    <tr>\n",
       "      <th>2</th>\n",
       "      <td>csi_silver</td>\n",
       "      <td>1.102219e+04</td>\n",
       "      <td>0.000331</td>\n",
       "      <td>0.95</td>\n",
       "      <td>0.000314</td>\n",
       "      <td>0.000017</td>\n",
       "    </tr>\n",
       "    <tr>\n",
       "      <th>3</th>\n",
       "      <td>csi_copper</td>\n",
       "      <td>1.637505e+04</td>\n",
       "      <td>0.000492</td>\n",
       "      <td>0.95</td>\n",
       "      <td>0.000467</td>\n",
       "      <td>0.000025</td>\n",
       "    </tr>\n",
       "    <tr>\n",
       "      <th>4</th>\n",
       "      <td>csi_aluminium_frames</td>\n",
       "      <td>3.428323e+06</td>\n",
       "      <td>0.102955</td>\n",
       "      <td>1.00</td>\n",
       "      <td>0.102955</td>\n",
       "      <td>0.000000</td>\n",
       "    </tr>\n",
       "    <tr>\n",
       "      <th>5</th>\n",
       "      <td>csi_encapsulant</td>\n",
       "      <td>1.975741e+06</td>\n",
       "      <td>0.059333</td>\n",
       "      <td>1.00</td>\n",
       "      <td>0.059333</td>\n",
       "      <td>0.000000</td>\n",
       "    </tr>\n",
       "    <tr>\n",
       "      <th>6</th>\n",
       "      <td>csi_backsheet</td>\n",
       "      <td>1.064773e+06</td>\n",
       "      <td>0.031976</td>\n",
       "      <td>1.00</td>\n",
       "      <td>0.031976</td>\n",
       "      <td>0.000000</td>\n",
       "    </tr>\n",
       "    <tr>\n",
       "      <th>7</th>\n",
       "      <td>csi_Module</td>\n",
       "      <td>2.774263e+07</td>\n",
       "      <td>0.833130</td>\n",
       "      <td>0.00</td>\n",
       "      <td>0.000000</td>\n",
       "      <td>0.833130</td>\n",
       "    </tr>\n",
       "    <tr>\n",
       "      <th>8</th>\n",
       "      <td>cdte_cadmium</td>\n",
       "      <td>2.053722e+03</td>\n",
       "      <td>0.000062</td>\n",
       "      <td>0.95</td>\n",
       "      <td>0.000059</td>\n",
       "      <td>0.000003</td>\n",
       "    </tr>\n",
       "    <tr>\n",
       "      <th>9</th>\n",
       "      <td>cdte_tellurium</td>\n",
       "      <td>2.419863e+03</td>\n",
       "      <td>0.000073</td>\n",
       "      <td>0.95</td>\n",
       "      <td>0.000069</td>\n",
       "      <td>0.000004</td>\n",
       "    </tr>\n",
       "    <tr>\n",
       "      <th>10</th>\n",
       "      <td>cdte_glass_cdte</td>\n",
       "      <td>5.290720e+06</td>\n",
       "      <td>0.158884</td>\n",
       "      <td>0.90</td>\n",
       "      <td>0.142995</td>\n",
       "      <td>0.015888</td>\n",
       "    </tr>\n",
       "    <tr>\n",
       "      <th>11</th>\n",
       "      <td>cdte_aluminium_frames_cdte</td>\n",
       "      <td>1.099903e+05</td>\n",
       "      <td>0.003303</td>\n",
       "      <td>1.00</td>\n",
       "      <td>0.003303</td>\n",
       "      <td>0.000000</td>\n",
       "    </tr>\n",
       "    <tr>\n",
       "      <th>12</th>\n",
       "      <td>cdte_Module</td>\n",
       "      <td>5.556669e+06</td>\n",
       "      <td>0.166870</td>\n",
       "      <td>0.00</td>\n",
       "      <td>0.000000</td>\n",
       "      <td>0.166870</td>\n",
       "    </tr>\n",
       "    <tr>\n",
       "      <th>13</th>\n",
       "      <td>cdte_copper_cdte</td>\n",
       "      <td>1.926569e+04</td>\n",
       "      <td>0.000579</td>\n",
       "      <td>0.95</td>\n",
       "      <td>0.000550</td>\n",
       "      <td>0.000029</td>\n",
       "    </tr>\n",
       "    <tr>\n",
       "      <th>14</th>\n",
       "      <td>cdte_encapsulant_cdte</td>\n",
       "      <td>1.322196e+05</td>\n",
       "      <td>0.003971</td>\n",
       "      <td>0.90</td>\n",
       "      <td>0.003574</td>\n",
       "      <td>0.000397</td>\n",
       "    </tr>\n",
       "  </tbody>\n",
       "</table>\n",
       "</div>"
      ],
      "text/plain": [
       "                      Material   Total waste  Tonnes of waste per tonne of PV  \\\n",
       "0                    csi_glass  2.028150e+07                         0.609067   \n",
       "1                  csi_silicon  9.648958e+05                         0.028976   \n",
       "2                   csi_silver  1.102219e+04                         0.000331   \n",
       "3                   csi_copper  1.637505e+04                         0.000492   \n",
       "4         csi_aluminium_frames  3.428323e+06                         0.102955   \n",
       "5              csi_encapsulant  1.975741e+06                         0.059333   \n",
       "6                csi_backsheet  1.064773e+06                         0.031976   \n",
       "7                   csi_Module  2.774263e+07                         0.833130   \n",
       "8                 cdte_cadmium  2.053722e+03                         0.000062   \n",
       "9               cdte_tellurium  2.419863e+03                         0.000073   \n",
       "10             cdte_glass_cdte  5.290720e+06                         0.158884   \n",
       "11  cdte_aluminium_frames_cdte  1.099903e+05                         0.003303   \n",
       "12                 cdte_Module  5.556669e+06                         0.166870   \n",
       "13            cdte_copper_cdte  1.926569e+04                         0.000579   \n",
       "14       cdte_encapsulant_cdte  1.322196e+05                         0.003971   \n",
       "\n",
       "    Recycling Efficiencies  Tonnes of recycled material per tonne of PV  \\\n",
       "0                     0.98                                     0.596885   \n",
       "1                     0.95                                     0.027528   \n",
       "2                     0.95                                     0.000314   \n",
       "3                     0.95                                     0.000467   \n",
       "4                     1.00                                     0.102955   \n",
       "5                     1.00                                     0.059333   \n",
       "6                     1.00                                     0.031976   \n",
       "7                     0.00                                     0.000000   \n",
       "8                     0.95                                     0.000059   \n",
       "9                     0.95                                     0.000069   \n",
       "10                    0.90                                     0.142995   \n",
       "11                    1.00                                     0.003303   \n",
       "12                    0.00                                     0.000000   \n",
       "13                    0.95                                     0.000550   \n",
       "14                    0.90                                     0.003574   \n",
       "\n",
       "    Tonnes of landfilled material per PV processed  \n",
       "0                                         0.012181  \n",
       "1                                         0.001449  \n",
       "2                                         0.000017  \n",
       "3                                         0.000025  \n",
       "4                                         0.000000  \n",
       "5                                         0.000000  \n",
       "6                                         0.000000  \n",
       "7                                         0.833130  \n",
       "8                                         0.000003  \n",
       "9                                         0.000004  \n",
       "10                                        0.015888  \n",
       "11                                        0.000000  \n",
       "12                                        0.166870  \n",
       "13                                        0.000029  \n",
       "14                                        0.000397  "
      ]
     },
     "execution_count": 98,
     "metadata": {},
     "output_type": "execute_result"
    }
   ],
   "source": [
    "total_wastes "
   ]
  },
  {
   "cell_type": "markdown",
   "id": "4906a140-e0e9-4baa-b914-cb1786efd8ce",
   "metadata": {},
   "source": [
    "Contaminated glass has to go to a special waste management, so let's put it in its own bin."
   ]
  },
  {
   "cell_type": "code",
   "execution_count": 137,
   "id": "591aa8d8-8117-4ebb-884c-ef21cb23c98b",
   "metadata": {},
   "outputs": [
    {
     "data": {
      "text/plain": [
       "array([0.02806972])"
      ]
     },
     "execution_count": 137,
     "metadata": {},
     "output_type": "execute_result"
    }
   ],
   "source": [
    "tt_contaminated_glass = np.array(sum(total_wastes[total_wastes['Material'] == 'csi_glass']['Tonnes of landfilled material per PV processed'],\\\n",
    "                              total_wastes[total_wastes['Material'] == 'cdte_glass_cdte']['Tonnes of landfilled material per PV processed']))\n",
    "tt_contaminated_glass"
   ]
  },
  {
   "cell_type": "markdown",
   "id": "97539da1-f870-4f9a-8a45-62ad72d7c1bb",
   "metadata": {},
   "source": [
    "Same goes with cadmium waste."
   ]
  },
  {
   "cell_type": "code",
   "execution_count": 152,
   "id": "9a5c8357-1108-4774-9b46-36fa46085644",
   "metadata": {},
   "outputs": [],
   "source": [
    "tt_cadmium_waste = np.array(total_wastes[total_wastes['Material'] == 'cdte_cadmium']['Tonnes of landfilled material per PV processed'])"
   ]
  },
  {
   "cell_type": "code",
   "execution_count": 153,
   "id": "53ec992a-6310-4a2c-a211-67f39f200991",
   "metadata": {},
   "outputs": [
    {
     "data": {
      "text/plain": [
       "array([3.0837314e-06])"
      ]
     },
     "execution_count": 153,
     "metadata": {},
     "output_type": "execute_result"
    }
   ],
   "source": [
    "tt_cadmium_waste"
   ]
  },
  {
   "cell_type": "markdown",
   "id": "561050b2-ff9f-4620-8aa8-dda2cb66c6c1",
   "metadata": {},
   "source": [
    "Now let's calculate the rest of the waste:"
   ]
  },
  {
   "cell_type": "code",
   "execution_count": 141,
   "id": "bcabf8f2-3d00-47f1-a0fc-32505461047e",
   "metadata": {},
   "outputs": [],
   "source": [
    "tt_all_waste = np.array(total_wastes['Tonnes of landfilled material per PV processed'].sum(axis=0))"
   ]
  },
  {
   "cell_type": "markdown",
   "id": "4225b2b1-e96a-4464-b049-67af5ae91485",
   "metadata": {},
   "source": [
    "I substract 1 to the count to avoid counting the csi_Modules and cdte_Modules values."
   ]
  },
  {
   "cell_type": "code",
   "execution_count": 154,
   "id": "3f89fef4-ea2a-483c-8f31-be999a790863",
   "metadata": {},
   "outputs": [],
   "source": [
    "tt_other_waste = tt_all_waste - ttcadmium_waste - tt_contaminated_glass - 1"
   ]
  },
  {
   "cell_type": "code",
   "execution_count": 155,
   "id": "12d172f1-51c0-4c3a-9559-f009a75334f8",
   "metadata": {},
   "outputs": [
    {
     "data": {
      "text/plain": [
       "array([0.00191959])"
      ]
     },
     "execution_count": 155,
     "metadata": {},
     "output_type": "execute_result"
    }
   ],
   "source": [
    "tt_other_waste"
   ]
  },
  {
   "cell_type": "code",
   "execution_count": null,
   "id": "5ec60101-829e-45ca-a37a-2c08f89b0e61",
   "metadata": {},
   "outputs": [],
   "source": []
  }
 ],
 "metadata": {
  "kernelspec": {
   "display_name": "RELOG",
   "language": "python",
   "name": "relog"
  },
  "language_info": {
   "codemirror_mode": {
    "name": "ipython",
    "version": 3
   },
   "file_extension": ".py",
   "mimetype": "text/x-python",
   "name": "python",
   "nbconvert_exporter": "python",
   "pygments_lexer": "ipython3",
   "version": "3.10.6"
  }
 },
 "nbformat": 4,
 "nbformat_minor": 5
}
