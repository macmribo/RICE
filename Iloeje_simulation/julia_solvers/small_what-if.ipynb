{
 "cells": [
  {
   "cell_type": "code",
   "execution_count": 2,
   "id": "387d5feb-90a8-47c9-b446-acf228f16ca9",
   "metadata": {},
   "outputs": [
    {
     "name": "stdout",
     "output_type": "stream",
     "text": [
      "\u001b[36m\u001b[1m[ \u001b[22m\u001b[39m\u001b[36m\u001b[1mInfo: \u001b[22m\u001b[39m started timer at: 2022-11-16T11:29:05.812\n",
      "\u001b[36m\u001b[1m[ \u001b[22m\u001b[39m\u001b[36m\u001b[1mInfo: \u001b[22m\u001b[39mReading input/smallproblem/InputPipelineData.json...\n",
      "\u001b[36m\u001b[1m[ \u001b[22m\u001b[39m\u001b[36m\u001b[1mInfo: \u001b[22m\u001b[39m        1130 collection centers\n",
      "\u001b[36m\u001b[1m[ \u001b[22m\u001b[39m\u001b[36m\u001b[1mInfo: \u001b[22m\u001b[39m          10 candidate plant locations\n",
      "\u001b[36m\u001b[1m[ \u001b[22m\u001b[39m\u001b[36m\u001b[1mInfo: \u001b[22m\u001b[39mBuilding graph...\n",
      "\u001b[36m\u001b[1m[ \u001b[22m\u001b[39m\u001b[36m\u001b[1mInfo: \u001b[22m\u001b[39m               5 time periods\n",
      "\u001b[36m\u001b[1m[ \u001b[22m\u001b[39m\u001b[36m\u001b[1mInfo: \u001b[22m\u001b[39m              10 process nodes\n",
      "\u001b[36m\u001b[1m[ \u001b[22m\u001b[39m\u001b[36m\u001b[1mInfo: \u001b[22m\u001b[39m             100 shipping nodes (plant)\n",
      "\u001b[36m\u001b[1m[ \u001b[22m\u001b[39m\u001b[36m\u001b[1mInfo: \u001b[22m\u001b[39m            1130 shipping nodes (collection)\n",
      "\u001b[36m\u001b[1m[ \u001b[22m\u001b[39m\u001b[36m\u001b[1mInfo: \u001b[22m\u001b[39m           11400 arcs\n",
      "\u001b[36m\u001b[1m[ \u001b[22m\u001b[39m\u001b[36m\u001b[1mInfo: \u001b[22m\u001b[39mBuilding optimization model...\n",
      "\u001b[36m\u001b[1m[ \u001b[22m\u001b[39m\u001b[36m\u001b[1mInfo: \u001b[22m\u001b[39mOptimizing MILP...\n",
      "\u001b[36m\u001b[1m[ \u001b[22m\u001b[39m\u001b[36m\u001b[1mInfo: \u001b[22m\u001b[39mRe-optimizing with integer variables fixed...\n",
      "\u001b[36m\u001b[1m[ \u001b[22m\u001b[39m\u001b[36m\u001b[1mInfo: \u001b[22m\u001b[39mExtracting solution...\n",
      "\u001b[36m\u001b[1m[ \u001b[22m\u001b[39m\u001b[36m\u001b[1mInfo: \u001b[22m\u001b[39m        42.509078792s: 42 seconds, 509 milliseconds\n",
      "\u001b[36m\u001b[1m[ \u001b[22m\u001b[39m\u001b[36m\u001b[1mInfo: \u001b[22m\u001b[39m started timer at: 2022-11-16T11:29:48.385\n"
     ]
    },
    {
     "ename": "LoadError",
     "evalue": "MethodError: no method matching iterate(::Regex)\n\u001b[0mClosest candidates are:\n\u001b[0m  iterate(\u001b[91m::Union{LinRange, StepRangeLen}\u001b[39m) at range.jl:872\n\u001b[0m  iterate(\u001b[91m::Union{LinRange, StepRangeLen}\u001b[39m, \u001b[91m::Integer\u001b[39m) at range.jl:872\n\u001b[0m  iterate(\u001b[91m::T\u001b[39m) where T<:Union{Base.KeySet{<:Any, <:Dict}, Base.ValueIterator{<:Dict}} at dict.jl:712\n\u001b[0m  ...",
     "output_type": "error",
     "traceback": [
      "MethodError: no method matching iterate(::Regex)\n\u001b[0mClosest candidates are:\n\u001b[0m  iterate(\u001b[91m::Union{LinRange, StepRangeLen}\u001b[39m) at range.jl:872\n\u001b[0m  iterate(\u001b[91m::Union{LinRange, StepRangeLen}\u001b[39m, \u001b[91m::Integer\u001b[39m) at range.jl:872\n\u001b[0m  iterate(\u001b[91m::T\u001b[39m) where T<:Union{Base.KeySet{<:Any, <:Dict}, Base.ValueIterator{<:Dict}} at dict.jl:712\n\u001b[0m  ...",
      "",
      "Stacktrace:",
      " [1] isempty(itr::Regex)",
      "   @ Base ./essentials.jl:788",
      " [2] Glob.GlobMatch(pattern::Regex)",
      "   @ Glob ~/.julia/packages/Glob/GOSfX/src/Glob.jl:296",
      " [3] glob(pattern::Regex, prefix::String)",
      "   @ Glob ~/.julia/packages/Glob/GOSfX/src/Glob.jl:366",
      " [4] glob(pattern::Regex)",
      "   @ Glob ~/.julia/packages/Glob/GOSfX/src/Glob.jl:365",
      " [5] top-level scope",
      "   @ ./In[2]:23",
      " [6] eval",
      "   @ ./boot.jl:368 [inlined]",
      " [7] include_string(mapexpr::typeof(REPL.softscope), mod::Module, code::String, filename::String)",
      "   @ Base ./loading.jl:1428"
     ]
    }
   ],
   "source": [
    "# Improve output style on Jupyter Notebook\n",
    "using Logging\n",
    "global_logger(ConsoleLogger(stdout));\n",
    "\n",
    "# Package to time cells\n",
    "using TickTock\n",
    "\n",
    "using RELOG\n",
    "\n",
    "\n",
    "using Glob\n",
    "using Logging\n",
    "\n",
    "\n",
    "tick()\n",
    "# Solve reference case\n",
    "problem = \"smallproblem\"\n",
    "_, model = RELOG.solve(\"input/$problem/InputPipelineData.json\", return_model=true);\n",
    "tock()\n",
    "\n",
    "tick()\n",
    "# Solve what-if scenarios\n",
    "for filename in glob(r\"input/whatif-$problem/*.json\")\n",
    "    solution = RELOG.resolve(model, filename, optimizer=gurobi)\n",
    "    prefix = joinpath(\n",
    "        r\"output\",\n",
    "        \"whatif-$problem\",\n",
    "        replace(basename(filename), \".json\" => \"\"),\n",
    "    )\n",
    "    RELOG.write_plants_report(solution, \"$(prefix)_plants.csv\")\n",
    "    RELOG.write_products_report(solution, \"$(prefix)_products.csv\")\n",
    "    RELOG.write_plant_outputs_report(solution, \"$(prefix)_plant_outputs.csv\")\n",
    "    RELOG.write_plant_emissions_report(solution, \"$(prefix)_plant_emissions.csv\")\n",
    "    RELOG.write_transportation_report(solution, \"$(prefix)_tr.csv\")\n",
    "    RELOG.write_transportation_emissions_report(solution, \"$(prefix)_tr_emissions.csv\")\n",
    "end\n",
    "tock()"
   ]
  },
  {
   "cell_type": "code",
   "execution_count": null,
   "id": "62df7ea0-6e2a-4fa6-8064-38bc152b3bb1",
   "metadata": {},
   "outputs": [],
   "source": []
  }
 ],
 "metadata": {
  "kernelspec": {
   "display_name": "Julia 1.8.2",
   "language": "julia",
   "name": "julia-1.8"
  },
  "language_info": {
   "file_extension": ".jl",
   "mimetype": "application/julia",
   "name": "julia",
   "version": "1.8.2"
  }
 },
 "nbformat": 4,
 "nbformat_minor": 5
}
