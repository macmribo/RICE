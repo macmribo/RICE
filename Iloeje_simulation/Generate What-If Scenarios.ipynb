{
 "cells": [
  {
   "cell_type": "markdown",
   "metadata": {},
   "source": [
    "## Generate What-if Scenarios"
   ]
  },
  {
   "cell_type": "code",
   "execution_count": 25,
   "metadata": {},
   "outputs": [],
   "source": [
    "import json\n",
    "max_capacity = 5628\n",
    "problem = \"smallproblem\""
   ]
  },
  {
   "cell_type": "code",
   "execution_count": 26,
   "metadata": {},
   "outputs": [],
   "source": [
    "with open(f\"input/{problem}/InputPipelineData.json\") as infile:\n",
    "    case = json.load(infile)\n",
    "    t = case[\"parameters\"][\"time horizon (years)\"]\n",
    "    for cap in [0.25, 0.5, 1, 2, 4]:\n",
    "        for cost in [0.0, 50, 100, 150, 300, 600]:\n",
    "            for plant in case[\"plants\"].values():\n",
    "                for loc in plant[\"locations\"].values():\n",
    "                    loc[\"storage\"][\"cost ($/tonne)\"] = [cost for _ in range(t)]\n",
    "                    loc[\"storage\"][\"limit (tonne)\"] = cap * max_capacity\n",
    "            with open(\n",
    "                f\"input/whatif-{problem}/storage_ultra_cap_{cap}_cost_{cost}.json\",\n",
    "                \"w\",\n",
    "            ) as outfile:\n",
    "                json.dump(case, outfile, indent=2)"
   ]
  }
 ],
 "metadata": {
  "kernelspec": {
   "display_name": "Python 3 (ipykernel)",
   "language": "python",
   "name": "python3"
  },
  "language_info": {
   "codemirror_mode": {
    "name": "ipython",
    "version": 3
   },
   "file_extension": ".py",
   "mimetype": "text/x-python",
   "name": "python",
   "nbconvert_exporter": "python",
   "pygments_lexer": "ipython3",
   "version": "3.9.12"
  }
 },
 "nbformat": 4,
 "nbformat_minor": 4
}
