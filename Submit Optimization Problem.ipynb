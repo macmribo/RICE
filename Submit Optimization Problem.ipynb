{
 "cells": [
  {
   "cell_type": "code",
   "execution_count": 1,
   "metadata": {
    "tags": []
   },
   "outputs": [],
   "source": [
    "# Improve output style on Jupyter Notebook\n",
    "using Logging\n",
    "global_logger(ConsoleLogger(stdout));\n",
    "\n",
    "# Import package\n",
    "using RELOG\n",
    "\n",
    "# Package to time cells\n",
    "using TickTock"
   ]
  },
  {
   "cell_type": "markdown",
   "metadata": {},
   "source": [
    "## Small problem"
   ]
  },
  {
   "cell_type": "code",
   "execution_count": 6,
   "metadata": {},
   "outputs": [
    {
     "name": "stdout",
     "output_type": "stream",
     "text": [
      "\u001b[36m\u001b[1m[ \u001b[22m\u001b[39m\u001b[36m\u001b[1mInfo: \u001b[22m\u001b[39m started timer at: 2022-11-08T16:47:11.836\n",
      "\u001b[36m\u001b[1m[ \u001b[22m\u001b[39m\u001b[36m\u001b[1mInfo: \u001b[22m\u001b[39mReading input/smallproblem/InputPipelineData.json...\n",
      "\u001b[36m\u001b[1m[ \u001b[22m\u001b[39m\u001b[36m\u001b[1mInfo: \u001b[22m\u001b[39m        1130 collection centers\n",
      "\u001b[36m\u001b[1m[ \u001b[22m\u001b[39m\u001b[36m\u001b[1mInfo: \u001b[22m\u001b[39m          10 candidate plant locations\n",
      "\u001b[36m\u001b[1m[ \u001b[22m\u001b[39m\u001b[36m\u001b[1mInfo: \u001b[22m\u001b[39mBuilding graph...\n",
      "\u001b[36m\u001b[1m[ \u001b[22m\u001b[39m\u001b[36m\u001b[1mInfo: \u001b[22m\u001b[39m               5 time periods\n",
      "\u001b[36m\u001b[1m[ \u001b[22m\u001b[39m\u001b[36m\u001b[1mInfo: \u001b[22m\u001b[39m              10 process nodes\n",
      "\u001b[36m\u001b[1m[ \u001b[22m\u001b[39m\u001b[36m\u001b[1mInfo: \u001b[22m\u001b[39m             100 shipping nodes (plant)\n",
      "\u001b[36m\u001b[1m[ \u001b[22m\u001b[39m\u001b[36m\u001b[1mInfo: \u001b[22m\u001b[39m            1130 shipping nodes (collection)\n",
      "\u001b[36m\u001b[1m[ \u001b[22m\u001b[39m\u001b[36m\u001b[1mInfo: \u001b[22m\u001b[39m           11400 arcs\n",
      "\u001b[36m\u001b[1m[ \u001b[22m\u001b[39m\u001b[36m\u001b[1mInfo: \u001b[22m\u001b[39mBuilding optimization model...\n",
      "\u001b[36m\u001b[1m[ \u001b[22m\u001b[39m\u001b[36m\u001b[1mInfo: \u001b[22m\u001b[39mOptimizing MILP...\n",
      "\u001b[36m\u001b[1m[ \u001b[22m\u001b[39m\u001b[36m\u001b[1mInfo: \u001b[22m\u001b[39mRe-optimizing with integer variables fixed...\n",
      "\u001b[36m\u001b[1m[ \u001b[22m\u001b[39m\u001b[36m\u001b[1mInfo: \u001b[22m\u001b[39mExtracting solution...\n",
      "\u001b[36m\u001b[1m[ \u001b[22m\u001b[39m\u001b[36m\u001b[1mInfo: \u001b[22m\u001b[39m        19.785289709s: 19 seconds, 785 milliseconds\n"
     ]
    }
   ],
   "source": [
    "tick()\n",
    "# Solve optimization problem\n",
    "solution = RELOG.solve(\"input/smallproblem/InputPipelineData.json\")\n",
    "\n",
    "# Write CSV report showing plant costs, capacities, energy expenditure and\n",
    "# utilization factors\n",
    "RELOG.write_plants_report(solution, \"output/smallproblem/plants.csv\")\n",
    "\n",
    "# Write CSV report showing amount of product sent from initial locations to plants,\n",
    "# and from one plant to another. Includes the distance between each pair of\n",
    "# locations, amount-distance shipped, transportation costs and energy expenditure\n",
    "RELOG.write_transportation_report(solution, \"output/smallproblem/transportation.csv\")\n",
    "\n",
    "# Write CSV report showing primary product amounts, locations and marginal costs\n",
    "RELOG.write_products_report(solution, \"output/smallproblem/products.csv\");\n",
    "tock()"
   ]
  },
  {
   "cell_type": "markdown",
   "metadata": {},
   "source": [
    "## Conservative"
   ]
  },
  {
   "cell_type": "code",
   "execution_count": null,
   "metadata": {},
   "outputs": [
    {
     "name": "stdout",
     "output_type": "stream",
     "text": [
      "\u001b[36m\u001b[1m[ \u001b[22m\u001b[39m\u001b[36m\u001b[1mInfo: \u001b[22m\u001b[39m started timer at: 2022-11-09T09:54:28.661\n",
      "\u001b[36m\u001b[1m[ \u001b[22m\u001b[39m\u001b[36m\u001b[1mInfo: \u001b[22m\u001b[39mReading input/conservative/locodata_ultra.json...\n",
      "\u001b[36m\u001b[1m[ \u001b[22m\u001b[39m\u001b[36m\u001b[1mInfo: \u001b[22m\u001b[39m        3613 collection centers\n",
      "\u001b[36m\u001b[1m[ \u001b[22m\u001b[39m\u001b[36m\u001b[1mInfo: \u001b[22m\u001b[39m          96 candidate plant locations\n",
      "\u001b[36m\u001b[1m[ \u001b[22m\u001b[39m\u001b[36m\u001b[1mInfo: \u001b[22m\u001b[39mBuilding graph...\n",
      "\u001b[36m\u001b[1m[ \u001b[22m\u001b[39m\u001b[36m\u001b[1mInfo: \u001b[22m\u001b[39m              26 time periods\n",
      "\u001b[36m\u001b[1m[ \u001b[22m\u001b[39m\u001b[36m\u001b[1mInfo: \u001b[22m\u001b[39m              96 process nodes\n",
      "\u001b[36m\u001b[1m[ \u001b[22m\u001b[39m\u001b[36m\u001b[1mInfo: \u001b[22m\u001b[39m             960 shipping nodes (plant)\n",
      "\u001b[36m\u001b[1m[ \u001b[22m\u001b[39m\u001b[36m\u001b[1mInfo: \u001b[22m\u001b[39m            3613 shipping nodes (collection)\n",
      "\u001b[36m\u001b[1m[ \u001b[22m\u001b[39m\u001b[36m\u001b[1mInfo: \u001b[22m\u001b[39m          347808 arcs\n",
      "\u001b[36m\u001b[1m[ \u001b[22m\u001b[39m\u001b[36m\u001b[1mInfo: \u001b[22m\u001b[39mBuilding optimization model...\n",
      "\u001b[36m\u001b[1m[ \u001b[22m\u001b[39m\u001b[36m\u001b[1mInfo: \u001b[22m\u001b[39mOptimizing MILP...\n"
     ]
    }
   ],
   "source": [
    "tick()\n",
    "# Solve optimization problem\n",
    "solution = RELOG.solve(\"input/conservative/locodata_ultra.json\")\n",
    "\n",
    "# Write CSV report showing plant costs, capacities, energy expenditure and\n",
    "# utilization factors\n",
    "RELOG.write_plants_report(solution, \"output/conservative/plants.csv\")\n",
    "\n",
    "# Write CSV report showing amount of product sent from initial locations to plants,\n",
    "# and from one plant to another. Includes the distance between each pair of\n",
    "# locations, amount-distance shipped, transportation costs and energy expenditure\n",
    "RELOG.write_transportation_report(solution, \"output/conservative/transportation.csv\")\n",
    "\n",
    "# Write CSV report showing primary product amounts, locations and marginal costs\n",
    "RELOG.write_products_report(solution, \"output/conservative/products.csv\");\n",
    "tock()"
   ]
  },
  {
   "cell_type": "markdown",
   "metadata": {},
   "source": [
    "## Optimistic"
   ]
  },
  {
   "cell_type": "code",
   "execution_count": null,
   "metadata": {},
   "outputs": [],
   "source": [
    "# Solve optimization problem\n",
    "solution = RELOG.solve(\"input/optimistic/locodata_ultra.json\")\n",
    "\n",
    "# Write CSV report showing plant costs, capacities, energy expenditure and\n",
    "# utilization factors\n",
    "RELOG.write_plants_report(solution, \"output/optimistic/plants.csv\")\n",
    "\n",
    "# Write CSV report showing amount of product sent from initial locations to plants,\n",
    "# and from one plant to another. Includes the distance between each pair of\n",
    "# locations, amount-distance shipped, transportation costs and energy expenditure\n",
    "RELOG.write_transportation_report(solution, \"output/optimistic/transportation.csv\")\n",
    "\n",
    "# Write CSV report showing primary product amounts, locations and marginal costs\n",
    "RELOG.write_products_report(solution, \"output/optimistic/products.csv\");"
   ]
  },
  {
   "cell_type": "code",
   "execution_count": null,
   "metadata": {},
   "outputs": [],
   "source": []
  }
 ],
 "metadata": {
  "kernelspec": {
   "display_name": "Julia 1.8.2",
   "language": "julia",
   "name": "julia-1.8"
  },
  "language_info": {
   "file_extension": ".jl",
   "mimetype": "application/julia",
   "name": "julia",
   "version": "1.8.2"
  }
 },
 "nbformat": 4,
 "nbformat_minor": 4
}
