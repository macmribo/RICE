{
 "cells": [
  {
   "cell_type": "markdown",
   "id": "dc9d045c-d008-478c-a0c1-3a3bb0bb68d3",
   "metadata": {},
   "source": [
    "# PVICE & RELOG - MassFlows Calculations"
   ]
  },
  {
   "cell_type": "markdown",
   "id": "e7f7ac91-b821-428d-937e-7ed7364ef95b",
   "metadata": {},
   "source": [
    "## 1. Initial setup"
   ]
  },
  {
   "cell_type": "markdown",
   "id": "d9ce8159-2ff8-4b26-9ba9-47a0a26f10ba",
   "metadata": {},
   "source": [
    "### Load libraries"
   ]
  },
  {
   "cell_type": "code",
   "execution_count": 1,
   "id": "6e869c19-6f92-40db-a041-57784774127a",
   "metadata": {},
   "outputs": [],
   "source": [
    "import PV_ICE\n",
    "import numpy as np\n",
    "import pandas as pd\n",
    "import os,sys\n",
    "import matplotlib.pyplot as plt"
   ]
  },
  {
   "cell_type": "markdown",
   "id": "abb67d99-3429-4e6c-ae4b-f1878d1b74cb",
   "metadata": {},
   "source": [
    "### Select the baselines and simulation folders"
   ]
  },
  {
   "cell_type": "code",
   "execution_count": 2,
   "id": "9d235534-0bb4-46e6-b58f-05e35f1db616",
   "metadata": {},
   "outputs": [],
   "source": [
    "cwd = os.getcwd()\n",
    "baselinefolder = os.path.join(cwd, 'baselines')\n",
    "testfolder = os.path.join(cwd, 'TEMP')\n"
   ]
  },
  {
   "cell_type": "code",
   "execution_count": 3,
   "id": "0353dd17-b03d-401a-b573-8df434253596",
   "metadata": {},
   "outputs": [],
   "source": [
    "SFscenarios = ['95-by-35_Elec.Adv_DR_cSi', '95-by-35_Elec.Adv_DR_CdTe']"
   ]
  },
  {
   "cell_type": "markdown",
   "id": "69e15609-ea32-483b-8286-9b88b4a943e8",
   "metadata": {},
   "source": [
    "### Reading GIS inputs"
   ]
  },
  {
   "cell_type": "code",
   "execution_count": null,
   "id": "368e6ec8-6a75-41de-becd-bae8519ccca4",
   "metadata": {},
   "outputs": [],
   "source": [
    "from geopy.geocoders import Nominatim\n",
    "from geopy.point import Point\n",
    "# initialize Nominatim API\n",
    "geolocator = Nominatim(user_agent=\"geoapiExercises\")"
   ]
  },
  {
   "cell_type": "code",
   "execution_count": null,
   "id": "46b1d9e5-19f6-40f5-badd-1918f7983772",
   "metadata": {},
   "outputs": [],
   "source": [
    "GISfile = os.path.join(baselinefolder, 'gis_centroid_n.xlsx')\n",
    "GIS = pd.read_excel(GISfile)\n",
    "GIS = GIS.set_index('id')"
   ]
  },
  {
   "cell_type": "markdown",
   "id": "91f80c80-2fc5-4d8c-817c-bc25400cc53c",
   "metadata": {},
   "source": [
    "## 2. Load PCA baselines, create the 2 Scenarios and assign baselines\n",
    "\n",
    "Keeping track of each scenario as its own PV ICE Object."
   ]
  },
  {
   "cell_type": "markdown",
   "id": "c1407225-8467-4e33-ae37-ddb9886ccab0",
   "metadata": {},
   "source": [
    "Select the method folder you want to run (uncomment your choice). There are three choices:\n",
    "1. Method 1: Uses the raw regionalized capacity by ReEEDS, this creates a very uneven peak of wastes.\n",
    "2. Method 2: Uses ordered wastes between 2021 to 2035 and 2046 to 2050. Still creates unrealistic peaks.\n",
    "3. Method 3: Uses the cummulative capacity between 2021 to 2035 and 2034 to 2050 to create a logarithmic growth of waste (this method is being tested, not validated yet, and subjected to ongoing changes)."
   ]
  },
  {
   "cell_type": "code",
   "execution_count": 5,
   "id": "5aa19785-b9cd-4453-b8dd-d15c041c44f5",
   "metadata": {},
   "outputs": [],
   "source": [
    "pv_ice_simulations = 'fsdf'"
   ]
  },
  {
   "cell_type": "code",
   "execution_count": null,
   "id": "1822efd9-15ac-4863-bb84-a2faed0ca6ce",
   "metadata": {},
   "outputs": [],
   "source": [
    "method_list = ['Method1', 'Method2', 'Method3']"
   ]
  },
  {
   "cell_type": "code",
   "execution_count": null,
   "id": "b541cdac-47d5-4ce8-90bc-ce1672df95b6",
   "metadata": {},
   "outputs": [],
   "source": [
    "pv_ice_simulations in method_list"
   ]
  },
  {
   "cell_type": "code",
   "execution_count": null,
   "id": "3050291b-f80d-4871-a6f1-66d2aa540c3f",
   "metadata": {},
   "outputs": [],
   "source": []
  },
  {
   "cell_type": "code",
   "execution_count": 7,
   "id": "cf92be8e-cfa9-4508-89f4-4ead033b1ee0",
   "metadata": {},
   "outputs": [
    {
     "ename": "SyntaxError",
     "evalue": "Missing parentheses in call to 'print'. Did you mean print(...)? (1904178949.py, line 1)",
     "output_type": "error",
     "traceback": [
      "\u001b[0;36m  Input \u001b[0;32mIn [7]\u001b[0;36m\u001b[0m\n\u001b[0;31m    print \"Choose one of the following methods: Method1, Method2 or Method3.\"\u001b[0m\n\u001b[0m    ^\u001b[0m\n\u001b[0;31mSyntaxError\u001b[0m\u001b[0;31m:\u001b[0m Missing parentheses in call to 'print'. Did you mean print(...)?\n"
     ]
    }
   ],
   "source": [
    "print(\"Choose one of the following methods: Method1, Method2 or Method3.\"\n",
    "pv_ice_simulations = None\n",
    "while pv_ice_simulations not in {\"Method1\", \"Method2\", \"Method3\"}:\n",
    "    pv_ice_simulations = input('Input method not in the list, please choose one of the following methods: Method1, Method2 or Method3.')"
   ]
  },
  {
   "cell_type": "code",
   "execution_count": 6,
   "id": "e3ea4e16-838e-477f-96dd-a95ab61d0e18",
   "metadata": {},
   "outputs": [],
   "source": [
    "method_list = ['Method1', 'Method2', 'Method3']\n",
    "while True:\n",
    "    try:\n",
    "        pv_ice_simulations = input('Choose one of the following methods: Method1, Method2 or Method3.')\n",
    "    except ValueError:\n",
    "        print('Input method not in the list, please choose one of the following methods: Method1, Method2 or Method3.')\n",
    "        continue\n",
    "    else:\n",
    "        print('You have chosen {}.'.format(pv_ice_simulations))\n",
    "        break"
   ]
  },
  {
   "cell_type": "code",
   "execution_count": null,
   "id": "99ed9387-77ab-4d2a-8db4-f57291967203",
   "metadata": {},
   "outputs": [],
   "source": [
    "method_list = ['Method1', 'Method2', 'Method3']\n",
    "pv_ice_simulations = input('Choose one of the following methods: Method1, Method2 or Method3.')\n",
    "if pv_ice_simulations not in method_list:\n",
    "    while False:\n",
    "        pv_ice_simulations = input('Input method not in the list, please choose one of the following methods: Method1, Method2 or Method3.')\n",
    "print('You have chosen {}.'.format(pv_ice_simulations))"
   ]
  },
  {
   "cell_type": "code",
   "execution_count": null,
   "id": "7b1f07c4-00a5-4c3c-be62-80131623bdcc",
   "metadata": {},
   "outputs": [],
   "source": [
    "pv_ice_simulations"
   ]
  },
  {
   "cell_type": "markdown",
   "id": "dfeab2fc-7fdb-4ab1-9828-2f1779ce558f",
   "metadata": {},
   "source": [
    "### Scenario creation"
   ]
  },
  {
   "cell_type": "code",
   "execution_count": null,
   "id": "91a88bc4-3081-4c05-8f81-c7f1063e0c00",
   "metadata": {},
   "outputs": [],
   "source": [
    "reedsFile = os.path.join(cwd, 'baselines','December Core Scenarios ReEDS Outputs Solar Futures v3a.xlsx')\n",
    "print (\"Input file is stored in %s\" % reedsFile)\n",
    "REEDSInput = pd.read_excel(reedsFile, sheet_name=\"new installs PV\")\n",
    "rawdf = REEDSInput.copy()\n",
    "rawdf.drop(columns=['State'], inplace=True)\n",
    "rawdf.drop(columns=['Tech'], inplace=True) #tech=pvtotal from \"new installs PV sheet\", so can drop\n",
    "rawdf.set_index(['Scenario','Year','PCA'], inplace=True)\n",
    "PCAs = list(rawdf.unstack(level=2).iloc[0].unstack(level=0).index.unique())"
   ]
  },
  {
   "cell_type": "code",
   "execution_count": null,
   "id": "ba99629d-4022-4ec3-8a09-9123a63582e8",
   "metadata": {
    "scrolled": true,
    "tags": []
   },
   "outputs": [],
   "source": [
    "#for ii in range (0, 1): #len(scenarios):\n",
    "i = 0\n",
    "r1 = PV_ICE.Simulation(name=SFscenarios[i], path=testfolder)\n",
    "\n",
    "for jj in range (0, len(PCAs)): \n",
    "    filetitle = SFscenarios[i]+'_'+PCAs[jj]+'.csv'\n",
    "    filetitle = os.path.join(testfolder, f'PCAs_RELOG_{pv_ice_simulations}', filetitle)    # Change this number to the simulation you want to run\n",
    "    r1.createScenario(name=PCAs[jj], massmodulefile=filetitle)\n",
    "    r1.scenario[PCAs[jj]].addMaterials(['glass', 'silicon', 'silver', 'copper', 'aluminium_frames', 'encapsulant', 'backsheet'], baselinefolder=baselinefolder)\n",
    "    # All -- but these where not included in the Reeds initial study as we didnt have encapsulant or backsheet\n",
    "    # r1.scenario[PCAs[jj]].addMaterials(['glass', 'silicon', 'silver', 'copper', 'aluminium_frames', 'encapsulant', 'backsheet'], baselinefolder=r'..\\baselines')\n",
    "    r1.scenario[PCAs[jj]].latitude = GIS.loc[PCAs[jj]].lat\n",
    "    r1.scenario[PCAs[jj]].longitude = GIS.loc[PCAs[jj]].long\n",
    "\n",
    "r1.trim_Years(startYear=2010, endYear=2050)\n",
    "\n",
    "i = 1\n",
    "r2 = PV_ICE.Simulation(name=SFscenarios[i], path=testfolder)\n",
    "\n",
    "for jj in range (0, len(PCAs)): \n",
    "    filetitle = SFscenarios[i]+'_'+PCAs[jj]+'.csv'\n",
    "    filetitle = os.path.join(testfolder, f'PCAs_RELOG_{pv_ice_simulations}', filetitle)        \n",
    "    r2.createScenario(name=PCAs[jj], massmodulefile=filetitle)\n",
    "    # MAC Add here the materials you want.\n",
    "    r2.scenario[PCAs[jj]].addMaterials(['cadmium', 'tellurium', 'glass_cdte', 'aluminium_frames_cdte', 'encapsulant_cdte', 'copper_cdte'], baselinefolder=baselinefolder)\n",
    "    # All -- but these where not included in the Reeds initial study as we didnt have encapsulant or backsheet\n",
    "    # r2.scenario[PCAs[jj]].addMaterials(['glass', 'silicon', 'silver', 'copper', 'aluminium_frames', 'encapsulant', 'backsheet'], baselinefolder=r'..\\baselines')\n",
    "    r2.scenario[PCAs[jj]].latitude = GIS.loc[PCAs[jj]].lat\n",
    "    r2.scenario[PCAs[jj]].longitude = GIS.loc[PCAs[jj]].long\n",
    "\n",
    "r2.trim_Years(startYear=2010, endYear=2050)\n"
   ]
  },
  {
   "cell_type": "markdown",
   "id": "d9ded322-4338-4000-a21a-d9d6be1d754a",
   "metadata": {},
   "source": [
    "### Set characteristics for Manufacturing (probably don't want to inflate this as the waste happens elsewhere, just want EOL\n"
   ]
  },
  {
   "cell_type": "code",
   "execution_count": null,
   "id": "2a2f635a-bd8e-4b6f-8ed9-a4d8cc651c18",
   "metadata": {},
   "outputs": [],
   "source": [
    "PERFECTMFG = True\n",
    "# Set to false if I want to see how much goes to mnf waste\n",
    "if PERFECTMFG:\n",
    "    r1.scenMod_PerfectManufacturing()\n",
    "    r2.scenMod_PerfectManufacturing()\n",
    "    title_Method = 'PVICE_PerfectMFG'\n",
    "else:\n",
    "    title_Method = 'PVICE'"
   ]
  },
  {
   "cell_type": "markdown",
   "id": "9cc3b26a-d1cc-4ab1-b3f3-867d2beab8d0",
   "metadata": {},
   "source": [
    "## 3. Calculate Mass Flow"
   ]
  },
  {
   "cell_type": "code",
   "execution_count": null,
   "id": "fd36dd96-2af4-425b-b2b0-9f7c76e0c9d2",
   "metadata": {
    "scrolled": true,
    "tags": []
   },
   "outputs": [],
   "source": [
    "r1.calculateMassFlow()\n",
    "r2.calculateMassFlow()"
   ]
  },
  {
   "cell_type": "code",
   "execution_count": null,
   "id": "eec0c18f-333d-48e4-b8cf-822e833f9ce9",
   "metadata": {
    "scrolled": true,
    "tags": []
   },
   "outputs": [],
   "source": [
    "print(\"PCAs:\", r1.scenario.keys())\n",
    "print(\"Module Keys:\", r1.scenario[PCAs[jj]].dataIn_m.keys())\n",
    "print(\"Material Keys: \", r1.scenario[PCAs[jj]].material['glass'].matdataIn_m.keys())"
   ]
  },
  {
   "cell_type": "code",
   "execution_count": null,
   "id": "309a55ed-59ec-45fe-9e84-995d95454915",
   "metadata": {},
   "outputs": [],
   "source": [
    "\"\"\"\n",
    "r1.plotScenariosComparison(keyword='Cumulative_Area_disposedby_Failure')\n",
    "r1.plotMaterialComparisonAcrossScenarios(material='silicon', keyword='mat_Total_Landfilled')\n",
    "r1.scenario['p1'].dataIn_m.head(21)\n",
    "r2.scenario['p1'].dataIn_m.head(21)\n",
    "r3.scenario['p1'].dataIn_m.head(21)\n",
    "\"\"\"\n",
    "pass"
   ]
  },
  {
   "cell_type": "markdown",
   "id": "78a33661-77fe-4ad9-95da-af56c93e0ced",
   "metadata": {},
   "source": [
    "## 4. Aggregate & Save Data"
   ]
  },
  {
   "cell_type": "code",
   "execution_count": null,
   "id": "cbc7f272-2b87-4fe1-8a3d-8f0919e57481",
   "metadata": {
    "scrolled": true,
    "tags": []
   },
   "outputs": [],
   "source": [
    "r1.aggregateResults()\n",
    "r2.aggregateResults()"
   ]
  },
  {
   "cell_type": "code",
   "execution_count": null,
   "id": "71e297d2-7b34-4513-a871-ee8186349fbf",
   "metadata": {},
   "outputs": [],
   "source": [
    "datay = r1.USyearly\n",
    "datac = r1.UScum\n"
   ]
  },
  {
   "cell_type": "code",
   "execution_count": null,
   "id": "f5deb8ac-708d-4bd1-876b-83995cbdac1a",
   "metadata": {},
   "outputs": [],
   "source": [
    "datay_CdTe = r2.USyearly\n",
    "datac_CdTe = r2.UScum"
   ]
  },
  {
   "cell_type": "code",
   "execution_count": null,
   "id": "a135352a-eba6-4723-b2cf-8ff87f3eb440",
   "metadata": {},
   "outputs": [],
   "source": [
    "filter_colc = [col for col in datay if col.startswith('WasteEOL')]\n",
    "datay[filter_colc].to_csv(f'PVICE_RELOG_PCA_cSi_WasteEOL_{pv_ice_simulations}.csv')\n",
    "filter_colc = [col for col in datay_CdTe if col.startswith('WasteEOL')]\n",
    "datay_CdTe[filter_colc].to_csv(f'PVICE_RELOG_PCA_CdTe_WasteEOL_{pv_ice_simulations}.csv')"
   ]
  },
  {
   "cell_type": "code",
   "execution_count": null,
   "id": "4fe517c5-2bfa-4e57-8fdf-8c4cdbf6d870",
   "metadata": {},
   "outputs": [],
   "source": []
  },
  {
   "cell_type": "code",
   "execution_count": null,
   "id": "9d25f515-50ad-42ad-9e12-99b39ef5dbc6",
   "metadata": {},
   "outputs": [],
   "source": []
  },
  {
   "cell_type": "code",
   "execution_count": null,
   "id": "9b420e58-73d7-4047-add8-0eed49d8a3c7",
   "metadata": {},
   "outputs": [],
   "source": []
  },
  {
   "cell_type": "code",
   "execution_count": null,
   "id": "a61a4be5-70ed-4fc5-b2e9-0cb76285d437",
   "metadata": {},
   "outputs": [],
   "source": []
  }
 ],
 "metadata": {
  "kernelspec": {
   "display_name": "PV_ICE",
   "language": "python",
   "name": "pv_ice"
  },
  "language_info": {
   "codemirror_mode": {
    "name": "ipython",
    "version": 3
   },
   "file_extension": ".py",
   "mimetype": "text/x-python",
   "name": "python",
   "nbconvert_exporter": "python",
   "pygments_lexer": "ipython3",
   "version": "3.10.4"
  }
 },
 "nbformat": 4,
 "nbformat_minor": 5
}
