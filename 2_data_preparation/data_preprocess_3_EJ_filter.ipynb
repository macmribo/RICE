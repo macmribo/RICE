{
 "cells": [
  {
   "cell_type": "markdown",
   "id": "387de3fc-3b99-434d-82e7-11d18b332866",
   "metadata": {},
   "source": [
    "# Data Preprocess 3"
   ]
  },
  {
   "cell_type": "markdown",
   "id": "3527efa8-528f-434b-8b7a-b63b8cfd4550",
   "metadata": {},
   "source": [
    "This journal explains how to filter the recycling plants candidate locations according to Energy Justice metrics, leveraging [EJScreen: Environmental Justice Screening and Mapping Tool](https://www.epa.gov/ejscreen), more specifically, we will be using [EJScreen Report API](https://ejscreen.epa.gov/mapper/ejscreenapi.html)."
   ]
  },
  {
   "cell_type": "markdown",
   "id": "6ca180d0-d66b-4079-8b86-8d08767a7744",
   "metadata": {},
   "source": [
    "## 0. Load necessary libraries"
   ]
  },
  {
   "cell_type": "code",
   "execution_count": 1,
   "id": "495e794e-40e7-48c5-9bb9-7dbb1eaadde3",
   "metadata": {},
   "outputs": [],
   "source": [
    "import numpy as np\n",
    "import pandas as pd\n",
    "import os,sys\n",
    "import matplotlib.pyplot as plt\n",
    "from pathlib import Path\n",
    "\n",
    "import requests # to get api data"
   ]
  },
  {
   "cell_type": "code",
   "execution_count": null,
   "id": "55df5b6e-4d88-400a-beaf-2031cf0a1389",
   "metadata": {},
   "outputs": [],
   "source": []
  },
  {
   "cell_type": "markdown",
   "id": "d9200e4c-84bb-4828-b149-e4a436b6c8d4",
   "metadata": {},
   "source": [
    "## 1. Load the file to filter and add FIPS codes"
   ]
  },
  {
   "cell_type": "markdown",
   "id": "5f721331-188d-40db-9d5b-3f766c5fc5c1",
   "metadata": {},
   "source": [
    "EJScreen API needs FIPS codes to access the EJ reports. So the first step is to load the file we want to use, in our case 'RELOG_import_data/CandidateLocations_CA.csv'."
   ]
  },
  {
   "cell_type": "code",
   "execution_count": 26,
   "id": "c63eff1d-d28d-4f2f-a58a-bc8ae2af0d5e",
   "metadata": {},
   "outputs": [],
   "source": [
    "candidates_raw = pd.read_csv('RELOG_import_data/CandidateLocations_CA.csv')\n",
    "candidates_lat_long = candidates_raw.drop(['name', 'area cost factor'], axis=1, inplace= False)"
   ]
  },
  {
   "cell_type": "code",
   "execution_count": 27,
   "id": "6045a084-eaab-4408-aa13-da171390bb47",
   "metadata": {},
   "outputs": [
    {
     "data": {
      "text/html": [
       "<div>\n",
       "<style scoped>\n",
       "    .dataframe tbody tr th:only-of-type {\n",
       "        vertical-align: middle;\n",
       "    }\n",
       "\n",
       "    .dataframe tbody tr th {\n",
       "        vertical-align: top;\n",
       "    }\n",
       "\n",
       "    .dataframe thead th {\n",
       "        text-align: right;\n",
       "    }\n",
       "</style>\n",
       "<table border=\"1\" class=\"dataframe\">\n",
       "  <thead>\n",
       "    <tr style=\"text-align: right;\">\n",
       "      <th></th>\n",
       "      <th>latitude (deg)</th>\n",
       "      <th>longitude (deg)</th>\n",
       "    </tr>\n",
       "  </thead>\n",
       "  <tbody>\n",
       "    <tr>\n",
       "      <th>0</th>\n",
       "      <td>33.5854</td>\n",
       "      <td>-84.3778</td>\n",
       "    </tr>\n",
       "    <tr>\n",
       "      <th>1</th>\n",
       "      <td>36.3928</td>\n",
       "      <td>-103.0490</td>\n",
       "    </tr>\n",
       "    <tr>\n",
       "      <th>2</th>\n",
       "      <td>34.3336</td>\n",
       "      <td>-108.4771</td>\n",
       "    </tr>\n",
       "    <tr>\n",
       "      <th>3</th>\n",
       "      <td>35.2784</td>\n",
       "      <td>-107.9850</td>\n",
       "    </tr>\n",
       "    <tr>\n",
       "      <th>4</th>\n",
       "      <td>39.3646</td>\n",
       "      <td>-76.6158</td>\n",
       "    </tr>\n",
       "    <tr>\n",
       "      <th>...</th>\n",
       "      <td>...</td>\n",
       "      <td>...</td>\n",
       "    </tr>\n",
       "    <tr>\n",
       "      <th>91</th>\n",
       "      <td>42.0537</td>\n",
       "      <td>-87.9100</td>\n",
       "    </tr>\n",
       "    <tr>\n",
       "      <th>92</th>\n",
       "      <td>44.6412</td>\n",
       "      <td>-104.0558</td>\n",
       "    </tr>\n",
       "    <tr>\n",
       "      <th>93</th>\n",
       "      <td>45.4279</td>\n",
       "      <td>-108.5339</td>\n",
       "    </tr>\n",
       "    <tr>\n",
       "      <th>94</th>\n",
       "      <td>32.2724</td>\n",
       "      <td>-99.0110</td>\n",
       "    </tr>\n",
       "    <tr>\n",
       "      <th>95</th>\n",
       "      <td>40.1272</td>\n",
       "      <td>-88.2436</td>\n",
       "    </tr>\n",
       "  </tbody>\n",
       "</table>\n",
       "<p>96 rows × 2 columns</p>\n",
       "</div>"
      ],
      "text/plain": [
       "    latitude (deg)  longitude (deg)\n",
       "0          33.5854         -84.3778\n",
       "1          36.3928        -103.0490\n",
       "2          34.3336        -108.4771\n",
       "3          35.2784        -107.9850\n",
       "4          39.3646         -76.6158\n",
       "..             ...              ...\n",
       "91         42.0537         -87.9100\n",
       "92         44.6412        -104.0558\n",
       "93         45.4279        -108.5339\n",
       "94         32.2724         -99.0110\n",
       "95         40.1272         -88.2436\n",
       "\n",
       "[96 rows x 2 columns]"
      ]
     },
     "execution_count": 27,
     "metadata": {},
     "output_type": "execute_result"
    }
   ],
   "source": [
    "candidates_lat_long"
   ]
  },
  {
   "cell_type": "code",
   "execution_count": 33,
   "id": "b7827d5f-f886-4b66-a8ee-bfbbb9ee291f",
   "metadata": {},
   "outputs": [],
   "source": [
    "fips_county_codes = []\n",
    "fips_state_codes = []"
   ]
  },
  {
   "cell_type": "code",
   "execution_count": 34,
   "id": "3fb6d45a-e7f6-476b-b2ed-f9f2b51c898b",
   "metadata": {},
   "outputs": [],
   "source": [
    "# Code from https://gis.stackexchange.com/questions/294641/python-code-for-transforming-lat-long-into-fips-codes\n",
    "import requests\n",
    "import urllib\n",
    "\n",
    "#Encode parameters \n",
    "for lat, lon in candidates_lat_long.itertuples(index=False):\n",
    "    params = urllib.parse.urlencode({'latitude': lat, 'longitude':lon, 'format':'json'})\n",
    "    #Contruct request URL\n",
    "    url = 'https://geo.fcc.gov/api/census/block/find?' + params\n",
    "\n",
    "    #Get response from API\n",
    "    response = requests.get(url)\n",
    "\n",
    "    #Parse json in response\n",
    "    data = response.json()\n",
    "    fips_county_codes.append(data['County']['FIPS'])\n",
    "    fips_state_codes.append(data['State']['FIPS'])\n",
    "    #Print FIPS code"
   ]
  },
  {
   "cell_type": "code",
   "execution_count": 37,
   "id": "72e4a6f9-6a4c-4150-8f92-00558c95f517",
   "metadata": {},
   "outputs": [],
   "source": [
    "candidates_lat_long['fips_county'] = fips_county_codes\n",
    "candidates_lat_long['fips_state'] = fips_state_codes"
   ]
  },
  {
   "cell_type": "markdown",
   "id": "880842e2-eb03-4551-8111-be312b5c1c8f",
   "metadata": {},
   "source": [
    "Let's reshape the dataframe to have the names back and all the  EJ indices in the dataframe related to the fips codes."
   ]
  },
  {
   "cell_type": "code",
   "execution_count": 60,
   "id": "b5b3fd5d-ac21-49dd-9702-1db8a325ad41",
   "metadata": {},
   "outputs": [],
   "source": [
    "ej_candidates = candidates_lat_long.copy()"
   ]
  },
  {
   "cell_type": "code",
   "execution_count": 62,
   "id": "d3694e66-69f8-499a-9922-4ac6ac9771fc",
   "metadata": {},
   "outputs": [],
   "source": [
    "ej_candidates['name'] = candidates_raw['name']"
   ]
  },
  {
   "cell_type": "markdown",
   "id": "c12fe960-7306-44c5-b693-ec34a823d6ae",
   "metadata": {},
   "source": [
    "Now, I am going to query a random fips code to get the column names."
   ]
  },
  {
   "cell_type": "code",
   "execution_count": 66,
   "id": "c50f863c-dd7a-41bf-9956-7e01b5d341c5",
   "metadata": {},
   "outputs": [],
   "source": [
    "ej_query = requests.get(f'https://ejscreen.epa.gov/mapper/ejscreenRESTbroker.aspx?namestr=Pickens County&geometry=&distance=&unit=9035&areatype=county&areaid=35003&f=pjson')\n",
    "ej_query_keys = [keys for keys in ej_query.json().keys()]"
   ]
  },
  {
   "cell_type": "code",
   "execution_count": 68,
   "id": "225f4804-57f2-4c3f-a63b-f50bc78e01e0",
   "metadata": {
    "collapsed": true,
    "jupyter": {
     "outputs_hidden": true
    },
    "tags": []
   },
   "outputs": [
    {
     "name": "stderr",
     "output_type": "stream",
     "text": [
      "/var/folders/w2/85_h_nyn0mlbxf81x3k9n53xh90n_1/T/ipykernel_80367/2673602796.py:1: PerformanceWarning: DataFrame is highly fragmented.  This is usually the result of calling `frame.insert` many times, which has poor performance.  Consider joining all columns at once using pd.concat(axis=1) instead. To get a de-fragmented frame, use `newframe = frame.copy()`\n",
      "  ej_candidates[ej_query_keys] = np.nan\n",
      "/var/folders/w2/85_h_nyn0mlbxf81x3k9n53xh90n_1/T/ipykernel_80367/2673602796.py:1: PerformanceWarning: DataFrame is highly fragmented.  This is usually the result of calling `frame.insert` many times, which has poor performance.  Consider joining all columns at once using pd.concat(axis=1) instead. To get a de-fragmented frame, use `newframe = frame.copy()`\n",
      "  ej_candidates[ej_query_keys] = np.nan\n",
      "/var/folders/w2/85_h_nyn0mlbxf81x3k9n53xh90n_1/T/ipykernel_80367/2673602796.py:1: PerformanceWarning: DataFrame is highly fragmented.  This is usually the result of calling `frame.insert` many times, which has poor performance.  Consider joining all columns at once using pd.concat(axis=1) instead. To get a de-fragmented frame, use `newframe = frame.copy()`\n",
      "  ej_candidates[ej_query_keys] = np.nan\n",
      "/var/folders/w2/85_h_nyn0mlbxf81x3k9n53xh90n_1/T/ipykernel_80367/2673602796.py:1: PerformanceWarning: DataFrame is highly fragmented.  This is usually the result of calling `frame.insert` many times, which has poor performance.  Consider joining all columns at once using pd.concat(axis=1) instead. To get a de-fragmented frame, use `newframe = frame.copy()`\n",
      "  ej_candidates[ej_query_keys] = np.nan\n",
      "/var/folders/w2/85_h_nyn0mlbxf81x3k9n53xh90n_1/T/ipykernel_80367/2673602796.py:1: PerformanceWarning: DataFrame is highly fragmented.  This is usually the result of calling `frame.insert` many times, which has poor performance.  Consider joining all columns at once using pd.concat(axis=1) instead. To get a de-fragmented frame, use `newframe = frame.copy()`\n",
      "  ej_candidates[ej_query_keys] = np.nan\n",
      "/var/folders/w2/85_h_nyn0mlbxf81x3k9n53xh90n_1/T/ipykernel_80367/2673602796.py:1: PerformanceWarning: DataFrame is highly fragmented.  This is usually the result of calling `frame.insert` many times, which has poor performance.  Consider joining all columns at once using pd.concat(axis=1) instead. To get a de-fragmented frame, use `newframe = frame.copy()`\n",
      "  ej_candidates[ej_query_keys] = np.nan\n",
      "/var/folders/w2/85_h_nyn0mlbxf81x3k9n53xh90n_1/T/ipykernel_80367/2673602796.py:1: PerformanceWarning: DataFrame is highly fragmented.  This is usually the result of calling `frame.insert` many times, which has poor performance.  Consider joining all columns at once using pd.concat(axis=1) instead. To get a de-fragmented frame, use `newframe = frame.copy()`\n",
      "  ej_candidates[ej_query_keys] = np.nan\n",
      "/var/folders/w2/85_h_nyn0mlbxf81x3k9n53xh90n_1/T/ipykernel_80367/2673602796.py:1: PerformanceWarning: DataFrame is highly fragmented.  This is usually the result of calling `frame.insert` many times, which has poor performance.  Consider joining all columns at once using pd.concat(axis=1) instead. To get a de-fragmented frame, use `newframe = frame.copy()`\n",
      "  ej_candidates[ej_query_keys] = np.nan\n",
      "/var/folders/w2/85_h_nyn0mlbxf81x3k9n53xh90n_1/T/ipykernel_80367/2673602796.py:1: PerformanceWarning: DataFrame is highly fragmented.  This is usually the result of calling `frame.insert` many times, which has poor performance.  Consider joining all columns at once using pd.concat(axis=1) instead. To get a de-fragmented frame, use `newframe = frame.copy()`\n",
      "  ej_candidates[ej_query_keys] = np.nan\n",
      "/var/folders/w2/85_h_nyn0mlbxf81x3k9n53xh90n_1/T/ipykernel_80367/2673602796.py:1: PerformanceWarning: DataFrame is highly fragmented.  This is usually the result of calling `frame.insert` many times, which has poor performance.  Consider joining all columns at once using pd.concat(axis=1) instead. To get a de-fragmented frame, use `newframe = frame.copy()`\n",
      "  ej_candidates[ej_query_keys] = np.nan\n",
      "/var/folders/w2/85_h_nyn0mlbxf81x3k9n53xh90n_1/T/ipykernel_80367/2673602796.py:1: PerformanceWarning: DataFrame is highly fragmented.  This is usually the result of calling `frame.insert` many times, which has poor performance.  Consider joining all columns at once using pd.concat(axis=1) instead. To get a de-fragmented frame, use `newframe = frame.copy()`\n",
      "  ej_candidates[ej_query_keys] = np.nan\n",
      "/var/folders/w2/85_h_nyn0mlbxf81x3k9n53xh90n_1/T/ipykernel_80367/2673602796.py:1: PerformanceWarning: DataFrame is highly fragmented.  This is usually the result of calling `frame.insert` many times, which has poor performance.  Consider joining all columns at once using pd.concat(axis=1) instead. To get a de-fragmented frame, use `newframe = frame.copy()`\n",
      "  ej_candidates[ej_query_keys] = np.nan\n",
      "/var/folders/w2/85_h_nyn0mlbxf81x3k9n53xh90n_1/T/ipykernel_80367/2673602796.py:1: PerformanceWarning: DataFrame is highly fragmented.  This is usually the result of calling `frame.insert` many times, which has poor performance.  Consider joining all columns at once using pd.concat(axis=1) instead. To get a de-fragmented frame, use `newframe = frame.copy()`\n",
      "  ej_candidates[ej_query_keys] = np.nan\n",
      "/var/folders/w2/85_h_nyn0mlbxf81x3k9n53xh90n_1/T/ipykernel_80367/2673602796.py:1: PerformanceWarning: DataFrame is highly fragmented.  This is usually the result of calling `frame.insert` many times, which has poor performance.  Consider joining all columns at once using pd.concat(axis=1) instead. To get a de-fragmented frame, use `newframe = frame.copy()`\n",
      "  ej_candidates[ej_query_keys] = np.nan\n",
      "/var/folders/w2/85_h_nyn0mlbxf81x3k9n53xh90n_1/T/ipykernel_80367/2673602796.py:1: PerformanceWarning: DataFrame is highly fragmented.  This is usually the result of calling `frame.insert` many times, which has poor performance.  Consider joining all columns at once using pd.concat(axis=1) instead. To get a de-fragmented frame, use `newframe = frame.copy()`\n",
      "  ej_candidates[ej_query_keys] = np.nan\n",
      "/var/folders/w2/85_h_nyn0mlbxf81x3k9n53xh90n_1/T/ipykernel_80367/2673602796.py:1: PerformanceWarning: DataFrame is highly fragmented.  This is usually the result of calling `frame.insert` many times, which has poor performance.  Consider joining all columns at once using pd.concat(axis=1) instead. To get a de-fragmented frame, use `newframe = frame.copy()`\n",
      "  ej_candidates[ej_query_keys] = np.nan\n",
      "/var/folders/w2/85_h_nyn0mlbxf81x3k9n53xh90n_1/T/ipykernel_80367/2673602796.py:1: PerformanceWarning: DataFrame is highly fragmented.  This is usually the result of calling `frame.insert` many times, which has poor performance.  Consider joining all columns at once using pd.concat(axis=1) instead. To get a de-fragmented frame, use `newframe = frame.copy()`\n",
      "  ej_candidates[ej_query_keys] = np.nan\n",
      "/var/folders/w2/85_h_nyn0mlbxf81x3k9n53xh90n_1/T/ipykernel_80367/2673602796.py:1: PerformanceWarning: DataFrame is highly fragmented.  This is usually the result of calling `frame.insert` many times, which has poor performance.  Consider joining all columns at once using pd.concat(axis=1) instead. To get a de-fragmented frame, use `newframe = frame.copy()`\n",
      "  ej_candidates[ej_query_keys] = np.nan\n",
      "/var/folders/w2/85_h_nyn0mlbxf81x3k9n53xh90n_1/T/ipykernel_80367/2673602796.py:1: PerformanceWarning: DataFrame is highly fragmented.  This is usually the result of calling `frame.insert` many times, which has poor performance.  Consider joining all columns at once using pd.concat(axis=1) instead. To get a de-fragmented frame, use `newframe = frame.copy()`\n",
      "  ej_candidates[ej_query_keys] = np.nan\n",
      "/var/folders/w2/85_h_nyn0mlbxf81x3k9n53xh90n_1/T/ipykernel_80367/2673602796.py:1: PerformanceWarning: DataFrame is highly fragmented.  This is usually the result of calling `frame.insert` many times, which has poor performance.  Consider joining all columns at once using pd.concat(axis=1) instead. To get a de-fragmented frame, use `newframe = frame.copy()`\n",
      "  ej_candidates[ej_query_keys] = np.nan\n",
      "/var/folders/w2/85_h_nyn0mlbxf81x3k9n53xh90n_1/T/ipykernel_80367/2673602796.py:1: PerformanceWarning: DataFrame is highly fragmented.  This is usually the result of calling `frame.insert` many times, which has poor performance.  Consider joining all columns at once using pd.concat(axis=1) instead. To get a de-fragmented frame, use `newframe = frame.copy()`\n",
      "  ej_candidates[ej_query_keys] = np.nan\n",
      "/var/folders/w2/85_h_nyn0mlbxf81x3k9n53xh90n_1/T/ipykernel_80367/2673602796.py:1: PerformanceWarning: DataFrame is highly fragmented.  This is usually the result of calling `frame.insert` many times, which has poor performance.  Consider joining all columns at once using pd.concat(axis=1) instead. To get a de-fragmented frame, use `newframe = frame.copy()`\n",
      "  ej_candidates[ej_query_keys] = np.nan\n",
      "/var/folders/w2/85_h_nyn0mlbxf81x3k9n53xh90n_1/T/ipykernel_80367/2673602796.py:1: PerformanceWarning: DataFrame is highly fragmented.  This is usually the result of calling `frame.insert` many times, which has poor performance.  Consider joining all columns at once using pd.concat(axis=1) instead. To get a de-fragmented frame, use `newframe = frame.copy()`\n",
      "  ej_candidates[ej_query_keys] = np.nan\n",
      "/var/folders/w2/85_h_nyn0mlbxf81x3k9n53xh90n_1/T/ipykernel_80367/2673602796.py:1: PerformanceWarning: DataFrame is highly fragmented.  This is usually the result of calling `frame.insert` many times, which has poor performance.  Consider joining all columns at once using pd.concat(axis=1) instead. To get a de-fragmented frame, use `newframe = frame.copy()`\n",
      "  ej_candidates[ej_query_keys] = np.nan\n",
      "/var/folders/w2/85_h_nyn0mlbxf81x3k9n53xh90n_1/T/ipykernel_80367/2673602796.py:1: PerformanceWarning: DataFrame is highly fragmented.  This is usually the result of calling `frame.insert` many times, which has poor performance.  Consider joining all columns at once using pd.concat(axis=1) instead. To get a de-fragmented frame, use `newframe = frame.copy()`\n",
      "  ej_candidates[ej_query_keys] = np.nan\n",
      "/var/folders/w2/85_h_nyn0mlbxf81x3k9n53xh90n_1/T/ipykernel_80367/2673602796.py:1: PerformanceWarning: DataFrame is highly fragmented.  This is usually the result of calling `frame.insert` many times, which has poor performance.  Consider joining all columns at once using pd.concat(axis=1) instead. To get a de-fragmented frame, use `newframe = frame.copy()`\n",
      "  ej_candidates[ej_query_keys] = np.nan\n",
      "/var/folders/w2/85_h_nyn0mlbxf81x3k9n53xh90n_1/T/ipykernel_80367/2673602796.py:1: PerformanceWarning: DataFrame is highly fragmented.  This is usually the result of calling `frame.insert` many times, which has poor performance.  Consider joining all columns at once using pd.concat(axis=1) instead. To get a de-fragmented frame, use `newframe = frame.copy()`\n",
      "  ej_candidates[ej_query_keys] = np.nan\n",
      "/var/folders/w2/85_h_nyn0mlbxf81x3k9n53xh90n_1/T/ipykernel_80367/2673602796.py:1: PerformanceWarning: DataFrame is highly fragmented.  This is usually the result of calling `frame.insert` many times, which has poor performance.  Consider joining all columns at once using pd.concat(axis=1) instead. To get a de-fragmented frame, use `newframe = frame.copy()`\n",
      "  ej_candidates[ej_query_keys] = np.nan\n",
      "/var/folders/w2/85_h_nyn0mlbxf81x3k9n53xh90n_1/T/ipykernel_80367/2673602796.py:1: PerformanceWarning: DataFrame is highly fragmented.  This is usually the result of calling `frame.insert` many times, which has poor performance.  Consider joining all columns at once using pd.concat(axis=1) instead. To get a de-fragmented frame, use `newframe = frame.copy()`\n",
      "  ej_candidates[ej_query_keys] = np.nan\n",
      "/var/folders/w2/85_h_nyn0mlbxf81x3k9n53xh90n_1/T/ipykernel_80367/2673602796.py:1: PerformanceWarning: DataFrame is highly fragmented.  This is usually the result of calling `frame.insert` many times, which has poor performance.  Consider joining all columns at once using pd.concat(axis=1) instead. To get a de-fragmented frame, use `newframe = frame.copy()`\n",
      "  ej_candidates[ej_query_keys] = np.nan\n",
      "/var/folders/w2/85_h_nyn0mlbxf81x3k9n53xh90n_1/T/ipykernel_80367/2673602796.py:1: PerformanceWarning: DataFrame is highly fragmented.  This is usually the result of calling `frame.insert` many times, which has poor performance.  Consider joining all columns at once using pd.concat(axis=1) instead. To get a de-fragmented frame, use `newframe = frame.copy()`\n",
      "  ej_candidates[ej_query_keys] = np.nan\n",
      "/var/folders/w2/85_h_nyn0mlbxf81x3k9n53xh90n_1/T/ipykernel_80367/2673602796.py:1: PerformanceWarning: DataFrame is highly fragmented.  This is usually the result of calling `frame.insert` many times, which has poor performance.  Consider joining all columns at once using pd.concat(axis=1) instead. To get a de-fragmented frame, use `newframe = frame.copy()`\n",
      "  ej_candidates[ej_query_keys] = np.nan\n",
      "/var/folders/w2/85_h_nyn0mlbxf81x3k9n53xh90n_1/T/ipykernel_80367/2673602796.py:1: PerformanceWarning: DataFrame is highly fragmented.  This is usually the result of calling `frame.insert` many times, which has poor performance.  Consider joining all columns at once using pd.concat(axis=1) instead. To get a de-fragmented frame, use `newframe = frame.copy()`\n",
      "  ej_candidates[ej_query_keys] = np.nan\n",
      "/var/folders/w2/85_h_nyn0mlbxf81x3k9n53xh90n_1/T/ipykernel_80367/2673602796.py:1: PerformanceWarning: DataFrame is highly fragmented.  This is usually the result of calling `frame.insert` many times, which has poor performance.  Consider joining all columns at once using pd.concat(axis=1) instead. To get a de-fragmented frame, use `newframe = frame.copy()`\n",
      "  ej_candidates[ej_query_keys] = np.nan\n",
      "/var/folders/w2/85_h_nyn0mlbxf81x3k9n53xh90n_1/T/ipykernel_80367/2673602796.py:1: PerformanceWarning: DataFrame is highly fragmented.  This is usually the result of calling `frame.insert` many times, which has poor performance.  Consider joining all columns at once using pd.concat(axis=1) instead. To get a de-fragmented frame, use `newframe = frame.copy()`\n",
      "  ej_candidates[ej_query_keys] = np.nan\n",
      "/var/folders/w2/85_h_nyn0mlbxf81x3k9n53xh90n_1/T/ipykernel_80367/2673602796.py:1: PerformanceWarning: DataFrame is highly fragmented.  This is usually the result of calling `frame.insert` many times, which has poor performance.  Consider joining all columns at once using pd.concat(axis=1) instead. To get a de-fragmented frame, use `newframe = frame.copy()`\n",
      "  ej_candidates[ej_query_keys] = np.nan\n",
      "/var/folders/w2/85_h_nyn0mlbxf81x3k9n53xh90n_1/T/ipykernel_80367/2673602796.py:1: PerformanceWarning: DataFrame is highly fragmented.  This is usually the result of calling `frame.insert` many times, which has poor performance.  Consider joining all columns at once using pd.concat(axis=1) instead. To get a de-fragmented frame, use `newframe = frame.copy()`\n",
      "  ej_candidates[ej_query_keys] = np.nan\n",
      "/var/folders/w2/85_h_nyn0mlbxf81x3k9n53xh90n_1/T/ipykernel_80367/2673602796.py:1: PerformanceWarning: DataFrame is highly fragmented.  This is usually the result of calling `frame.insert` many times, which has poor performance.  Consider joining all columns at once using pd.concat(axis=1) instead. To get a de-fragmented frame, use `newframe = frame.copy()`\n",
      "  ej_candidates[ej_query_keys] = np.nan\n",
      "/var/folders/w2/85_h_nyn0mlbxf81x3k9n53xh90n_1/T/ipykernel_80367/2673602796.py:1: PerformanceWarning: DataFrame is highly fragmented.  This is usually the result of calling `frame.insert` many times, which has poor performance.  Consider joining all columns at once using pd.concat(axis=1) instead. To get a de-fragmented frame, use `newframe = frame.copy()`\n",
      "  ej_candidates[ej_query_keys] = np.nan\n",
      "/var/folders/w2/85_h_nyn0mlbxf81x3k9n53xh90n_1/T/ipykernel_80367/2673602796.py:1: PerformanceWarning: DataFrame is highly fragmented.  This is usually the result of calling `frame.insert` many times, which has poor performance.  Consider joining all columns at once using pd.concat(axis=1) instead. To get a de-fragmented frame, use `newframe = frame.copy()`\n",
      "  ej_candidates[ej_query_keys] = np.nan\n",
      "/var/folders/w2/85_h_nyn0mlbxf81x3k9n53xh90n_1/T/ipykernel_80367/2673602796.py:1: PerformanceWarning: DataFrame is highly fragmented.  This is usually the result of calling `frame.insert` many times, which has poor performance.  Consider joining all columns at once using pd.concat(axis=1) instead. To get a de-fragmented frame, use `newframe = frame.copy()`\n",
      "  ej_candidates[ej_query_keys] = np.nan\n",
      "/var/folders/w2/85_h_nyn0mlbxf81x3k9n53xh90n_1/T/ipykernel_80367/2673602796.py:1: PerformanceWarning: DataFrame is highly fragmented.  This is usually the result of calling `frame.insert` many times, which has poor performance.  Consider joining all columns at once using pd.concat(axis=1) instead. To get a de-fragmented frame, use `newframe = frame.copy()`\n",
      "  ej_candidates[ej_query_keys] = np.nan\n",
      "/var/folders/w2/85_h_nyn0mlbxf81x3k9n53xh90n_1/T/ipykernel_80367/2673602796.py:1: PerformanceWarning: DataFrame is highly fragmented.  This is usually the result of calling `frame.insert` many times, which has poor performance.  Consider joining all columns at once using pd.concat(axis=1) instead. To get a de-fragmented frame, use `newframe = frame.copy()`\n",
      "  ej_candidates[ej_query_keys] = np.nan\n",
      "/var/folders/w2/85_h_nyn0mlbxf81x3k9n53xh90n_1/T/ipykernel_80367/2673602796.py:1: PerformanceWarning: DataFrame is highly fragmented.  This is usually the result of calling `frame.insert` many times, which has poor performance.  Consider joining all columns at once using pd.concat(axis=1) instead. To get a de-fragmented frame, use `newframe = frame.copy()`\n",
      "  ej_candidates[ej_query_keys] = np.nan\n"
     ]
    }
   ],
   "source": [
    "ej_candidates[ej_query_keys] = np.nan"
   ]
  },
  {
   "cell_type": "code",
   "execution_count": 76,
   "id": "c41ea54e-5aef-4d9a-8c4a-6716e36c8c9f",
   "metadata": {},
   "outputs": [],
   "source": [
    "ej_query_values = [value for value in ej_query.json().values()]"
   ]
  },
  {
   "cell_type": "code",
   "execution_count": 87,
   "id": "e85e9293-84dd-4d1f-8291-a56ac72e55c9",
   "metadata": {},
   "outputs": [],
   "source": [
    "ej_candidates.loc[ej_candidates['fips_county'] == '35003', 'RAW_D_MINOR':] = ej_query_values"
   ]
  },
  {
   "cell_type": "code",
   "execution_count": 89,
   "id": "7c3d7af4-6571-403b-b95e-d94f885971f5",
   "metadata": {},
   "outputs": [
    {
     "data": {
      "text/html": [
       "<div>\n",
       "<style scoped>\n",
       "    .dataframe tbody tr th:only-of-type {\n",
       "        vertical-align: middle;\n",
       "    }\n",
       "\n",
       "    .dataframe tbody tr th {\n",
       "        vertical-align: top;\n",
       "    }\n",
       "\n",
       "    .dataframe thead th {\n",
       "        text-align: right;\n",
       "    }\n",
       "</style>\n",
       "<table border=\"1\" class=\"dataframe\">\n",
       "  <thead>\n",
       "    <tr style=\"text-align: right;\">\n",
       "      <th></th>\n",
       "      <th>RAW_D_MINOR</th>\n",
       "      <th>RAW_D_INCOME</th>\n",
       "      <th>RAW_D_LESSHS</th>\n",
       "      <th>RAW_D_LING</th>\n",
       "      <th>RAW_D_UNDER5</th>\n",
       "      <th>RAW_D_OVER64</th>\n",
       "      <th>RAW_D_UNEMPLOYED</th>\n",
       "      <th>RAW_D_INDEX</th>\n",
       "      <th>RAW_E_LEAD</th>\n",
       "      <th>RAW_E_DIESEL</th>\n",
       "      <th>...</th>\n",
       "      <th>statLayerCount</th>\n",
       "      <th>statLayerZeroPopCount</th>\n",
       "      <th>weightLayerCount</th>\n",
       "      <th>timeSeconds</th>\n",
       "      <th>distance</th>\n",
       "      <th>unit</th>\n",
       "      <th>areaid</th>\n",
       "      <th>areatype</th>\n",
       "      <th>statlevel</th>\n",
       "      <th>inputAreaMiles</th>\n",
       "    </tr>\n",
       "  </thead>\n",
       "  <tbody>\n",
       "    <tr>\n",
       "      <th>2</th>\n",
       "      <td>17%</td>\n",
       "      <td>53%</td>\n",
       "      <td>7%</td>\n",
       "      <td>2%</td>\n",
       "      <td>2%</td>\n",
       "      <td>42%</td>\n",
       "      <td>5%</td>\n",
       "      <td>35%</td>\n",
       "      <td>0.14</td>\n",
       "      <td>0.0102</td>\n",
       "      <td>...</td>\n",
       "      <td>5</td>\n",
       "      <td>0</td>\n",
       "      <td>0</td>\n",
       "      <td>0.1769966</td>\n",
       "      <td>0</td>\n",
       "      <td>9035</td>\n",
       "      <td>35003</td>\n",
       "      <td>county</td>\n",
       "      <td>blockgroup</td>\n",
       "      <td>6929.63</td>\n",
       "    </tr>\n",
       "  </tbody>\n",
       "</table>\n",
       "<p>1 rows × 141 columns</p>\n",
       "</div>"
      ],
      "text/plain": [
       "  RAW_D_MINOR RAW_D_INCOME RAW_D_LESSHS RAW_D_LING RAW_D_UNDER5 RAW_D_OVER64  \\\n",
       "2         17%          53%           7%         2%           2%          42%   \n",
       "\n",
       "  RAW_D_UNEMPLOYED RAW_D_INDEX RAW_E_LEAD RAW_E_DIESEL  ... statLayerCount  \\\n",
       "2               5%         35%       0.14       0.0102  ...              5   \n",
       "\n",
       "  statLayerZeroPopCount weightLayerCount timeSeconds distance  unit areaid  \\\n",
       "2                     0                0   0.1769966        0  9035  35003   \n",
       "\n",
       "  areatype   statlevel inputAreaMiles  \n",
       "2   county  blockgroup        6929.63  \n",
       "\n",
       "[1 rows x 141 columns]"
      ]
     },
     "execution_count": 89,
     "metadata": {},
     "output_type": "execute_result"
    }
   ],
   "source": [
    "ej_candidates.loc[ej_candidates['fips_county'] == '35003', 'RAW_D_MINOR':]"
   ]
  },
  {
   "cell_type": "code",
   "execution_count": 90,
   "id": "f68048f1-a932-4f1d-9e7e-20fecb7913ac",
   "metadata": {},
   "outputs": [
    {
     "data": {
      "text/html": [
       "<div>\n",
       "<style scoped>\n",
       "    .dataframe tbody tr th:only-of-type {\n",
       "        vertical-align: middle;\n",
       "    }\n",
       "\n",
       "    .dataframe tbody tr th {\n",
       "        vertical-align: top;\n",
       "    }\n",
       "\n",
       "    .dataframe thead th {\n",
       "        text-align: right;\n",
       "    }\n",
       "</style>\n",
       "<table border=\"1\" class=\"dataframe\">\n",
       "  <thead>\n",
       "    <tr style=\"text-align: right;\">\n",
       "      <th></th>\n",
       "      <th>RAW_D_MINOR</th>\n",
       "      <th>RAW_D_INCOME</th>\n",
       "      <th>RAW_D_LESSHS</th>\n",
       "      <th>RAW_D_LING</th>\n",
       "      <th>RAW_D_UNDER5</th>\n",
       "      <th>RAW_D_OVER64</th>\n",
       "      <th>RAW_D_UNEMPLOYED</th>\n",
       "      <th>RAW_D_INDEX</th>\n",
       "      <th>RAW_E_LEAD</th>\n",
       "      <th>RAW_E_DIESEL</th>\n",
       "      <th>...</th>\n",
       "      <th>statLayerCount</th>\n",
       "      <th>statLayerZeroPopCount</th>\n",
       "      <th>weightLayerCount</th>\n",
       "      <th>timeSeconds</th>\n",
       "      <th>distance</th>\n",
       "      <th>unit</th>\n",
       "      <th>areaid</th>\n",
       "      <th>areatype</th>\n",
       "      <th>statlevel</th>\n",
       "      <th>inputAreaMiles</th>\n",
       "    </tr>\n",
       "  </thead>\n",
       "  <tbody>\n",
       "    <tr>\n",
       "      <th>2</th>\n",
       "      <td>17%</td>\n",
       "      <td>53%</td>\n",
       "      <td>7%</td>\n",
       "      <td>2%</td>\n",
       "      <td>2%</td>\n",
       "      <td>42%</td>\n",
       "      <td>5%</td>\n",
       "      <td>35%</td>\n",
       "      <td>0.14</td>\n",
       "      <td>0.0102</td>\n",
       "      <td>...</td>\n",
       "      <td>5</td>\n",
       "      <td>0</td>\n",
       "      <td>0</td>\n",
       "      <td>0.1769966</td>\n",
       "      <td>0</td>\n",
       "      <td>9035</td>\n",
       "      <td>35003</td>\n",
       "      <td>county</td>\n",
       "      <td>blockgroup</td>\n",
       "      <td>6929.63</td>\n",
       "    </tr>\n",
       "  </tbody>\n",
       "</table>\n",
       "<p>1 rows × 141 columns</p>\n",
       "</div>"
      ],
      "text/plain": [
       "  RAW_D_MINOR RAW_D_INCOME RAW_D_LESSHS RAW_D_LING RAW_D_UNDER5 RAW_D_OVER64  \\\n",
       "2         17%          53%           7%         2%           2%          42%   \n",
       "\n",
       "  RAW_D_UNEMPLOYED RAW_D_INDEX RAW_E_LEAD RAW_E_DIESEL  ... statLayerCount  \\\n",
       "2               5%         35%       0.14       0.0102  ...              5   \n",
       "\n",
       "  statLayerZeroPopCount weightLayerCount timeSeconds distance  unit areaid  \\\n",
       "2                     0                0   0.1769966        0  9035  35003   \n",
       "\n",
       "  areatype   statlevel inputAreaMiles  \n",
       "2   county  blockgroup        6929.63  \n",
       "\n",
       "[1 rows x 141 columns]"
      ]
     },
     "execution_count": 90,
     "metadata": {},
     "output_type": "execute_result"
    }
   ],
   "source": [
    "ej_candidates[ej_query_keys][ej_candidates['fips_county'] == '35003']"
   ]
  },
  {
   "cell_type": "code",
   "execution_count": 91,
   "id": "154074c6-d22a-4165-a533-bab8a3159fbf",
   "metadata": {},
   "outputs": [],
   "source": [
    "for fips in fips_list:\n",
    "    ej_query = requests.get(f'https://ejscreen.epa.gov/mapper/ejscreenRESTbroker.aspx?namestr=Pickens County&geometry=&distance=&unit=9035&areatype=county&areaid={fips}&f=pjson')\n",
    "    ej_query_values = [value for value in ej_query.json().values()]\n",
    "    ej_candidates.loc[ej_candidates['fips_county'] == f'{fips}', 'RAW_D_MINOR':] = ej_query_values\n",
    "    \n",
    "\n"
   ]
  },
  {
   "cell_type": "markdown",
   "id": "03ded710-775c-42b8-b78f-fd5e3ad6f8cb",
   "metadata": {},
   "source": [
    "There are some percentages values that prevent me from making these numbers floats, so I am going to get rid of the %, I know what is percentage and what is percentile based on the 'EJ_json_dictionary_help.xlsx' file in the folder 'miscellaneous', you can also see a sample of these values from the EJ report screen capture [here](miscellaneous/json_variables_explained.png)."
   ]
  },
  {
   "cell_type": "code",
   "execution_count": 100,
   "id": "d0c43e94-98dd-46c2-b4fd-63fb7f4916a2",
   "metadata": {},
   "outputs": [],
   "source": [
    "ej_candidates = ej_candidates.replace({'%':''}, regex=True)\n",
    "ej_candidates = ej_candidates.replace('N/A',np.nan)"
   ]
  },
  {
   "cell_type": "code",
   "execution_count": 121,
   "id": "e02b500a-c599-41cf-b799-cbad532d1140",
   "metadata": {},
   "outputs": [],
   "source": [
    "ej_candidates.loc[:, 'RAW_D_MINOR':'N_P_UST'] = ej_candidates.loc[:, 'RAW_D_MINOR':'N_P_UST'].astype(float)\n",
    "ej_candidates.loc[:, 'totalPop':'areaid'] = ej_candidates.loc[:, 'totalPop':'areaid'].astype(float)"
   ]
  },
  {
   "cell_type": "code",
   "execution_count": 122,
   "id": "7792d4a3-a815-4273-8a60-806d3b57bc2a",
   "metadata": {},
   "outputs": [
    {
     "name": "stdout",
     "output_type": "stream",
     "text": [
      "<class 'pandas.core.frame.DataFrame'>\n",
      "RangeIndex: 96 entries, 0 to 95\n",
      "Columns: 146 entries, latitude (deg) to inputAreaMiles\n",
      "dtypes: float64(137), object(9)\n",
      "memory usage: 109.6+ KB\n"
     ]
    }
   ],
   "source": [
    "ej_candidates.info()"
   ]
  },
  {
   "cell_type": "code",
   "execution_count": 116,
   "id": "737b1330-518f-4c7a-a3ac-5cd8e3746ad4",
   "metadata": {},
   "outputs": [
    {
     "data": {
      "text/plain": [
       "0        Clayton, Georgia\n",
       "1       Union, New Mexico\n",
       "2      Catron, New Mexico\n",
       "3      Cibola, New Mexico\n",
       "4     Baltimore, Maryland\n",
       "             ...         \n",
       "91         Cook, Illinois\n",
       "92         Crook, Wyoming\n",
       "93      Big Horn, Montana\n",
       "94        Eastland, Texas\n",
       "95    Champaign, Illinois\n",
       "Name: name, Length: 96, dtype: object"
      ]
     },
     "execution_count": 116,
     "metadata": {},
     "output_type": "execute_result"
    }
   ],
   "source": [
    "ej_candidates['name']"
   ]
  },
  {
   "cell_type": "code",
   "execution_count": 132,
   "id": "0d6fde89-57ce-4c95-9d5a-48f00a9c4991",
   "metadata": {},
   "outputs": [
    {
     "ename": "ValueError",
     "evalue": "shape mismatch: objects cannot be broadcast to a single shape.  Mismatch is between arg 0 with shape (96,) and arg 1 with shape (2,).",
     "output_type": "error",
     "traceback": [
      "\u001b[0;31m---------------------------------------------------------------------------\u001b[0m",
      "\u001b[0;31mValueError\u001b[0m                                Traceback (most recent call last)",
      "Cell \u001b[0;32mIn [132], line 1\u001b[0m\n\u001b[0;32m----> 1\u001b[0m \u001b[43mplt\u001b[49m\u001b[38;5;241;43m.\u001b[39;49m\u001b[43mbar\u001b[49m\u001b[43m(\u001b[49m\u001b[38;5;124;43m\"\u001b[39;49m\u001b[38;5;124;43mname\u001b[39;49m\u001b[38;5;124;43m\"\u001b[39;49m\u001b[43m,\u001b[49m\u001b[43m \u001b[49m\u001b[43m(\u001b[49m\u001b[38;5;124;43m\"\u001b[39;49m\u001b[38;5;124;43mN_D_MINOR\u001b[39;49m\u001b[38;5;124;43m\"\u001b[39;49m\u001b[43m,\u001b[49m\u001b[43m \u001b[49m\u001b[38;5;124;43m\"\u001b[39;49m\u001b[38;5;124;43mN_D_MINOR_PER\u001b[39;49m\u001b[38;5;124;43m\"\u001b[39;49m\u001b[43m)\u001b[49m\u001b[43m,\u001b[49m\u001b[43m \u001b[49m\u001b[43mdata\u001b[49m\u001b[43m \u001b[49m\u001b[38;5;241;43m=\u001b[39;49m\u001b[43m \u001b[49m\u001b[43mej_candidates\u001b[49m\u001b[43m)\u001b[49m\n\u001b[1;32m      2\u001b[0m plt\u001b[38;5;241m.\u001b[39mxlabel(\u001b[38;5;124m\"\u001b[39m\u001b[38;5;124mCounty\u001b[39m\u001b[38;5;124m\"\u001b[39m)\n\u001b[1;32m      3\u001b[0m plt\u001b[38;5;241m.\u001b[39mylabel(\u001b[38;5;124m\"\u001b[39m\u001b[38;5;124mPopulation\u001b[39m\u001b[38;5;124m\"\u001b[39m)\n",
      "File \u001b[0;32m~/miniconda3/envs/RELOG/lib/python3.10/site-packages/matplotlib/pyplot.py:2399\u001b[0m, in \u001b[0;36mbar\u001b[0;34m(x, height, width, bottom, align, data, **kwargs)\u001b[0m\n\u001b[1;32m   2395\u001b[0m \u001b[38;5;129m@_copy_docstring_and_deprecators\u001b[39m(Axes\u001b[38;5;241m.\u001b[39mbar)\n\u001b[1;32m   2396\u001b[0m \u001b[38;5;28;01mdef\u001b[39;00m \u001b[38;5;21mbar\u001b[39m(\n\u001b[1;32m   2397\u001b[0m         x, height, width\u001b[38;5;241m=\u001b[39m\u001b[38;5;241m0.8\u001b[39m, bottom\u001b[38;5;241m=\u001b[39m\u001b[38;5;28;01mNone\u001b[39;00m, \u001b[38;5;241m*\u001b[39m, align\u001b[38;5;241m=\u001b[39m\u001b[38;5;124m'\u001b[39m\u001b[38;5;124mcenter\u001b[39m\u001b[38;5;124m'\u001b[39m,\n\u001b[1;32m   2398\u001b[0m         data\u001b[38;5;241m=\u001b[39m\u001b[38;5;28;01mNone\u001b[39;00m, \u001b[38;5;241m*\u001b[39m\u001b[38;5;241m*\u001b[39mkwargs):\n\u001b[0;32m-> 2399\u001b[0m     \u001b[38;5;28;01mreturn\u001b[39;00m \u001b[43mgca\u001b[49m\u001b[43m(\u001b[49m\u001b[43m)\u001b[49m\u001b[38;5;241;43m.\u001b[39;49m\u001b[43mbar\u001b[49m\u001b[43m(\u001b[49m\n\u001b[1;32m   2400\u001b[0m \u001b[43m        \u001b[49m\u001b[43mx\u001b[49m\u001b[43m,\u001b[49m\u001b[43m \u001b[49m\u001b[43mheight\u001b[49m\u001b[43m,\u001b[49m\u001b[43m \u001b[49m\u001b[43mwidth\u001b[49m\u001b[38;5;241;43m=\u001b[39;49m\u001b[43mwidth\u001b[49m\u001b[43m,\u001b[49m\u001b[43m \u001b[49m\u001b[43mbottom\u001b[49m\u001b[38;5;241;43m=\u001b[39;49m\u001b[43mbottom\u001b[49m\u001b[43m,\u001b[49m\u001b[43m \u001b[49m\u001b[43malign\u001b[49m\u001b[38;5;241;43m=\u001b[39;49m\u001b[43malign\u001b[49m\u001b[43m,\u001b[49m\n\u001b[1;32m   2401\u001b[0m \u001b[43m        \u001b[49m\u001b[38;5;241;43m*\u001b[39;49m\u001b[38;5;241;43m*\u001b[39;49m\u001b[43m(\u001b[49m\u001b[43m{\u001b[49m\u001b[38;5;124;43m\"\u001b[39;49m\u001b[38;5;124;43mdata\u001b[39;49m\u001b[38;5;124;43m\"\u001b[39;49m\u001b[43m:\u001b[49m\u001b[43m \u001b[49m\u001b[43mdata\u001b[49m\u001b[43m}\u001b[49m\u001b[43m \u001b[49m\u001b[38;5;28;43;01mif\u001b[39;49;00m\u001b[43m \u001b[49m\u001b[43mdata\u001b[49m\u001b[43m \u001b[49m\u001b[38;5;129;43;01mis\u001b[39;49;00m\u001b[43m \u001b[49m\u001b[38;5;129;43;01mnot\u001b[39;49;00m\u001b[43m \u001b[49m\u001b[38;5;28;43;01mNone\u001b[39;49;00m\u001b[43m \u001b[49m\u001b[38;5;28;43;01melse\u001b[39;49;00m\u001b[43m \u001b[49m\u001b[43m{\u001b[49m\u001b[43m}\u001b[49m\u001b[43m)\u001b[49m\u001b[43m,\u001b[49m\u001b[43m \u001b[49m\u001b[38;5;241;43m*\u001b[39;49m\u001b[38;5;241;43m*\u001b[39;49m\u001b[43mkwargs\u001b[49m\u001b[43m)\u001b[49m\n",
      "File \u001b[0;32m~/miniconda3/envs/RELOG/lib/python3.10/site-packages/matplotlib/__init__.py:1438\u001b[0m, in \u001b[0;36m_preprocess_data.<locals>.inner\u001b[0;34m(ax, data, *args, **kwargs)\u001b[0m\n\u001b[1;32m   1434\u001b[0m \u001b[38;5;28;01mif\u001b[39;00m label_namer \u001b[38;5;129;01mand\u001b[39;00m \u001b[38;5;124m\"\u001b[39m\u001b[38;5;124mlabel\u001b[39m\u001b[38;5;124m\"\u001b[39m \u001b[38;5;129;01mnot\u001b[39;00m \u001b[38;5;129;01min\u001b[39;00m args_and_kwargs:\n\u001b[1;32m   1435\u001b[0m     new_kwargs[\u001b[38;5;124m\"\u001b[39m\u001b[38;5;124mlabel\u001b[39m\u001b[38;5;124m\"\u001b[39m] \u001b[38;5;241m=\u001b[39m _label_from_arg(\n\u001b[1;32m   1436\u001b[0m         args_and_kwargs\u001b[38;5;241m.\u001b[39mget(label_namer), auto_label)\n\u001b[0;32m-> 1438\u001b[0m \u001b[38;5;28;01mreturn\u001b[39;00m \u001b[43mfunc\u001b[49m\u001b[43m(\u001b[49m\u001b[38;5;241;43m*\u001b[39;49m\u001b[43mnew_args\u001b[49m\u001b[43m,\u001b[49m\u001b[43m \u001b[49m\u001b[38;5;241;43m*\u001b[39;49m\u001b[38;5;241;43m*\u001b[39;49m\u001b[43mnew_kwargs\u001b[49m\u001b[43m)\u001b[49m\n",
      "File \u001b[0;32m~/miniconda3/envs/RELOG/lib/python3.10/site-packages/matplotlib/axes/_axes.py:2342\u001b[0m, in \u001b[0;36mAxes.bar\u001b[0;34m(self, x, height, width, bottom, align, **kwargs)\u001b[0m\n\u001b[1;32m   2339\u001b[0m     \u001b[38;5;28;01mif\u001b[39;00m yerr \u001b[38;5;129;01mis\u001b[39;00m \u001b[38;5;129;01mnot\u001b[39;00m \u001b[38;5;28;01mNone\u001b[39;00m:\n\u001b[1;32m   2340\u001b[0m         yerr \u001b[38;5;241m=\u001b[39m \u001b[38;5;28mself\u001b[39m\u001b[38;5;241m.\u001b[39m_convert_dx(yerr, y0, y, \u001b[38;5;28mself\u001b[39m\u001b[38;5;241m.\u001b[39mconvert_yunits)\n\u001b[0;32m-> 2342\u001b[0m x, height, width, y, linewidth, hatch \u001b[38;5;241m=\u001b[39m \u001b[43mnp\u001b[49m\u001b[38;5;241;43m.\u001b[39;49m\u001b[43mbroadcast_arrays\u001b[49m\u001b[43m(\u001b[49m\n\u001b[1;32m   2343\u001b[0m \u001b[43m    \u001b[49m\u001b[38;5;66;43;03m# Make args iterable too.\u001b[39;49;00m\n\u001b[1;32m   2344\u001b[0m \u001b[43m    \u001b[49m\u001b[43mnp\u001b[49m\u001b[38;5;241;43m.\u001b[39;49m\u001b[43matleast_1d\u001b[49m\u001b[43m(\u001b[49m\u001b[43mx\u001b[49m\u001b[43m)\u001b[49m\u001b[43m,\u001b[49m\u001b[43m \u001b[49m\u001b[43mheight\u001b[49m\u001b[43m,\u001b[49m\u001b[43m \u001b[49m\u001b[43mwidth\u001b[49m\u001b[43m,\u001b[49m\u001b[43m \u001b[49m\u001b[43my\u001b[49m\u001b[43m,\u001b[49m\u001b[43m \u001b[49m\u001b[43mlinewidth\u001b[49m\u001b[43m,\u001b[49m\u001b[43m \u001b[49m\u001b[43mhatch\u001b[49m\u001b[43m)\u001b[49m\n\u001b[1;32m   2346\u001b[0m \u001b[38;5;66;03m# Now that units have been converted, set the tick locations.\u001b[39;00m\n\u001b[1;32m   2347\u001b[0m \u001b[38;5;28;01mif\u001b[39;00m orientation \u001b[38;5;241m==\u001b[39m \u001b[38;5;124m'\u001b[39m\u001b[38;5;124mvertical\u001b[39m\u001b[38;5;124m'\u001b[39m:\n",
      "File \u001b[0;32m<__array_function__ internals>:180\u001b[0m, in \u001b[0;36mbroadcast_arrays\u001b[0;34m(*args, **kwargs)\u001b[0m\n",
      "File \u001b[0;32m~/miniconda3/envs/RELOG/lib/python3.10/site-packages/numpy/lib/stride_tricks.py:540\u001b[0m, in \u001b[0;36mbroadcast_arrays\u001b[0;34m(subok, *args)\u001b[0m\n\u001b[1;32m    533\u001b[0m \u001b[38;5;66;03m# nditer is not used here to avoid the limit of 32 arrays.\u001b[39;00m\n\u001b[1;32m    534\u001b[0m \u001b[38;5;66;03m# Otherwise, something like the following one-liner would suffice:\u001b[39;00m\n\u001b[1;32m    535\u001b[0m \u001b[38;5;66;03m# return np.nditer(args, flags=['multi_index', 'zerosize_ok'],\u001b[39;00m\n\u001b[1;32m    536\u001b[0m \u001b[38;5;66;03m#                  order='C').itviews\u001b[39;00m\n\u001b[1;32m    538\u001b[0m args \u001b[38;5;241m=\u001b[39m [np\u001b[38;5;241m.\u001b[39marray(_m, copy\u001b[38;5;241m=\u001b[39m\u001b[38;5;28;01mFalse\u001b[39;00m, subok\u001b[38;5;241m=\u001b[39msubok) \u001b[38;5;28;01mfor\u001b[39;00m _m \u001b[38;5;129;01min\u001b[39;00m args]\n\u001b[0;32m--> 540\u001b[0m shape \u001b[38;5;241m=\u001b[39m \u001b[43m_broadcast_shape\u001b[49m\u001b[43m(\u001b[49m\u001b[38;5;241;43m*\u001b[39;49m\u001b[43margs\u001b[49m\u001b[43m)\u001b[49m\n\u001b[1;32m    542\u001b[0m \u001b[38;5;28;01mif\u001b[39;00m \u001b[38;5;28mall\u001b[39m(array\u001b[38;5;241m.\u001b[39mshape \u001b[38;5;241m==\u001b[39m shape \u001b[38;5;28;01mfor\u001b[39;00m array \u001b[38;5;129;01min\u001b[39;00m args):\n\u001b[1;32m    543\u001b[0m     \u001b[38;5;66;03m# Common case where nothing needs to be broadcasted.\u001b[39;00m\n\u001b[1;32m    544\u001b[0m     \u001b[38;5;28;01mreturn\u001b[39;00m args\n",
      "File \u001b[0;32m~/miniconda3/envs/RELOG/lib/python3.10/site-packages/numpy/lib/stride_tricks.py:422\u001b[0m, in \u001b[0;36m_broadcast_shape\u001b[0;34m(*args)\u001b[0m\n\u001b[1;32m    417\u001b[0m \u001b[38;5;124;03m\"\"\"Returns the shape of the arrays that would result from broadcasting the\u001b[39;00m\n\u001b[1;32m    418\u001b[0m \u001b[38;5;124;03msupplied arrays against each other.\u001b[39;00m\n\u001b[1;32m    419\u001b[0m \u001b[38;5;124;03m\"\"\"\u001b[39;00m\n\u001b[1;32m    420\u001b[0m \u001b[38;5;66;03m# use the old-iterator because np.nditer does not handle size 0 arrays\u001b[39;00m\n\u001b[1;32m    421\u001b[0m \u001b[38;5;66;03m# consistently\u001b[39;00m\n\u001b[0;32m--> 422\u001b[0m b \u001b[38;5;241m=\u001b[39m \u001b[43mnp\u001b[49m\u001b[38;5;241;43m.\u001b[39;49m\u001b[43mbroadcast\u001b[49m\u001b[43m(\u001b[49m\u001b[38;5;241;43m*\u001b[39;49m\u001b[43margs\u001b[49m\u001b[43m[\u001b[49m\u001b[43m:\u001b[49m\u001b[38;5;241;43m32\u001b[39;49m\u001b[43m]\u001b[49m\u001b[43m)\u001b[49m\n\u001b[1;32m    423\u001b[0m \u001b[38;5;66;03m# unfortunately, it cannot handle 32 or more arguments directly\u001b[39;00m\n\u001b[1;32m    424\u001b[0m \u001b[38;5;28;01mfor\u001b[39;00m pos \u001b[38;5;129;01min\u001b[39;00m \u001b[38;5;28mrange\u001b[39m(\u001b[38;5;241m32\u001b[39m, \u001b[38;5;28mlen\u001b[39m(args), \u001b[38;5;241m31\u001b[39m):\n\u001b[1;32m    425\u001b[0m     \u001b[38;5;66;03m# ironically, np.broadcast does not properly handle np.broadcast\u001b[39;00m\n\u001b[1;32m    426\u001b[0m     \u001b[38;5;66;03m# objects (it treats them as scalars)\u001b[39;00m\n\u001b[1;32m    427\u001b[0m     \u001b[38;5;66;03m# use broadcasting to avoid allocating the full array\u001b[39;00m\n",
      "\u001b[0;31mValueError\u001b[0m: shape mismatch: objects cannot be broadcast to a single shape.  Mismatch is between arg 0 with shape (96,) and arg 1 with shape (2,)."
     ]
    },
    {
     "data": {
      "image/png": "[encoded data removed]",
      "text/plain": [
       "<Figure size 640x480 with 1 Axes>"
      ]
     },
     "metadata": {},
     "output_type": "display_data"
    }
   ],
   "source": [
    "plt.bar(\"name\", (\"N_D_MINOR\", \"N_D_MINOR_PER\"), data = ej_candidates)\n",
    "plt.xlabel(\"County\")\n",
    "plt.ylabel(\"Population\")\n",
    "#plt.title(\"\")\n",
    "plt.show()"
   ]
  },
  {
   "cell_type": "code",
   "execution_count": 129,
   "id": "99db6c60-542f-43d1-b351-937381b235f1",
   "metadata": {},
   "outputs": [
    {
     "data": {
      "text/plain": [
       "0     89.0\n",
       "1     66.0\n",
       "2     35.0\n",
       "3     84.0\n",
       "4     80.0\n",
       "      ... \n",
       "91    72.0\n",
       "92    16.0\n",
       "93    80.0\n",
       "94    41.0\n",
       "95    54.0\n",
       "Name: N_D_MINOR_PER, Length: 96, dtype: float64"
      ]
     },
     "execution_count": 129,
     "metadata": {},
     "output_type": "execute_result"
    }
   ],
   "source": [
    "ej_candidates['N_D_MINOR_PER']"
   ]
  },
  {
   "cell_type": "code",
   "execution_count": null,
   "id": "a673208a-0e06-48d9-8b92-6c04ab74d0ea",
   "metadata": {},
   "outputs": [],
   "source": []
  }
 ],
 "metadata": {
  "kernelspec": {
   "display_name": "RELOG",
   "language": "python",
   "name": "relog"
  },
  "language_info": {
   "codemirror_mode": {
    "name": "ipython",
    "version": 3
   },
   "file_extension": ".py",
   "mimetype": "text/x-python",
   "name": "python",
   "nbconvert_exporter": "python",
   "pygments_lexer": "ipython3",
   "version": "3.10.6"
  }
 },
 "nbformat": 4,
 "nbformat_minor": 5
}
