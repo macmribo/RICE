{
 "cells": [
  {
   "cell_type": "markdown",
   "id": "f13be76b-3940-4e9c-aa20-fb54ed18ecb6",
   "metadata": {},
   "source": [
    "# Data Preprocess 1"
   ]
  },
  {
   "cell_type": "markdown",
   "id": "e06618fb-2bfc-4e01-be6e-88270b72b82f",
   "metadata": {},
   "source": [
    "This journal describes how to prepare the data to run the RELOG scenarios. He we will cover:\n",
    "1. Waste files generation. Correlates latitude and longitude with a region and state. Takes PV ICE-generated data file and creates individual waste files based on the type of waste.\n",
    "2. Make initial amounts file. Using the previously generated files, we show how to make an 'Initial amounts file' so it is in RELOG input data format. \n",
    "3. Make recycling candidates files. Generate the PV recycling plant candidates files using the correct area cost factor.\n",
    "4. Continue to RELOG case-builder.\n",
    "5. Make a sankey diagram from section 1.\n",
    "6. Render a cloropeth map from section 2 (not finished!)\n",
    "\n",
    "A continuation of this journal can be found in [Data Preprocess 2](./data_preprocess_2.ipynb).\n",
    "\n",
    "***NOTE:** All quantities are given in **metric tonnes**.*"
   ]
  },
  {
   "cell_type": "markdown",
   "id": "021e1ed1-e865-4e3c-874c-534b729c6cee",
   "metadata": {},
   "source": [
    "## 0. Load necessary libraries"
   ]
  },
  {
   "cell_type": "code",
   "execution_count": null,
   "id": "f079c6c9-cc2f-40ac-84cc-42ab867771af",
   "metadata": {},
   "outputs": [],
   "source": [
    "import numpy as np\n",
    "import pandas as pd\n",
    "import os,sys\n",
    "import matplotlib.pyplot as plt\n",
    "from pathlib import Path\n",
    "import random\n",
    "\n",
    "from geopy.geocoders import Nominatim\n",
    "from geopy.point import Point\n",
    "# initialize Nominatim API\n",
    "geolocator = Nominatim(user_agent=\"geoapiExercises\")"
   ]
  },
  {
   "cell_type": "markdown",
   "id": "ecbc9389-84b8-45a9-9980-5d3acbeb3c25",
   "metadata": {},
   "source": [
    "---\n",
    "## 1. Waste files generation"
   ]
  },
  {
   "cell_type": "markdown",
   "id": "0ccf2824-3754-4d24-b7d8-27e4aec656a2",
   "metadata": {},
   "source": [
    "### 1.1. Get the GIS locations from the latitude and longitude"
   ]
  },
  {
   "cell_type": "markdown",
   "id": "b756d0fb-34ad-4f3f-829f-805728eb8b06",
   "metadata": {},
   "source": [
    "Load the GIS file."
   ]
  },
  {
   "cell_type": "code",
   "execution_count": null,
   "id": "9c77f800-d9f1-4b2a-91b7-c70366777a90",
   "metadata": {},
   "outputs": [],
   "source": [
    "GIS = pd.read_excel('Geo_data/gis_centroid_n.xlsx') # Read the GIS excel file.\n",
    "GIS # Prints first five rows."
   ]
  },
  {
   "cell_type": "markdown",
   "id": "0e1629ad-b5b8-4418-9001-79fba53c5e8a",
   "metadata": {},
   "source": [
    "The generated file has four columns, with longitude, latitude PCA id and country. This does not tell us much about their actual location so we can use the following gunction to create additional columns to the GIS file with the actual location names."
   ]
  },
  {
   "cell_type": "code",
   "execution_count": null,
   "id": "bb37f295-2df7-4046-bf33-da6791e6b8f5",
   "metadata": {},
   "outputs": [],
   "source": [
    "def city_state_country(row):\n",
    "    # I map latitude and longitude with actual names of those places.\n",
    "    coord = f\"{row['lat']}, {row['long']}\"\n",
    "    location = geolocator.reverse(coord, exactly_one=True)\n",
    "    address = location.raw['address']\n",
    "    city = address.get('city', '')\n",
    "    county = address.get('county', '')\n",
    "    state = address.get('state', '')\n",
    "    country = address.get('country', '')\n",
    "    county_state = address.get('county', 'state')\n",
    "    #row['city'] = city\n",
    "    row['county'] = county\n",
    "    row['state'] = state\n",
    "    row['country'] = country\n",
    "    #row['location'] = county_state\n",
    "    return row"
   ]
  },
  {
   "cell_type": "markdown",
   "id": "277d843c-d26a-4c39-81a7-f02e37f32a43",
   "metadata": {},
   "source": [
    "Generate a GIS file with the name of the locations, this will be useful for section 2, 3 and 4. Where the location names matter to assign area cost factors and to locate waste in a map. I would recommend running this function once, saving the output, and then, when needed, just read the generated csv."
   ]
  },
  {
   "cell_type": "markdown",
   "id": "aef9522c-71c8-4bd7-85a3-eef910b6d7ad",
   "metadata": {},
   "source": [
    "#### 1.1.1 Generaye GIS file — ONLY RUN ONCE! Skip to section 1.1.2. if you already generated the file"
   ]
  },
  {
   "cell_type": "code",
   "execution_count": null,
   "id": "7605c3b4-e83d-44fe-8a62-2e741af9e015",
   "metadata": {},
   "outputs": [],
   "source": [
    "%%time\n",
    "# This one takes around two minutes. Apply the previous function to obtain the names of the locations.\n",
    "GIS = GIS.apply(city_state_country, axis=1)\n",
    "GIS.head()"
   ]
  },
  {
   "cell_type": "markdown",
   "id": "d20bfe6f-45b5-4d10-ac4f-f6f97f8a76dd",
   "metadata": {},
   "source": [
    "There is one county in California that shows empty. Let's add the corresponding county. Doing a quick maps  search, I saw that the [35.120104, -117.159039](https://www.google.com/maps/place/35%C2%B007'12.4%22N+117%C2%B009'32.5%22W/@35.6668582,-117.0465162,8.1z/data=!4m5!3m4!1s0x0:0xf02b1d027b57f1cb!8m2!3d35.120104!4d-117.159039) overlaps with [San Bernardino County](https://www.google.com/maps/place/San+Bernardino+County,+CA/@34.9743906,-117.1874339,10.12z/data=!4m5!3m4!1s0x80c52a8ae8311be5:0xa438bdbc918edca!8m2!3d34.9592083!4d-116.419389). The are in [33.031747, -116.717606](https://www.google.com/maps/place/33%C2%B001'54.3%22N+116%C2%B043'03.4%22W/@33.0171076,-116.9113049,9.82z/data=!4m5!3m4!1s0x0:0xb56a6fffc57eaadd!8m2!3d33.031747!4d-116.717606) corresponds to [San Diego County](https://www.google.com/maps/place/San+Diego+County,+CA/@33.016828,-117.4064529,9z/data=!3m1!4b1!4m5!3m4!1s0x80dbeb3023ff601d:0x350dfd2beb800728!8m2!3d33.0933809!4d-116.6081653). Let's add thesevalues to the empty county fields."
   ]
  },
  {
   "cell_type": "code",
   "execution_count": null,
   "id": "d09e191f-76ff-4800-bef3-edf2d5004a2c",
   "metadata": {},
   "outputs": [],
   "source": [
    "GIS[(GIS.county == '') & (GIS.country == 'United States')] # Select the rows we need."
   ]
  },
  {
   "cell_type": "markdown",
   "id": "598ec081-cc9c-44e2-881a-a3dcad555b0b",
   "metadata": {},
   "source": [
    "Now let's use the `id` column to spot the right item and add the corresponding counties."
   ]
  },
  {
   "cell_type": "code",
   "execution_count": null,
   "id": "071f4811-34d7-4def-b199-02ed8166c845",
   "metadata": {},
   "outputs": [],
   "source": [
    "GIS.loc[GIS.id == 'p10', 'county'] = 'San Bernardino'\n",
    "GIS.loc[GIS.id == 'p11', 'county'] = 'San Diego'"
   ]
  },
  {
   "cell_type": "code",
   "execution_count": null,
   "id": "89c242ca-c870-4935-ae99-bb7ede558b7b",
   "metadata": {},
   "outputs": [],
   "source": [
    "GIS.head()"
   ]
  },
  {
   "cell_type": "markdown",
   "id": "fc93c974-f6e1-40ec-8c62-792a7e1acf29",
   "metadata": {},
   "source": [
    "Let's now save the file, so we don't have to do this ever again. Hooray!"
   ]
  },
  {
   "cell_type": "code",
   "execution_count": null,
   "id": "0ea64962-837d-40eb-be0c-fe33a86ccd53",
   "metadata": {},
   "outputs": [],
   "source": [
    "GIS.to_csv('Geo_data/gis_region_names.csv')"
   ]
  },
  {
   "cell_type": "markdown",
   "id": "5d881742-8ffc-407d-ab3a-2178b422b685",
   "metadata": {},
   "source": [
    "#### 1.1.2. Load GIS file — RUN THIS ONE IF YOU ALREADY GENERATED THIS FILE"
   ]
  },
  {
   "cell_type": "markdown",
   "id": "c0aa3b02-ac5e-418c-af87-664dbe83ccff",
   "metadata": {},
   "source": [
    "Run this cell if you already generated the `gis_region_names.csv` file."
   ]
  },
  {
   "cell_type": "markdown",
   "id": "ca4a433b-f9c9-46b9-b052-0580b4ca2364",
   "metadata": {},
   "source": [
    "We no filter the GIS data so there's only USA."
   ]
  },
  {
   "cell_type": "code",
   "execution_count": null,
   "id": "8c450911-2bf3-453e-932a-1d1c1c4c5e44",
   "metadata": {},
   "outputs": [],
   "source": [
    "GIS = pd.read_csv('Geo_data/gis_region_names.csv')\n",
    "GIS_us = GIS[GIS.country == 'United States']\n",
    "GIS_us.reset_index(inplace=True)\n",
    "GIS_us = GIS_us.iloc[0:134]\n",
    "GIS_us.to_csv('Geo_data/GIS_us_collection_centers_only.csv')"
   ]
  },
  {
   "cell_type": "markdown",
   "id": "12d2001c-d57e-41f3-8ce8-47e552a5723c",
   "metadata": {},
   "source": [
    "Now that we have the data we need, I am going to separate the `long` and `lat`, and the `id` into their own dataframes for easier handling."
   ]
  },
  {
   "cell_type": "code",
   "execution_count": null,
   "id": "7d0f625f-eb62-4c4c-8696-a036e209df79",
   "metadata": {},
   "outputs": [],
   "source": [
    "GIS_us_long_lat = GIS_us[['long', 'lat']]\n",
    "GIS_us_id = GIS_us[['id']]"
   ]
  },
  {
   "cell_type": "markdown",
   "id": "2ce3036c-0ec8-4984-83bd-8968a5dafc3d",
   "metadata": {},
   "source": [
    "### 1.2. Correlate GIS longitude and latitude with FIPS codes for the map diagram and EJ API queries"
   ]
  },
  {
   "cell_type": "markdown",
   "id": "2a4a8ad8-e59e-4d4e-bb4b-d47226446ce8",
   "metadata": {},
   "source": [
    "This is more GIS data pre processing, it is not needed to get the waste files but will be helpful to obtain a cloropeth map with the waste, and the dataframe that with the Energy Justice metrics."
   ]
  },
  {
   "cell_type": "markdown",
   "id": "ab436dc3-34d6-42aa-95fd-4dfd768ded4d",
   "metadata": {},
   "source": [
    "#### 1.2.1. Obtain GIS data with FIPS codes"
   ]
  },
  {
   "cell_type": "code",
   "execution_count": null,
   "id": "d172f006-1a93-4356-8323-b5123c0f438b",
   "metadata": {},
   "outputs": [],
   "source": [
    "fips_county_codes = []\n",
    "fips_state_codes = []"
   ]
  },
  {
   "cell_type": "markdown",
   "id": "1d993475-cf0b-4a61-a187-9bc5a2fa508e",
   "metadata": {},
   "source": [
    "**NOTE:** Run only once and skip to section 1.2.2, to just load this data."
   ]
  },
  {
   "cell_type": "code",
   "execution_count": null,
   "id": "7a586cdc-60af-4c0c-8fa4-f95c81454800",
   "metadata": {},
   "outputs": [],
   "source": [
    "%%time\n",
    "# Code from https://gis.stackexchange.com/questions/294641/python-code-for-transforming-lat-long-into-fips-codes\n",
    "import requests\n",
    "import urllib\n",
    "\n",
    "#Encode parameters \n",
    "for lon, lat in GIS_us_long_lat.itertuples(index=False):\n",
    "    params = urllib.parse.urlencode({'latitude': lat, 'longitude':lon, 'format':'json'})\n",
    "    #Contruct request URL\n",
    "    url = 'https://geo.fcc.gov/api/census/block/find?' + params\n",
    "\n",
    "    #Get response from API\n",
    "    response = requests.get(url)\n",
    "\n",
    "    #Parse json in response\n",
    "    data = response.json()\n",
    "    fips_county_codes.append(data['County']['FIPS'])\n",
    "    fips_state_codes.append(data['State']['FIPS'])\n",
    "    #Print FIPS code\n"
   ]
  },
  {
   "cell_type": "code",
   "execution_count": null,
   "id": "973e771d-b351-4e3b-91e3-161881ced6c0",
   "metadata": {},
   "outputs": [],
   "source": [
    "GIS_us_long_lat.loc[:, 'fips_county'] = fips_county_codes\n",
    "GIS_us_long_lat.loc[:, 'fips_state'] = fips_state_codes"
   ]
  },
  {
   "cell_type": "code",
   "execution_count": null,
   "id": "a982729f-62d8-42c6-a1ab-13570dccdbe5",
   "metadata": {},
   "outputs": [],
   "source": [
    "GIS_us_long_lat.head()"
   ]
  },
  {
   "cell_type": "code",
   "execution_count": null,
   "id": "3fe94795-ffb5-4417-9e2f-9b5a1a97c1e7",
   "metadata": {},
   "outputs": [],
   "source": [
    "GIS_us_long_lat.to_csv('Geo_data/GIS_us_long_lat.csv') # Save file"
   ]
  },
  {
   "cell_type": "markdown",
   "id": "a19678bb-c5e2-4f56-8810-ed245251556c",
   "metadata": {},
   "source": [
    "#### 1.2.2. Load GIS with FIPS data"
   ]
  },
  {
   "cell_type": "code",
   "execution_count": null,
   "id": "2323a42d-b2c2-445b-a3f1-51d36b5766fc",
   "metadata": {},
   "outputs": [],
   "source": [
    "GIS_us_long_lat = pd.read_csv('Geo_data/GIS_us_long_lat.csv') # Load file"
   ]
  },
  {
   "cell_type": "markdown",
   "id": "94e499ef-253d-4ba3-a18a-9e70747d8485",
   "metadata": {},
   "source": [
    "### 1.3. Separate the PV ICE output and create individual material file"
   ]
  },
  {
   "cell_type": "markdown",
   "id": "aefaf75c-8842-42a7-aa23-4a24d0870d9d",
   "metadata": {},
   "source": [
    "Here I create a path to the folder where we saved the waste files generated by PV ICE inside the TEMP folder or `RICE/1_PV_ICE_waste_calculations/TEMP`. As of Mon Feb 20, 2023, there are three folders in `TEMP`:\n",
    "\n",
    "* `PCAs_RELOG_Method1`: Method 1 uses the raw ReEDS data with the unrealistic deployment schedules. This creates uneven peaks of waste.\n",
    "* `PCAs_RELOG_Method2`: Method 2 uses ordered ReEDS data which orders wastes between 2021 to 2035 and 2046 to 2050. Still creates unrealistic peaks.\n",
    "* `PCAs_RELOG_Method3`: Uses the cummulative capacity between 2021 to 2035 and 2034 to 2050 to create a logarithmic growth of waste (this method is being tested, not validated yet, and subjected to ongoing changes).\n",
    " \n",
    "For the purpose of this journal we will be looking at the `PCAs_RELOG_Method3` folder which is presumably a more realistic deployment scenario. "
   ]
  },
  {
   "cell_type": "markdown",
   "id": "d82f5595-8872-465f-8cfd-399e6a663186",
   "metadata": {},
   "source": [
    "#### 1.3.1. Set up the working folders"
   ]
  },
  {
   "cell_type": "markdown",
   "id": "2d5fbd95-66da-4609-9f60-99bc65ef8b33",
   "metadata": {},
   "source": [
    "This is a list of all the possible scenarios that we can select."
   ]
  },
  {
   "cell_type": "code",
   "execution_count": null,
   "id": "3387cc49-1889-41b0-91f4-adc606c68736",
   "metadata": {},
   "outputs": [],
   "source": [
    "pv_ice_simulations = ['Method1', 'Method2','Method3']\n",
    "print(\"Choose one of the following methods: Method1, Method2 or Method3.\")\n",
    "pv_ice_simulations = None\n",
    "while pv_ice_simulations not in {\"Method1\", \"Method2\", \"Method3\"}:\n",
    "    pv_ice_simulations = input('Input method not in the list, please choose one of the following methods: Method1, Method2 or Method3.')\n",
    "print('You have chosen {}.'.format(pv_ice_simulations))"
   ]
  },
  {
   "cell_type": "code",
   "execution_count": null,
   "id": "89d2d6b9-2393-4f42-adc8-df61ffc441bc",
   "metadata": {},
   "outputs": [],
   "source": [
    "previous_folder = os.path.normpath(os.getcwd() + os.sep + os.pardir) # Get previous folder from current directory\n",
    "pvice_TEMP_folder = os.path.join(previous_folder, '1_PV_ICE_waste_calculations','TEMP') # Change the number for the scenario you want to run"
   ]
  },
  {
   "cell_type": "markdown",
   "id": "8879f0bb-7d29-4415-aca3-397b112feadc",
   "metadata": {},
   "source": [
    "Check if the path exists, if not, it will create the path with necessary folders."
   ]
  },
  {
   "cell_type": "markdown",
   "id": "7b132639-c486-4d6a-b998-cb4299484e3e",
   "metadata": {},
   "source": [
    "This is to make the output file."
   ]
  },
  {
   "cell_type": "code",
   "execution_count": null,
   "id": "162d072e-2fe5-41f2-b22d-f3b6e803ee71",
   "metadata": {},
   "outputs": [],
   "source": [
    "cwd = os.getcwd()\n",
    "pvice_output_folder = os.path.join(cwd, 'PV_ICE_clean_outputs','Manufacturing', pv_ice_simulations)"
   ]
  },
  {
   "cell_type": "code",
   "execution_count": null,
   "id": "75d3f4cc-f8b2-4721-9c0e-875546585457",
   "metadata": {},
   "outputs": [],
   "source": [
    "#python program to check if a directory exists\n",
    "import os\n",
    "\n",
    "# Check whether the specified path exists or not\n",
    "isExist = os.path.exists(pvice_output_folder)\n",
    "if isExist:\n",
    "    print(\"The path already exists!\")\n",
    "if not isExist:\n",
    "   # Create a new directory because it does not exist\n",
    "   os.makedirs(pvice_output_folder)\n",
    "   print(\"The new directory has been created!\")"
   ]
  },
  {
   "cell_type": "markdown",
   "id": "a8c1915a-0b5f-4bd5-b27c-de2ce49d2764",
   "metadata": {},
   "source": [
    "Read the cSi and CdTe waste files, respectively."
   ]
  },
  {
   "cell_type": "code",
   "execution_count": null,
   "id": "acc764f4-26ad-4a2c-83cc-335a73b7aa82",
   "metadata": {},
   "outputs": [],
   "source": [
    "pvice_output_folder\n"
   ]
  },
  {
   "cell_type": "code",
   "execution_count": null,
   "id": "c43fe815-feb7-440b-96b2-3c07d75182d9",
   "metadata": {},
   "outputs": [],
   "source": [
    "csi_virgin = pd.read_csv(os.path.join(pvice_TEMP_folder, f'PVICE_RELOG_PCA_cSi_VirginStock_{pv_ice_simulations}.csv'), index_col='year')\n",
    "cdte_virgin = pd.read_csv(os.path.join(pvice_TEMP_folder, f'PVICE_RELOG_PCA_CdTe_VirginStock_{pv_ice_simulations}.csv'), index_col='year')"
   ]
  },
  {
   "cell_type": "code",
   "execution_count": null,
   "id": "542e78db-46c8-43f9-954f-935f0e3ca136",
   "metadata": {},
   "outputs": [],
   "source": [
    "print('We have %s collection centers.' % len(GIS_us))"
   ]
  },
  {
   "cell_type": "markdown",
   "id": "546f7d65-a509-4dab-8056-3f3754b8a02f",
   "metadata": {},
   "source": [
    "Now I need to select the columns and separate them by material, then add a column identifying the locations. Ideally, I need to populate a table for each material."
   ]
  },
  {
   "cell_type": "code",
   "execution_count": null,
   "id": "7528bc00-292b-48a6-8a74-8d1807d5b5df",
   "metadata": {},
   "outputs": [],
   "source": [
    "material_list_csi = ['glass', 'silicon', 'silver', 'copper', 'aluminium_frames', 'encapsulant', 'backsheet', 'Module']\n",
    "material_list_cdte = ['cadmium', 'tellurium', 'glass_cdte', 'aluminium_frames_cdte', 'Module', 'copper_cdte', 'encapsulant_cdte']"
   ]
  },
  {
   "cell_type": "code",
   "execution_count": null,
   "id": "0814fb51-0c62-4e37-9c48-487b5f4535cf",
   "metadata": {},
   "outputs": [],
   "source": [
    "nums = np.arange(1,42)\n",
    "years = np.arange(2010,2051)\n",
    "years_dict = {nums[i]: years[i] for i in range(len(nums))}"
   ]
  },
  {
   "cell_type": "code",
   "execution_count": null,
   "id": "f5375c80-531b-46aa-9254-c5fee96ce019",
   "metadata": {},
   "outputs": [],
   "source": [
    "mats = ['csi', 'cdte']"
   ]
  },
  {
   "cell_type": "markdown",
   "id": "d54970df-39dd-4ce8-a4f8-f5a354c8c97d",
   "metadata": {},
   "source": [
    "#### 1.3.2. Generate waste files separated by technology and material."
   ]
  },
  {
   "cell_type": "code",
   "execution_count": null,
   "id": "ee27b739-d5b2-40fe-89b5-d1a24456c6b7",
   "metadata": {},
   "outputs": [],
   "source": [
    "for y in mats:\n",
    "    if y == 'csi':\n",
    "        for x in material_list_csi:\n",
    "            globals()['%s_%s_sel' % (y, x)] = [col for col in globals()['%s_virgin' % y].columns if x in col]\n",
    "            globals()['%s_%s' % (y, x)] = csi_virgin.filter(globals()['%s_%s_sel' % (y, x)], axis=1)\n",
    "            globals()['%s_%s' % (y, x)] = globals()['%s_%s' % (y, x)].transpose()\n",
    "            globals()['%s_%s' % (y, x)].reset_index(inplace=True)\n",
    "            globals()['%s_%s' % (y, x)] = pd.concat([globals()['%s_%s' % (y, x)], GIS_us_long_lat], axis=1, ignore_index=True)\n",
    "            globals()['%s_%s' % (y, x)].rename(columns = years_dict, inplace=True)\n",
    "           # globals()['%s_%s' % (y, x)].rename(columns = {42:'PCA area'}, inplace=True)\n",
    "            globals()['%s_%s' % (y, x)].rename(columns = {42:'longitude', 43:'latitude', 44:'FIPS'}, inplace=True)\n",
    "            globals()['%s_%s' % (y, x)]['total waste'] = globals()['%s_%s' % (y, x)].loc[:, 2010:2050].sum(axis=1)\n",
    "            globals()['%s_%s' % (y, x)].to_csv(os.path.join(pvice_output_folder, '{}_VirginStock_{}.csv'.format(y, x)), index=False)\n",
    "    elif y == 'cdte':\n",
    "        for x in material_list_cdte:\n",
    "            globals()['%s_%s_sel' % (y, x)] = [col for col in globals()['%s_virgin' % y].columns if x in col]\n",
    "            globals()['%s_%s' % (y, x)] = cdte_virgin.filter(globals()['%s_%s_sel' % (y, x)], axis=1)\n",
    "            globals()['%s_%s' % (y, x)] = globals()['%s_%s' % (y, x)].transpose()\n",
    "            globals()['%s_%s' % (y, x)].reset_index(inplace=True)\n",
    "            globals()['%s_%s' % (y, x)] = pd.concat([globals()['%s_%s' % (y, x)], GIS_us_long_lat], axis=1, ignore_index=True)\n",
    "            globals()['%s_%s' % (y, x)].rename(columns = years_dict, inplace=True)\n",
    "           # globals()['%s_%s' % (y, x)].rename(columns = {42:'PCA area'}, inplace=True)\n",
    "            globals()['%s_%s' % (y, x)].rename(columns = {42:'longitude', 43:'latitude', 44:'FIPS'}, inplace=True)\n",
    "            globals()['%s_%s' % (y, x)]['total waste'] = globals()['%s_%s' % (y, x)].loc[:, 2010:2050].sum(axis=1)\n",
    "            globals()['%s_%s' % (y, x)].to_csv(os.path.join(pvice_output_folder, '{}_VirginStock_{}.csv'.format(y, x)), index=False)\n",
    "            \n",
    "            "
   ]
  },
  {
   "cell_type": "markdown",
   "id": "efd2fb46-6abe-4b74-9616-ecb1b7881374",
   "metadata": {},
   "source": [
    "## 2. Initial amounts file generation"
   ]
  },
  {
   "cell_type": "markdown",
   "id": "79574205-1e58-4de1-8bac-32fbcbe06a4f",
   "metadata": {},
   "source": [
    "Here I will be generating the file that has the waste initial amounts according to RELOG's template (Initial amounts - Template.csv).\n",
    "![image.png](images/Initial_amounts_temp.png)\n",
    "\n",
    "I have two options:\n",
    "1) Add at the wastes and then do the processing to create ONE template of initial amounts.\n",
    "2) Create THREE templates, two with CdTe and cSi separated, and then create another one summing the previous two.\n",
    "\n",
    "I am going to do option 2, that way if we decide to generate a separate RELOG scenario with one or the other technology, we have already separate files. I am also  going to create the files for individual materials in case they update the software so we also have material timeseries.\n",
    "\n",
    "**IMPORTANT:** I need to make unique names for this file, so I will add the state next to the county."
   ]
  },
  {
   "cell_type": "markdown",
   "id": "723bd467-c9ea-458b-a90d-3c7af691413a",
   "metadata": {},
   "source": [
    "### 2.1. Load the waste files that we just generated."
   ]
  },
  {
   "cell_type": "markdown",
   "id": "24846d57-57c3-43ba-993d-e366d21364e0",
   "metadata": {},
   "source": [
    "**LOAD OPTION 1:** If you have run Section 1.3.2 cells, fetch the data as csi_Module and cdte_Module. I make a copy of these files since I will be changing them considerably. To use this option set the following cell to `load = False`.\n",
    "\n",
    "**LOAD OPTION 2:** If you haven't run Section 1.3.2 cells, use function load_csv with the corresponding file name. To use this option set the following cell to `load = True`."
   ]
  },
  {
   "cell_type": "code",
   "execution_count": null,
   "id": "05385fbf-d1a8-42b2-b567-cf040bd01263",
   "metadata": {},
   "outputs": [],
   "source": [
    "load = False #If you have not run Section 1 cells"
   ]
  },
  {
   "cell_type": "code",
   "execution_count": null,
   "id": "8c120a9a-ec75-49d5-8eb6-373825def9d6",
   "metadata": {
    "tags": []
   },
   "outputs": [],
   "source": [
    "if load == True:\n",
    "    csi_Module_ia = pd.read_csv(os.path.join(pvice_output_folder,'csi_VirginStock_Module.csv'))\n",
    "    csi_glass_ia = pd.read_csv(os.path.join(pvice_output_folder,'csi_VirginStock_glass.csv'))\n",
    "    csi_silicon_ia = pd.read_csv(os.path.join(pvice_output_folder,'csi_VirginStock_silicon.csv'))\n",
    "    csi_silver_ia = pd.read_csv(os.path.join(pvice_output_folder,'csi_VirginStock_silver.csv'))\n",
    "    csi_copper_ia = pd.read_csv(os.path.join(pvice_output_folder,'csi_VirginStock_copper.csv'))\n",
    "    csi_aluminium_frames_ia = pd.read_csv(os.path.join(pvice_output_folder,'csi_VirginStock_aluminium_frames.csv'))\n",
    "    csi_encapsulant_ia = pd.read_csv(os.path.join(pvice_output_folder,'csi_VirginStock_encapsulant.csv'))\n",
    "    csi_backsheet_ia = pd.read_csv(os.path.join(pvice_output_folder,'csi_VirginStock_backsheet.csv'))\n",
    "\n",
    "    cdte_Module_ia = pd.read_csv(os.path.join(pvice_output_folder,'cdte_VirginStock_Module.csv'))\n",
    "    cdte_cadmium_ia = pd.read_csv(os.path.join(pvice_output_folder,'cdte_VirginStock_cadmium.csv'))\n",
    "    cdte_tellurium_ia = pd.read_csv(os.path.join(pvice_output_folder,'cdte_VirginStock_tellurium.csv'))\n",
    "    cdte_glass_cdte_ia = pd.read_csv(os.path.join(pvice_output_folder,'cdte_VirginStock_glass_cdte.csv'))\n",
    "    cdte_aluminium_frames_cdte_ia = pd.read_csv(os.path.join(pvice_output_folder,'cdte_VirginStock_aluminium_frames_cdte.csv'))\n",
    "    cdte_copper_cdte_ia = pd.read_csv(os.path.join(pvice_output_folder,'cdte_VirginStock_copper_cdte.csv'))\n",
    "    cdte_encapsulant_cdte_ia = pd.read_csv(os.path.join(pvice_output_folder,'cdte_VirginStock_encapsulant_cdte.csv'))\n",
    "else:    \n",
    "    csi_Module_ia = csi_Module.copy()\n",
    "    csi_glass_ia = csi_glass.copy()\n",
    "    csi_silicon_ia = csi_silicon.copy()\n",
    "    csi_silver_ia = csi_silver.copy()\n",
    "    csi_copper_ia = csi_copper.copy()\n",
    "    csi_aluminium_frames_ia = csi_aluminium_frames.copy()\n",
    "    csi_encapsulant_ia = csi_encapsulant.copy()\n",
    "    csi_backsheet_ia = csi_backsheet.copy()\n",
    "\n",
    "\n",
    "    cdte_Module_ia = cdte_Module.copy()\n",
    "    cdte_cadmium_ia = cdte_cadmium.copy()\n",
    "    cdte_tellurium_ia = cdte_tellurium.copy()\n",
    "    cdte_glass_cdte_ia = cdte_glass_cdte.copy()\n",
    "    cdte_aluminium_frames_cdte_ia = cdte_aluminium_frames_cdte.copy()\n",
    "    cdte_copper_cdte_ia = cdte_copper_cdte.copy()\n",
    "    cdte_encapsulant_cdte_ia = cdte_encapsulant_cdte.copy()\n",
    "\n",
    "# 'ia' stands for initial amounts"
   ]
  },
  {
   "cell_type": "markdown",
   "id": "5c2693bd-a573-4f75-abad-db7a04dba108",
   "metadata": {},
   "source": [
    "### 2.2. Drop unnecessary columns"
   ]
  },
  {
   "cell_type": "markdown",
   "id": "89d113ce-8404-4d82-a532-f85dd53d275a",
   "metadata": {},
   "source": [
    "Drop columns: 0, 2010 (there is no waste here), FIPS, 45, longitude, latitude and total waste columns. Then I insert the 'name' row and then move longitude and latitude rows"
   ]
  },
  {
   "cell_type": "code",
   "execution_count": null,
   "id": "ffb20b5c-cf31-4f1c-a154-95460cc31bca",
   "metadata": {},
   "outputs": [],
   "source": [
    "columns_to_erase = [0, 2010, 'FIPS', 45, 46, 'total waste', 'latitude', 'longitude']"
   ]
  },
  {
   "cell_type": "code",
   "execution_count": null,
   "id": "61eadde6-d577-4463-9671-b4880ce08729",
   "metadata": {},
   "outputs": [],
   "source": [
    "csi_Module_ia"
   ]
  },
  {
   "cell_type": "code",
   "execution_count": null,
   "id": "b43df2bb-2030-47b3-bd04-0b359cb86984",
   "metadata": {
    "tags": []
   },
   "outputs": [],
   "source": [
    "csi_Module_ia.drop(columns_to_erase, axis=1, inplace= True) # Run this one only once or it will throw an error.\n",
    "csi_glass_ia.drop(columns_to_erase, axis=1, inplace= True) # Run this one only once or it will throw an error.\n",
    "csi_silicon_ia.drop(columns_to_erase, axis=1, inplace= True) # Run this one only once or it will throw an error.\n",
    "csi_silver_ia.drop(columns_to_erase, axis=1, inplace= True) # Run this one only once or it will throw an error.\n",
    "csi_copper_ia.drop(columns_to_erase, axis=1, inplace= True) # Run this one only once or it will throw an error.\n",
    "csi_aluminium_frames_ia.drop(columns_to_erase, axis=1, inplace= True) # Run this one only once or it will throw an error.\n",
    "csi_encapsulant_ia.drop(columns_to_erase, axis=1, inplace= True) # Run this one only once or it will throw an error.\n",
    "csi_backsheet_ia.drop(columns_to_erase, axis=1, inplace= True) # Run this one only once or it will throw an error."
   ]
  },
  {
   "cell_type": "code",
   "execution_count": null,
   "id": "79ca44dc-8cc8-4e0a-9e47-77a1baffccfe",
   "metadata": {},
   "outputs": [],
   "source": [
    "cdte_Module_ia.drop(columns_to_erase, axis=1, inplace= True) # Run this one only once or it will throw an error.\n",
    "cdte_cadmium_ia.drop(columns_to_erase, axis=1, inplace= True) # Run this one only once or it will throw an error.\n",
    "cdte_tellurium_ia.drop(columns_to_erase, axis=1, inplace= True) # Run this one only once or it will throw an error.\n",
    "cdte_glass_cdte_ia.drop(columns_to_erase, axis=1, inplace= True) # Run this one only once or it will throw an error.)\n",
    "cdte_aluminium_frames_cdte_ia.drop(columns_to_erase, axis=1, inplace= True) # Run this one only once or it will throw an error.\n",
    "cdte_copper_cdte_ia.drop(columns_to_erase, axis=1, inplace= True) # Run this one only once or it will throw an error.\n",
    "cdte_encapsulant_cdte_ia.drop(columns_to_erase, axis=1, inplace= True) # Run this one only once or it will throw an error."
   ]
  },
  {
   "cell_type": "code",
   "execution_count": null,
   "id": "e6e6c519-7ad7-44ea-9fec-e0443ca313cc",
   "metadata": {},
   "outputs": [],
   "source": [
    "csi_Module_ia.head()"
   ]
  },
  {
   "cell_type": "markdown",
   "id": "7b794f3c-8010-48f2-8d57-567d84b71c53",
   "metadata": {},
   "source": [
    "### 2.3. Add the name locations, latitude and longitude with the right names to the right position."
   ]
  },
  {
   "cell_type": "markdown",
   "id": "cfc6337c-30d8-49e3-865e-b31dbd2cd952",
   "metadata": {},
   "source": [
    "I take the location file from GIS."
   ]
  },
  {
   "cell_type": "code",
   "execution_count": null,
   "id": "9aaf7638-dbac-4f81-8bee-8a14ef767136",
   "metadata": {},
   "outputs": [],
   "source": [
    "GIS_usa = GIS[GIS.country == 'United States']\n",
    "GIS_usa.reset_index(inplace=True)\n",
    "GIS_usa = GIS_usa.iloc[0:134] # I slice it until 142 because the next locations are not in ReEDS."
   ]
  },
  {
   "cell_type": "markdown",
   "id": "53bfd2c0-5e25-4035-a583-48b3781142c0",
   "metadata": {},
   "source": [
    "This line makes a new column with County, State so I make unique names for the RELOG \"Initial Amounts\" input file."
   ]
  },
  {
   "cell_type": "code",
   "execution_count": null,
   "id": "2eeb768c-ab0f-4f12-813f-603258f161a2",
   "metadata": {},
   "outputs": [],
   "source": [
    "GIS_usa['name'] = GIS_usa['county'] + ', ' + GIS_usa['state']"
   ]
  },
  {
   "cell_type": "code",
   "execution_count": null,
   "id": "42538444-31b5-4044-a263-d50e2512d8e8",
   "metadata": {},
   "outputs": [],
   "source": [
    "len(GIS_usa['name'].unique()) "
   ]
  },
  {
   "cell_type": "code",
   "execution_count": null,
   "id": "9bcc35a6-0e1c-4cf7-a28c-aedc5cbdd002",
   "metadata": {
    "tags": []
   },
   "outputs": [],
   "source": [
    "csi_Module_ia.insert(0, 'name', GIS_usa[['name']]) # Run this one only once or it will throw an error.\n",
    "csi_Module_ia.insert(1, 'latitude (deg)', GIS_usa[['lat']]) \n",
    "csi_Module_ia.insert(2, 'longitude (deg)', GIS_usa[['long']]) \n",
    "\n",
    "csi_glass_ia.insert(0, 'name', GIS_usa[['name']]) # Run this one only once or it will throw an error.\n",
    "csi_glass_ia.insert(1, 'latitude (deg)', GIS_usa[['lat']]) \n",
    "csi_glass_ia.insert(2, 'longitude (deg)', GIS_usa[['long']]) \n",
    "\n",
    "csi_silicon_ia.insert(0, 'name', GIS_usa[['name']]) # Run this one only once or it will throw an error.\n",
    "csi_silicon_ia.insert(1, 'latitude (deg)', GIS_usa[['lat']]) \n",
    "csi_silicon_ia.insert(2, 'longitude (deg)', GIS_usa[['long']]) \n",
    "\n",
    "csi_silver_ia.insert(0, 'name', GIS_usa[['name']]) # Run this one only once or it will throw an error.\n",
    "csi_silver_ia.insert(1, 'latitude (deg)', GIS_usa[['lat']]) \n",
    "csi_silver_ia.insert(2, 'longitude (deg)', GIS_usa[['long']]) \n",
    "\n",
    "csi_copper_ia.insert(0, 'name', GIS_usa[['name']]) # Run this one only once or it will throw an error.\n",
    "csi_copper_ia.insert(1, 'latitude (deg)', GIS_usa[['lat']]) \n",
    "csi_copper_ia.insert(2, 'longitude (deg)', GIS_usa[['long']]) \n",
    "\n",
    "csi_aluminium_frames_ia.insert(0, 'name', GIS_usa[['name']]) # Run this one only once or it will throw an error.\n",
    "csi_aluminium_frames_ia.insert(1, 'latitude (deg)', GIS_usa[['lat']]) \n",
    "csi_aluminium_frames_ia.insert(2, 'longitude (deg)', GIS_usa[['long']]) \n",
    "\n",
    "csi_encapsulant_ia.insert(0, 'name', GIS_usa[['name']]) # Run this one only once or it will throw an error.\n",
    "csi_encapsulant_ia.insert(1, 'latitude (deg)', GIS_usa[['lat']]) \n",
    "csi_encapsulant_ia.insert(2, 'longitude (deg)', GIS_usa[['long']]) \n",
    "\n",
    "csi_backsheet_ia.insert(0, 'name', GIS_usa[['name']]) # Run this one only once or it will throw an error.\n",
    "csi_backsheet_ia.insert(1, 'latitude (deg)', GIS_usa[['lat']]) \n",
    "csi_backsheet_ia.insert(2, 'longitude (deg)', GIS_usa[['long']]) "
   ]
  },
  {
   "cell_type": "code",
   "execution_count": null,
   "id": "210e6bea-0a83-4e6b-872d-9df118e7322a",
   "metadata": {},
   "outputs": [],
   "source": [
    "cdte_Module_ia.insert(0, 'name', GIS_usa[['name']]) # Run this one only once or it will throw an error.\n",
    "cdte_Module_ia.insert(1, 'latitude (deg)', GIS_usa[['lat']]) \n",
    "cdte_Module_ia.insert(2, 'longitude (deg)', GIS_usa[['long']]) \n",
    "\n",
    "cdte_cadmium_ia.insert(0, 'name', GIS_usa[['name']]) # Run this one only once or it will throw an error.\n",
    "cdte_cadmium_ia.insert(1, 'latitude (deg)', GIS_usa[['lat']]) \n",
    "cdte_cadmium_ia.insert(2, 'longitude (deg)', GIS_usa[['long']]) \n",
    "\n",
    "cdte_tellurium_ia.insert(0, 'name', GIS_usa[['name']]) # Run this one only once or it will throw an error.\n",
    "cdte_tellurium_ia.insert(1, 'latitude (deg)', GIS_usa[['lat']]) \n",
    "cdte_tellurium_ia.insert(2, 'longitude (deg)', GIS_usa[['long']]) \n",
    "\n",
    "cdte_glass_cdte_ia.insert(0, 'name', GIS_usa[['name']]) # Run this one only once or it will throw an error.\n",
    "cdte_glass_cdte_ia.insert(1, 'latitude (deg)', GIS_usa[['lat']]) \n",
    "cdte_glass_cdte_ia.insert(2, 'longitude (deg)', GIS_usa[['long']]) \n",
    "\n",
    "cdte_aluminium_frames_cdte_ia.insert(0, 'name', GIS_usa[['name']]) # Run this one only once or it will throw an error.\n",
    "cdte_aluminium_frames_cdte_ia.insert(1, 'latitude (deg)', GIS_usa[['lat']]) \n",
    "cdte_aluminium_frames_cdte_ia.insert(2, 'longitude (deg)', GIS_usa[['long']]) \n",
    "\n",
    "cdte_copper_cdte_ia.insert(0, 'name', GIS_usa[['name']]) # Run this one only once or it will throw an error.\n",
    "cdte_copper_cdte_ia.insert(1, 'latitude (deg)', GIS_usa[['lat']]) \n",
    "cdte_copper_cdte_ia.insert(2, 'longitude (deg)', GIS_usa[['long']]) \n",
    "\n",
    "cdte_encapsulant_cdte_ia.insert(0, 'name', GIS_usa[['name']]) # Run this one only once or it will throw an error.\n",
    "cdte_encapsulant_cdte_ia.insert(1, 'latitude (deg)', GIS_usa[['lat']]) \n",
    "cdte_encapsulant_cdte_ia.insert(2, 'longitude (deg)', GIS_usa[['long']]) "
   ]
  },
  {
   "cell_type": "markdown",
   "id": "23fddd00-152e-4204-83e6-f5c6c7447df9",
   "metadata": {},
   "source": [
    "#### 2.3.1 Add accumulated waste until year 2025"
   ]
  },
  {
   "cell_type": "markdown",
   "id": "ae6e26bf-f6f3-4b54-955a-0254b02c9379",
   "metadata": {},
   "source": [
    "Since I am studying from 2025 onward with RELOG (because there is no significant amount of waste for RELOG to process in the recycling plants), I add the waste generated from 2011 until 2023. "
   ]
  },
  {
   "cell_type": "code",
   "execution_count": null,
   "id": "2991dbf6-45a0-472e-b12c-f1f1a8594b41",
   "metadata": {},
   "outputs": [],
   "source": [
    "csi_Module_ia_sumyears = csi_Module_ia.loc[:, 2011:2025].sum(axis=1)\n",
    "csi_glass_ia_sumyears = csi_glass_ia.loc[:, 2011:2025].sum(axis=1)\n",
    "csi_silicon_ia_sumyears = csi_silicon_ia.loc[:, 2011:2025].sum(axis=1)\n",
    "csi_silver_ia_sumyears = csi_silver_ia.loc[:, 2011:2025].sum(axis=1)\n",
    "csi_copper_ia_sumyears = csi_copper_ia.loc[:, 2011:2025].sum(axis=1)\n",
    "csi_aluminium_frames_ia_sumyears = csi_aluminium_frames_ia.loc[:, 2011:2025].sum(axis=1)\n",
    "csi_encapsulant_ia_sumyears = csi_encapsulant_ia.loc[:, 2011:2025].sum(axis=1)\n",
    "csi_backsheet_ia_sumyears = csi_backsheet_ia.loc[:, 2011:2025].sum(axis=1)\n",
    "\n",
    "\n",
    "cdte_Module_ia_sumyears = cdte_Module_ia.loc[:, 2011:2025].sum(axis=1)\n",
    "cdte_cadmium_ia_sumyears = cdte_cadmium_ia.loc[:, 2011:2025].sum(axis=1)\n",
    "cdte_tellurium_ia_sumyears = cdte_tellurium_ia.loc[:, 2011:2025].sum(axis=1)\n",
    "cdte_glass_cdte_ia_sumyears = cdte_glass_cdte_ia.loc[:, 2011:2025].sum(axis=1)\n",
    "cdte_aluminium_frames_cdte_ia_sumyears = cdte_aluminium_frames_cdte_ia.loc[:, 2011:2025].sum(axis=1)\n",
    "cdte_copper_cdte_ia_sumyears = cdte_copper_cdte_ia.loc[:, 2011:2025].sum(axis=1)\n",
    "cdte_encapsulant_cdte_ia_sumyears = cdte_encapsulant_cdte_ia.loc[:, 2011:2025].sum(axis=1)"
   ]
  },
  {
   "cell_type": "markdown",
   "id": "9622d0f3-0e33-457f-8644-4698a31f965e",
   "metadata": {},
   "source": [
    "Drop columns 2011 to 2025."
   ]
  },
  {
   "cell_type": "code",
   "execution_count": null,
   "id": "6532ffed-63e1-42d9-96ea-1712bbe5b053",
   "metadata": {},
   "outputs": [],
   "source": [
    "csi_Module_ia.drop(csi_Module_ia.loc[:, 2011:2025], inplace=True, axis=1)\n",
    "csi_glass_ia.drop(csi_glass_ia.loc[:, 2011:2025], inplace=True, axis=1)\n",
    "csi_silicon_ia.drop(csi_silicon_ia.loc[:, 2011:2025], inplace=True, axis=1)\n",
    "csi_silver_ia.drop(csi_silver_ia.loc[:, 2011:2025], inplace=True, axis=1)\n",
    "csi_copper_ia.drop(csi_copper_ia.loc[:, 2011:2025], inplace=True, axis=1)\n",
    "csi_aluminium_frames_ia.drop(csi_aluminium_frames_ia.loc[:, 2011:2025], inplace=True, axis=1)\n",
    "csi_encapsulant_ia.drop(csi_encapsulant_ia.loc[:, 2011:2025], inplace=True, axis=1)\n",
    "csi_backsheet_ia.drop(csi_backsheet_ia.loc[:, 2011:2025], inplace=True, axis=1)\n",
    "\n",
    "cdte_Module_ia.drop(cdte_Module_ia.loc[:, 2011:2025], inplace=True, axis=1)\n",
    "cdte_cadmium_ia.drop(cdte_cadmium_ia.loc[:, 2011:2025], inplace=True, axis=1)\n",
    "cdte_tellurium_ia.drop(cdte_tellurium_ia.loc[:, 2011:2025], inplace=True, axis=1)\n",
    "cdte_glass_cdte_ia.drop(cdte_glass_cdte_ia.loc[:, 2011:2025], inplace=True, axis=1)\n",
    "cdte_aluminium_frames_cdte_ia.drop(cdte_aluminium_frames_cdte_ia.loc[:, 2011:2025], inplace=True, axis=1)\n",
    "cdte_copper_cdte_ia.drop(cdte_copper_cdte_ia.loc[:, 2011:2025], inplace=True, axis=1)\n",
    "cdte_encapsulant_cdte_ia.drop(cdte_encapsulant_cdte_ia.loc[:, 2011:2025], inplace=True, axis=1)"
   ]
  },
  {
   "cell_type": "code",
   "execution_count": null,
   "id": "a0def614-6501-4f14-86ce-f600b1120cef",
   "metadata": {},
   "outputs": [],
   "source": [
    "cdte_Module_ia.head()"
   ]
  },
  {
   "cell_type": "markdown",
   "id": "7a218269-50c4-492b-b3c2-3a613f7cd73f",
   "metadata": {},
   "source": [
    "Insert the 2025 column that summed the waste between 2011 to 2025."
   ]
  },
  {
   "cell_type": "code",
   "execution_count": null,
   "id": "d8869630-637f-44b8-ac35-b29a3ab4456e",
   "metadata": {},
   "outputs": [],
   "source": [
    "csi_Module_ia.insert(3, 2025, csi_Module_ia_sumyears)\n",
    "csi_glass_ia.insert(3, 2025, csi_glass_ia_sumyears)\n",
    "csi_silicon_ia.insert(3, 2025, csi_silicon_ia_sumyears)\n",
    "csi_silver_ia.insert(3, 2025, csi_silver_ia_sumyears)\n",
    "csi_copper_ia.insert(3, 2025, csi_copper_ia_sumyears)\n",
    "csi_aluminium_frames_ia.insert(3, 2025, csi_aluminium_frames_ia_sumyears)\n",
    "csi_encapsulant_ia.insert(3, 2025, csi_encapsulant_ia_sumyears)\n",
    "csi_backsheet_ia.insert(3, 2025, csi_backsheet_ia_sumyears)\n",
    "\n",
    "cdte_Module_ia.insert(3, 2025, cdte_Module_ia_sumyears) \n",
    "cdte_cadmium_ia.insert(3, 2025, cdte_cadmium_ia_sumyears) \n",
    "cdte_tellurium_ia.insert(3, 2025, cdte_tellurium_ia_sumyears) \n",
    "cdte_glass_cdte_ia.insert(3, 2025, cdte_glass_cdte_ia_sumyears) \n",
    "cdte_aluminium_frames_cdte_ia.insert(3, 2025, cdte_aluminium_frames_cdte_ia_sumyears) \n",
    "cdte_copper_cdte_ia.insert(3, 2025, cdte_copper_cdte_ia_sumyears) \n",
    "cdte_encapsulant_cdte_ia.insert(3, 2025, cdte_encapsulant_cdte_ia_sumyears) "
   ]
  },
  {
   "cell_type": "code",
   "execution_count": null,
   "id": "dd443925-94df-4bf3-ac4d-163737b8b92e",
   "metadata": {},
   "outputs": [],
   "source": [
    "csi_Module_ia.head()"
   ]
  },
  {
   "cell_type": "markdown",
   "id": "e01663ec-c4ce-4c08-9ee6-582587720e57",
   "metadata": {},
   "source": [
    "#### 2.3.2. Change years for amounts"
   ]
  },
  {
   "cell_type": "markdown",
   "id": "6d999a28-71a3-4a24-afea-6252ef677f1d",
   "metadata": {},
   "source": [
    "Change the column names as 'amount 1', 'amount 2', etc. I am not sure if it matters, but I am going to do it just in case!\n",
    "From 2023 to 2050, we have a total of 28 amounts."
   ]
  },
  {
   "cell_type": "code",
   "execution_count": null,
   "id": "ec4dabda-460b-455e-a326-bf190ac29927",
   "metadata": {},
   "outputs": [],
   "source": [
    "num_years = len(csi_Module_ia.columns) - 3 # simulation years\n",
    "num_years"
   ]
  },
  {
   "cell_type": "code",
   "execution_count": null,
   "id": "4c8bec7d-83bb-420c-8aa7-9ce78858ce21",
   "metadata": {},
   "outputs": [],
   "source": [
    "column_names = ['name', 'latitude (deg)', 'longitude (deg)']"
   ]
  },
  {
   "cell_type": "code",
   "execution_count": null,
   "id": "6aec5541-4dfc-4c66-8bc1-3ca18852f92e",
   "metadata": {},
   "outputs": [],
   "source": [
    "for year in range(num_years):\n",
    "    amounts = f'amount {year+1}'\n",
    "    column_names.append(amounts)"
   ]
  },
  {
   "cell_type": "code",
   "execution_count": null,
   "id": "6d84bcf0-b5a9-4a3c-89d7-5404eaa2f0bb",
   "metadata": {},
   "outputs": [],
   "source": [
    "csi_Module_ia.set_axis(column_names, axis=1, inplace=True)\n",
    "csi_glass_ia.set_axis(column_names, axis=1, inplace=True)\n",
    "csi_silicon_ia.set_axis(column_names, axis=1, inplace=True)\n",
    "csi_silver_ia.set_axis(column_names, axis=1, inplace=True)\n",
    "csi_copper_ia.set_axis(column_names, axis=1, inplace=True)\n",
    "csi_aluminium_frames_ia.set_axis(column_names, axis=1, inplace=True)\n",
    "csi_encapsulant_ia.set_axis(column_names, axis=1, inplace=True)\n",
    "csi_backsheet_ia.set_axis(column_names, axis=1, inplace=True)\n",
    "\n",
    "cdte_Module_ia.set_axis(column_names, axis=1, inplace=True)\n",
    "cdte_cadmium_ia.set_axis(column_names, axis=1, inplace=True)\n",
    "cdte_tellurium_ia.set_axis(column_names, axis=1, inplace=True)\n",
    "cdte_glass_cdte_ia.set_axis(column_names, axis=1, inplace=True)\n",
    "cdte_aluminium_frames_cdte_ia.set_axis(column_names, axis=1, inplace=True)\n",
    "cdte_copper_cdte_ia.set_axis(column_names, axis=1, inplace=True)\n",
    "cdte_encapsulant_cdte_ia.set_axis(column_names, axis=1, inplace=True)\n"
   ]
  },
  {
   "cell_type": "markdown",
   "id": "486effc6-978a-4e73-870c-e79efb283652",
   "metadata": {},
   "source": [
    "### 2.4. Create new PV datasets that add cSi and CdTe "
   ]
  },
  {
   "cell_type": "markdown",
   "id": "2964892e-5aaa-4f91-bca9-ad6ba8af19f4",
   "metadata": {},
   "source": [
    "Here I add cSi and CdTe modules as one, and common materials as one."
   ]
  },
  {
   "cell_type": "code",
   "execution_count": null,
   "id": "42faeffd-9532-4527-82f1-c1b20731e4fd",
   "metadata": {},
   "outputs": [],
   "source": [
    "pv_Modules_ia = pd.DataFrame(columns = column_names)\n",
    "pv_glass_ia = pd.DataFrame(columns = column_names)\n",
    "pv_copper_ia = pd.DataFrame(columns = column_names)\n",
    "pv_aluminium_frames_ia = pd.DataFrame(columns = column_names)\n",
    "pv_encapsulant_ia = pd.DataFrame(columns = column_names)\n"
   ]
  },
  {
   "cell_type": "markdown",
   "id": "3802b500-259e-4205-be1e-4d9971df9696",
   "metadata": {},
   "source": [
    "Fill the data of name, latitude and longitude."
   ]
  },
  {
   "cell_type": "code",
   "execution_count": null,
   "id": "379e93b7-7fc1-454d-b59b-c29f63e40834",
   "metadata": {
    "tags": []
   },
   "outputs": [],
   "source": [
    "pv_Modules_ia['name'], pv_Modules_ia['latitude (deg)'],pv_Modules_ia['longitude (deg)'] = csi_Module_ia[['name']], csi_Module_ia[['latitude (deg)']],csi_Module_ia[['longitude (deg)']] \n",
    "pv_glass_ia['name'], pv_glass_ia['latitude (deg)'],pv_glass_ia['longitude (deg)'] = csi_Module_ia[['name']], csi_Module_ia[['latitude (deg)']],csi_Module_ia[['longitude (deg)']] \n",
    "pv_copper_ia['name'], pv_copper_ia['latitude (deg)'],pv_copper_ia['longitude (deg)'] = csi_Module_ia[['name']], csi_Module_ia[['latitude (deg)']],csi_Module_ia[['longitude (deg)']] \n",
    "pv_aluminium_frames_ia['name'], pv_aluminium_frames_ia['latitude (deg)'],pv_aluminium_frames_ia['longitude (deg)'] = csi_Module_ia[['name']], csi_Module_ia[['latitude (deg)']],csi_Module_ia[['longitude (deg)']] \n",
    "pv_encapsulant_ia['name'], pv_encapsulant_ia['latitude (deg)'],pv_encapsulant_ia['longitude (deg)'] = csi_Module_ia[['name']], csi_Module_ia[['latitude (deg)']],csi_Module_ia[['longitude (deg)']] "
   ]
  },
  {
   "cell_type": "markdown",
   "id": "3c8f4785-123a-406a-abb4-2277a24a3ab8",
   "metadata": {},
   "source": [
    "Add amounts."
   ]
  },
  {
   "cell_type": "code",
   "execution_count": null,
   "id": "bba3c984-b987-4a98-940e-dea3241741f3",
   "metadata": {},
   "outputs": [],
   "source": [
    "pv_Modules_ia.iloc[:,3::] = cdte_Module_ia.iloc[:,3::] + csi_Module_ia.iloc[:,3::] \n",
    "pv_glass_ia.iloc[:,3::] = csi_glass_ia.iloc[:,3::] + cdte_glass_cdte_ia.iloc[:,3::] \n",
    "pv_copper_ia.iloc[:,33::] = csi_copper_ia.iloc[:,3::] + cdte_copper_cdte_ia.iloc[:,3::] \n",
    "pv_aluminium_frames_ia.iloc[:,3::] = csi_aluminium_frames_ia.iloc[:,3::] + cdte_aluminium_frames_cdte_ia.iloc[:,3::] \n",
    "pv_encapsulant_ia.iloc[:,3::] = csi_encapsulant_ia.iloc[:,33::] + cdte_encapsulant_cdte_ia.iloc[:,3::] \n",
    "\n",
    "\n",
    "\n"
   ]
  },
  {
   "cell_type": "markdown",
   "id": "93d4a681-bb80-43c6-bcb6-0c0966c585b9",
   "metadata": {},
   "source": [
    "### 2.5. Export the 'Ininital amounts' files"
   ]
  },
  {
   "cell_type": "code",
   "execution_count": null,
   "id": "5fae7ba9-bb31-4c7f-b441-83829cd443ab",
   "metadata": {},
   "outputs": [],
   "source": [
    "cwd = os.getcwd()\n",
    "RELOG_PV_ICE_import_data = os.path.join(cwd, 'RELOG_import_data', 'Manufacturing', pv_ice_simulations)"
   ]
  },
  {
   "cell_type": "code",
   "execution_count": null,
   "id": "e2e5f95f-2456-48db-bb3b-c3d4fd454005",
   "metadata": {},
   "outputs": [],
   "source": [
    "#python program to check if a directory exists\n",
    "import os\n",
    "\n",
    "# Check whether the specified path exists or not\n",
    "isExist = os.path.exists(RELOG_PV_ICE_import_data)\n",
    "if isExist:\n",
    "    print(\"The path already exists!\")\n",
    "if not isExist:\n",
    "    # Create a new directory because it does not exist\n",
    "    os.makedirs(RELOG_PV_ICE_import_data)\n",
    "    print(\"The new directory is created!\")"
   ]
  },
  {
   "cell_type": "code",
   "execution_count": null,
   "id": "50863b12-0a7a-42f9-8577-f061f5e351a5",
   "metadata": {},
   "outputs": [],
   "source": [
    "pv_Modules_ia.to_csv(os.path.join(RELOG_PV_ICE_import_data, 'pv_Modules_ia.csv'), index=False)\n",
    "pv_glass_ia.to_csv(os.path.join(RELOG_PV_ICE_import_data,'pv_glass_ia.csv'), index=False)\n",
    "pv_copper_ia.to_csv(os.path.join(RELOG_PV_ICE_import_data,'pv_copper_ia.csv'), index=False)\n",
    "pv_aluminium_frames_ia.to_csv(os.path.join(RELOG_PV_ICE_import_data,'pv_aluminium_frames_ia.csv'), index=False)\n",
    "pv_encapsulant_ia.to_csv(os.path.join(RELOG_PV_ICE_import_data,'pv_encapsulant_ia.csv'), index=False)\n",
    "\n",
    "csi_Module_ia.to_csv(os.path.join(RELOG_PV_ICE_import_data,'csi_Module_ia.csv'), index=False)\n",
    "csi_glass_ia.to_csv(os.path.join(RELOG_PV_ICE_import_data,'csi_glass_ia.csv'), index=False)\n",
    "csi_silicon_ia.to_csv(os.path.join(RELOG_PV_ICE_import_data,'csi_silicon_ia.csv'), index=False)\n",
    "csi_silver_ia.to_csv(os.path.join(RELOG_PV_ICE_import_data,'csi_silver_ia.csv'), index=False)\n",
    "csi_copper_ia.to_csv(os.path.join(RELOG_PV_ICE_import_data,'csi_copper_ia.csv'), index=False)\n",
    "csi_aluminium_frames_ia.to_csv(os.path.join(RELOG_PV_ICE_import_data,'csi_aluminium_frames_ia.csv'), index=False)\n",
    "csi_encapsulant_ia.to_csv(os.path.join(RELOG_PV_ICE_import_data,'csi_encapsulant_ia.csv'), index=False)\n",
    "csi_backsheet_ia.to_csv(os.path.join(RELOG_PV_ICE_import_data,'csi_backsheet_ia.csv'), index=False)\n",
    "\n",
    "cdte_Module_ia.to_csv(os.path.join(RELOG_PV_ICE_import_data,'cdte_Module_ia.csv'), index=False)\n",
    "cdte_cadmium_ia.to_csv(os.path.join(RELOG_PV_ICE_import_data,'cdte_cadmium_ia.csv'), index=False)\n",
    "cdte_tellurium_ia.to_csv(os.path.join(RELOG_PV_ICE_import_data,'cdte_tellurium_ia.csv'), index=False)\n",
    "cdte_glass_cdte_ia.to_csv(os.path.join(RELOG_PV_ICE_import_data,'cdte_glass_cdte_ia.csv'), index=False)\n",
    "cdte_aluminium_frames_cdte_ia.to_csv(os.path.join(RELOG_PV_ICE_import_data,'cdte_aluminium_frames_cdte_ia.csv'), index=False)\n",
    "cdte_copper_cdte_ia.to_csv(os.path.join(RELOG_PV_ICE_import_data,'cdte_copper_cdte_ia.csv'), index=False)\n",
    "cdte_encapsulant_cdte_ia.to_csv(os.path.join(RELOG_PV_ICE_import_data,'cdte_encapsulant_cdte_ia.csv'), index=False)\n"
   ]
  },
  {
   "cell_type": "markdown",
   "id": "69dfa9ce-ef8f-4667-b90a-5f4b62fd1873",
   "metadata": {},
   "source": [
    "Remember that silver, silicon and backsheet are exclusively from cSi modules, likewise cadmium and tellurium are exclusive from CdTe. Further studies might not mix glass due to different compositions."
   ]
  },
  {
   "cell_type": "markdown",
   "id": "7c969d34-617a-432e-8659-8592c441f110",
   "metadata": {},
   "source": [
    "#### The Initial Amounts file I used for the baseline RELOG scenario, aka. 'CASE 0', is `pv_Modules_ia.csv`."
   ]
  },
  {
   "cell_type": "markdown",
   "id": "3faced24-5c34-4361-98e8-643534206408",
   "metadata": {},
   "source": [
    "---\n",
    "## 3. Manufacturing candidate file generation"
   ]
  },
  {
   "cell_type": "markdown",
   "id": "670c2e73-dfe3-4748-ac6e-b04e785fa2dc",
   "metadata": {},
   "source": [
    "RELOG requires a file with the recycling plant candidates locations. This dataframe requirtes a column with:\n",
    "* Unique location names\n",
    "* Longitude and latitudes\n",
    "* Initial capacity (tonne)\n",
    "* Area cost factors (relative to the place where the cost analysis was made).\n",
    "\n",
    "Here I propose three approaches:\n",
    "1. File with DOD Area cost factors (based on the most recent Nwike's battery paper) — see Section 3.1. **This one is the one I use for CASE 0.**\n",
    "2. File creation using **PLANT DESIGN AND ECONOMICS FOR CHEMICAL ENGINEERS, Peter M. S.** area cost factors. — see Section 3.2. Here I give two versions:\n",
    "    - Version 1: When we have the state in the column name.\n",
    "    - Version 2: When we don't have the state defined in the name.\n",
    "3. Create an empty template — see section 3.3."
   ]
  },
  {
   "cell_type": "code",
   "execution_count": 1,
   "id": "33029815-25ae-4ee1-8749-03ec2ec4c94a",
   "metadata": {
    "tags": []
   },
   "outputs": [],
   "source": [
    "import numpy as np\n",
    "import pandas as pd\n",
    "import os,sys\n",
    "import matplotlib.pyplot as plt\n",
    "from pathlib import Path\n",
    "import random\n",
    "import re\n",
    "import seaborn as sns\n",
    "\n",
    "from geopy.geocoders import Nominatim\n",
    "from geopy.point import Point\n",
    "# initialize Nominatim API\n",
    "geolocator = Nominatim(user_agent=\"geoapiExercises\")"
   ]
  },
  {
   "cell_type": "markdown",
   "id": "4c843a5f-46ea-4775-8685-7d0bdcef5822",
   "metadata": {
    "tags": []
   },
   "source": [
    "### 3.1. DOD cost indices"
   ]
  },
  {
   "cell_type": "markdown",
   "id": "5d0a7fcb-88fd-4f00-b827-439232faac97",
   "metadata": {},
   "source": [
    "Nwike's paper uses the [DOD](https://www.usace.army.mil/Cost-Engineering/Area-Cost-Factors/) area cost factors to set up the location-based costs, with the following Candidate Locations file: file 'Candidate locations - Battery Project' found in the shared Box.\n",
    "\n",
    "These numbers seem more updated, and mine are from the 90's there might be caveats. So I will consider using these instead. For this, I need to:\n",
    "\n",
    "1. Upload the \"Candidate Locations - Battery\" file. \n",
    "2. Since this file does not contain state, it might be useful to change the `name` column as \"nwike's name, city, county, state name\". This is not strictly necessary though, it is just helpful to use for better user experience so the user knows which county belongs to which state.\n",
    "3. Change the area cost factors to the area we are basing our plant cost model. In this case the manufacturing plant is in Ohio."
   ]
  },
  {
   "cell_type": "code",
   "execution_count": null,
   "id": "f75a8393-e78b-4298-a7ba-223b67574f0c",
   "metadata": {},
   "outputs": [],
   "source": [
    "cwd = os.getcwd()\n",
    "cl_nwike_battery = pd.read_csv(os.path.join(cwd, 'RELOG_import_data', 'CandidateLocations','Candidate locations - Battery Project.csv'))"
   ]
  },
  {
   "cell_type": "markdown",
   "id": "e223aae6-879b-489b-8a68-7894275c5c38",
   "metadata": {},
   "source": [
    "To get the county, I need to apply the function `city_state_country()` to the `cl_nwike_battery` dataframe."
   ]
  },
  {
   "cell_type": "code",
   "execution_count": null,
   "id": "dc49c210-dd7f-4f01-a1c1-256620074ff4",
   "metadata": {},
   "outputs": [],
   "source": [
    "def city_state_country(row):\n",
    "    # I map latitude and longitude with actual names of those places.\n",
    "    coord = f\"{row['latitude (deg)']}, {row['longitude (deg)']}\"\n",
    "    location = geolocator.reverse(coord, exactly_one=True)\n",
    "    address = location.raw['address']\n",
    "    city = address.get('city', '')\n",
    "    county = address.get('county', '')\n",
    "    state = address.get('state', '')\n",
    "    country = address.get('country', '')\n",
    "    county_state = address.get('county', 'state')\n",
    "    #row['city'] = city\n",
    "    row['county'] = county\n",
    "    row['state'] = state\n",
    "    row['country'] = country\n",
    "    #row['location'] = county_state\n",
    "    return row"
   ]
  },
  {
   "cell_type": "code",
   "execution_count": null,
   "id": "b5cb5ed4-3288-489b-9fd6-47779a59b3b5",
   "metadata": {},
   "outputs": [],
   "source": [
    "cl_nwike_battery_rename = cl_nwike_battery.copy()"
   ]
  },
  {
   "cell_type": "markdown",
   "id": "f77117fb-57e7-4573-830d-9519a00a8813",
   "metadata": {},
   "source": [
    "This next line takes around two minutes!"
   ]
  },
  {
   "cell_type": "code",
   "execution_count": null,
   "id": "a1846f88-3b0f-4a62-a709-702469aecee3",
   "metadata": {},
   "outputs": [],
   "source": [
    "cl_nwike_battery_rename = cl_nwike_battery_rename.apply(city_state_country, axis=1)"
   ]
  },
  {
   "cell_type": "code",
   "execution_count": null,
   "id": "5cfb20ca-be42-40f7-aeee-3237d394b3db",
   "metadata": {},
   "outputs": [],
   "source": [
    "cl_nwike_battery_rename['name'] = cl_nwike_battery_rename['name'] + ', ' + cl_nwike_battery_rename['county'] + ', ' +cl_nwike_battery_rename['state']"
   ]
  },
  {
   "cell_type": "code",
   "execution_count": null,
   "id": "6c71fe2a-fb18-4e5b-af71-8d6cbaea684b",
   "metadata": {},
   "outputs": [],
   "source": [
    "cl_nwike_battery_rename.head()"
   ]
  },
  {
   "cell_type": "code",
   "execution_count": null,
   "id": "51c9029a-04e1-4d19-93d0-e3897e3a5aab",
   "metadata": {},
   "outputs": [],
   "source": [
    "cl_nwike_battery_rename[cl_nwike_battery_rename['state'] == 'Ohio']['area cost factor']"
   ]
  },
  {
   "cell_type": "markdown",
   "id": "ffa8b0c3-eada-4aac-86c9-866df4ec1ef2",
   "metadata": {},
   "source": [
    "There is only one area cost factor different than the set, so I take the value most common from the list: 0.877358."
   ]
  },
  {
   "cell_type": "code",
   "execution_count": null,
   "id": "4fdd2068-afad-40c6-a535-aca6cb7cc5d3",
   "metadata": {},
   "outputs": [],
   "source": [
    "cl_nwike_battery_rename[cl_nwike_battery_rename['state'] == 'Ohio']"
   ]
  },
  {
   "cell_type": "code",
   "execution_count": null,
   "id": "9c9af1f0-8b7f-44ce-be9f-9853d472662e",
   "metadata": {},
   "outputs": [],
   "source": [
    "cl_nwike_battery_rename.drop(['county', 'state', 'country'], inplace=True, axis=1)"
   ]
  },
  {
   "cell_type": "code",
   "execution_count": null,
   "id": "baff730c-6ebd-49f6-bce5-16466b0ea4b5",
   "metadata": {},
   "outputs": [],
   "source": [
    "cl_nwike_battery_rename['area cost factor'] = cl_nwike_battery_rename['area cost factor']/0.877358"
   ]
  },
  {
   "cell_type": "code",
   "execution_count": null,
   "id": "51be494b-241c-4320-ac3a-3ff25e0b521b",
   "metadata": {},
   "outputs": [],
   "source": [
    "cwd = os.getcwd()\n",
    "cl_nwike_battery_rename.to_csv(os.path.join(cwd, 'RELOG_import_data', 'CandidateLocations','Manufacturing','CandidateLocations_OH_CASE0.csv'), index = False)"
   ]
  },
  {
   "cell_type": "markdown",
   "id": "769e1f75-620e-43a3-bef6-493a39863a4c",
   "metadata": {},
   "source": [
    "#### The Candidate Locations file I used for the baseline RELOG scenario, aka. 'CASE 0', is `CandidateLocations_CA_CASE0.csv`."
   ]
  },
  {
   "cell_type": "markdown",
   "id": "2ff89a6f-7bf1-4d39-9454-631b85e8c91f",
   "metadata": {},
   "source": [
    "### 3.2. Cost indexes based on Peters book"
   ]
  },
  {
   "cell_type": "markdown",
   "id": "91594edf-f132-4075-af62-9e9ebd23eab5",
   "metadata": {},
   "source": [
    "This subsection shows the method to generate cost indices using the Peter's cost indices.\n",
    "\n",
    "Here we need to format the candidate location file as RELOG format. We are going to use Iloeje's file. This file was downloaded from [Iloeje's RELOG protocol](https://gcc02.safelinks.protection.outlook.com/?url=https%3A%2F%2Fzenodo.org%2Frecord%2F7093835&data=05%7C01%7CMacarena.MendezRibo%40nrel.gov%7Cff06eb8094844577193c08daf5ad67c6%7Ca0f29d7e28cd4f5484427885aee7c080%7C0%7C0%7C638092422384595963%7CUnknown%7CTWFpbGZsb3d8eyJWIjoiMC4wLjAwMDAiLCJQIjoiV2luMzIiLCJBTiI6Ik1haWwiLCJXVCI6Mn0%3D%7C3000%7C%7C%7C&sdata=WSieyEH9ngwW08cjlpBDggXqMZKiTjn9rrnFYbGGPac%3D&reserved=0) named 'CandidateLocations.csv', the file is not the same for 'conservative' and 'optimistic'. \n",
    "Although this file is technically already with the right format, the area cost factor is set for Georgia with 96 locations (conservative) and New Mexico with 109 locations(optimistic), so we have to choose one of these files, and set it for California, because it is where we made the Manufacturing Plant's calculations. I choose the New Mexico file because it has more candidate locations to choose from.\n"
   ]
  },
  {
   "cell_type": "code",
   "execution_count": null,
   "id": "fd4742d4-50d1-459f-8d26-32fc3bf7cbd4",
   "metadata": {},
   "outputs": [],
   "source": [
    "from itertools import chain"
   ]
  },
  {
   "cell_type": "markdown",
   "id": "3d204d0e-68d3-4789-8514-9d0c311c2f73",
   "metadata": {},
   "source": [
    "Here I selected US regions based on relative labor rate and productivity indexes in the chemical and allied products industries for the United States (1989). Source: *PLANT DESIGN AND ECONOMICS FOR CHEMICAL ENGINEERS, Peter M. S.*\n"
   ]
  },
  {
   "cell_type": "code",
   "execution_count": 147,
   "id": "81728baa-db36-410e-af59-6e1ff3468fdf",
   "metadata": {},
   "outputs": [],
   "source": [
    "us_regions = {'New England' : set(['Connecticut', 'Maine', 'Massachusetts', 'New Hampshire', 'Rhode Island', 'Vermont']),\n",
    "            'Middle Atlantic': set(['Delaware', 'the District of Columbia', 'Maryland', 'New Jersey', 'New York', 'Pennsylvania', 'Virginia', 'West Virginia']),\n",
    "            'South Atlantic': set(['Georgia', 'North Carolina', 'South Carolina']),\n",
    "            'Midwest': set(['Illinois', 'Indiana', 'Iowa', 'Kansas', 'Michigan', 'Minnesota', 'Missouri', 'Nebraska', 'North Dakota', 'Ohio', 'South Dakota', 'Wisconsin']),\n",
    "            'Gulf': set(['Texas', 'Louisiana', 'Mississippi', 'Alabama', 'Florida', 'Arkansas', 'Kentucky', 'Tennessee']),\n",
    "            'Southwest': set(['Nevada', 'Oklahoma', 'Utah']),\n",
    "            'Mountain': set(['Arizona', 'Colorado', 'Idaho', 'Montana', 'New Mexico', 'Wyoming']),\n",
    "            'Pacific Coast': set(['California', 'Oregon', 'Washington', 'Alaska', 'Hawaii'])}"
   ]
  },
  {
   "cell_type": "markdown",
   "id": "fecb9b01-5714-497d-bb75-110b6f6ab779",
   "metadata": {},
   "source": [
    "Map the cost indices with relative labor rates and productivity factors."
   ]
  },
  {
   "cell_type": "code",
   "execution_count": 148,
   "id": "543ef051-2d9f-4f55-9020-9d73967a7ef5",
   "metadata": {},
   "outputs": [],
   "source": [
    "cost_index = {'Geographical area': ['New England', 'Middle Atlantic', 'South Atlantic', 'Midwest', 'Gulf', 'Southwest', 'Mountain', 'Pacific Coast'], 'Relative labor rate': [1.14, 1.06, 0.84, 1.03, 0.95, 0.88, 0.88, 1.22], 'Relative productivity factor': [0.95, 0.96, 0.91, 1.06, 1.22, 1.04, 0.97, 0.89]}\n",
    "index_df = pd.DataFrame(data=cost_index)                                 "
   ]
  },
  {
   "cell_type": "code",
   "execution_count": 149,
   "id": "a78c6e7f-c73c-4857-984a-bd867ae9a372",
   "metadata": {},
   "outputs": [
    {
     "data": {
      "text/html": [
       "<div>\n",
       "<style scoped>\n",
       "    .dataframe tbody tr th:only-of-type {\n",
       "        vertical-align: middle;\n",
       "    }\n",
       "\n",
       "    .dataframe tbody tr th {\n",
       "        vertical-align: top;\n",
       "    }\n",
       "\n",
       "    .dataframe thead th {\n",
       "        text-align: right;\n",
       "    }\n",
       "</style>\n",
       "<table border=\"1\" class=\"dataframe\">\n",
       "  <thead>\n",
       "    <tr style=\"text-align: right;\">\n",
       "      <th></th>\n",
       "      <th>Geographical area</th>\n",
       "      <th>Relative labor rate</th>\n",
       "      <th>Relative productivity factor</th>\n",
       "    </tr>\n",
       "  </thead>\n",
       "  <tbody>\n",
       "    <tr>\n",
       "      <th>0</th>\n",
       "      <td>New England</td>\n",
       "      <td>1.14</td>\n",
       "      <td>0.95</td>\n",
       "    </tr>\n",
       "    <tr>\n",
       "      <th>1</th>\n",
       "      <td>Middle Atlantic</td>\n",
       "      <td>1.06</td>\n",
       "      <td>0.96</td>\n",
       "    </tr>\n",
       "    <tr>\n",
       "      <th>2</th>\n",
       "      <td>South Atlantic</td>\n",
       "      <td>0.84</td>\n",
       "      <td>0.91</td>\n",
       "    </tr>\n",
       "    <tr>\n",
       "      <th>3</th>\n",
       "      <td>Midwest</td>\n",
       "      <td>1.03</td>\n",
       "      <td>1.06</td>\n",
       "    </tr>\n",
       "    <tr>\n",
       "      <th>4</th>\n",
       "      <td>Gulf</td>\n",
       "      <td>0.95</td>\n",
       "      <td>1.22</td>\n",
       "    </tr>\n",
       "    <tr>\n",
       "      <th>5</th>\n",
       "      <td>Southwest</td>\n",
       "      <td>0.88</td>\n",
       "      <td>1.04</td>\n",
       "    </tr>\n",
       "    <tr>\n",
       "      <th>6</th>\n",
       "      <td>Mountain</td>\n",
       "      <td>0.88</td>\n",
       "      <td>0.97</td>\n",
       "    </tr>\n",
       "    <tr>\n",
       "      <th>7</th>\n",
       "      <td>Pacific Coast</td>\n",
       "      <td>1.22</td>\n",
       "      <td>0.89</td>\n",
       "    </tr>\n",
       "  </tbody>\n",
       "</table>\n",
       "</div>"
      ],
      "text/plain": [
       "  Geographical area  Relative labor rate  Relative productivity factor\n",
       "0       New England                 1.14                          0.95\n",
       "1   Middle Atlantic                 1.06                          0.96\n",
       "2    South Atlantic                 0.84                          0.91\n",
       "3           Midwest                 1.03                          1.06\n",
       "4              Gulf                 0.95                          1.22\n",
       "5         Southwest                 0.88                          1.04\n",
       "6          Mountain                 0.88                          0.97\n",
       "7     Pacific Coast                 1.22                          0.89"
      ]
     },
     "execution_count": 149,
     "metadata": {},
     "output_type": "execute_result"
    }
   ],
   "source": [
    "index_df"
   ]
  },
  {
   "cell_type": "markdown",
   "id": "fc9e022c-5236-4f16-ab9b-6dde89c164d7",
   "metadata": {},
   "source": [
    "Now I need to get the factor normalize these factors for California (Pacific Coast), I get this calculation also from the book \"Plant design and economics for...\"\n",
    "\n",
    "**NOTE:** I have to calculate the price for CdTe in California as well,  this might be a problem if we estimate the price based on FS's which are based in Ohio."
   ]
  },
  {
   "cell_type": "code",
   "execution_count": null,
   "id": "77820701-6216-4d33-a8a5-b58153289076",
   "metadata": {},
   "outputs": [],
   "source": [
    "pc_labor_rate = index_df.loc[index_df['Geographical area'] == 'Pacific Coast']['Relative labor rate'].values \n",
    "pc_prod_factor = index_df.loc[index_df['Geographical area'] == 'Pacific Coast']['Relative productivity factor'].values "
   ]
  },
  {
   "cell_type": "code",
   "execution_count": null,
   "id": "aba1f5e6-c00d-4250-a0b4-fd2def5b9627",
   "metadata": {},
   "outputs": [],
   "source": [
    "index_df['Relative labor rate CA'], index_df['Relative productivity factor CA'] = index_df['Relative labor rate']/pc_labor_rate, index_df_peters['Relative productivity factor']/pc_prod_factor"
   ]
  },
  {
   "cell_type": "markdown",
   "id": "adfd1b89-2134-4f05-a389-3d1daef081e4",
   "metadata": {},
   "source": [
    "Now let's calculate the \"Construction cost\" or area factor:"
   ]
  },
  {
   "cell_type": "code",
   "execution_count": 151,
   "id": "59b4c3b2-108e-4248-92dc-ebb2d278edd9",
   "metadata": {},
   "outputs": [
    {
     "ename": "KeyError",
     "evalue": "'Relative labor rate CA'",
     "output_type": "error",
     "traceback": [
      "\u001b[0;31m---------------------------------------------------------------------------\u001b[0m",
      "\u001b[0;31mKeyError\u001b[0m                                  Traceback (most recent call last)",
      "File \u001b[0;32m~/miniconda3/envs/RELOG/lib/python3.10/site-packages/pandas/core/indexes/base.py:3629\u001b[0m, in \u001b[0;36mIndex.get_loc\u001b[0;34m(self, key, method, tolerance)\u001b[0m\n\u001b[1;32m   3628\u001b[0m \u001b[38;5;28;01mtry\u001b[39;00m:\n\u001b[0;32m-> 3629\u001b[0m     \u001b[38;5;28;01mreturn\u001b[39;00m \u001b[38;5;28;43mself\u001b[39;49m\u001b[38;5;241;43m.\u001b[39;49m\u001b[43m_engine\u001b[49m\u001b[38;5;241;43m.\u001b[39;49m\u001b[43mget_loc\u001b[49m\u001b[43m(\u001b[49m\u001b[43mcasted_key\u001b[49m\u001b[43m)\u001b[49m\n\u001b[1;32m   3630\u001b[0m \u001b[38;5;28;01mexcept\u001b[39;00m \u001b[38;5;167;01mKeyError\u001b[39;00m \u001b[38;5;28;01mas\u001b[39;00m err:\n",
      "File \u001b[0;32m~/miniconda3/envs/RELOG/lib/python3.10/site-packages/pandas/_libs/index.pyx:136\u001b[0m, in \u001b[0;36mpandas._libs.index.IndexEngine.get_loc\u001b[0;34m()\u001b[0m\n",
      "File \u001b[0;32m~/miniconda3/envs/RELOG/lib/python3.10/site-packages/pandas/_libs/index.pyx:163\u001b[0m, in \u001b[0;36mpandas._libs.index.IndexEngine.get_loc\u001b[0;34m()\u001b[0m\n",
      "File \u001b[0;32mpandas/_libs/hashtable_class_helper.pxi:5198\u001b[0m, in \u001b[0;36mpandas._libs.hashtable.PyObjectHashTable.get_item\u001b[0;34m()\u001b[0m\n",
      "File \u001b[0;32mpandas/_libs/hashtable_class_helper.pxi:5206\u001b[0m, in \u001b[0;36mpandas._libs.hashtable.PyObjectHashTable.get_item\u001b[0;34m()\u001b[0m\n",
      "\u001b[0;31mKeyError\u001b[0m: 'Relative labor rate CA'",
      "\nThe above exception was the direct cause of the following exception:\n",
      "\u001b[0;31mKeyError\u001b[0m                                  Traceback (most recent call last)",
      "Cell \u001b[0;32mIn [151], line 1\u001b[0m\n\u001b[0;32m----> 1\u001b[0m index_df[\u001b[38;5;124m'\u001b[39m\u001b[38;5;124mArea factor\u001b[39m\u001b[38;5;124m'\u001b[39m] \u001b[38;5;241m=\u001b[39m \u001b[43mindex_df\u001b[49m\u001b[43m[\u001b[49m\u001b[38;5;124;43m'\u001b[39;49m\u001b[38;5;124;43mRelative labor rate CA\u001b[39;49m\u001b[38;5;124;43m'\u001b[39;49m\u001b[43m]\u001b[49m\u001b[38;5;241m/\u001b[39m index_df[\u001b[38;5;124m'\u001b[39m\u001b[38;5;124mRelative productivity factor CA\u001b[39m\u001b[38;5;124m'\u001b[39m]\n",
      "File \u001b[0;32m~/miniconda3/envs/RELOG/lib/python3.10/site-packages/pandas/core/frame.py:3505\u001b[0m, in \u001b[0;36mDataFrame.__getitem__\u001b[0;34m(self, key)\u001b[0m\n\u001b[1;32m   3503\u001b[0m \u001b[38;5;28;01mif\u001b[39;00m \u001b[38;5;28mself\u001b[39m\u001b[38;5;241m.\u001b[39mcolumns\u001b[38;5;241m.\u001b[39mnlevels \u001b[38;5;241m>\u001b[39m \u001b[38;5;241m1\u001b[39m:\n\u001b[1;32m   3504\u001b[0m     \u001b[38;5;28;01mreturn\u001b[39;00m \u001b[38;5;28mself\u001b[39m\u001b[38;5;241m.\u001b[39m_getitem_multilevel(key)\n\u001b[0;32m-> 3505\u001b[0m indexer \u001b[38;5;241m=\u001b[39m \u001b[38;5;28;43mself\u001b[39;49m\u001b[38;5;241;43m.\u001b[39;49m\u001b[43mcolumns\u001b[49m\u001b[38;5;241;43m.\u001b[39;49m\u001b[43mget_loc\u001b[49m\u001b[43m(\u001b[49m\u001b[43mkey\u001b[49m\u001b[43m)\u001b[49m\n\u001b[1;32m   3506\u001b[0m \u001b[38;5;28;01mif\u001b[39;00m is_integer(indexer):\n\u001b[1;32m   3507\u001b[0m     indexer \u001b[38;5;241m=\u001b[39m [indexer]\n",
      "File \u001b[0;32m~/miniconda3/envs/RELOG/lib/python3.10/site-packages/pandas/core/indexes/base.py:3631\u001b[0m, in \u001b[0;36mIndex.get_loc\u001b[0;34m(self, key, method, tolerance)\u001b[0m\n\u001b[1;32m   3629\u001b[0m     \u001b[38;5;28;01mreturn\u001b[39;00m \u001b[38;5;28mself\u001b[39m\u001b[38;5;241m.\u001b[39m_engine\u001b[38;5;241m.\u001b[39mget_loc(casted_key)\n\u001b[1;32m   3630\u001b[0m \u001b[38;5;28;01mexcept\u001b[39;00m \u001b[38;5;167;01mKeyError\u001b[39;00m \u001b[38;5;28;01mas\u001b[39;00m err:\n\u001b[0;32m-> 3631\u001b[0m     \u001b[38;5;28;01mraise\u001b[39;00m \u001b[38;5;167;01mKeyError\u001b[39;00m(key) \u001b[38;5;28;01mfrom\u001b[39;00m \u001b[38;5;21;01merr\u001b[39;00m\n\u001b[1;32m   3632\u001b[0m \u001b[38;5;28;01mexcept\u001b[39;00m \u001b[38;5;167;01mTypeError\u001b[39;00m:\n\u001b[1;32m   3633\u001b[0m     \u001b[38;5;66;03m# If we have a listlike key, _check_indexing_error will raise\u001b[39;00m\n\u001b[1;32m   3634\u001b[0m     \u001b[38;5;66;03m#  InvalidIndexError. Otherwise we fall through and re-raise\u001b[39;00m\n\u001b[1;32m   3635\u001b[0m     \u001b[38;5;66;03m#  the TypeError.\u001b[39;00m\n\u001b[1;32m   3636\u001b[0m     \u001b[38;5;28mself\u001b[39m\u001b[38;5;241m.\u001b[39m_check_indexing_error(key)\n",
      "\u001b[0;31mKeyError\u001b[0m: 'Relative labor rate CA'"
     ]
    }
   ],
   "source": [
    "index_df['Area factor'] = index_df['Relative labor rate CA']/ index_df['Relative productivity factor CA']"
   ]
  },
  {
   "cell_type": "code",
   "execution_count": null,
   "id": "acf21324-08ca-4e8f-97a5-b7f9d800ec3d",
   "metadata": {},
   "outputs": [],
   "source": [
    "index_df"
   ]
  },
  {
   "cell_type": "markdown",
   "id": "0af8767f-5a01-4ab1-ad88-95140c10d26d",
   "metadata": {},
   "source": [
    "#### 3.2.1.  Load the candidate location file and adjust area factors (for Peter's cost area factors)"
   ]
  },
  {
   "cell_type": "markdown",
   "id": "bf7c3217-5dcf-402e-9b7d-c42b9857bf86",
   "metadata": {},
   "source": [
    "Load the Manufacturing plant's candidate locations. The candidate locations are based on the Manufacturing plants from [Iloeje et al.](https://www.sciencedirect.com/science/article/pii/S2589004222011026), the file can be downloaded [here](https://zenodo.org/record/7093835#.Y-PlXsHMKek).\n",
    "\n",
    "**NOTE:** This version uses the states in 'name' to define the area cost factor. Unfortunately, sometimes we do not have this information, and we will need latitude and longitude to define the state and then map the area cost factor. For this version, refer to section 3.3.2."
   ]
  },
  {
   "cell_type": "markdown",
   "id": "c1ede857-12b6-4296-ac9e-845df2088034",
   "metadata": {},
   "source": [
    "#### 3.2.2. Version 1: When we have the state in the column 'name'"
   ]
  },
  {
   "cell_type": "code",
   "execution_count": null,
   "id": "52853b3f-0ea7-43e4-9002-a9afbfeaff35",
   "metadata": {},
   "outputs": [],
   "source": [
    "cadidate_loc = pd.read_csv(os.path.join('RELOG_import_data', 'CandidateLocations', 'Manufacturing' 'CandidateLocations_op_NM.csv'))"
   ]
  },
  {
   "cell_type": "code",
   "execution_count": null,
   "id": "d3306aff-3bcf-48ff-a451-182d55e4e20b",
   "metadata": {},
   "outputs": [],
   "source": [
    "cadidate_loc.head()"
   ]
  },
  {
   "cell_type": "markdown",
   "id": "6413455b-65e0-410f-9a26-3f646bf86909",
   "metadata": {},
   "source": [
    "Let's create a new column with states so we can map the area cost factor with the right area."
   ]
  },
  {
   "cell_type": "code",
   "execution_count": null,
   "id": "2f523e2d-a06a-4146-b8fc-d8a148cb24b8",
   "metadata": {},
   "outputs": [],
   "source": [
    "cadidate_loc['State'] = cadidate_loc['name'].str.rsplit(', ').str[-1] "
   ]
  },
  {
   "cell_type": "code",
   "execution_count": null,
   "id": "ea594566-6fb4-40ba-a65d-5c77f7b6c47c",
   "metadata": {},
   "outputs": [],
   "source": [
    "cadidate_loc.head()"
   ]
  },
  {
   "cell_type": "markdown",
   "id": "18db4452-95f5-4adb-84d8-63f72a220d6a",
   "metadata": {},
   "source": [
    "##### Adjust area factors"
   ]
  },
  {
   "cell_type": "markdown",
   "id": "82cdc757-ee9b-4bce-94c6-155fe3f33018",
   "metadata": {},
   "source": [
    "Since the loaded candidate locations are related to a plant build in New Mexico (that's why its area factor is 1), we need to adjust the area cost factors to the plant we modeled, which is based in California."
   ]
  },
  {
   "cell_type": "markdown",
   "id": "4a92f087-d5c5-483e-8da8-a3e7f242233d",
   "metadata": {},
   "source": [
    "Make a dictionary of Geographical area (or regions) and area factors."
   ]
  },
  {
   "cell_type": "code",
   "execution_count": null,
   "id": "9a5f1006-564e-4047-917c-909b4a0ac566",
   "metadata": {},
   "outputs": [
    {
     "ename": "KeyError",
     "evalue": "'Area factor'",
     "output_type": "error",
     "traceback": [
      "\u001b[0;31m---------------------------------------------------------------------------\u001b[0m",
      "\u001b[0;31mKeyError\u001b[0m                                  Traceback (most recent call last)",
      "File \u001b[0;32m~/miniconda3/envs/RELOG/lib/python3.10/site-packages/pandas/core/indexes/base.py:3629\u001b[0m, in \u001b[0;36mIndex.get_loc\u001b[0;34m(self, key, method, tolerance)\u001b[0m\n\u001b[1;32m   3628\u001b[0m \u001b[38;5;28;01mtry\u001b[39;00m:\n\u001b[0;32m-> 3629\u001b[0m     \u001b[38;5;28;01mreturn\u001b[39;00m \u001b[38;5;28;43mself\u001b[39;49m\u001b[38;5;241;43m.\u001b[39;49m\u001b[43m_engine\u001b[49m\u001b[38;5;241;43m.\u001b[39;49m\u001b[43mget_loc\u001b[49m\u001b[43m(\u001b[49m\u001b[43mcasted_key\u001b[49m\u001b[43m)\u001b[49m\n\u001b[1;32m   3630\u001b[0m \u001b[38;5;28;01mexcept\u001b[39;00m \u001b[38;5;167;01mKeyError\u001b[39;00m \u001b[38;5;28;01mas\u001b[39;00m err:\n",
      "File \u001b[0;32m~/miniconda3/envs/RELOG/lib/python3.10/site-packages/pandas/_libs/index.pyx:136\u001b[0m, in \u001b[0;36mpandas._libs.index.IndexEngine.get_loc\u001b[0;34m()\u001b[0m\n",
      "File \u001b[0;32m~/miniconda3/envs/RELOG/lib/python3.10/site-packages/pandas/_libs/index.pyx:163\u001b[0m, in \u001b[0;36mpandas._libs.index.IndexEngine.get_loc\u001b[0;34m()\u001b[0m\n",
      "File \u001b[0;32mpandas/_libs/hashtable_class_helper.pxi:5198\u001b[0m, in \u001b[0;36mpandas._libs.hashtable.PyObjectHashTable.get_item\u001b[0;34m()\u001b[0m\n",
      "File \u001b[0;32mpandas/_libs/hashtable_class_helper.pxi:5206\u001b[0m, in \u001b[0;36mpandas._libs.hashtable.PyObjectHashTable.get_item\u001b[0;34m()\u001b[0m\n",
      "\u001b[0;31mKeyError\u001b[0m: 'Area factor'",
      "\nThe above exception was the direct cause of the following exception:\n",
      "\u001b[0;31mKeyError\u001b[0m                                  Traceback (most recent call last)",
      "Cell \u001b[0;32mIn [150], line 1\u001b[0m\n\u001b[0;32m----> 1\u001b[0m index_dict \u001b[38;5;241m=\u001b[39m \u001b[38;5;28mdict\u001b[39m(\u001b[38;5;28mzip\u001b[39m(index_df[\u001b[38;5;124m'\u001b[39m\u001b[38;5;124mGeographical area\u001b[39m\u001b[38;5;124m'\u001b[39m], \u001b[43mindex_df\u001b[49m\u001b[43m[\u001b[49m\u001b[38;5;124;43m'\u001b[39;49m\u001b[38;5;124;43mArea factor\u001b[39;49m\u001b[38;5;124;43m'\u001b[39;49m\u001b[43m]\u001b[49m))\n",
      "File \u001b[0;32m~/miniconda3/envs/RELOG/lib/python3.10/site-packages/pandas/core/frame.py:3505\u001b[0m, in \u001b[0;36mDataFrame.__getitem__\u001b[0;34m(self, key)\u001b[0m\n\u001b[1;32m   3503\u001b[0m \u001b[38;5;28;01mif\u001b[39;00m \u001b[38;5;28mself\u001b[39m\u001b[38;5;241m.\u001b[39mcolumns\u001b[38;5;241m.\u001b[39mnlevels \u001b[38;5;241m>\u001b[39m \u001b[38;5;241m1\u001b[39m:\n\u001b[1;32m   3504\u001b[0m     \u001b[38;5;28;01mreturn\u001b[39;00m \u001b[38;5;28mself\u001b[39m\u001b[38;5;241m.\u001b[39m_getitem_multilevel(key)\n\u001b[0;32m-> 3505\u001b[0m indexer \u001b[38;5;241m=\u001b[39m \u001b[38;5;28;43mself\u001b[39;49m\u001b[38;5;241;43m.\u001b[39;49m\u001b[43mcolumns\u001b[49m\u001b[38;5;241;43m.\u001b[39;49m\u001b[43mget_loc\u001b[49m\u001b[43m(\u001b[49m\u001b[43mkey\u001b[49m\u001b[43m)\u001b[49m\n\u001b[1;32m   3506\u001b[0m \u001b[38;5;28;01mif\u001b[39;00m is_integer(indexer):\n\u001b[1;32m   3507\u001b[0m     indexer \u001b[38;5;241m=\u001b[39m [indexer]\n",
      "File \u001b[0;32m~/miniconda3/envs/RELOG/lib/python3.10/site-packages/pandas/core/indexes/base.py:3631\u001b[0m, in \u001b[0;36mIndex.get_loc\u001b[0;34m(self, key, method, tolerance)\u001b[0m\n\u001b[1;32m   3629\u001b[0m     \u001b[38;5;28;01mreturn\u001b[39;00m \u001b[38;5;28mself\u001b[39m\u001b[38;5;241m.\u001b[39m_engine\u001b[38;5;241m.\u001b[39mget_loc(casted_key)\n\u001b[1;32m   3630\u001b[0m \u001b[38;5;28;01mexcept\u001b[39;00m \u001b[38;5;167;01mKeyError\u001b[39;00m \u001b[38;5;28;01mas\u001b[39;00m err:\n\u001b[0;32m-> 3631\u001b[0m     \u001b[38;5;28;01mraise\u001b[39;00m \u001b[38;5;167;01mKeyError\u001b[39;00m(key) \u001b[38;5;28;01mfrom\u001b[39;00m \u001b[38;5;21;01merr\u001b[39;00m\n\u001b[1;32m   3632\u001b[0m \u001b[38;5;28;01mexcept\u001b[39;00m \u001b[38;5;167;01mTypeError\u001b[39;00m:\n\u001b[1;32m   3633\u001b[0m     \u001b[38;5;66;03m# If we have a listlike key, _check_indexing_error will raise\u001b[39;00m\n\u001b[1;32m   3634\u001b[0m     \u001b[38;5;66;03m#  InvalidIndexError. Otherwise we fall through and re-raise\u001b[39;00m\n\u001b[1;32m   3635\u001b[0m     \u001b[38;5;66;03m#  the TypeError.\u001b[39;00m\n\u001b[1;32m   3636\u001b[0m     \u001b[38;5;28mself\u001b[39m\u001b[38;5;241m.\u001b[39m_check_indexing_error(key)\n",
      "\u001b[0;31mKeyError\u001b[0m: 'Area factor'"
     ]
    }
   ],
   "source": [
    "index_dict = dict(zip(index_df['Geographical area'], index_df['Area factor']))"
   ]
  },
  {
   "cell_type": "code",
   "execution_count": null,
   "id": "cbd2ec00-6ee0-4c5c-b9a4-f8931196db69",
   "metadata": {},
   "outputs": [],
   "source": [
    "index_dict"
   ]
  },
  {
   "cell_type": "code",
   "execution_count": null,
   "id": "1071750b-05e2-4c0c-bcb7-df1787b82571",
   "metadata": {},
   "outputs": [],
   "source": [
    "us_regions.keys()"
   ]
  },
  {
   "cell_type": "code",
   "execution_count": null,
   "id": "d906c38d-904d-4c82-bf06-d009f5fb3070",
   "metadata": {},
   "outputs": [],
   "source": [
    "for key in us_regions:\n",
    "    cadidate_loc.loc[cadidate_loc['State'].isin(us_regions[key]), 'Region'] = key"
   ]
  },
  {
   "cell_type": "code",
   "execution_count": null,
   "id": "6ae9e2ac-76e9-4b89-b54e-f593d29b82fe",
   "metadata": {},
   "outputs": [],
   "source": [
    "cadidate_loc.head()"
   ]
  },
  {
   "cell_type": "code",
   "execution_count": null,
   "id": "3c84daa8-db23-4fc3-959c-e8a0ffc969ce",
   "metadata": {},
   "outputs": [],
   "source": [
    "cadidate_loc[\"area cost factor\"] = cadidate_loc[\"Region\"].apply(lambda x: index_dict.get(x))"
   ]
  },
  {
   "cell_type": "markdown",
   "id": "8dd61081-24bb-4c12-bcf7-3f6c8cec2b5f",
   "metadata": {},
   "source": [
    "Now we drop the state and Region columns:"
   ]
  },
  {
   "cell_type": "code",
   "execution_count": null,
   "id": "84c20246-e75c-4c04-b760-8bee656fa822",
   "metadata": {},
   "outputs": [],
   "source": [
    "candidate_loc_clean = cadidate_loc.drop(['State', 'Region'], axis=1)"
   ]
  },
  {
   "cell_type": "code",
   "execution_count": null,
   "id": "e722eb99-b8d3-4ec8-a932-47c1c14d359c",
   "metadata": {},
   "outputs": [],
   "source": [
    "candidate_loc_clean.head()"
   ]
  },
  {
   "cell_type": "markdown",
   "id": "8e53635e-f040-4b01-a355-e988ae59d2ec",
   "metadata": {},
   "source": [
    "Now let's round the numbers to reasonable amounts."
   ]
  },
  {
   "cell_type": "code",
   "execution_count": null,
   "id": "824fecf7-e3ff-493d-9528-e45ab5370d86",
   "metadata": {},
   "outputs": [],
   "source": [
    "candidate_loc_clean['latitude (deg)'] = candidate_loc_clean['latitude (deg)'].round(decimals=4)\n",
    "candidate_loc_clean['longitude (deg)'] = candidate_loc_clean['longitude (deg)'].round(decimals=4)\n",
    "candidate_loc_clean['area cost factor'] = candidate_loc_clean['area cost factor'].round(decimals=2)"
   ]
  },
  {
   "cell_type": "code",
   "execution_count": null,
   "id": "13b15323-feff-4c5c-b1a4-2b3d31d7a337",
   "metadata": {},
   "outputs": [],
   "source": [
    "candidate_loc_clean.head()"
   ]
  },
  {
   "cell_type": "code",
   "execution_count": null,
   "id": "7ea45701-001c-49db-a5ed-0204718ec017",
   "metadata": {},
   "outputs": [],
   "source": [
    "candidate_loc_clean.to_csv(os.path.join('RELOG_import_data', 'Manufacturing','CandidateLocations_CA.csv'), index=False)"
   ]
  },
  {
   "cell_type": "markdown",
   "id": "87ead886-b993-478a-80e0-82cf2dd3ab24",
   "metadata": {},
   "source": [
    "#### 3.2.3. Version 2: When we don't have the state defined in the name"
   ]
  },
  {
   "cell_type": "markdown",
   "id": "2b3f1b93-ce59-4fd2-be1f-7f9f89370236",
   "metadata": {},
   "source": [
    "Sometimes, our data might be given in `longitude` and `latitude` only, that means we have to use these to fins the corresponding state, and then use the mapping method we used in section 3.3.1. Luckily, in section 1 we defined a function that does exactly that! Here is the function in case you did not run those cells (I have also modified it to be in line with the file):"
   ]
  },
  {
   "cell_type": "code",
   "execution_count": null,
   "id": "c5779994-2963-4cb8-bd95-1eb7ef7324da",
   "metadata": {},
   "outputs": [],
   "source": [
    "def city_state_country_2(row):\n",
    "    # I map latitude and longitude with actual names of those places.\n",
    "    coord = f\"{row['latitude (deg)']}, {row['longitude (deg)']}\"\n",
    "    location = geolocator.reverse(coord, exactly_one=True)\n",
    "    address = location.raw['address']\n",
    "    city = address.get('city', '')\n",
    "    county = address.get('county', '')\n",
    "    state = address.get('state', '')\n",
    "    country = address.get('country', '')\n",
    "    county_state = address.get('county', 'state')\n",
    "    #row['city'] = city\n",
    "    #row['county'] = county\n",
    "    row['state'] = state\n",
    "    #row['country'] = country\n",
    "    #row['location'] = county_state\n",
    "    return row"
   ]
  },
  {
   "cell_type": "markdown",
   "id": "da1c10f7-6b29-4ad6-8df6-2d5584c1d0b1",
   "metadata": {
    "tags": []
   },
   "source": [
    "Let's load the file that does not have the state in the `name` columns, which is, in fact the latest version from Iloeje's paper. This file can be accessed through the shared ANL Box file."
   ]
  },
  {
   "cell_type": "code",
   "execution_count": null,
   "id": "421ec33a-5fbc-46eb-a483-d97df11cc4ac",
   "metadata": {},
   "outputs": [],
   "source": [
    "cadidate_loc_2 = pd.read_csv(os.path.join('RELOG_import_data', 'Manufacturing','CandidateLocations','Candidate locations - Battery Project.csv'))"
   ]
  },
  {
   "cell_type": "markdown",
   "id": "22cdf3c6-e26f-482d-8e6a-361be81b69e9",
   "metadata": {},
   "source": [
    "Let's apply that function:"
   ]
  },
  {
   "cell_type": "code",
   "execution_count": null,
   "id": "3dd925f8-3d9f-4b41-945d-23353368884a",
   "metadata": {},
   "outputs": [],
   "source": [
    "cadidate_loc_2 = cadidate_loc_2.apply(city_state_country_2, axis=1)"
   ]
  },
  {
   "cell_type": "markdown",
   "id": "ca7897e7-402b-48ed-8bf9-52beab4bc300",
   "metadata": {},
   "source": [
    "The next step is to generate the area cost index relative to New York. Unfortunately, it seems that this file has area codes at a county level, which makes it a bit more complicated. I will have to ask ANL what to do here."
   ]
  },
  {
   "cell_type": "markdown",
   "id": "55f82258-a076-42dd-9a3b-ff476dc2bc7c",
   "metadata": {},
   "source": [
    "TO BE CONTINUED"
   ]
  },
  {
   "cell_type": "markdown",
   "id": "36f67302-f231-4411-b2a7-0cf66dc2cfbf",
   "metadata": {},
   "source": [
    "---\n",
    "### 3.3. If no file is given, these cells shows how to set up the dataframe in RELOG format"
   ]
  },
  {
   "cell_type": "markdown",
   "id": "302f5687-d7b8-4c61-b064-3e4dd79d52e8",
   "metadata": {},
   "source": [
    "Setup the template for the collection center file."
   ]
  },
  {
   "cell_type": "code",
   "execution_count": 77,
   "id": "6f2636bf-8450-4990-8520-e65648a0cc7c",
   "metadata": {
    "tags": []
   },
   "outputs": [],
   "source": [
    "candidate_locations = pd.DataFrame(columns=['name', 'latitude (deg)', 'longitude (deg)', 'initial capacity (tonne)','area cost factor'])                "
   ]
  },
  {
   "cell_type": "markdown",
   "id": "c990a5a1-587c-4566-b8ae-6b8f12121d6f",
   "metadata": {},
   "source": [
    "I am going to correlate states and regions as well and then delete it, this is to add the area cost factors."
   ]
  },
  {
   "cell_type": "code",
   "execution_count": null,
   "id": "35d984bc-2b8e-40a5-8ac0-e7a0782566a9",
   "metadata": {},
   "outputs": [],
   "source": [
    "candidate_locations['name'], candidate_locations['state'], candidate_locations['latitude (deg)'], candidate_locations['longitude (deg)'] = GIS_usa['location'], GIS_usa['state'], GIS_usa['long'], GIS_usa['lat']"
   ]
  },
  {
   "cell_type": "markdown",
   "id": "b5ac0c20-6b14-479f-bc03-beab0fafc955",
   "metadata": {
    "tags": []
   },
   "source": [
    "scp -r /Users/mmendez/Documents/Postdoc/Software_dev/RICE/3_RELOG_simulation/hpc_simulation_folders/20230315_Recycling_super_v5 mmendez@eagle.nrel.gov:/projects/pvsoiling/RELOG\n"
   ]
  },
  {
   "cell_type": "markdown",
   "id": "15da8255-d00d-4d0d-bb1f-801fab4d8874",
   "metadata": {
    "tags": []
   },
   "source": [
    "### 3.4. IGate-e Candidate Locations"
   ]
  },
  {
   "cell_type": "markdown",
   "id": "4b0cff33-3813-49cd-9088-595f504a9a9a",
   "metadata": {
    "tags": []
   },
   "source": [
    "These candidate locations are protected data, they can be found locally in `/2_data_preparation/CandidateLocations_RAW`. There are a lot of locations here (>200K). So I am going to filter them."
   ]
  },
  {
   "cell_type": "code",
   "execution_count": 192,
   "id": "f1cbde30-2f29-477c-83bf-6c82a8b78362",
   "metadata": {},
   "outputs": [],
   "source": [
    "cwd = os.getcwd()\n",
    "igate_cl_raw = pd.read_csv(os.path.join(cwd, 'CandidateLocations_RAW', 'ManufacturingPlants_Locations.csv'), low_memory=False)"
   ]
  },
  {
   "cell_type": "code",
   "execution_count": 193,
   "id": "1d3199b8-38a6-4898-8615-346ebe9e400c",
   "metadata": {},
   "outputs": [],
   "source": [
    "igate_cl = igate_cl_raw.copy()"
   ]
  },
  {
   "cell_type": "code",
   "execution_count": 194,
   "id": "e5cf2dcf-206f-4223-87c3-8e5995b53efe",
   "metadata": {},
   "outputs": [
    {
     "name": "stdout",
     "output_type": "stream",
     "text": [
      "There are 293839 rows.\n"
     ]
    }
   ],
   "source": [
    "print('There are {} rows.'.format(len(igate_cl)))"
   ]
  },
  {
   "cell_type": "markdown",
   "id": "489dede0-e68a-48f6-abad-20e769ab5bbb",
   "metadata": {},
   "source": [
    "#### Preliminary cleanup"
   ]
  },
  {
   "cell_type": "markdown",
   "id": "74f96287-d5d6-4987-ba80-fca7434c3752",
   "metadata": {},
   "source": [
    "Remove duplicates, I will get rid of locations with same Latitude and Longitude."
   ]
  },
  {
   "cell_type": "code",
   "execution_count": 195,
   "id": "5c914825-3195-4634-afdb-430ff06ebade",
   "metadata": {},
   "outputs": [],
   "source": [
    "igate_cl['latlong'] = igate_cl['Latitude'].astype('str') + ', ' + igate_cl['Longitude'].astype('str')"
   ]
  },
  {
   "cell_type": "code",
   "execution_count": 196,
   "id": "6e616733-2b8d-4ce5-8bd7-4979e68cf4f4",
   "metadata": {},
   "outputs": [
    {
     "name": "stdout",
     "output_type": "stream",
     "text": [
      "There are 915 unique locations.\n"
     ]
    }
   ],
   "source": [
    "print('There are {} unique locations.'.format(len(igate_cl['latlong'].unique())))"
   ]
  },
  {
   "cell_type": "code",
   "execution_count": 197,
   "id": "3fa75f2c-2fe9-41c2-85ec-81780725755b",
   "metadata": {},
   "outputs": [],
   "source": [
    "igate_cl.drop_duplicates(subset='latlong', inplace=True)"
   ]
  },
  {
   "cell_type": "code",
   "execution_count": 198,
   "id": "21c732d0-e52f-47f0-91f4-bfceadf9e921",
   "metadata": {},
   "outputs": [
    {
     "name": "stdout",
     "output_type": "stream",
     "text": [
      "There are 915 locations after the filter.\n"
     ]
    }
   ],
   "source": [
    "print('There are {} locations after the filter.'.format(len(igate_cl)))"
   ]
  },
  {
   "cell_type": "markdown",
   "id": "ec7331fc-4277-491b-b1b6-f7daf950aac3",
   "metadata": {},
   "source": [
    "#### Check for NaN rows"
   ]
  },
  {
   "cell_type": "code",
   "execution_count": 199,
   "id": "87ba110a-579c-483c-ae67-232d403f4307",
   "metadata": {},
   "outputs": [
    {
     "data": {
      "text/plain": [
       "Name             0\n",
       "Latitude         0\n",
       "Longitude        0\n",
       "Address         10\n",
       "State            1\n",
       "Naics_3digit     1\n",
       "latlong          0\n",
       "dtype: int64"
      ]
     },
     "execution_count": 199,
     "metadata": {},
     "output_type": "execute_result"
    }
   ],
   "source": [
    "igate_cl.isna().sum()"
   ]
  },
  {
   "cell_type": "code",
   "execution_count": 200,
   "id": "331ea61a-539e-4079-8724-6866e6f2ffd2",
   "metadata": {},
   "outputs": [],
   "source": [
    "igate_cl=igate_cl.drop(labels=igate_cl[igate_cl['Naics_3digit'].isna()].index)"
   ]
  },
  {
   "cell_type": "code",
   "execution_count": 201,
   "id": "25c7c195-ec9d-4ce2-b838-2619eb903ca1",
   "metadata": {},
   "outputs": [
    {
     "name": "stdout",
     "output_type": "stream",
     "text": [
      "There are 914 locations after the NaN filter.\n"
     ]
    }
   ],
   "source": [
    "print('There are {} locations after the NaN filter.'.format(len(igate_cl)))"
   ]
  },
  {
   "cell_type": "code",
   "execution_count": 202,
   "id": "9df17183-f57e-4322-88ca-42cf7b1faef7",
   "metadata": {},
   "outputs": [
    {
     "data": {
      "text/plain": [
       "<AxesSubplot:xlabel='Longitude', ylabel='Latitude'>"
      ]
     },
     "execution_count": 202,
     "metadata": {},
     "output_type": "execute_result"
    },
    {
     "data": {
      "image/png": "[encoded data removed]",
      "text/plain": [
       "<Figure size 640x480 with 1 Axes>"
      ]
     },
     "metadata": {},
     "output_type": "display_data"
    }
   ],
   "source": [
    "sns.scatterplot(x='Longitude', y='Latitude', data=igate_cl, alpha=1)"
   ]
  },
  {
   "cell_type": "code",
   "execution_count": 203,
   "id": "af65ce87-2559-46ce-9ae9-671d51a9dbe5",
   "metadata": {},
   "outputs": [],
   "source": [
    "import fiona\n",
    "import geopandas as gp\n",
    "import matplotlib.pyplot as plt\n",
    "import pandas as pd\n",
    "from matplotlib import collections\n",
    "from shapely.geometry import LineString, Point"
   ]
  },
  {
   "cell_type": "code",
   "execution_count": 204,
   "id": "83e16218-537b-429d-813a-287a451f8e8d",
   "metadata": {},
   "outputs": [
    {
     "data": {
      "image/png": "[encoded data removed]",
      "text/plain": [
       "<Figure size 1400x700 with 1 Axes>"
      ]
     },
     "metadata": {},
     "output_type": "display_data"
    }
   ],
   "source": [
    "# Plot base map\n",
    "world = gp.read_file(gp.datasets.get_path(\"naturalearth_lowres\"))\n",
    "ax = world.plot(color=\"white\", edgecolor=\"0.5\", figsize=(14, 7))\n",
    "ax.set_ylim([23, 50])\n",
    "ax.set_xlim([-128, -65])\n",
    "\n",
    "# Draw destination points\n",
    "points = gp.points_from_xy(\n",
    "    igate_cl[\"Longitude\"],\n",
    "    igate_cl[\"Latitude\"],\n",
    ")\n",
    "gp.GeoDataFrame(igate_cl, geometry=points).plot(ax=ax, color=\"red\", markersize=50, alpha=1)\n",
    "plt.savefig(f\"candidate_locations_sites.pdf\", dpi=300);\n",
    "plt.savefig(f\"candidate_locations_sites.png\", dpi=300);"
   ]
  },
  {
   "cell_type": "markdown",
   "id": "04724971-5a50-49a5-84c3-35f9c176adb4",
   "metadata": {},
   "source": [
    "#### First filter: By NAICS"
   ]
  },
  {
   "cell_type": "code",
   "execution_count": 205,
   "id": "42eecaf5-c52a-4e0c-9068-1a4f37ea8705",
   "metadata": {},
   "outputs": [],
   "source": [
    "naics_selection = ['325_', '317_', '331_','332_', '334_', '335_', '339_']"
   ]
  },
  {
   "cell_type": "code",
   "execution_count": 206,
   "id": "7a94735c-aaa1-4460-9837-a54e0c7824b6",
   "metadata": {},
   "outputs": [],
   "source": [
    "mask1=igate_cl['Naics_3digit'].str.contains('|'.join(naics_selection),regex=True)"
   ]
  },
  {
   "cell_type": "code",
   "execution_count": 207,
   "id": "cd4743b4-4b24-4c05-bb8c-4243a0513357",
   "metadata": {},
   "outputs": [],
   "source": [
    "igate_cl_naics_filtered = igate_cl.loc[mask1]"
   ]
  },
  {
   "cell_type": "code",
   "execution_count": 208,
   "id": "7da19835-df94-4bf3-bf85-c6638c6df1d8",
   "metadata": {},
   "outputs": [
    {
     "name": "stdout",
     "output_type": "stream",
     "text": [
      "There are now 240 locations\n"
     ]
    }
   ],
   "source": [
    "print('There are now {} locations'.format(len(igate_cl_naics_filtered)))"
   ]
  },
  {
   "cell_type": "code",
   "execution_count": 209,
   "id": "b09990a0-9a69-4b12-bfdc-63982c2d3c8d",
   "metadata": {},
   "outputs": [
    {
     "data": {
      "text/plain": [
       "<AxesSubplot:xlabel='Longitude', ylabel='Latitude'>"
      ]
     },
     "execution_count": 209,
     "metadata": {},
     "output_type": "execute_result"
    },
    {
     "data": {
      "image/png": "[encoded data removed]",
      "text/plain": [
       "<Figure size 640x480 with 1 Axes>"
      ]
     },
     "metadata": {},
     "output_type": "display_data"
    }
   ],
   "source": [
    "sns.scatterplot(x='Longitude', y='Latitude', data=igate_cl_naics_filtered, alpha=1)"
   ]
  },
  {
   "cell_type": "code",
   "execution_count": null,
   "id": "c4fd33b0-ad56-4beb-a8e9-aa073c18d927",
   "metadata": {},
   "outputs": [],
   "source": []
  },
  {
   "cell_type": "code",
   "execution_count": 210,
   "id": "feba376a-4a8d-492b-b146-c60c687459f1",
   "metadata": {},
   "outputs": [
    {
     "data": {
      "image/png": "[encoded data removed]",
      "text/plain": [
       "<Figure size 1400x700 with 1 Axes>"
      ]
     },
     "metadata": {},
     "output_type": "display_data"
    }
   ],
   "source": [
    "# Plot base map\n",
    "world = gp.read_file(gp.datasets.get_path(\"naturalearth_lowres\"))\n",
    "ax = world.plot(color=\"white\", edgecolor=\"0.5\", figsize=(14, 7))\n",
    "ax.set_ylim([23, 50])\n",
    "ax.set_xlim([-128, -65])\n",
    "\n",
    "# Draw destination points\n",
    "points = gp.points_from_xy(\n",
    "    igate_cl_naics_filtered[\"Longitude\"],\n",
    "    igate_cl_naics_filtered[\"Latitude\"],\n",
    ")\n",
    "gp.GeoDataFrame(igate_cl_naics_filtered, geometry=points).plot(ax=ax, color=\"red\", markersize=50, alpha=1)\n",
    "plt.savefig(f\"candidate_locations_sites.pdf\", dpi=300);\n",
    "plt.savefig(f\"candidate_locations_sites.png\", dpi=300);"
   ]
  },
  {
   "cell_type": "markdown",
   "id": "7df0efbc-eac6-478c-83b0-147de17f0709",
   "metadata": {},
   "source": [
    "#### Convert into RELOG Candidate Locations formats and save"
   ]
  },
  {
   "cell_type": "markdown",
   "id": "7c91e0ac-a952-4dd6-b706-bc1c2a794af6",
   "metadata": {},
   "source": [
    "Let's clean both datasets `igate_cl_naics` and `igate_cl_naics_filtered` and make the unique names column, with the `initial capacity (tonne)`, `area cost factor` columns."
   ]
  },
  {
   "cell_type": "code",
   "execution_count": 211,
   "id": "84372754-cb16-448a-92a6-837aaedf45e2",
   "metadata": {},
   "outputs": [],
   "source": [
    "igate_cl_output = igate_cl.drop(['Address', 'Naics_3digit', 'latlong', 'geometry'], axis=1)\n",
    "igate_cl_naics_filtered_output = igate_cl_naics_filtered.drop(['Address', 'Naics_3digit', 'latlong', 'geometry'], axis=1)"
   ]
  },
  {
   "cell_type": "code",
   "execution_count": 212,
   "id": "783e0739-81c4-454a-a360-810babbbae67",
   "metadata": {},
   "outputs": [],
   "source": [
    "igate_cl_output = igate_cl_output.rename(columns={'Latitude': 'latitude (deg)', 'Longitude': 'longitude (deg)', 'Name':'name'})\n",
    "igate_cl_naics_filtered_output = igate_cl_naics_filtered_output.rename(columns={'Latitude': 'latitude (deg)', 'Longitude': 'longitude (deg)', 'Name':'name'})"
   ]
  },
  {
   "cell_type": "code",
   "execution_count": 213,
   "id": "d5cb54e8-0d61-4d46-a8ee-f2f0db990cf9",
   "metadata": {},
   "outputs": [],
   "source": [
    "igate_cl_output['name'] = igate_cl_output['name'] + ', ' + igate_cl_output['State']\n",
    "igate_cl_naics_filtered_output['name'] = igate_cl_naics_filtered_output['name']+ ', ' + igate_cl_naics_filtered_output['State']"
   ]
  },
  {
   "cell_type": "code",
   "execution_count": 214,
   "id": "b091bcc6-44d5-4968-9a29-59c4d1991928",
   "metadata": {},
   "outputs": [
    {
     "name": "stdout",
     "output_type": "stream",
     "text": [
      "There are 914 unique names in the duplicates filtered data.\n",
      "There are 240 unique names in the duplicates and naics filtered data.\n"
     ]
    }
   ],
   "source": [
    "print('There are {} unique names in the duplicates filtered data.'.format(len(igate_cl_output['name'])))\n",
    "print('There are {} unique names in the duplicates and naics filtered data.'.format(len(igate_cl_naics_filtered_output['name'])))"
   ]
  },
  {
   "cell_type": "code",
   "execution_count": 215,
   "id": "bbad1c26-52dd-4608-89fa-e517cef280f9",
   "metadata": {},
   "outputs": [],
   "source": [
    "igate_cl_output = igate_cl_output.reindex(columns=['name', 'latitude (deg)', 'longitude (deg)', 'State','initial capacity (tonne)','area cost factor'], fill_value=0)\n",
    "igate_cl_naics_filtered_output = igate_cl_naics_filtered_output.reindex(columns=['name', 'latitude (deg)', 'longitude (deg)', 'State','initial capacity (tonne)','area cost factor'], fill_value=0)"
   ]
  },
  {
   "cell_type": "markdown",
   "id": "59a7c2b3-b752-4e54-877b-a9c3a30f6573",
   "metadata": {},
   "source": [
    "Map Area cost factors with the DOD csv."
   ]
  },
  {
   "cell_type": "code",
   "execution_count": 216,
   "id": "879ae22e-d1c6-44eb-816c-7b760e5d41e1",
   "metadata": {},
   "outputs": [],
   "source": [
    "cwd = os.getcwd()\n",
    "area_cost_factors = pd.read_csv(os.path.join(cwd, 'miscellaneous', 'dod_area_cost_factors.csv'))"
   ]
  },
  {
   "cell_type": "code",
   "execution_count": 217,
   "id": "42fbd223-a8b3-421f-9205-593e22a54e3f",
   "metadata": {},
   "outputs": [],
   "source": [
    "area_cost_dict = dict(zip(area_cost_factors['State Code'], area_cost_factors['ACF Official']))"
   ]
  },
  {
   "cell_type": "code",
   "execution_count": 218,
   "id": "9770d10e-d9af-4d9a-bfca-0e3d915b327e",
   "metadata": {},
   "outputs": [],
   "source": [
    "igate_cl_output[\"area cost factor\"] = igate_cl_output[\"State\"].apply(lambda x: area_cost_dict.get(x))\n",
    "igate_cl_naics_filtered_output[\"area cost factor\"] = igate_cl_naics_filtered_output[\"State\"].apply(lambda x: area_cost_dict.get(x))"
   ]
  },
  {
   "cell_type": "markdown",
   "id": "8eaaac0b-639b-497f-9d1a-9166a2719e1e",
   "metadata": {},
   "source": [
    "Now let's set it so it is relative to Ohio!"
   ]
  },
  {
   "cell_type": "code",
   "execution_count": 219,
   "id": "2ba30686-9e94-455d-b581-90b00d8be1dd",
   "metadata": {},
   "outputs": [],
   "source": [
    "igate_cl_output['area cost factor'] = igate_cl_output['area cost factor']/area_cost_dict['OH']\n",
    "igate_cl_naics_filtered_output['area cost factor'] = igate_cl_naics_filtered_output['area cost factor']/area_cost_dict['OH']"
   ]
  },
  {
   "cell_type": "code",
   "execution_count": 221,
   "id": "a1466c0d-5589-4e7f-8f1f-e424a52dae04",
   "metadata": {},
   "outputs": [],
   "source": [
    "igate_cl_output = igate_cl_output.drop('State', axis=1)\n",
    "igate_cl_naics_filtered_output = igate_cl_naics_filtered_output.drop('State', axis=1)"
   ]
  },
  {
   "cell_type": "code",
   "execution_count": 226,
   "id": "d9fbe568-0e83-48e6-aa64-4782b1877bf7",
   "metadata": {},
   "outputs": [],
   "source": [
    "igate_cl_output.to_csv(os.path.join(cwd, 'RELOG_import_data', 'CandidateLocations', 'cl_igate_single_loc.csv'), index=False)\n",
    "igate_cl_naics_filtered_output.to_csv(os.path.join(cwd, 'RELOG_import_data', 'CandidateLocations', 'cl_igate_single_loc_filter_naics.csv'), index=False)"
   ]
  },
  {
   "cell_type": "code",
   "execution_count": null,
   "id": "37974559-4d84-4e8d-869c-abf06257ed08",
   "metadata": {},
   "outputs": [],
   "source": []
  },
  {
   "cell_type": "markdown",
   "id": "bd38d653-ff14-43a5-9ef0-315af1ac661d",
   "metadata": {
    "tags": []
   },
   "source": [
    "### 3.5 Energy Communities"
   ]
  },
  {
   "cell_type": "markdown",
   "id": "7eb3c111-0d84-4b80-b754-720bf0f6d9d8",
   "metadata": {},
   "source": [
    "These candidate locations can be downloaded from [Datasets for IWG Report on Energy Communities](https://edx.netl.doe.gov/dataset/datasets-for-iwg-report-on-energy-communities) based on the Initial Report to the\n",
    "President on Empowering Workers Through Revitalizing Energy Communities. These locations are communities that fall under the BIL 40209, from the Infrastructure Investment and Jobs Act, Public Law 117-58. Provides technical assistance and grants to small- and medium-sized manufacturers in coal communities, the program is called [Advanced Energy Manufacturing and Recycling Grant Program](https://www.energy.gov/mesc/advanced-energy-manufacturing-and-recycling-grants).\n",
    "\n",
    "The file I use is inside `iwg_energycommunitiesdatasets_csv_april2021.zip` and it is the file `RETIREDPowerPlants_wCoalGen_btwn2005_2020.csv`."
   ]
  },
  {
   "cell_type": "markdown",
   "id": "7ef6ef3a-6f46-43df-8925-615ceae888e7",
   "metadata": {},
   "source": [
    "#### 3.5.1. Load and preliminary cleanup"
   ]
  },
  {
   "cell_type": "code",
   "execution_count": 192,
   "id": "d00434b8-ba73-47d8-91e3-7678c30dbe45",
   "metadata": {},
   "outputs": [],
   "source": [
    "cwd = os.getcwd()"
   ]
  },
  {
   "cell_type": "code",
   "execution_count": 193,
   "id": "904fbcaf-23cd-4d6a-9e6b-b458d1c170cd",
   "metadata": {},
   "outputs": [],
   "source": [
    "ret_plants_40209 = pd.read_csv(os.path.join('CandidateLocations_RAW', 'RETIREDPowerPlants_wCoalGen_btwn2005_2020.csv'))"
   ]
  },
  {
   "cell_type": "code",
   "execution_count": 194,
   "id": "ecf797bf-94ed-4ec5-af5d-e5aa6fc94644",
   "metadata": {},
   "outputs": [],
   "source": [
    "ret_plants_40209_cl = ret_plants_40209.copy()"
   ]
  },
  {
   "cell_type": "code",
   "execution_count": 195,
   "id": "eb255781-3305-4b38-b599-a335d07bf0d3",
   "metadata": {},
   "outputs": [
    {
     "name": "stdout",
     "output_type": "stream",
     "text": [
      "There are 722 locations.\n"
     ]
    }
   ],
   "source": [
    "print('There are {} locations.'.format(len(ret_plants_40209_cl)))"
   ]
  },
  {
   "cell_type": "markdown",
   "id": "11e0651e-eeb7-42ac-9e5f-856dff01c1c1",
   "metadata": {},
   "source": [
    "Let's get rid of the columns we don't need:"
   ]
  },
  {
   "cell_type": "code",
   "execution_count": 196,
   "id": "4b2dfe81-d708-4b79-b6d9-663f39b55823",
   "metadata": {},
   "outputs": [
    {
     "data": {
      "text/plain": [
       "Index(['OID_', 'Entity_ID', 'Plant_Name', 'Nameplate_Capacity__MW_',\n",
       "       'Technology', 'Operating_Year', 'Retirement_Year', 'County_GEOID',\n",
       "       'County Name', 'State', 'State code'],\n",
       "      dtype='object')"
      ]
     },
     "execution_count": 196,
     "metadata": {},
     "output_type": "execute_result"
    }
   ],
   "source": [
    "ret_plants_40209_cl.columns"
   ]
  },
  {
   "cell_type": "code",
   "execution_count": 197,
   "id": "f3ce593e-5559-45a2-b3d3-ced1acba7bf9",
   "metadata": {},
   "outputs": [],
   "source": [
    "columns_to_drop = ['OID_', 'Entity_ID', 'Nameplate_Capacity__MW_', 'Technology', 'Operating_Year', 'Retirement_Year', 'County Name', 'State code']"
   ]
  },
  {
   "cell_type": "code",
   "execution_count": 198,
   "id": "2c6f2b80-1a65-4723-9a0b-b9c1298c9fd0",
   "metadata": {},
   "outputs": [],
   "source": [
    "ret_plants_40209_cl.drop(columns_to_drop, axis=1, inplace= True)"
   ]
  },
  {
   "cell_type": "code",
   "execution_count": 199,
   "id": "2645c809-c113-4446-b34a-32b14f1c01ab",
   "metadata": {},
   "outputs": [
    {
     "data": {
      "text/plain": [
       "array(['Arizona', 'Illinois', 'Michigan', 'Washington', 'Florida',\n",
       "       'New Mexico', 'Alabama', 'Oregon', 'Texas', 'Maryland', 'Ohio',\n",
       "       'Kentucky', 'Missouri', 'New York', 'Pennsylvania',\n",
       "       'North Carolina', 'Montana', 'West Virginia', 'Utah', 'Colorado',\n",
       "       'Georgia', 'Virginia', 'New Jersey', 'Minnesota', 'Mississippi',\n",
       "       'Kansas', 'Wisconsin', 'Indiana', 'Tennessee', 'Massachusetts',\n",
       "       'Nevada', 'North Dakota', 'Iowa', 'Oklahoma', 'California',\n",
       "       'South Carolina', 'South Dakota', 'Wyoming', 'Delaware', 'Alaska',\n",
       "       nan], dtype=object)"
      ]
     },
     "execution_count": 199,
     "metadata": {},
     "output_type": "execute_result"
    }
   ],
   "source": [
    "ret_plants_40209_cl['State'].unique()"
   ]
  },
  {
   "cell_type": "markdown",
   "id": "f2a40a0b-8969-4ef9-a139-40882aef49b8",
   "metadata": {},
   "source": [
    "Let's remove Alaska:"
   ]
  },
  {
   "cell_type": "code",
   "execution_count": 200,
   "id": "230bcb4e-3027-4709-98d4-443e87e49bc5",
   "metadata": {},
   "outputs": [],
   "source": [
    "ret_plants_40209_cl = ret_plants_40209_cl[ret_plants_40209_cl['State'] != 'Alaska']"
   ]
  },
  {
   "cell_type": "markdown",
   "id": "01b78326-e6ee-49ca-82f2-3cc8b3b54efb",
   "metadata": {},
   "source": [
    "Now let's get rid of NaN values:"
   ]
  },
  {
   "cell_type": "code",
   "execution_count": 201,
   "id": "f57ed9c2-2c45-4750-98d3-15ee17635a21",
   "metadata": {},
   "outputs": [
    {
     "data": {
      "text/plain": [
       "Plant_Name      0\n",
       "County_GEOID    1\n",
       "State           1\n",
       "dtype: int64"
      ]
     },
     "execution_count": 201,
     "metadata": {},
     "output_type": "execute_result"
    }
   ],
   "source": [
    "ret_plants_40209_cl.isna().sum()"
   ]
  },
  {
   "cell_type": "code",
   "execution_count": 202,
   "id": "27aac7d4-7856-4fd1-89c5-f27c1bf3a754",
   "metadata": {},
   "outputs": [
    {
     "name": "stdout",
     "output_type": "stream",
     "text": [
      "There are 720 locations.\n"
     ]
    }
   ],
   "source": [
    "print('There are {} locations.'.format(len(ret_plants_40209_cl)))"
   ]
  },
  {
   "cell_type": "code",
   "execution_count": 203,
   "id": "8abb6441-2466-46cb-bd12-a99c1f3f4acb",
   "metadata": {},
   "outputs": [],
   "source": [
    "ret_plants_40209_cl = ret_plants_40209_cl.drop(labels=ret_plants_40209_cl[ret_plants_40209_cl['County_GEOID'].isna()].index)"
   ]
  },
  {
   "cell_type": "code",
   "execution_count": 204,
   "id": "284d91d4-9884-46d9-96d2-2d47c2021004",
   "metadata": {},
   "outputs": [
    {
     "data": {
      "text/plain": [
       "Plant_Name      0\n",
       "County_GEOID    0\n",
       "State           0\n",
       "dtype: int64"
      ]
     },
     "execution_count": 204,
     "metadata": {},
     "output_type": "execute_result"
    }
   ],
   "source": [
    "ret_plants_40209_cl.isna().sum()"
   ]
  },
  {
   "cell_type": "markdown",
   "id": "2f3d50f3-951a-49cd-bf70-19b8fa3dd750",
   "metadata": {},
   "source": [
    "Make the GEOID's as int."
   ]
  },
  {
   "cell_type": "code",
   "execution_count": 205,
   "id": "be2f5e94-955d-4ce4-a464-7d9b2c2638df",
   "metadata": {},
   "outputs": [],
   "source": [
    "ret_plants_40209_cl['County_GEOID']=ret_plants_40209_cl['County_GEOID'].astype('int')"
   ]
  },
  {
   "cell_type": "markdown",
   "id": "d2ff3881-a69e-472e-8b97-685fe90fe038",
   "metadata": {},
   "source": [
    "Drop duplicates."
   ]
  },
  {
   "cell_type": "code",
   "execution_count": 206,
   "id": "0566c08a-4381-419a-9f00-72efc6f8ffe7",
   "metadata": {},
   "outputs": [],
   "source": [
    "ret_plants_40209_cl.drop_duplicates(subset='County_GEOID', inplace=True)"
   ]
  },
  {
   "cell_type": "code",
   "execution_count": 207,
   "id": "081b967c-2a23-4791-abe4-22e5f3bfec8b",
   "metadata": {},
   "outputs": [
    {
     "name": "stdout",
     "output_type": "stream",
     "text": [
      "There are 268 locations.\n"
     ]
    }
   ],
   "source": [
    "print('There are {} locations.'.format(len(ret_plants_40209_cl)))"
   ]
  },
  {
   "cell_type": "markdown",
   "id": "be5f1ad4-25da-4e0c-bdcf-50ee7e5ee4a0",
   "metadata": {},
   "source": [
    "#### 3.5.2. Setup the dataframe with the collection center format and map to get lat and long"
   ]
  },
  {
   "cell_type": "markdown",
   "id": "014ed0c8-3379-4a50-8f3b-719e40ffe556",
   "metadata": {},
   "source": [
    "Rename the columns and create new ones so they are in the RELOG Candidate Locations format. I will leave the `County_GEOID` and `State` columns because I need them for the mapping to get latitudes and longitudes, and the cost area factors, respectively. I will drop these two afterwards before saving the dataframe."
   ]
  },
  {
   "cell_type": "code",
   "execution_count": 208,
   "id": "b6bed747-7e41-4c0b-b596-bc627d7eda14",
   "metadata": {},
   "outputs": [],
   "source": [
    "ret_plants_40209_cl.rename(columns = {'Plant_Name':'name'}, inplace=True)"
   ]
  },
  {
   "cell_type": "code",
   "execution_count": 209,
   "id": "47d154a9-3de8-425a-8137-d476f999d345",
   "metadata": {},
   "outputs": [],
   "source": [
    "ret_plants_40209_cl['name'] = ret_plants_40209_cl['name'] + ', ' + ret_plants_40209_cl['State']"
   ]
  },
  {
   "cell_type": "code",
   "execution_count": 210,
   "id": "d629a694-b1e9-4286-9d95-11125c9d5027",
   "metadata": {},
   "outputs": [
    {
     "data": {
      "text/html": [
       "<div>\n",
       "<style scoped>\n",
       "    .dataframe tbody tr th:only-of-type {\n",
       "        vertical-align: middle;\n",
       "    }\n",
       "\n",
       "    .dataframe tbody tr th {\n",
       "        vertical-align: top;\n",
       "    }\n",
       "\n",
       "    .dataframe thead th {\n",
       "        text-align: right;\n",
       "    }\n",
       "</style>\n",
       "<table border=\"1\" class=\"dataframe\">\n",
       "  <thead>\n",
       "    <tr style=\"text-align: right;\">\n",
       "      <th></th>\n",
       "      <th>name</th>\n",
       "      <th>County_GEOID</th>\n",
       "      <th>State</th>\n",
       "    </tr>\n",
       "  </thead>\n",
       "  <tbody>\n",
       "    <tr>\n",
       "      <th>0</th>\n",
       "      <td>Cholla, Arizona</td>\n",
       "      <td>4017</td>\n",
       "      <td>Arizona</td>\n",
       "    </tr>\n",
       "    <tr>\n",
       "      <th>1</th>\n",
       "      <td>Dallman, Illinois</td>\n",
       "      <td>17167</td>\n",
       "      <td>Illinois</td>\n",
       "    </tr>\n",
       "    <tr>\n",
       "      <th>3</th>\n",
       "      <td>Eckert Station, Michigan</td>\n",
       "      <td>26065</td>\n",
       "      <td>Michigan</td>\n",
       "    </tr>\n",
       "    <tr>\n",
       "      <th>5</th>\n",
       "      <td>Transalta Centralia Generation, Washington</td>\n",
       "      <td>53041</td>\n",
       "      <td>Washington</td>\n",
       "    </tr>\n",
       "    <tr>\n",
       "      <th>6</th>\n",
       "      <td>Indiantown Cogeneration LP, Florida</td>\n",
       "      <td>12085</td>\n",
       "      <td>Florida</td>\n",
       "    </tr>\n",
       "  </tbody>\n",
       "</table>\n",
       "</div>"
      ],
      "text/plain": [
       "                                         name  County_GEOID       State\n",
       "0                             Cholla, Arizona          4017     Arizona\n",
       "1                           Dallman, Illinois         17167    Illinois\n",
       "3                    Eckert Station, Michigan         26065    Michigan\n",
       "5  Transalta Centralia Generation, Washington         53041  Washington\n",
       "6         Indiantown Cogeneration LP, Florida         12085     Florida"
      ]
     },
     "execution_count": 210,
     "metadata": {},
     "output_type": "execute_result"
    }
   ],
   "source": [
    "ret_plants_40209_cl.head()"
   ]
  },
  {
   "cell_type": "code",
   "execution_count": 211,
   "id": "4da77e75-f352-44f0-ad93-6964319a4a05",
   "metadata": {},
   "outputs": [
    {
     "data": {
      "text/html": [
       "<div>\n",
       "<style scoped>\n",
       "    .dataframe tbody tr th:only-of-type {\n",
       "        vertical-align: middle;\n",
       "    }\n",
       "\n",
       "    .dataframe tbody tr th {\n",
       "        vertical-align: top;\n",
       "    }\n",
       "\n",
       "    .dataframe thead th {\n",
       "        text-align: right;\n",
       "    }\n",
       "</style>\n",
       "<table border=\"1\" class=\"dataframe\">\n",
       "  <thead>\n",
       "    <tr style=\"text-align: right;\">\n",
       "      <th></th>\n",
       "      <th>name</th>\n",
       "      <th>County_GEOID</th>\n",
       "      <th>State</th>\n",
       "      <th>latitude (deg)</th>\n",
       "      <th>longitude (deg)</th>\n",
       "      <th>initial capacity (tonne)</th>\n",
       "      <th>area cost factor</th>\n",
       "    </tr>\n",
       "  </thead>\n",
       "  <tbody>\n",
       "    <tr>\n",
       "      <th>0</th>\n",
       "      <td>Cholla, Arizona</td>\n",
       "      <td>4017</td>\n",
       "      <td>Arizona</td>\n",
       "      <td>0</td>\n",
       "      <td>0</td>\n",
       "      <td>0</td>\n",
       "      <td>0</td>\n",
       "    </tr>\n",
       "    <tr>\n",
       "      <th>1</th>\n",
       "      <td>Dallman, Illinois</td>\n",
       "      <td>17167</td>\n",
       "      <td>Illinois</td>\n",
       "      <td>0</td>\n",
       "      <td>0</td>\n",
       "      <td>0</td>\n",
       "      <td>0</td>\n",
       "    </tr>\n",
       "    <tr>\n",
       "      <th>3</th>\n",
       "      <td>Eckert Station, Michigan</td>\n",
       "      <td>26065</td>\n",
       "      <td>Michigan</td>\n",
       "      <td>0</td>\n",
       "      <td>0</td>\n",
       "      <td>0</td>\n",
       "      <td>0</td>\n",
       "    </tr>\n",
       "    <tr>\n",
       "      <th>5</th>\n",
       "      <td>Transalta Centralia Generation, Washington</td>\n",
       "      <td>53041</td>\n",
       "      <td>Washington</td>\n",
       "      <td>0</td>\n",
       "      <td>0</td>\n",
       "      <td>0</td>\n",
       "      <td>0</td>\n",
       "    </tr>\n",
       "    <tr>\n",
       "      <th>6</th>\n",
       "      <td>Indiantown Cogeneration LP, Florida</td>\n",
       "      <td>12085</td>\n",
       "      <td>Florida</td>\n",
       "      <td>0</td>\n",
       "      <td>0</td>\n",
       "      <td>0</td>\n",
       "      <td>0</td>\n",
       "    </tr>\n",
       "  </tbody>\n",
       "</table>\n",
       "</div>"
      ],
      "text/plain": [
       "                                         name  County_GEOID       State  \\\n",
       "0                             Cholla, Arizona          4017     Arizona   \n",
       "1                           Dallman, Illinois         17167    Illinois   \n",
       "3                    Eckert Station, Michigan         26065    Michigan   \n",
       "5  Transalta Centralia Generation, Washington         53041  Washington   \n",
       "6         Indiantown Cogeneration LP, Florida         12085     Florida   \n",
       "\n",
       "   latitude (deg)  longitude (deg)  initial capacity (tonne)  area cost factor  \n",
       "0               0                0                         0                 0  \n",
       "1               0                0                         0                 0  \n",
       "3               0                0                         0                 0  \n",
       "5               0                0                         0                 0  \n",
       "6               0                0                         0                 0  "
      ]
     },
     "execution_count": 211,
     "metadata": {},
     "output_type": "execute_result"
    }
   ],
   "source": [
    "ret_plants_40209_cl = ret_plants_40209_cl.reindex(columns=['name', 'County_GEOID', 'State', 'latitude (deg)', 'longitude (deg)','initial capacity (tonne)','area cost factor'], fill_value=0)\n",
    "ret_plants_40209_cl.head()"
   ]
  },
  {
   "cell_type": "markdown",
   "id": "55e61127-de14-4f4d-95a1-8e2eb0a53cba",
   "metadata": {},
   "source": [
    "Now let's correlate the GEOID's/FIPS with latitude and longitude. This is more tricky, I have done it the other way around (get FIPS from latitude and longitude values). The following data come from [this](https://github.com/josh-byster/fips_lat_long) repository, `counties.txt` contains GEOID's or FIPS codes and their corresponding latitude and longitude, which I can map with my dataframe. Original data provided by the [U.S. Census Gazetteer Files](https://www.census.gov/geographies/reference-files/time-series/geo/gazetteer-files.html). "
   ]
  },
  {
   "cell_type": "code",
   "execution_count": 212,
   "id": "9df60dc5-cf0a-4caa-8afb-434167b5f243",
   "metadata": {},
   "outputs": [],
   "source": [
    "counties = pd.read_csv(os.path.join(cwd, 'miscellaneous', 'counties.txt'), sep=\"\\t\")"
   ]
  },
  {
   "cell_type": "code",
   "execution_count": 213,
   "id": "2faccacc-9ee8-4849-913e-83464589a75b",
   "metadata": {},
   "outputs": [
    {
     "data": {
      "text/html": [
       "<div>\n",
       "<style scoped>\n",
       "    .dataframe tbody tr th:only-of-type {\n",
       "        vertical-align: middle;\n",
       "    }\n",
       "\n",
       "    .dataframe tbody tr th {\n",
       "        vertical-align: top;\n",
       "    }\n",
       "\n",
       "    .dataframe thead th {\n",
       "        text-align: right;\n",
       "    }\n",
       "</style>\n",
       "<table border=\"1\" class=\"dataframe\">\n",
       "  <thead>\n",
       "    <tr style=\"text-align: right;\">\n",
       "      <th></th>\n",
       "      <th>USPS</th>\n",
       "      <th>GEOID</th>\n",
       "      <th>ANSICODE</th>\n",
       "      <th>NAME</th>\n",
       "      <th>ALAND</th>\n",
       "      <th>AWATER</th>\n",
       "      <th>ALAND_SQMI</th>\n",
       "      <th>AWATER_SQMI</th>\n",
       "      <th>INTPTLAT</th>\n",
       "      <th>INTPTLONG</th>\n",
       "    </tr>\n",
       "  </thead>\n",
       "  <tbody>\n",
       "    <tr>\n",
       "      <th>0</th>\n",
       "      <td>AL</td>\n",
       "      <td>1001</td>\n",
       "      <td>161526</td>\n",
       "      <td>Autauga County</td>\n",
       "      <td>1539602137</td>\n",
       "      <td>25706961</td>\n",
       "      <td>594.444</td>\n",
       "      <td>9.926</td>\n",
       "      <td>32.532237</td>\n",
       "      <td>-86.646440</td>\n",
       "    </tr>\n",
       "    <tr>\n",
       "      <th>1</th>\n",
       "      <td>AL</td>\n",
       "      <td>1003</td>\n",
       "      <td>161527</td>\n",
       "      <td>Baldwin County</td>\n",
       "      <td>4117621645</td>\n",
       "      <td>1132980868</td>\n",
       "      <td>1589.823</td>\n",
       "      <td>437.446</td>\n",
       "      <td>30.659218</td>\n",
       "      <td>-87.746067</td>\n",
       "    </tr>\n",
       "    <tr>\n",
       "      <th>2</th>\n",
       "      <td>AL</td>\n",
       "      <td>1005</td>\n",
       "      <td>161528</td>\n",
       "      <td>Barbour County</td>\n",
       "      <td>2292160139</td>\n",
       "      <td>50523213</td>\n",
       "      <td>885.008</td>\n",
       "      <td>19.507</td>\n",
       "      <td>31.870253</td>\n",
       "      <td>-85.405104</td>\n",
       "    </tr>\n",
       "    <tr>\n",
       "      <th>3</th>\n",
       "      <td>AL</td>\n",
       "      <td>1007</td>\n",
       "      <td>161529</td>\n",
       "      <td>Bibb County</td>\n",
       "      <td>1612167476</td>\n",
       "      <td>9602089</td>\n",
       "      <td>622.461</td>\n",
       "      <td>3.707</td>\n",
       "      <td>33.015893</td>\n",
       "      <td>-87.127148</td>\n",
       "    </tr>\n",
       "    <tr>\n",
       "      <th>4</th>\n",
       "      <td>AL</td>\n",
       "      <td>1009</td>\n",
       "      <td>161530</td>\n",
       "      <td>Blount County</td>\n",
       "      <td>1670103866</td>\n",
       "      <td>15015467</td>\n",
       "      <td>644.831</td>\n",
       "      <td>5.798</td>\n",
       "      <td>33.977358</td>\n",
       "      <td>-86.566440</td>\n",
       "    </tr>\n",
       "  </tbody>\n",
       "</table>\n",
       "</div>"
      ],
      "text/plain": [
       "  USPS  GEOID  ANSICODE            NAME       ALAND      AWATER  ALAND_SQMI  \\\n",
       "0   AL   1001    161526  Autauga County  1539602137    25706961     594.444   \n",
       "1   AL   1003    161527  Baldwin County  4117621645  1132980868    1589.823   \n",
       "2   AL   1005    161528  Barbour County  2292160139    50523213     885.008   \n",
       "3   AL   1007    161529     Bibb County  1612167476     9602089     622.461   \n",
       "4   AL   1009    161530   Blount County  1670103866    15015467     644.831   \n",
       "\n",
       "   AWATER_SQMI   INTPTLAT  \\\n",
       "0        9.926  32.532237   \n",
       "1      437.446  30.659218   \n",
       "2       19.507  31.870253   \n",
       "3        3.707  33.015893   \n",
       "4        5.798  33.977358   \n",
       "\n",
       "   INTPTLONG                                                                                                                 \n",
       "0                                         -86.646440                                                                         \n",
       "1                                         -87.746067                                                                         \n",
       "2                                         -85.405104                                                                         \n",
       "3                                         -87.127148                                                                         \n",
       "4                                         -86.566440                                                                         "
      ]
     },
     "execution_count": 213,
     "metadata": {},
     "output_type": "execute_result"
    }
   ],
   "source": [
    "counties.head()"
   ]
  },
  {
   "cell_type": "code",
   "execution_count": 214,
   "id": "3885d127-4935-4cfa-9f64-ea7708845568",
   "metadata": {},
   "outputs": [
    {
     "data": {
      "text/plain": [
       "Index(['USPS', 'GEOID', 'ANSICODE', 'NAME', 'ALAND', 'AWATER', 'ALAND_SQMI',\n",
       "       'AWATER_SQMI', 'INTPTLAT',\n",
       "       'INTPTLONG                                                                                                               '],\n",
       "      dtype='object')"
      ]
     },
     "execution_count": 214,
     "metadata": {},
     "output_type": "execute_result"
    }
   ],
   "source": [
    "counties.keys()"
   ]
  },
  {
   "cell_type": "markdown",
   "id": "9c38b1aa-e519-4fd6-bc36-a9a11553324b",
   "metadata": {},
   "source": [
    "The column `INTPLONG` has a lot of white spaces so it does not recognize it as a key. I fix it:"
   ]
  },
  {
   "cell_type": "code",
   "execution_count": 215,
   "id": "e8b03c97-b05c-44d3-ac69-7f63ef68c16d",
   "metadata": {},
   "outputs": [],
   "source": [
    "counties.rename(columns = {'INTPTLONG                                                                                                               ':'INTPTLONG'}, inplace=True)"
   ]
  },
  {
   "cell_type": "code",
   "execution_count": 216,
   "id": "59a1ee47-ccf9-4230-9c0e-696fffbc7cf0",
   "metadata": {},
   "outputs": [
    {
     "data": {
      "text/plain": [
       "Index(['USPS', 'GEOID', 'ANSICODE', 'NAME', 'ALAND', 'AWATER', 'ALAND_SQMI',\n",
       "       'AWATER_SQMI', 'INTPTLAT', 'INTPTLONG'],\n",
       "      dtype='object')"
      ]
     },
     "execution_count": 216,
     "metadata": {},
     "output_type": "execute_result"
    }
   ],
   "source": [
    "counties.keys()"
   ]
  },
  {
   "cell_type": "code",
   "execution_count": 219,
   "id": "2a78a17e-f05f-4057-affe-d440364eee15",
   "metadata": {},
   "outputs": [],
   "source": [
    "ret_plants_40209_cl['latitude (deg)'] = ret_plants_40209_cl['County_GEOID'].map(counties.set_index('GEOID')['INTPTLAT'])\n",
    "ret_plants_40209_cl['longitude (deg)'] = ret_plants_40209_cl['County_GEOID'].map(counties.set_index('GEOID')['INTPTLONG'])"
   ]
  },
  {
   "cell_type": "code",
   "execution_count": 220,
   "id": "065e37f0-913a-4899-8d7b-54cb9df34600",
   "metadata": {},
   "outputs": [
    {
     "data": {
      "text/html": [
       "<div>\n",
       "<style scoped>\n",
       "    .dataframe tbody tr th:only-of-type {\n",
       "        vertical-align: middle;\n",
       "    }\n",
       "\n",
       "    .dataframe tbody tr th {\n",
       "        vertical-align: top;\n",
       "    }\n",
       "\n",
       "    .dataframe thead th {\n",
       "        text-align: right;\n",
       "    }\n",
       "</style>\n",
       "<table border=\"1\" class=\"dataframe\">\n",
       "  <thead>\n",
       "    <tr style=\"text-align: right;\">\n",
       "      <th></th>\n",
       "      <th>name</th>\n",
       "      <th>County_GEOID</th>\n",
       "      <th>State</th>\n",
       "      <th>latitude (deg)</th>\n",
       "      <th>longitude (deg)</th>\n",
       "      <th>initial capacity (tonne)</th>\n",
       "      <th>area cost factor</th>\n",
       "    </tr>\n",
       "  </thead>\n",
       "  <tbody>\n",
       "    <tr>\n",
       "      <th>0</th>\n",
       "      <td>Cholla, Arizona</td>\n",
       "      <td>4017</td>\n",
       "      <td>Arizona</td>\n",
       "      <td>35.390785</td>\n",
       "      <td>-110.321025</td>\n",
       "      <td>0</td>\n",
       "      <td>0</td>\n",
       "    </tr>\n",
       "    <tr>\n",
       "      <th>1</th>\n",
       "      <td>Dallman, Illinois</td>\n",
       "      <td>17167</td>\n",
       "      <td>Illinois</td>\n",
       "      <td>39.756867</td>\n",
       "      <td>-89.662425</td>\n",
       "      <td>0</td>\n",
       "      <td>0</td>\n",
       "    </tr>\n",
       "    <tr>\n",
       "      <th>3</th>\n",
       "      <td>Eckert Station, Michigan</td>\n",
       "      <td>26065</td>\n",
       "      <td>Michigan</td>\n",
       "      <td>42.603534</td>\n",
       "      <td>-84.373811</td>\n",
       "      <td>0</td>\n",
       "      <td>0</td>\n",
       "    </tr>\n",
       "    <tr>\n",
       "      <th>5</th>\n",
       "      <td>Transalta Centralia Generation, Washington</td>\n",
       "      <td>53041</td>\n",
       "      <td>Washington</td>\n",
       "      <td>46.580071</td>\n",
       "      <td>-122.377444</td>\n",
       "      <td>0</td>\n",
       "      <td>0</td>\n",
       "    </tr>\n",
       "    <tr>\n",
       "      <th>6</th>\n",
       "      <td>Indiantown Cogeneration LP, Florida</td>\n",
       "      <td>12085</td>\n",
       "      <td>Florida</td>\n",
       "      <td>27.083604</td>\n",
       "      <td>-80.398201</td>\n",
       "      <td>0</td>\n",
       "      <td>0</td>\n",
       "    </tr>\n",
       "    <tr>\n",
       "      <th>...</th>\n",
       "      <td>...</td>\n",
       "      <td>...</td>\n",
       "      <td>...</td>\n",
       "      <td>...</td>\n",
       "      <td>...</td>\n",
       "      <td>...</td>\n",
       "      <td>...</td>\n",
       "    </tr>\n",
       "    <tr>\n",
       "      <th>705</th>\n",
       "      <td>Dan River Power Plant, Virginia</td>\n",
       "      <td>51590</td>\n",
       "      <td>Virginia</td>\n",
       "      <td>36.583334</td>\n",
       "      <td>-79.408071</td>\n",
       "      <td>0</td>\n",
       "      <td>0</td>\n",
       "    </tr>\n",
       "    <tr>\n",
       "      <th>709</th>\n",
       "      <td>Hoot Lake, Minnesota</td>\n",
       "      <td>27111</td>\n",
       "      <td>Minnesota</td>\n",
       "      <td>46.405727</td>\n",
       "      <td>-95.714581</td>\n",
       "      <td>0</td>\n",
       "      <td>0</td>\n",
       "    </tr>\n",
       "    <tr>\n",
       "      <th>712</th>\n",
       "      <td>Lowland, Tennessee</td>\n",
       "      <td>47063</td>\n",
       "      <td>Tennessee</td>\n",
       "      <td>36.218397</td>\n",
       "      <td>-83.266071</td>\n",
       "      <td>0</td>\n",
       "      <td>0</td>\n",
       "    </tr>\n",
       "    <tr>\n",
       "      <th>717</th>\n",
       "      <td>Washington State University, Washington</td>\n",
       "      <td>53075</td>\n",
       "      <td>Washington</td>\n",
       "      <td>46.905944</td>\n",
       "      <td>-117.535390</td>\n",
       "      <td>0</td>\n",
       "      <td>0</td>\n",
       "    </tr>\n",
       "    <tr>\n",
       "      <th>719</th>\n",
       "      <td>Amalgamated Sugar LLC Nyssa, Oregon</td>\n",
       "      <td>41045</td>\n",
       "      <td>Oregon</td>\n",
       "      <td>43.188625</td>\n",
       "      <td>-117.603191</td>\n",
       "      <td>0</td>\n",
       "      <td>0</td>\n",
       "    </tr>\n",
       "  </tbody>\n",
       "</table>\n",
       "<p>268 rows × 7 columns</p>\n",
       "</div>"
      ],
      "text/plain": [
       "                                           name  County_GEOID       State  \\\n",
       "0                               Cholla, Arizona          4017     Arizona   \n",
       "1                             Dallman, Illinois         17167    Illinois   \n",
       "3                      Eckert Station, Michigan         26065    Michigan   \n",
       "5    Transalta Centralia Generation, Washington         53041  Washington   \n",
       "6           Indiantown Cogeneration LP, Florida         12085     Florida   \n",
       "..                                          ...           ...         ...   \n",
       "705             Dan River Power Plant, Virginia         51590    Virginia   \n",
       "709                        Hoot Lake, Minnesota         27111   Minnesota   \n",
       "712                          Lowland, Tennessee         47063   Tennessee   \n",
       "717     Washington State University, Washington         53075  Washington   \n",
       "719         Amalgamated Sugar LLC Nyssa, Oregon         41045      Oregon   \n",
       "\n",
       "     latitude (deg)  longitude (deg)  initial capacity (tonne)  \\\n",
       "0         35.390785      -110.321025                         0   \n",
       "1         39.756867       -89.662425                         0   \n",
       "3         42.603534       -84.373811                         0   \n",
       "5         46.580071      -122.377444                         0   \n",
       "6         27.083604       -80.398201                         0   \n",
       "..              ...              ...                       ...   \n",
       "705       36.583334       -79.408071                         0   \n",
       "709       46.405727       -95.714581                         0   \n",
       "712       36.218397       -83.266071                         0   \n",
       "717       46.905944      -117.535390                         0   \n",
       "719       43.188625      -117.603191                         0   \n",
       "\n",
       "     area cost factor  \n",
       "0                   0  \n",
       "1                   0  \n",
       "3                   0  \n",
       "5                   0  \n",
       "6                   0  \n",
       "..                ...  \n",
       "705                 0  \n",
       "709                 0  \n",
       "712                 0  \n",
       "717                 0  \n",
       "719                 0  \n",
       "\n",
       "[268 rows x 7 columns]"
      ]
     },
     "execution_count": 220,
     "metadata": {},
     "output_type": "execute_result"
    }
   ],
   "source": [
    "ret_plants_40209_cl"
   ]
  },
  {
   "cell_type": "markdown",
   "id": "2133ed49-2262-475a-be21-46c377d5ed5c",
   "metadata": {},
   "source": [
    "#### 3.5.3. Map area factors and save!"
   ]
  },
  {
   "cell_type": "code",
   "execution_count": 221,
   "id": "5f352973-bd8f-4ecb-8387-33728702c44c",
   "metadata": {
    "tags": []
   },
   "outputs": [],
   "source": [
    "cwd = os.getcwd()\n",
    "area_cost_factors = pd.read_csv(os.path.join(cwd, 'miscellaneous', 'dod_area_cost_factors.csv'))"
   ]
  },
  {
   "cell_type": "code",
   "execution_count": 222,
   "id": "38fc614d-01b4-481d-b0d8-40c64d305e1c",
   "metadata": {},
   "outputs": [],
   "source": [
    "ret_plants_40209_cl['area cost factor'] = ret_plants_40209_cl['State'].map(area_cost_factors.set_index('State')['ACF Official'])"
   ]
  },
  {
   "cell_type": "code",
   "execution_count": 223,
   "id": "b107303c-3eb0-4332-a0af-c6d57b0c1954",
   "metadata": {},
   "outputs": [
    {
     "data": {
      "text/html": [
       "<div>\n",
       "<style scoped>\n",
       "    .dataframe tbody tr th:only-of-type {\n",
       "        vertical-align: middle;\n",
       "    }\n",
       "\n",
       "    .dataframe tbody tr th {\n",
       "        vertical-align: top;\n",
       "    }\n",
       "\n",
       "    .dataframe thead th {\n",
       "        text-align: right;\n",
       "    }\n",
       "</style>\n",
       "<table border=\"1\" class=\"dataframe\">\n",
       "  <thead>\n",
       "    <tr style=\"text-align: right;\">\n",
       "      <th></th>\n",
       "      <th>name</th>\n",
       "      <th>County_GEOID</th>\n",
       "      <th>State</th>\n",
       "      <th>latitude (deg)</th>\n",
       "      <th>longitude (deg)</th>\n",
       "      <th>initial capacity (tonne)</th>\n",
       "      <th>area cost factor</th>\n",
       "    </tr>\n",
       "  </thead>\n",
       "  <tbody>\n",
       "    <tr>\n",
       "      <th>0</th>\n",
       "      <td>Cholla, Arizona</td>\n",
       "      <td>4017</td>\n",
       "      <td>Arizona</td>\n",
       "      <td>35.390785</td>\n",
       "      <td>-110.321025</td>\n",
       "      <td>0</td>\n",
       "      <td>0.85</td>\n",
       "    </tr>\n",
       "    <tr>\n",
       "      <th>1</th>\n",
       "      <td>Dallman, Illinois</td>\n",
       "      <td>17167</td>\n",
       "      <td>Illinois</td>\n",
       "      <td>39.756867</td>\n",
       "      <td>-89.662425</td>\n",
       "      <td>0</td>\n",
       "      <td>1.07</td>\n",
       "    </tr>\n",
       "    <tr>\n",
       "      <th>3</th>\n",
       "      <td>Eckert Station, Michigan</td>\n",
       "      <td>26065</td>\n",
       "      <td>Michigan</td>\n",
       "      <td>42.603534</td>\n",
       "      <td>-84.373811</td>\n",
       "      <td>0</td>\n",
       "      <td>0.99</td>\n",
       "    </tr>\n",
       "    <tr>\n",
       "      <th>5</th>\n",
       "      <td>Transalta Centralia Generation, Washington</td>\n",
       "      <td>53041</td>\n",
       "      <td>Washington</td>\n",
       "      <td>46.580071</td>\n",
       "      <td>-122.377444</td>\n",
       "      <td>0</td>\n",
       "      <td>1.11</td>\n",
       "    </tr>\n",
       "    <tr>\n",
       "      <th>6</th>\n",
       "      <td>Indiantown Cogeneration LP, Florida</td>\n",
       "      <td>12085</td>\n",
       "      <td>Florida</td>\n",
       "      <td>27.083604</td>\n",
       "      <td>-80.398201</td>\n",
       "      <td>0</td>\n",
       "      <td>0.86</td>\n",
       "    </tr>\n",
       "  </tbody>\n",
       "</table>\n",
       "</div>"
      ],
      "text/plain": [
       "                                         name  County_GEOID       State  \\\n",
       "0                             Cholla, Arizona          4017     Arizona   \n",
       "1                           Dallman, Illinois         17167    Illinois   \n",
       "3                    Eckert Station, Michigan         26065    Michigan   \n",
       "5  Transalta Centralia Generation, Washington         53041  Washington   \n",
       "6         Indiantown Cogeneration LP, Florida         12085     Florida   \n",
       "\n",
       "   latitude (deg)  longitude (deg)  initial capacity (tonne)  area cost factor  \n",
       "0       35.390785      -110.321025                         0              0.85  \n",
       "1       39.756867       -89.662425                         0              1.07  \n",
       "3       42.603534       -84.373811                         0              0.99  \n",
       "5       46.580071      -122.377444                         0              1.11  \n",
       "6       27.083604       -80.398201                         0              0.86  "
      ]
     },
     "execution_count": 223,
     "metadata": {},
     "output_type": "execute_result"
    }
   ],
   "source": [
    "ret_plants_40209_cl.head()"
   ]
  },
  {
   "cell_type": "markdown",
   "id": "cfc820b0-5808-45c2-891c-11969d223437",
   "metadata": {},
   "source": [
    "Now let's set it so it is relative to Ohio!"
   ]
  },
  {
   "cell_type": "code",
   "execution_count": 224,
   "id": "21642bf7-3849-4918-b1ea-5d9516604d31",
   "metadata": {},
   "outputs": [
    {
     "data": {
      "text/plain": [
       "0.94"
      ]
     },
     "execution_count": 224,
     "metadata": {},
     "output_type": "execute_result"
    }
   ],
   "source": [
    "area_cost_factors[area_cost_factors['State'] == 'Ohio']['ACF Official'][35] # this is the index where Ohio is found"
   ]
  },
  {
   "cell_type": "code",
   "execution_count": 225,
   "id": "40a64ad4-13a4-4fa7-ad7f-58104232257e",
   "metadata": {},
   "outputs": [],
   "source": [
    "ret_plants_40209_cl['area cost factor'] = ret_plants_40209_cl['area cost factor']/area_cost_factors[area_cost_factors['State'] == 'Ohio']['ACF Official'][35]\n"
   ]
  },
  {
   "cell_type": "code",
   "execution_count": 226,
   "id": "4760966e-607f-4362-acb2-3c956ed55d1d",
   "metadata": {},
   "outputs": [
    {
     "data": {
      "text/html": [
       "<div>\n",
       "<style scoped>\n",
       "    .dataframe tbody tr th:only-of-type {\n",
       "        vertical-align: middle;\n",
       "    }\n",
       "\n",
       "    .dataframe tbody tr th {\n",
       "        vertical-align: top;\n",
       "    }\n",
       "\n",
       "    .dataframe thead th {\n",
       "        text-align: right;\n",
       "    }\n",
       "</style>\n",
       "<table border=\"1\" class=\"dataframe\">\n",
       "  <thead>\n",
       "    <tr style=\"text-align: right;\">\n",
       "      <th></th>\n",
       "      <th>name</th>\n",
       "      <th>County_GEOID</th>\n",
       "      <th>State</th>\n",
       "      <th>latitude (deg)</th>\n",
       "      <th>longitude (deg)</th>\n",
       "      <th>initial capacity (tonne)</th>\n",
       "      <th>area cost factor</th>\n",
       "    </tr>\n",
       "  </thead>\n",
       "  <tbody>\n",
       "    <tr>\n",
       "      <th>0</th>\n",
       "      <td>Cholla, Arizona</td>\n",
       "      <td>4017</td>\n",
       "      <td>Arizona</td>\n",
       "      <td>35.390785</td>\n",
       "      <td>-110.321025</td>\n",
       "      <td>0</td>\n",
       "      <td>0.904255</td>\n",
       "    </tr>\n",
       "    <tr>\n",
       "      <th>1</th>\n",
       "      <td>Dallman, Illinois</td>\n",
       "      <td>17167</td>\n",
       "      <td>Illinois</td>\n",
       "      <td>39.756867</td>\n",
       "      <td>-89.662425</td>\n",
       "      <td>0</td>\n",
       "      <td>1.138298</td>\n",
       "    </tr>\n",
       "    <tr>\n",
       "      <th>3</th>\n",
       "      <td>Eckert Station, Michigan</td>\n",
       "      <td>26065</td>\n",
       "      <td>Michigan</td>\n",
       "      <td>42.603534</td>\n",
       "      <td>-84.373811</td>\n",
       "      <td>0</td>\n",
       "      <td>1.053191</td>\n",
       "    </tr>\n",
       "    <tr>\n",
       "      <th>5</th>\n",
       "      <td>Transalta Centralia Generation, Washington</td>\n",
       "      <td>53041</td>\n",
       "      <td>Washington</td>\n",
       "      <td>46.580071</td>\n",
       "      <td>-122.377444</td>\n",
       "      <td>0</td>\n",
       "      <td>1.180851</td>\n",
       "    </tr>\n",
       "    <tr>\n",
       "      <th>6</th>\n",
       "      <td>Indiantown Cogeneration LP, Florida</td>\n",
       "      <td>12085</td>\n",
       "      <td>Florida</td>\n",
       "      <td>27.083604</td>\n",
       "      <td>-80.398201</td>\n",
       "      <td>0</td>\n",
       "      <td>0.914894</td>\n",
       "    </tr>\n",
       "    <tr>\n",
       "      <th>...</th>\n",
       "      <td>...</td>\n",
       "      <td>...</td>\n",
       "      <td>...</td>\n",
       "      <td>...</td>\n",
       "      <td>...</td>\n",
       "      <td>...</td>\n",
       "      <td>...</td>\n",
       "    </tr>\n",
       "    <tr>\n",
       "      <th>705</th>\n",
       "      <td>Dan River Power Plant, Virginia</td>\n",
       "      <td>51590</td>\n",
       "      <td>Virginia</td>\n",
       "      <td>36.583334</td>\n",
       "      <td>-79.408071</td>\n",
       "      <td>0</td>\n",
       "      <td>0.872340</td>\n",
       "    </tr>\n",
       "    <tr>\n",
       "      <th>709</th>\n",
       "      <td>Hoot Lake, Minnesota</td>\n",
       "      <td>27111</td>\n",
       "      <td>Minnesota</td>\n",
       "      <td>46.405727</td>\n",
       "      <td>-95.714581</td>\n",
       "      <td>0</td>\n",
       "      <td>1.159574</td>\n",
       "    </tr>\n",
       "    <tr>\n",
       "      <th>712</th>\n",
       "      <td>Lowland, Tennessee</td>\n",
       "      <td>47063</td>\n",
       "      <td>Tennessee</td>\n",
       "      <td>36.218397</td>\n",
       "      <td>-83.266071</td>\n",
       "      <td>0</td>\n",
       "      <td>0.914894</td>\n",
       "    </tr>\n",
       "    <tr>\n",
       "      <th>717</th>\n",
       "      <td>Washington State University, Washington</td>\n",
       "      <td>53075</td>\n",
       "      <td>Washington</td>\n",
       "      <td>46.905944</td>\n",
       "      <td>-117.535390</td>\n",
       "      <td>0</td>\n",
       "      <td>1.180851</td>\n",
       "    </tr>\n",
       "    <tr>\n",
       "      <th>719</th>\n",
       "      <td>Amalgamated Sugar LLC Nyssa, Oregon</td>\n",
       "      <td>41045</td>\n",
       "      <td>Oregon</td>\n",
       "      <td>43.188625</td>\n",
       "      <td>-117.603191</td>\n",
       "      <td>0</td>\n",
       "      <td>1.234043</td>\n",
       "    </tr>\n",
       "  </tbody>\n",
       "</table>\n",
       "<p>268 rows × 7 columns</p>\n",
       "</div>"
      ],
      "text/plain": [
       "                                           name  County_GEOID       State  \\\n",
       "0                               Cholla, Arizona          4017     Arizona   \n",
       "1                             Dallman, Illinois         17167    Illinois   \n",
       "3                      Eckert Station, Michigan         26065    Michigan   \n",
       "5    Transalta Centralia Generation, Washington         53041  Washington   \n",
       "6           Indiantown Cogeneration LP, Florida         12085     Florida   \n",
       "..                                          ...           ...         ...   \n",
       "705             Dan River Power Plant, Virginia         51590    Virginia   \n",
       "709                        Hoot Lake, Minnesota         27111   Minnesota   \n",
       "712                          Lowland, Tennessee         47063   Tennessee   \n",
       "717     Washington State University, Washington         53075  Washington   \n",
       "719         Amalgamated Sugar LLC Nyssa, Oregon         41045      Oregon   \n",
       "\n",
       "     latitude (deg)  longitude (deg)  initial capacity (tonne)  \\\n",
       "0         35.390785      -110.321025                         0   \n",
       "1         39.756867       -89.662425                         0   \n",
       "3         42.603534       -84.373811                         0   \n",
       "5         46.580071      -122.377444                         0   \n",
       "6         27.083604       -80.398201                         0   \n",
       "..              ...              ...                       ...   \n",
       "705       36.583334       -79.408071                         0   \n",
       "709       46.405727       -95.714581                         0   \n",
       "712       36.218397       -83.266071                         0   \n",
       "717       46.905944      -117.535390                         0   \n",
       "719       43.188625      -117.603191                         0   \n",
       "\n",
       "     area cost factor  \n",
       "0            0.904255  \n",
       "1            1.138298  \n",
       "3            1.053191  \n",
       "5            1.180851  \n",
       "6            0.914894  \n",
       "..                ...  \n",
       "705          0.872340  \n",
       "709          1.159574  \n",
       "712          0.914894  \n",
       "717          1.180851  \n",
       "719          1.234043  \n",
       "\n",
       "[268 rows x 7 columns]"
      ]
     },
     "execution_count": 226,
     "metadata": {},
     "output_type": "execute_result"
    }
   ],
   "source": [
    "ret_plants_40209_cl"
   ]
  },
  {
   "cell_type": "markdown",
   "id": "44f0f82c-52a5-4552-979e-87b6d0704904",
   "metadata": {},
   "source": [
    "Let's drop the unnecessary columns, i.e. `County_GEOID` and `State`."
   ]
  },
  {
   "cell_type": "code",
   "execution_count": 228,
   "id": "e8dbc6a8-b3e9-406f-981f-17abee5e57fb",
   "metadata": {},
   "outputs": [],
   "source": [
    "ret_plants_40209_cl = ret_plants_40209_cl.drop(['County_GEOID', 'State'], axis=1)"
   ]
  },
  {
   "cell_type": "code",
   "execution_count": 230,
   "id": "e6810cbc-d22b-4a13-a57b-7a51e121eb45",
   "metadata": {},
   "outputs": [
    {
     "data": {
      "text/html": [
       "<div>\n",
       "<style scoped>\n",
       "    .dataframe tbody tr th:only-of-type {\n",
       "        vertical-align: middle;\n",
       "    }\n",
       "\n",
       "    .dataframe tbody tr th {\n",
       "        vertical-align: top;\n",
       "    }\n",
       "\n",
       "    .dataframe thead th {\n",
       "        text-align: right;\n",
       "    }\n",
       "</style>\n",
       "<table border=\"1\" class=\"dataframe\">\n",
       "  <thead>\n",
       "    <tr style=\"text-align: right;\">\n",
       "      <th></th>\n",
       "      <th>name</th>\n",
       "      <th>latitude (deg)</th>\n",
       "      <th>longitude (deg)</th>\n",
       "      <th>initial capacity (tonne)</th>\n",
       "      <th>area cost factor</th>\n",
       "    </tr>\n",
       "  </thead>\n",
       "  <tbody>\n",
       "    <tr>\n",
       "      <th>0</th>\n",
       "      <td>Cholla, Arizona</td>\n",
       "      <td>35.390785</td>\n",
       "      <td>-110.321025</td>\n",
       "      <td>0</td>\n",
       "      <td>0.904255</td>\n",
       "    </tr>\n",
       "    <tr>\n",
       "      <th>1</th>\n",
       "      <td>Dallman, Illinois</td>\n",
       "      <td>39.756867</td>\n",
       "      <td>-89.662425</td>\n",
       "      <td>0</td>\n",
       "      <td>1.138298</td>\n",
       "    </tr>\n",
       "    <tr>\n",
       "      <th>3</th>\n",
       "      <td>Eckert Station, Michigan</td>\n",
       "      <td>42.603534</td>\n",
       "      <td>-84.373811</td>\n",
       "      <td>0</td>\n",
       "      <td>1.053191</td>\n",
       "    </tr>\n",
       "    <tr>\n",
       "      <th>5</th>\n",
       "      <td>Transalta Centralia Generation, Washington</td>\n",
       "      <td>46.580071</td>\n",
       "      <td>-122.377444</td>\n",
       "      <td>0</td>\n",
       "      <td>1.180851</td>\n",
       "    </tr>\n",
       "    <tr>\n",
       "      <th>6</th>\n",
       "      <td>Indiantown Cogeneration LP, Florida</td>\n",
       "      <td>27.083604</td>\n",
       "      <td>-80.398201</td>\n",
       "      <td>0</td>\n",
       "      <td>0.914894</td>\n",
       "    </tr>\n",
       "  </tbody>\n",
       "</table>\n",
       "</div>"
      ],
      "text/plain": [
       "                                         name  latitude (deg)  \\\n",
       "0                             Cholla, Arizona       35.390785   \n",
       "1                           Dallman, Illinois       39.756867   \n",
       "3                    Eckert Station, Michigan       42.603534   \n",
       "5  Transalta Centralia Generation, Washington       46.580071   \n",
       "6         Indiantown Cogeneration LP, Florida       27.083604   \n",
       "\n",
       "   longitude (deg)  initial capacity (tonne)  area cost factor  \n",
       "0      -110.321025                         0          0.904255  \n",
       "1       -89.662425                         0          1.138298  \n",
       "3       -84.373811                         0          1.053191  \n",
       "5      -122.377444                         0          1.180851  \n",
       "6       -80.398201                         0          0.914894  "
      ]
     },
     "execution_count": 230,
     "metadata": {},
     "output_type": "execute_result"
    }
   ],
   "source": [
    "ret_plants_40209_cl.head()"
   ]
  },
  {
   "cell_type": "markdown",
   "id": "d9b1e865-3a32-4483-b160-fb9258ab013e",
   "metadata": {},
   "source": [
    "Save and done!"
   ]
  },
  {
   "cell_type": "code",
   "execution_count": 231,
   "id": "b4e54e20-a80d-45ef-abdd-f75e9e315341",
   "metadata": {},
   "outputs": [],
   "source": [
    "ret_plants_40209_cl.to_csv(os.path.join(cwd, 'RELOG_import_data', 'CandidateLocations', 'cl_40209_retired_plants.csv'), index=False)\n"
   ]
  },
  {
   "cell_type": "code",
   "execution_count": null,
   "id": "8be8577f-9281-45b5-98eb-c566592473ee",
   "metadata": {},
   "outputs": [],
   "source": []
  },
  {
   "cell_type": "code",
   "execution_count": null,
   "id": "f45f39af-95f2-4097-80fa-454d41a95bea",
   "metadata": {},
   "outputs": [],
   "source": []
  },
  {
   "cell_type": "code",
   "execution_count": null,
   "id": "7cb082d8-3cdd-4f58-a9e8-92778bc6a0ff",
   "metadata": {},
   "outputs": [],
   "source": []
  },
  {
   "cell_type": "markdown",
   "id": "1b9e4ab2-ba26-456e-8bad-65bb8a03895d",
   "metadata": {},
   "source": [
    "## 4. Go to RELOG case-builder"
   ]
  },
  {
   "cell_type": "markdown",
   "id": "43a50ac1-9d4b-4f29-954c-0a682a13b130",
   "metadata": {},
   "source": [
    "Now you know how to generate the two files needed as inputs for RELOG. Go to RELOG web-based [case builder](https://relog.axavier.org/casebuilder) to setup the .json simulation file. For this baseline scenario I have used the files [pv_Modules_ia.csv](2_data_preparation/RELOG_import_data/Method1/pv_Modules_ia.csv) as **collection center inputs** and [CandidateLocations_CA](2_data_preparation/RELOG_import_data/CandidateLocations/_CA.csv) and **candidate locations**.\n",
    "\n",
    "Remember that to be able to run a proper simulation you need to make sure that:\n",
    "* The PV_ICE output files have the same studied years than the one set in the case-builder. In this example we have 28 years.\n",
    "* You know the recycling plant's efficiencies (i.e. how much material is recovered per tonne processed).\n",
    "* You have the capacity and cost data of your plant.\n",
    "\n"
   ]
  },
  {
   "cell_type": "markdown",
   "id": "5cedb0dc-3bd3-4b01-b6d2-de34a53ad3d0",
   "metadata": {
    "toc-hr-collapsed": true
   },
   "source": [
    "---\n",
    "## 5. Sankey Diagram"
   ]
  },
  {
   "cell_type": "markdown",
   "id": "c38b154b-61ba-43fe-b1d6-811bb5648aea",
   "metadata": {},
   "source": [
    "For the Sankey Diagram, I need:\n",
    "1) Get the waste (cSi + CdTe).\n",
    "    * Get the cSi waste and CdTe waste.\n",
    "    * Get the amount of each material in cSi and CdTe.\n",
    "2) Add all those materials into material bins.\n",
    "3) Pass them by an intermediate bin with the recycling process an d  their recycling yield.\n",
    "4) Add all those materials and check how much of each could contribute to revenue based on their value.\n",
    "\n",
    "**Note:** To visualize the Sankey diagram in Jupyter, you may need to add the plotly extension, you can install it by running this line in the terminal: `jupyter labextension install plotlywidget`. [Source]()."
   ]
  },
  {
   "cell_type": "markdown",
   "id": "391eea01-8e53-4633-8c1c-93260a1b6bc5",
   "metadata": {},
   "source": [
    "### 5.0. Load the waste files if you haven't run the previous cells"
   ]
  },
  {
   "cell_type": "code",
   "execution_count": null,
   "id": "9076a733-e608-4a11-bc9b-0ce6d8140eea",
   "metadata": {},
   "outputs": [],
   "source": [
    "# Uncomment if you need this option\n",
    "\n",
    "csi_Module = pd.read_csv('csi_VirginStock_Module.csv')\n",
    "csi_aluminium_frames = pd.read_csv('csi_VirginStock_aluminium_frames.csv')\n",
    "csi_backsheet = pd.read_csv('csi_VirginStock_backsheet.csv')\n",
    "csi_copper = pd.read_csv('csi_VirginStock_copper.csv')\n",
    "csi_encapsulant = pd.read_csv('csi_VirginStock_encapsulant.csv')\n",
    "csi_glass = pd.read_csv('csi_VirginStock_glass.csv')\n",
    "csi_silicon = pd.read_csv('csi_VirginStock_silicon.csv')\n",
    "csi_silver = pd.read_csv('csi_VirginStock_silver.csv')\n",
    "\n",
    "\n",
    "\n",
    "cdte_Module = pd.read_csv('cdte_VirginStock_Module.csv')\n",
    "cdte_aluminium_frames_cdte = pd.read_csv('cdte_VirginStock_aluminium_frames_cdte.csv')\n",
    "cdte_cadmium = pd.read_csv('cdte_VirginStock_cadmium.csv')\n",
    "cdte_copper_cdte = pd.read_csv('cdte_VirginStock_copper_cdte.csv')\n",
    "cdte_encapsulant_cdte = pd.read_csv('cdte_VirginStock_encapsulant_cdte.csv')\n",
    "cdte_glass_cdte = pd.read_csv('cdte_VirginStock_glass_cdte.csv')\n",
    "cdte_tellurium = pd.read_csv('cdte_VirginStock_tellurium.csv')"
   ]
  },
  {
   "cell_type": "markdown",
   "id": "f190fd9e-dacd-422b-b07c-41d0ea6792a3",
   "metadata": {},
   "source": [
    "### 5.1. Get all waste"
   ]
  },
  {
   "cell_type": "code",
   "execution_count": null,
   "id": "991c3d11-429b-4550-8a89-47abc36e874d",
   "metadata": {},
   "outputs": [],
   "source": [
    "csi_waste = csi_Module['total waste'].sum()\n",
    "cdte_waste = cdte_Module['total waste'].sum()\n",
    "all_waste = csi_waste + cdte_waste\n",
    "print(f'There are {all_waste:.2f} tonnes of PV waste (that\\'s {all_waste/1000000:.2f} million metric tonnes).')\n",
    "print(f'There are {csi_waste:.2f} tonnes of cSi, and {cdte_waste:.2f} tonnes of CdTe.')\n",
    "perc_csi = csi_waste/all_waste\n",
    "perc_cdte = cdte_waste/all_waste\n",
    "print(f'Of all the waste, {perc_csi*100:.2f}% is cSi, and {perc_cdte*100:.2f}% is CdTe.')"
   ]
  },
  {
   "cell_type": "code",
   "execution_count": null,
   "id": "a84b1439-2a17-4c98-b2b1-4b0c753bc479",
   "metadata": {},
   "outputs": [],
   "source": [
    "# Option for one year, just change the year to the one you need\n",
    "\n",
    "csi_waste_2050 = csi_Module['2050'].sum()\n",
    "cdte_waste_2050 = cdte_Module['2050'].sum()\n",
    "all_waste_2050 = csi_waste_2050 + cdte_waste_2050\n",
    "print(f'There are {all_waste_2050:.2f} tonnes of PV waste (that\\'s {all_waste_2050/1000000:.2f} million metric tonnes).')\n",
    "print(f'There are {csi_waste_2050:.2f} tonnes of cSi, and {cdte_waste_2050:.2f} tonnes of CdTe.')\n",
    "perc_csi_2050 = csi_waste_2050/all_waste_2050\n",
    "perc_cdte_2050 = cdte_waste_2050/all_waste_2050\n",
    "print(f'Of all the waste, {perc_csi_2050*100:.2f}% is cSi, and {perc_cdte_2050*100:.2f}% is CdTe.')"
   ]
  },
  {
   "cell_type": "markdown",
   "id": "b9455cc4-f754-4291-baef-977f8a2c68e6",
   "metadata": {},
   "source": [
    "### 5.2. Waste material bins"
   ]
  },
  {
   "cell_type": "markdown",
   "id": "9b82a6b8-8001-41c7-82a8-fe659da2516a",
   "metadata": {},
   "source": [
    "#### 5.2.1. cSi"
   ]
  },
  {
   "cell_type": "code",
   "execution_count": null,
   "id": "ad6f2926-da22-4b5e-a381-2b5cb9c81646",
   "metadata": {},
   "outputs": [],
   "source": [
    "csi_waste = {'Modules' : csi_Module['total waste'].sum(),\n",
    "            'Glass' : csi_glass['total waste'].sum(),\n",
    "            'Silicon' : csi_silicon['total waste'].sum(),\n",
    "            'Silver': csi_silver['total waste'].sum(),\n",
    "            'Copper' : csi_copper['total waste'].sum(),\n",
    "            'Aluminium frames': csi_aluminium_frames['total waste'].sum(),\n",
    "            'Encapsulant': csi_encapsulant['total waste'].sum(),\n",
    "            'Backsheet': csi_backsheet['total waste'].sum(),}"
   ]
  },
  {
   "cell_type": "code",
   "execution_count": null,
   "id": "0308524c-1565-442e-8417-81d0d26d61f0",
   "metadata": {},
   "outputs": [],
   "source": [
    "\n",
    "csi_waste_2050 = {'Modules' : csi_Module['2050'].sum(),\n",
    "            'Glass' : csi_glass['2050'].sum(),\n",
    "            'Silicon' : csi_silicon['2050'].sum(),\n",
    "            'Silver': csi_silver['2050'].sum(),\n",
    "            'Copper' : csi_copper['2050'].sum(),\n",
    "            'Aluminium frames': csi_aluminium_frames['2050'].sum(),\n",
    "            'Encapsulant': csi_encapsulant['2050'].sum(),\n",
    "            'Backsheet': csi_backsheet['2050'].sum(),}"
   ]
  },
  {
   "cell_type": "markdown",
   "id": "8539127c-4d07-4d18-955e-e0f95c41608a",
   "metadata": {},
   "source": [
    "#### 5.2.2. CdTe"
   ]
  },
  {
   "cell_type": "code",
   "execution_count": null,
   "id": "118a236c-4ae6-456c-a2be-7b42dc23007c",
   "metadata": {},
   "outputs": [],
   "source": [
    "cdte_waste = {'Modules' : cdte_Module['total waste'].sum(),\n",
    "            'Glass' : cdte_glass_cdte['total waste'].sum(),\n",
    "            'Cadmium': cdte_cadmium['total waste'].sum(),\n",
    "            'Tellurium': cdte_tellurium['total waste'].sum(),\n",
    "            'Copper' : cdte_copper_cdte['total waste'].sum(), # No data about the copper recovery, so I assume the same as FRELP\n",
    "            'Aluminium frames': cdte_aluminium_frames_cdte['total waste'].sum(),\n",
    "            'Encapsulant': cdte_encapsulant_cdte['total waste'].sum(),} # Here there is no info so I assume the same as the glass"
   ]
  },
  {
   "cell_type": "code",
   "execution_count": null,
   "id": "21045105-a096-413f-a021-bc4626d525df",
   "metadata": {},
   "outputs": [],
   "source": [
    "# Option for one year, just change the year to the one you need\n",
    "\n",
    "cdte_waste_2050 = {'Modules' : cdte_Module['2050'].sum(),\n",
    "            'Glass' : cdte_glass_cdte['2050'].sum(),\n",
    "            'Cadmium': cdte_cadmium['2050'].sum(),\n",
    "            'Tellurium': cdte_tellurium['2050'].sum(),\n",
    "            'Copper' : cdte_copper_cdte['2050'].sum(), # No data about the copper recovery, so I assume the same as FRELP\n",
    "            'Aluminium frames': cdte_aluminium_frames_cdte['2050'].sum(),\n",
    "            'Encapsulant': cdte_encapsulant_cdte['2050'].sum(),} # Here there is no info so I assume the same as the glass\n"
   ]
  },
  {
   "cell_type": "markdown",
   "id": "a560461f-f7d7-46b2-8886-083efc290821",
   "metadata": {},
   "source": [
    "### 5.3. Manufacturing bins <a id='#Section4.3'></a>"
   ]
  },
  {
   "cell_type": "markdown",
   "id": "755cbaeb-b26d-4039-8edf-ae42b64324e2",
   "metadata": {},
   "source": [
    "#### 5.3.1. cSi"
   ]
  },
  {
   "cell_type": "code",
   "execution_count": null,
   "id": "120df3fe-ce6b-4618-92e9-16859e97acd2",
   "metadata": {},
   "outputs": [],
   "source": [
    "#FRELP efficiencies unless indicated\n",
    "\n",
    "csi_recycled = {'Modules' : csi_Module['total waste'].sum(),\n",
    "            'Glass' : csi_glass['total waste'].sum()*0.98, \n",
    "            'Silicon' : csi_silicon['total waste'].sum()*0.95,\n",
    "            'Silver': csi_silver['total waste'].sum()*0.95,\n",
    "            'Copper' : csi_copper['total waste'].sum()*0.95,\n",
    "            'Aluminium frames': csi_aluminium_frames['total waste'].sum(), # Assume 100% from the frames\n",
    "            'Encapsulant': csi_encapsulant['total waste'].sum(), # Here the encapsulant is incinerated so, 100% goes out\n",
    "            'Backsheet': csi_backsheet['total waste'].sum(),# Same as encapsulant\n",
    "            'Landfill': csi_glass['total waste'].sum()*(1-0.98) + \n",
    "                csi_silicon['total waste'].sum()*(1-0.95) + \n",
    "                csi_silver['total waste'].sum()*(1-0.95) + \n",
    "                csi_copper['total waste'].sum()*(1-0.95),\n",
    "            'Energy': csi_encapsulant['total waste'].sum()+csi_backsheet['total waste'].sum()} # Amount of waste that is burned and returned as energy "
   ]
  },
  {
   "cell_type": "code",
   "execution_count": null,
   "id": "d98bef82-0ac0-4180-abb5-351333efcf18",
   "metadata": {},
   "outputs": [],
   "source": [
    "# Option for one year, just change the year to the one you need\n",
    "\n",
    "csi_recycled_2050 = {'Modules' : csi_Module['2050'].sum(),\n",
    "            'Glass' : csi_glass['2050'].sum()*0.98, \n",
    "            'Silicon' : csi_silicon['2050'].sum()*0.95,\n",
    "            'Silver': csi_silver['2050'].sum()*0.95,\n",
    "            'Copper' : csi_copper['2050'].sum()*0.95,\n",
    "            'Aluminium frames': csi_aluminium_frames['2050'].sum(), # Assume 100% from the frames\n",
    "            'Encapsulant': csi_encapsulant['2050'].sum(), # Here the encapsulant is incinerated so, 100% goes out\n",
    "            'Backsheet': csi_backsheet['2050'].sum(),# Same as encapsulant\n",
    "            'Landfill': csi_glass['2050'].sum()*(1-0.98) + \n",
    "                csi_silicon['2050'].sum()*(1-0.95) + \n",
    "                csi_silver['2050'].sum()*(1-0.95) + \n",
    "                csi_copper['2050'].sum()*(1-0.95),\n",
    "            'Energy': csi_encapsulant['2050'].sum()+csi_backsheet['2050'].sum()} "
   ]
  },
  {
   "cell_type": "markdown",
   "id": "93a4327d-31ad-4161-99c4-594d99f578d0",
   "metadata": {},
   "source": [
    "#### 5.3.2. CdTe"
   ]
  },
  {
   "cell_type": "code",
   "execution_count": null,
   "id": "abec07e4-e62e-4de6-8ee6-8c42dd171ed2",
   "metadata": {},
   "outputs": [],
   "source": [
    "# First Solar efficiencies unless indicated\n",
    "\n",
    "cdte_recycled = {'Modules' : cdte_Module['total waste'].sum(),\n",
    "            'Glass' : cdte_glass_cdte['total waste'].sum()*0.9,\n",
    "            'Cadmium': cdte_cadmium['total waste'].sum()*0.95,\n",
    "            'Tellurium': cdte_tellurium['total waste'].sum()*0.95,\n",
    "            'Copper' : cdte_copper_cdte['total waste'].sum()*0.95, # No data about the copper recovery, so I assume the same as FRELP\n",
    "            'Aluminium frames': cdte_aluminium_frames_cdte['total waste'].sum(),\n",
    "            'Encapsulant': cdte_encapsulant_cdte['total waste'].sum()*0.9,# Here there is no info so I assume the same as the glass\n",
    "            'Landfill':cdte_glass_cdte['total waste'].sum()*(1-0.9) +\n",
    "                cdte_cadmium['total waste'].sum()*(1-0.95) +\n",
    "                cdte_tellurium['total waste'].sum()*(1-0.95) +\n",
    "                cdte_copper_cdte['total waste'].sum()*(1-0.95) +\n",
    "                cdte_encapsulant_cdte['total waste'].sum()*(1-0.9),\n",
    "            } "
   ]
  },
  {
   "cell_type": "code",
   "execution_count": null,
   "id": "936ba03b-5a78-4cb6-ab5a-ad54464ed90f",
   "metadata": {},
   "outputs": [],
   "source": [
    "# Option for one year, just change the year to the one you need\n",
    "\n",
    "cdte_recycled_2050 = {'Modules' : cdte_Module['2050'].sum(),\n",
    "            'Glass' : cdte_glass_cdte['2050'].sum()*0.9,\n",
    "            'Cadmium': cdte_cadmium['2050'].sum()*0.95,\n",
    "            'Tellurium': cdte_tellurium['2050'].sum()*0.95,\n",
    "            'Copper' : cdte_copper_cdte['2050'].sum()*0.95, # No data about the copper recovery, so I assume the same as FRELP\n",
    "            'Aluminium frames': cdte_aluminium_frames_cdte['2050'].sum(),\n",
    "            'Encapsulant': cdte_encapsulant_cdte['2050'].sum()*0.9,# Here there is no info so I assume the same as the glass\n",
    "            'Landfill':cdte_glass_cdte['2050'].sum()*(1-0.9) +\n",
    "                cdte_cadmium['2050'].sum()*(1-0.95) +\n",
    "                cdte_tellurium['2050'].sum()*(1-0.95) +\n",
    "                cdte_copper_cdte['2050'].sum()*(1-0.95) +\n",
    "                cdte_encapsulant_cdte['2050'].sum()*(1-0.9),\n",
    "            } "
   ]
  },
  {
   "cell_type": "code",
   "execution_count": null,
   "id": "db45e463-4b34-4bd5-872d-325a80251125",
   "metadata": {},
   "outputs": [],
   "source": []
  },
  {
   "cell_type": "code",
   "execution_count": null,
   "id": "1b8a04ca-289d-4594-99e5-37302830e084",
   "metadata": {},
   "outputs": [],
   "source": []
  },
  {
   "cell_type": "markdown",
   "id": "835184a7-dd6b-4810-b9f8-7d38652d42d2",
   "metadata": {},
   "source": [
    "### 4.4. Generate figures"
   ]
  },
  {
   "cell_type": "code",
   "execution_count": null,
   "id": "1fde3867-7b14-4f56-908d-b3b55533e17b",
   "metadata": {},
   "outputs": [],
   "source": [
    "import plotly.graph_objects as go"
   ]
  },
  {
   "cell_type": "code",
   "execution_count": null,
   "id": "e722d168-0f94-4f87-9214-19b4b574d471",
   "metadata": {},
   "outputs": [],
   "source": [
    "if not os.path.exists(\"images\"):\n",
    "    os.mkdir(\"images\")"
   ]
  },
  {
   "cell_type": "code",
   "execution_count": null,
   "id": "22504f67-fc60-4ceb-a653-8891c771f090",
   "metadata": {},
   "outputs": [],
   "source": [
    "my_colors = {'pvwaste':'rgba(255, 243, 217, 1)',\n",
    "             'csi_blue': 'rgba(199, 219, 244,1)',\n",
    "             'cdte_tiel': 'rgba(215, 250, 245, 1)',\n",
    "             'product_green': 'rgba(217, 240, 217, 1)',\n",
    "             'energy_yellow': 'rgba(252, 252, 202, 1)',\n",
    "             'waste_red': 'rgba(247, 145, 116,1)',\n",
    "             'worth_green': 'rgba(192, 232, 131,1)'}"
   ]
  },
  {
   "cell_type": "code",
   "execution_count": null,
   "id": "3db7a1eb-f7ca-4fc7-b5d3-88665b3c42c7",
   "metadata": {},
   "outputs": [],
   "source": [
    "material_list_csi = ['glass', 'silicon', 'silver', 'copper', 'aluminium_frames', 'encapsulant', 'backsheet', 'Module']\n",
    "material_list_cdte = ['cadmium', 'telluride', 'glass_cdte', 'aluminium_frames_cdte', 'Module', 'copper_cdte', 'encapsulant_cdte']"
   ]
  },
  {
   "cell_type": "markdown",
   "id": "6ab554b7-f262-452e-9112-3215ba027571",
   "metadata": {},
   "source": [
    "#### 5.4.1. Sankey Option 1 - Labeled"
   ]
  },
  {
   "cell_type": "code",
   "execution_count": null,
   "id": "b5c4d65d-5605-4f4c-9a5c-bbb6fea260d8",
   "metadata": {
    "tags": []
   },
   "outputs": [],
   "source": [
    "fig = go.Figure(data=[go.Sankey(\n",
    "    arrangement = \"snap\",\n",
    "    node = dict(\n",
    "      pad = 10,\n",
    "      thickness = 20,\n",
    "      line = dict(color = 'black', width = 0.5),\n",
    "      label = ['PV Waste', 'cSi', 'CdTe', \n",
    "               'Glass', 'Silicon', 'Silver', 'Copper', 'Aluminum frames', 'Encapsulant', 'Backsheet', \n",
    "               'Glass', 'Cadmium', 'Tellurium', 'Copper', 'Aluminum frames', 'Encapsulant', \n",
    "               'cSi Manufacturing', 'CdTe Manufacturing', \n",
    "               'Glass scrap', 'Manufacturing grade silicon', 'Copper scrap', 'Silver scrap', 'Cadmium scrap', 'Tellurium scrap', 'Aluminum scrap', 'Landfill', 'Energy'],\n",
    "      color = [my_colors['pvwaste'], my_colors['csi_blue'], my_colors['cdte_tiel'], \n",
    "               my_colors['csi_blue'], my_colors['csi_blue'], my_colors['csi_blue'], my_colors['csi_blue'], my_colors['csi_blue'], my_colors['csi_blue'], my_colors['csi_blue'], \n",
    "               my_colors['cdte_tiel'],my_colors['cdte_tiel'],my_colors['cdte_tiel'],my_colors['cdte_tiel'],my_colors['cdte_tiel'],my_colors['cdte_tiel'], \n",
    "               my_colors['csi_blue'], my_colors['cdte_tiel'], \n",
    "               my_colors['product_green'], my_colors['product_green'], my_colors['product_green'], my_colors['product_green'], my_colors['product_green'], my_colors['product_green'], my_colors['product_green'], my_colors['waste_red'], my_colors['worth_green']]\n",
    "),\n",
    "    link = dict(\n",
    "      source = [0, 0, \n",
    "                1, 1, 1, 1, 1, 1, 1, \n",
    "                2, 2, 2, 2, 2, 2, \n",
    "                3, 4, 5, 6, 7, 8, 9,\n",
    "                10, 11, 12, 13, 14, 15,\n",
    "                16,16,16,16,16,16,16,\n",
    "                17,17,17,17,17,17, ], # indices correspond to labels, eg A1, A2, A1, B1, ...\n",
    "      target = [1, 2, \n",
    "                3, 4, 5, 6, 7, 8, 9, \n",
    "                10, 11, 12, 13, 14, 15,\n",
    "                16, 16, 16, 16, 16, 16, 16,\n",
    "                17, 17, 17, 17, 17, 17,\n",
    "                18, 19, 20, 21, 24, 25, 26,\n",
    "                18, 20, 22, 23, 24, 25],\n",
    "      value = [csi_waste['Modules'], cdte_waste['Modules'], \n",
    "               csi_waste['Glass'], csi_waste['Silicon'], csi_waste['Silver'], csi_waste['Copper'], csi_waste['Aluminium frames'], csi_waste['Encapsulant'], csi_waste['Backsheet'], \n",
    "               cdte_waste['Glass'], cdte_waste['Cadmium'], cdte_waste['Tellurium'], cdte_waste['Copper'], cdte_waste['Aluminium frames'], cdte_waste['Encapsulant'],\n",
    "               csi_waste['Glass'], csi_waste['Silicon'], csi_waste['Silver'], csi_waste['Copper'], csi_waste['Aluminium frames'], csi_waste['Encapsulant'], csi_waste['Backsheet'], \n",
    "               cdte_waste['Glass'], cdte_waste['Cadmium'], cdte_waste['Tellurium'], cdte_waste['Copper'], cdte_waste['Aluminium frames'], cdte_waste['Encapsulant'],\n",
    "               csi_recycled['Glass'], csi_recycled['Silicon'], csi_recycled['Copper'], csi_recycled['Silver'], csi_recycled['Aluminium frames'], csi_recycled['Landfill'],csi_recycled['Energy'],\n",
    "               cdte_recycled['Glass'], cdte_recycled['Copper'], cdte_recycled['Cadmium'], cdte_recycled['Tellurium'], cdte_recycled['Aluminium frames'], cdte_recycled['Landfill']],\n",
    "      color = 'rgba(240, 240, 245, 0.65)'\n",
    "  ))])\n",
    "\n",
    "fig.update_layout(font_family=\"Times New Roman\", font_size=10)\n",
    "fig.write_image(\"images/sankey/sankey_labeled.svg\")"
   ]
  },
  {
   "cell_type": "markdown",
   "id": "ca7d7e53-b49c-4168-908f-0927b1adf7b0",
   "metadata": {},
   "source": [
    "#### 5.4.2. Sankey Option 2 - Labeled simplified"
   ]
  },
  {
   "cell_type": "code",
   "execution_count": null,
   "id": "d7bb1675-653a-4628-8091-62ad22201c5e",
   "metadata": {},
   "outputs": [],
   "source": [
    "fig = go.Figure(data=[go.Sankey(\n",
    "    arrangement = \"snap\",\n",
    "    node = dict(\n",
    "      pad = 10,\n",
    "      thickness = 20,\n",
    "      line = dict(color = 'black', width = 0.5),\n",
    "      label = ['PV Waste', 'cSi Manufacturing', 'CdTe Manufacturing', \n",
    "               'Glass scrap', 'Manufacturing grade silicon', 'Copper scrap', 'Silver scrap', 'Cadmium scrap', 'Tellurium scrap', 'Aluminum scrap', 'Landfill', 'Energy'],\n",
    "      color = [my_colors['pvwaste'], my_colors['csi_blue'], my_colors['cdte_tiel'], \n",
    "               my_colors['product_green'], my_colors['product_green'], my_colors['product_green'], my_colors['product_green'], my_colors['product_green'], my_colors['product_green'], my_colors['product_green'], my_colors['waste_red'], my_colors['worth_green']]\n",
    "),\n",
    "    link = dict(\n",
    "      source = [0, 0, \n",
    "                1,1,1,1,1,1,1,\n",
    "                2,2,2,2,2,2, ], # indices correspond to labels, eg A1, A2, A1, B1, ...\n",
    "      target = [1, 2,\n",
    "                3, 4, 5, 6, 9, 10, 11,\n",
    "                3, 5, 7, 8, 9, 10],\n",
    "      value = [csi_waste['Modules'], cdte_waste['Modules'], \n",
    "               csi_recycled['Glass'], csi_recycled['Silicon'], csi_recycled['Copper'], csi_recycled['Silver'], csi_recycled['Aluminium frames'], csi_recycled['Landfill'],csi_recycled['Energy'],\n",
    "               cdte_recycled['Glass'], cdte_recycled['Copper'], cdte_recycled['Cadmium'], cdte_recycled['Tellurium'], cdte_recycled['Aluminium frames'], cdte_recycled['Landfill']],\n",
    "      color = 'rgba(240, 240, 245, 0.65)'\n",
    "  ))])\n",
    "\n",
    "fig.update_layout(font_family=\"Times New Roman\", font_size=10)\n",
    "fig.write_image(\"images/sankey/sankey_labeled_simplified.svg\")"
   ]
  },
  {
   "cell_type": "markdown",
   "id": "00aea21e-ccc4-4802-aca7-77f78ab467bf",
   "metadata": {},
   "source": [
    "#### 5.4.3. Sankey Option 3 - Muted"
   ]
  },
  {
   "cell_type": "code",
   "execution_count": null,
   "id": "1fb0ca3b-13db-4a23-b4d6-8a892c7ee9e3",
   "metadata": {},
   "outputs": [],
   "source": [
    "fig = go.Figure(data=[go.Sankey(\n",
    "    arrangement = \"snap\",\n",
    "    node = dict(\n",
    "      pad = 10,\n",
    "      thickness = 20,\n",
    "      line = dict(color = 'black', width = 0.5),\n",
    "      label = ['', '', '', \n",
    "               '', '', '', '', '', '', '', \n",
    "               '', '', '', '', '', '', \n",
    "               '', '', \n",
    "               '', '', '', '', '', '', '', '', ''],\n",
    "      color = [my_colors['pvwaste'], my_colors['csi_blue'], my_colors['cdte_tiel'], \n",
    "               my_colors['csi_blue'], my_colors['csi_blue'], my_colors['csi_blue'], my_colors['csi_blue'], my_colors['csi_blue'], my_colors['csi_blue'], my_colors['csi_blue'], \n",
    "               my_colors['cdte_tiel'],my_colors['cdte_tiel'],my_colors['cdte_tiel'],my_colors['cdte_tiel'],my_colors['cdte_tiel'],my_colors['cdte_tiel'], \n",
    "               my_colors['csi_blue'], my_colors['cdte_tiel'], \n",
    "               my_colors['product_green'], my_colors['product_green'], my_colors['product_green'], my_colors['product_green'], my_colors['product_green'], my_colors['product_green'], my_colors['product_green'], my_colors['waste_red'], my_colors['worth_green']]\n",
    "),\n",
    "    link = dict(\n",
    "      source = [0, 0, \n",
    "                1, 1, 1, 1, 1, 1, 1, \n",
    "                2, 2, 2, 2, 2, 2, \n",
    "                3, 4, 5, 6, 7, 8, 9,\n",
    "                10, 11, 12, 13, 14, 15,\n",
    "                16,16,16,16,16,16,16,\n",
    "                17,17,17,17,17,17, ], # indices correspond to labels, eg A1, A2, A1, B1, ...\n",
    "      target = [1, 2, \n",
    "                3, 4, 5, 6, 7, 8, 9, \n",
    "                10, 11, 12, 13, 14, 15,\n",
    "                16, 16, 16, 16, 16, 16, 16,\n",
    "                17, 17, 17, 17, 17, 17,\n",
    "                18, 19, 20, 21, 24, 25, 26,\n",
    "                18, 20, 22, 23, 24, 25],\n",
    "      value = [csi_waste['Modules'], cdte_waste['Modules'], \n",
    "               csi_waste['Glass'], csi_waste['Silicon'], csi_waste['Silver'], csi_waste['Copper'], csi_waste['Aluminium frames'], csi_waste['Encapsulant'], csi_waste['Backsheet'], \n",
    "               cdte_waste['Glass'], cdte_waste['Cadmium'], cdte_waste['Tellurium'], cdte_waste['Copper'], cdte_waste['Aluminium frames'], cdte_waste['Encapsulant'],\n",
    "               csi_waste['Glass'], csi_waste['Silicon'], csi_waste['Silver'], csi_waste['Copper'], csi_waste['Aluminium frames'], csi_waste['Encapsulant'], csi_waste['Backsheet'], \n",
    "               cdte_waste['Glass'], cdte_waste['Cadmium'], cdte_waste['Tellurium'], cdte_waste['Copper'], cdte_waste['Aluminium frames'], cdte_waste['Encapsulant'],\n",
    "               csi_recycled['Glass'], csi_recycled['Silicon'], csi_recycled['Copper'], csi_recycled['Silver'], csi_recycled['Aluminium frames'], csi_recycled['Landfill'],csi_recycled['Energy'],\n",
    "               cdte_recycled['Glass'], cdte_recycled['Copper'], cdte_recycled['Cadmium'], cdte_recycled['Tellurium'], cdte_recycled['Aluminium frames'], cdte_recycled['Landfill']],\n",
    "      color = 'rgba(240, 240, 245, 0.65)'\n",
    "  ))])\n",
    "\n",
    "fig.update_layout(font_family=\"Times New Roman\", font_size=10)\n",
    "fig.write_image(\"images/sankey/sankey_muted.svg\")\n",
    "#fig.write_image(\"images/sankey_mute.svg\")"
   ]
  },
  {
   "cell_type": "markdown",
   "id": "9c6fc7f7-6897-40a0-bcc4-5cb52bc99e5d",
   "metadata": {},
   "source": [
    "#### 5.4.4. Sankey Option 4 - Muted simplified"
   ]
  },
  {
   "cell_type": "code",
   "execution_count": null,
   "id": "8b808bc7-f1a9-40ae-bc95-0e4d491824ab",
   "metadata": {},
   "outputs": [],
   "source": [
    "fig = go.Figure(data=[go.Sankey(\n",
    "    arrangement = \"snap\",\n",
    "    node = dict(\n",
    "      pad = 10,\n",
    "      thickness = 20,\n",
    "      line = dict(color = 'black', width = 0.5),\n",
    "      label = ['', '', '', \n",
    "               '', '', '', '', '', '', '', '', ''],\n",
    "      color = [my_colors['pvwaste'], my_colors['csi_blue'], my_colors['cdte_tiel'], \n",
    "               my_colors['product_green'], my_colors['product_green'], my_colors['product_green'], my_colors['product_green'], my_colors['product_green'], my_colors['product_green'], my_colors['product_green'], my_colors['waste_red'], my_colors['worth_green']]\n",
    "),\n",
    "    link = dict(\n",
    "      source = [0, 0, \n",
    "                1,1,1,1,1,1,1,\n",
    "                2,2,2,2,2,2, ], # indices correspond to labels, eg A1, A2, A1, B1, ...\n",
    "      target = [1, 2,\n",
    "                3, 4, 5, 6, 9, 10, 11,\n",
    "                3, 5, 7, 8, 9, 10],\n",
    "      value = [csi_waste['Modules'], cdte_waste['Modules'], \n",
    "               csi_recycled['Glass'], csi_recycled['Silicon'], csi_recycled['Copper'], csi_recycled['Silver'], csi_recycled['Aluminium frames'], csi_recycled['Landfill'],csi_recycled['Energy'],\n",
    "               cdte_recycled['Glass'], cdte_recycled['Copper'], cdte_recycled['Cadmium'], cdte_recycled['Tellurium'], cdte_recycled['Aluminium frames'], cdte_recycled['Landfill']],\n",
    "      color = 'rgba(240, 240, 245, 0.65)'\n",
    "  ))])\n",
    "\n",
    "fig.update_layout(font_family=\"Times New Roman\", font_size=10)\n",
    "fig.write_image(\"images/sankey/sankey_muted_simplified.svg\")"
   ]
  },
  {
   "cell_type": "code",
   "execution_count": null,
   "id": "4ce1fb6a-cc62-4cef-9ab4-c5dfcb5d35c1",
   "metadata": {},
   "outputs": [],
   "source": [
    "# Figure for one year \n",
    "\n",
    "fig = go.Figure(data=[go.Sankey(\n",
    "    arrangement = \"snap\",\n",
    "    node = dict(\n",
    "      pad = 10,\n",
    "      thickness = 20,\n",
    "      line = dict(color = 'black', width = 0.5),\n",
    "      label = ['', '', '', \n",
    "               '', '', '', '', '', '', '', '', ''],\n",
    "      color = [my_colors['pvwaste'], my_colors['csi_blue'], my_colors['cdte_tiel'], \n",
    "               my_colors['product_green'], my_colors['product_green'], my_colors['product_green'], my_colors['product_green'], my_colors['product_green'], my_colors['product_green'], my_colors['product_green'], my_colors['waste_red'], my_colors['worth_green']],\n",
    "      hovertemplate= 'Node value is %{value}'\n",
    "    ),\n",
    "    link = dict(\n",
    "      source = [0, 0, \n",
    "                1,1,1,1,1,1,1,\n",
    "                2,2,2,2,2,2, ], # indices correspond to labels, eg A1, A2, A1, B1, ...\n",
    "      target = [1, 2,\n",
    "                3, 4, 5, 6, 9, 10, 11,\n",
    "                3, 5, 7, 8, 9, 10],\n",
    "      value = [csi_waste_2050['Modules'], cdte_waste_2050['Modules'], \n",
    "               csi_recycled_2050['Glass'], csi_recycled_2050['Silicon'], csi_recycled_2050['Copper'], csi_recycled_2050['Silver'], csi_recycled_2050['Aluminium frames'], csi_recycled_2050['Landfill'],csi_recycled_2050['Energy'],\n",
    "               cdte_recycled_2050['Glass'], cdte_recycled_2050['Copper'], cdte_recycled_2050['Cadmium'], cdte_recycled_2050['Tellurium'], cdte_recycled_2050['Aluminium frames'], cdte_recycled_2050['Landfill']],\n",
    "      color = 'rgba(240, 240, 245, 0.65)',\n",
    "      hovertemplate= 'Link value is %{value}' \n",
    "  ))])\n",
    "\n",
    "fig.update_layout(font_family=\"Times New Roman\", font_size=10)\n",
    "fig.write_image(\"images/sankey/sankey_muted_simplified_2050.png\")\n",
    "fig.show()"
   ]
  },
  {
   "cell_type": "code",
   "execution_count": null,
   "id": "e7524145-a3c5-4e78-ae77-923cf2e3ca70",
   "metadata": {},
   "outputs": [],
   "source": []
  },
  {
   "cell_type": "markdown",
   "id": "071808a3-5e9e-4697-88fe-95438887ca7c",
   "metadata": {},
   "source": [
    "---\n",
    "## 6. Cloropeth map option 1 (still under construction)"
   ]
  },
  {
   "cell_type": "code",
   "execution_count": null,
   "id": "d8ec8c10-22d5-45f4-8db5-98714da4188c",
   "metadata": {},
   "outputs": [],
   "source": [
    "pv_waste_map = csi_Module[['FIPS']].copy()\n",
    "pv_waste_map['total waste'] = csi_Module['total waste'] + cdte_Module['total waste']\n",
    "pv_waste_map.to_csv('images/cloropeth/pv_waste_map.csv')\n",
    "\n",
    "csi_waste_map = csi_Module[['FIPS', 'total waste']]\n",
    "csi_waste_map.to_csv('images/cloropeth/csi_waste_map.csv')\n",
    "\n",
    "cdte_waste_map = cdte_Module[['FIPS', 'total waste']]\n",
    "cdte_waste_map.to_csv('images/cloropeth/cdte_waste_map.csv')"
   ]
  },
  {
   "cell_type": "code",
   "execution_count": null,
   "id": "09113160-6e45-413c-bd65-7c33ab437a2f",
   "metadata": {},
   "outputs": [],
   "source": [
    "from urllib.request import urlopen\n",
    "import json\n",
    "with urlopen('https://raw.githubusercontent.com/plotly/datasets/master/geojson-counties-fips.json') as response:\n",
    "    counties = json.load(response)\n",
    "\n",
    "import pandas as pd\n",
    "df = pd.read_csv(\"images/cloropeth/pv_waste_map.csv\",\n",
    "                   dtype={\"FIPS\": str})\n",
    "\n",
    "import plotly.express as px\n",
    "\n",
    "fig = px.choropleth_mapbox(df, geojson=counties, locations='FIPS', color='total waste',\n",
    "                           color_continuous_scale=\"Viridis\",\n",
    "                           range_color=(8, 1200000), # min an max values of waste\n",
    "                           mapbox_style=\"carto-positron\",\n",
    "                           zoom=2.5, center = {\"lat\": 37.0902, \"lon\": -95.7129},\n",
    "                           opacity=0.5,\n",
    "                           labels={'total waste':'Accumulated waste'}\n",
    "                          )\n",
    "fig.update_layout(margin={\"r\":0,\"t\":0,\"l\":0,\"b\":0})\n",
    "fig.write_image(\"images/cloropeth/map_allPV_op1.svg\")"
   ]
  },
  {
   "cell_type": "markdown",
   "id": "973dd0b3-532e-4839-aeed-fc3a35c024a8",
   "metadata": {},
   "source": [
    "Cloropeth map option 2"
   ]
  },
  {
   "cell_type": "code",
   "execution_count": null,
   "id": "906e55fd-8455-4c39-986d-80dee26296cb",
   "metadata": {},
   "outputs": [],
   "source": [
    "from urllib.request import urlopen\n",
    "import json\n",
    "with urlopen('https://raw.githubusercontent.com/plotly/datasets/master/geojson-counties-fips.json') as response:\n",
    "    counties = json.load(response)\n",
    "\n",
    "import pandas as pd\n",
    "df = pd.read_csv(\"pv_waste_map.csv\",\n",
    "                   dtype={\"FIPS\": str})\n",
    "\n",
    "import plotly.express as px\n",
    "\n",
    "fig = px.choropleth(df, geojson=counties, locations='FIPS', color='total waste',\n",
    "                           color_continuous_scale=\"Viridis\",\n",
    "                           range_color=(1000, 50000),\n",
    "                           scope=\"usa\",\n",
    "                           labels={'total waste':'Total PV waste by 2050'}\n",
    "                          )\n",
    "fig.update_layout(margin={\"r\":0,\"t\":0,\"l\":0,\"b\":0})\n",
    "fig.write_image(\"images/cloropeth/map_allPV_op2.svg\")"
   ]
  },
  {
   "cell_type": "code",
   "execution_count": null,
   "id": "12987150-8a47-40c9-97df-3859634ad910",
   "metadata": {},
   "outputs": [],
   "source": [
    "pv_waste_map.min()"
   ]
  },
  {
   "cell_type": "code",
   "execution_count": null,
   "id": "0d6f49e3-c0e6-433a-b51a-e234e4b3b6d4",
   "metadata": {},
   "outputs": [],
   "source": [
    "pv_waste_map.max()"
   ]
  },
  {
   "cell_type": "code",
   "execution_count": null,
   "id": "22f53c38-bb95-4c45-b524-2a14e294e383",
   "metadata": {},
   "outputs": [],
   "source": [
    "from urllib.request import urlopen\n",
    "import json\n",
    "with urlopen('https://raw.githubusercontent.com/plotly/datasets/master/geojson-counties-fips.json') as response:\n",
    "    counties = json.load(response)\n",
    "\n",
    "import pandas as pd\n",
    "df = pd.read_csv(\"https://raw.githubusercontent.com/plotly/datasets/master/fips-unemp-16.csv\",\n",
    "                   dtype={\"fips\": str})\n",
    "\n",
    "import plotly.express as px\n",
    "\n",
    "fig = px.choropleth(df, geojson=counties, locations='fips', color='unemp',\n",
    "                           color_continuous_scale=\"Viridis\",\n",
    "                           range_color=(0, 12),\n",
    "                           scope=\"usa\",\n",
    "                           labels={'unemp':'unemployment rate'}\n",
    "                          )\n",
    "fig.update_layout(margin={\"r\":0,\"t\":0,\"l\":0,\"b\":0})\n",
    "fig.write_image(\"images/cloropeth/map_allPV_op2.svg\")\n"
   ]
  },
  {
   "cell_type": "code",
   "execution_count": null,
   "id": "26e18b0d-1039-4857-8ead-5660b2548fb2",
   "metadata": {},
   "outputs": [],
   "source": []
  }
 ],
 "metadata": {
  "kernelspec": {
   "display_name": "RELOG",
   "language": "python",
   "name": "relog"
  },
  "language_info": {
   "codemirror_mode": {
    "name": "ipython",
    "version": 3
   },
   "file_extension": ".py",
   "mimetype": "text/x-python",
   "name": "python",
   "nbconvert_exporter": "python",
   "pygments_lexer": "ipython3",
   "version": "3.10.6"
  },
  "toc-autonumbering": false
 },
 "nbformat": 4,
 "nbformat_minor": 5
}
