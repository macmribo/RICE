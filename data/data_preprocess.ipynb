{
 "cells": [
  {
   "cell_type": "code",
   "execution_count": 1,
   "id": "f079c6c9-cc2f-40ac-84cc-42ab867771af",
   "metadata": {},
   "outputs": [],
   "source": [
    "import numpy as np\n",
    "import pandas as pd\n",
    "import os,sys\n",
    "import matplotlib.pyplot as plt\n",
    "from pathlib import Path\n",
    "\n",
    "from geopy.geocoders import Nominatim\n",
    "from geopy.point import Point\n",
    "# initialize Nominatim API\n",
    "geolocator = Nominatim(user_agent=\"geoapiExercises\")"
   ]
  },
  {
   "cell_type": "markdown",
   "id": "0ccf2824-3754-4d24-b7d8-27e4aec656a2",
   "metadata": {},
   "source": [
    "### Get the GIS locations from the latitude and longitude"
   ]
  },
  {
   "cell_type": "markdown",
   "id": "b756d0fb-34ad-4f3f-829f-805728eb8b06",
   "metadata": {},
   "source": [
    "Filter the USA areas."
   ]
  },
  {
   "cell_type": "code",
   "execution_count": 2,
   "id": "9c77f800-d9f1-4b2a-91b7-c70366777a90",
   "metadata": {},
   "outputs": [],
   "source": [
    "GISfile = str(Path().resolve().parent.parent.parent / 'gis_centroid_n.xlsx')\n",
    "GIS = pd.read_excel(GISfile)\n",
    "GIS_us = GIS[GIS.country == 'USA']\n",
    "GIS_us.reset_index(inplace=True)\n",
    "GIS_us = GIS_us.iloc[0:134]"
   ]
  },
  {
   "cell_type": "code",
   "execution_count": 3,
   "id": "bb37f295-2df7-4046-bf33-da6791e6b8f5",
   "metadata": {},
   "outputs": [],
   "source": [
    "def city_state_country(row):\n",
    "    # I map latitude and longitude with actual names of those places.\n",
    "    coord = f\"{row['lat']}, {row['long']}\"\n",
    "    location = geolocator.reverse(coord, exactly_one=True)\n",
    "    address = location.raw['address']\n",
    "    city = address.get('city', '')\n",
    "    county = address.get('county', '')\n",
    "    state = address.get('state', '')\n",
    "    country = address.get('country', '')\n",
    "    county_state = address.get('county', 'state')\n",
    "    row['city'] = city\n",
    "    row['county'] = county\n",
    "    row['state'] = state\n",
    "    row['country'] = country\n",
    "    row['location'] = county_state\n",
    "    return row"
   ]
  },
  {
   "cell_type": "code",
   "execution_count": 4,
   "id": "7605c3b4-e83d-44fe-8a62-2e741af9e015",
   "metadata": {},
   "outputs": [],
   "source": [
    "# This one takes a long time!! Applty the previous function to obtain the names of the locations.\n",
    "GIS = GIS.apply(city_state_country, axis=1)"
   ]
  },
  {
   "cell_type": "code",
   "execution_count": 6,
   "id": "7d0f625f-eb62-4c4c-8696-a036e209df79",
   "metadata": {},
   "outputs": [],
   "source": [
    "GIS_us_long_lat = GIS_us[['long', 'lat']]\n",
    "GIS_us_id = GIS_us[['id']]"
   ]
  },
  {
   "cell_type": "code",
   "execution_count": 7,
   "id": "89d2d6b9-2393-4f42-adc8-df61ffc441bc",
   "metadata": {},
   "outputs": [],
   "source": [
    "cwd = os.getcwd()\n",
    "pvice_folder = os.path.join(cwd, 'PV_ICE_outputs')"
   ]
  },
  {
   "cell_type": "code",
   "execution_count": 8,
   "id": "c43fe815-feb7-440b-96b2-3c07d75182d9",
   "metadata": {},
   "outputs": [],
   "source": [
    "csi_eol = pd.read_csv(os.path.join(pvice_folder, 'PVICE_RELOG_PCA_cSi_WasteEOL.csv'), index_col='year')\n",
    "cdte_eol = pd.read_csv(os.path.join(pvice_folder, 'PVICE_RELOG_PCA_CdTe_WasteEOL.csv'), index_col='year')"
   ]
  },
  {
   "cell_type": "code",
   "execution_count": 9,
   "id": "542e78db-46c8-43f9-954f-935f0e3ca136",
   "metadata": {},
   "outputs": [
    {
     "name": "stdout",
     "output_type": "stream",
     "text": [
      "We have 134 collection centers.\n"
     ]
    }
   ],
   "source": [
    "print('We have %s collection centers.' % len(GIS_us))"
   ]
  },
  {
   "cell_type": "markdown",
   "id": "546f7d65-a509-4dab-8056-3f3754b8a02f",
   "metadata": {},
   "source": [
    "Now I need to select the columns and separate them by material, then add a column identifying the locations. Ideally, I need to populate the table for the material"
   ]
  },
  {
   "cell_type": "code",
   "execution_count": 10,
   "id": "7528bc00-292b-48a6-8a74-8d1807d5b5df",
   "metadata": {},
   "outputs": [],
   "source": [
    "material_list_csi = ['glass', 'silicon', 'silver', 'copper', 'aluminium_frames', 'encapsulant', 'backsheet', 'Module']\n",
    "material_list_cdte = ['cadmium', 'telluride', 'glass_cdte', 'aluminium_frames_cdte', 'Module']"
   ]
  },
  {
   "cell_type": "code",
   "execution_count": 11,
   "id": "0814fb51-0c62-4e37-9c48-487b5f4535cf",
   "metadata": {},
   "outputs": [],
   "source": [
    "nums = np.arange(1,42)\n",
    "years = np.arange(2010,2051)\n",
    "years_dict = {nums[i]: years[i] for i in range(len(nums))}"
   ]
  },
  {
   "cell_type": "code",
   "execution_count": 15,
   "id": "f5375c80-531b-46aa-9254-c5fee96ce019",
   "metadata": {},
   "outputs": [],
   "source": [
    "mats = ['csi', 'cdte']"
   ]
  },
  {
   "cell_type": "code",
   "execution_count": 39,
   "id": "ee27b739-d5b2-40fe-89b5-d1a24456c6b7",
   "metadata": {},
   "outputs": [
    {
     "name": "stdout",
     "output_type": "stream",
     "text": [
      "csiglass\n",
      "csisilicon\n",
      "csisilver\n",
      "csicopper\n",
      "csialuminium_frames\n",
      "csiencapsulant\n",
      "csibacksheet\n",
      "csiModule\n",
      "cdtecadmium\n",
      "cdtetelluride\n",
      "cdteglass_cdte\n",
      "cdtealuminium_frames_cdte\n",
      "cdteModule\n"
     ]
    }
   ],
   "source": [
    "for y in mats:\n",
    "    if y == 'csi':\n",
    "        for x in material_list_csi:\n",
    "            globals()['%s_%s_sel' % (y, x)] = [col for col in globals()['%s_eol' % y].columns if x in col]\n",
    "            globals()['%s_%s' % (y, x)] = csi_eol.filter(globals()['%s_%s_sel' % (y, x)], axis=1)\n",
    "            globals()['%s_%s' % (y, x)] = globals()['%s_%s' % (y, x)].transpose()\n",
    "            globals()['%s_%s' % (y, x)].reset_index(inplace=True)\n",
    "            globals()['%s_%s' % (y, x)] = pd.concat([globals()['%s_%s' % (y, x)], GIS_us_long_lat], axis=1, ignore_index=True)\n",
    "            globals()['%s_%s' % (y, x)].rename(columns = years_dict, inplace=True)\n",
    "            globals()['%s_%s' % (y, x)].rename(columns = {42:'PCA area'}, inplace=True)\n",
    "            globals()['%s_%s' % (y, x)].rename(columns = {43:'longitude', 44:'latitude'}, inplace=True)\n",
    "            globals()['%s_%s' % (y, x)]['total waste'] = globals()['%s_%s' % (y, x)].loc[:, 2010:2050].sum(axis=1)\n",
    "            globals()['%s_%s' % (y, x)].to_csv('{}_wasteEOL_{}.csv'.format(y, x))\n",
    "            print(y+x)\n",
    "    elif y == 'cdte':\n",
    "        for x in material_list_cdte:\n",
    "            globals()['%s_%s_sel' % (y, x)] = [col for col in globals()['%s_eol' % y].columns if x in col]\n",
    "            globals()['%s_%s' % (y, x)] = cdte_eol.filter(globals()['%s_%s_sel' % (y, x)], axis=1)\n",
    "            globals()['%s_%s' % (y, x)] = globals()['%s_%s' % (y, x)].transpose()\n",
    "            globals()['%s_%s' % (y, x)].reset_index(inplace=True)\n",
    "            globals()['%s_%s' % (y, x)] = pd.concat([globals()['%s_%s' % (y, x)], GIS_us_long_lat], axis=1, ignore_index=True)\n",
    "            globals()['%s_%s' % (y, x)].rename(columns = years_dict, inplace=True)\n",
    "            globals()['%s_%s' % (y, x)].rename(columns = {42:'PCA area'}, inplace=True)\n",
    "            globals()['%s_%s' % (y, x)].rename(columns = {43:'longitude', 44:'latitude'}, inplace=True)\n",
    "            globals()['%s_%s' % (y, x)]['total waste'] = globals()['%s_%s' % (y, x)].loc[:, 2010:2050].sum(axis=1)\n",
    "            globals()['%s_%s' % (y, x)].to_csv('{}_wasteEOL_{}.csv'.format(y, x))\n",
    "            print(y+x)"
   ]
  },
  {
   "cell_type": "markdown",
   "id": "5cedb0dc-3bd3-4b01-b6d2-de34a53ad3d0",
   "metadata": {},
   "source": [
    "### Shankey Diagram"
   ]
  },
  {
   "cell_type": "markdown",
   "id": "c38b154b-61ba-43fe-b1d6-811bb5648aea",
   "metadata": {},
   "source": [
    "For the Shankey Diagram, I need:\n",
    "1) Get the total waste (cSi + CdTe).\n",
    "2) Get the % of cSi and CdTe (bin1).\n",
    "3) Get the % of each material in cSi and CdTe.\n",
    "4) Add all those materials into material bins .\n",
    "5) Pass them by an intermediate bin with the recycling process an d  their recycling yield.\n",
    "6) Add all those materials and check how much of each could contribute to revenue based on their value.\n",
    "\n",
    "* The 100% is 1 tonne of PV waste."
   ]
  },
  {
   "cell_type": "markdown",
   "id": "5ae3926c-db15-4b51-ab29-3f1552de4a9d",
   "metadata": {},
   "source": [
    "### 1. Total waste"
   ]
  },
  {
   "cell_type": "code",
   "execution_count": null,
   "id": "d0c76b38-d3a6-420a-9e9c-65c6ccadb14d",
   "metadata": {},
   "outputs": [],
   "source": [
    "total_pv_waste = "
   ]
  },
  {
   "cell_type": "code",
   "execution_count": 70,
   "id": "991c3d11-429b-4550-8a89-47abc36e874d",
   "metadata": {},
   "outputs": [
    {
     "name": "stdout",
     "output_type": "stream",
     "text": [
      "There are 6629562.11 tonnes of PV waste (that's 6.63 million metric tonnes).\n",
      "There are 5548525.34 tonnes of cSi, and 1081036.77 tonnes of CdTe.\n",
      "Of all the waste, 83.69% is cSi, and 16.31% is CdTe.\n"
     ]
    }
   ],
   "source": [
    "csi_waste = csi_Module['total waste'].sum()\n",
    "cdte_waste = cdte_Module['total waste'].sum()\n",
    "all_waste = csi_waste + cdte_waste\n",
    "print(f'There are {all_waste:.2f} tonnes of PV waste (that\\'s {all_waste/1000000:.2f} million metric tonnes).')\n",
    "print(f'There are {csi_waste:.2f} tonnes of cSi, and {cdte_waste:.2f} tonnes of CdTe.')\n",
    "perc_csi = csi_waste/all_waste\n",
    "perc_cdte = cdte_waste/all_waste\n",
    "print(f'Of all the waste, {perc_csi*100:.2f}% is cSi, and {perc_cdte*100:.2f}% is CdTe.')"
   ]
  },
  {
   "cell_type": "code",
   "execution_count": null,
   "id": "1b8a04ca-289d-4594-99e5-37302830e084",
   "metadata": {},
   "outputs": [],
   "source": []
  },
  {
   "cell_type": "code",
   "execution_count": null,
   "id": "b5c4d65d-5605-4f4c-9a5c-bbb6fea260d8",
   "metadata": {},
   "outputs": [],
   "source": [
    "import plotly.graph_objects as go\n",
    "\n",
    "fig = go.Figure(data=[go.Sankey(\n",
    "    node = dict(\n",
    "      pad = 15,\n",
    "      thickness = 20,\n",
    "      line = dict(color = \"black\", width = 0.5),\n",
    "      label = [\"PV Waste\", \"A2\", \"B1\", \"B2\", \"C1\", \"C2\"],\n",
    "      color = \"blue\"\n",
    "    ),\n",
    "    link = dict(\n",
    "      source = [0, 1, 0, 2, 3, 3], # indices correspond to labels, eg A1, A2, A1, B1, ...\n",
    "      target = [2, 3, 3, 4, 4, 5],\n",
    "      value = [8, 4, 2, 8, 4, 2]\n",
    "  ))])\n",
    "\n",
    "fig.update_layout(title_text=\"Basic Sankey Diagram\", font_size=10)\n",
    "fig.show()\n"
   ]
  },
  {
   "cell_type": "code",
   "execution_count": null,
   "id": "5d8c874d-85c4-4586-a77e-92c24632c7e5",
   "metadata": {},
   "outputs": [],
   "source": []
  },
  {
   "cell_type": "code",
   "execution_count": null,
   "id": "4d5f1ca3-4ad7-4cac-b286-e2fd74807676",
   "metadata": {},
   "outputs": [],
   "source": []
  },
  {
   "cell_type": "code",
   "execution_count": null,
   "id": "09113160-6e45-413c-bd65-7c33ab437a2f",
   "metadata": {},
   "outputs": [],
   "source": [
    "from urllib.request import urlopen\n",
    "import json\n",
    "with urlopen('https://raw.githubusercontent.com/plotly/datasets/master/geojson-counties-fips.json') as response:\n",
    "    counties = json.load(response)\n",
    "\n",
    "import pandas as pd\n",
    "df = pd.read_csv(\"https://raw.githubusercontent.com/plotly/datasets/master/fips-unemp-16.csv\",\n",
    "                   dtype={\"fips\": str})\n",
    "\n",
    "import plotly.express as px\n",
    "\n",
    "fig = px.choropleth_mapbox(df, geojson=counties, locations='fips', color='unemp',\n",
    "                           color_continuous_scale=\"Viridis\",\n",
    "                           range_color=(0, 12),\n",
    "                           mapbox_style=\"carto-positron\",\n",
    "                           zoom=3, center = {\"lat\": 37.0902, \"lon\": -95.7129},\n",
    "                           opacity=0.5,\n",
    "                           labels={'unemp':'unemployment rate'}\n",
    "                          )\n",
    "fig.update_layout(margin={\"r\":0,\"t\":0,\"l\":0,\"b\":0})\n",
    "fig.show()\n"
   ]
  },
  {
   "cell_type": "code",
   "execution_count": null,
   "id": "12987150-8a47-40c9-97df-3859634ad910",
   "metadata": {},
   "outputs": [],
   "source": []
  },
  {
   "cell_type": "code",
   "execution_count": null,
   "id": "0d6f49e3-c0e6-433a-b51a-e234e4b3b6d4",
   "metadata": {},
   "outputs": [],
   "source": []
  }
 ],
 "metadata": {
  "kernelspec": {
   "display_name": "RELOG",
   "language": "python",
   "name": "relog"
  },
  "language_info": {
   "codemirror_mode": {
    "name": "ipython",
    "version": 3
   },
   "file_extension": ".py",
   "mimetype": "text/x-python",
   "name": "python",
   "nbconvert_exporter": "python",
   "pygments_lexer": "ipython3",
   "version": "3.10.6"
  }
 },
 "nbformat": 4,
 "nbformat_minor": 5
}
