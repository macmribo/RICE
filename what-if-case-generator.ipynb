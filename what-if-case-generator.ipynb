{
 "cells": [
  {
   "cell_type": "markdown",
   "id": "63241ded-4f54-4b5a-92a8-1ac639db7a49",
   "metadata": {},
   "source": [
    "# What-if scenario file generator"
   ]
  },
  {
   "cell_type": "markdown",
   "id": "37f73f55-ccf1-4fc6-8773-bab05c2597fb",
   "metadata": {},
   "source": [
    "### Load necessary libraries"
   ]
  },
  {
   "cell_type": "code",
   "execution_count": 1,
   "id": "d4789fdd-989d-49c9-bdda-efe0e68c1a9a",
   "metadata": {},
   "outputs": [],
   "source": [
    "import json\n",
    "import numpy as np\n",
    "import os"
   ]
  },
  {
   "cell_type": "markdown",
   "id": "9a861903-aee9-4ac8-864f-7e6e0ad348d0",
   "metadata": {},
   "source": [
    "### Create the conservative what if scenario files"
   ]
  },
  {
   "cell_type": "code",
   "execution_count": 2,
   "id": "0634bd3a-c569-4a1a-a70e-68dfd4a7abad",
   "metadata": {},
   "outputs": [],
   "source": [
    "conservative_file = 'input/conservative/locodata_ultra.json'\n",
    "optimistic_file = 'input/optimistic/locodata_ultra.json'"
   ]
  },
  {
   "cell_type": "code",
   "execution_count": 3,
   "id": "8d09cf9e-7431-47d5-8370-9647e51e5b9f",
   "metadata": {},
   "outputs": [],
   "source": [
    "conservative_whatif = 'input/whatif_conservative/'\n",
    "optimistic_whatif = 'input/whatif_optimistic/'"
   ]
  },
  {
   "cell_type": "code",
   "execution_count": 4,
   "id": "082aaa6f-1dcb-49d5-8cd2-9af2f9ce7c10",
   "metadata": {},
   "outputs": [],
   "source": [
    "with open(conservative_file) as f:\n",
    "    data_c = json.load(f)\n",
    "    \n",
    "with open(optimistic_file) as f:\n",
    "    data_o = json.load(f)"
   ]
  },
  {
   "cell_type": "markdown",
   "id": "7be61b79-f3a3-4a12-8484-cf28e8326987",
   "metadata": {},
   "source": [
    "### Arrays with the parameter changes"
   ]
  },
  {
   "cell_type": "code",
   "execution_count": 5,
   "id": "42655a58-5e70-4ecf-835a-1f7cfb6bceda",
   "metadata": {},
   "outputs": [],
   "source": [
    "storage_cost = np.array([0, 50, 100, 150, 300, 600])\n",
    "storage_cap = np.array([0.5, 0.25, 1, 2, 4])"
   ]
  },
  {
   "cell_type": "markdown",
   "id": "619b5a79-7760-44b1-a163-5554be89830c",
   "metadata": {},
   "source": [
    "### Change the original file and save the different scenarios"
   ]
  },
  {
   "cell_type": "markdown",
   "id": "7d273f1d-98d3-4c24-9fc9-c7fa75808547",
   "metadata": {},
   "source": [
    "#### Conservative"
   ]
  },
  {
   "cell_type": "code",
   "execution_count": 15,
   "id": "8ba07801-d1d3-4fce-963d-75360a8cf7ab",
   "metadata": {},
   "outputs": [],
   "source": [
    "for cap in storage_cap:\n",
    "    for cost in storage_cost:\n",
    "        with open(conservative_file) as f:\n",
    "            data_c = json.load(f)\n",
    "        for locations in data_c['plants']['Ultra Plant']['locations']:\n",
    "            data_c['plants']['Ultra Plant']['locations'][locations]['storage']['limit (tonne)'] = np.multiply(data_c['plants']['Ultra Plant']['locations'][locations]['storage']['limit (tonne)'],cap).tolist()\n",
    "            data_c['plants']['Ultra Plant']['locations'][locations]['storage']['cost ($/tonne)'] = np.array([cost for item in range(len(data_c['plants']['Ultra Plant']['locations'][locations]['storage']['cost ($/tonne)']))]).tolist()\n",
    "        with open(os.path.join(conservative_whatif, 'storage_ultra_cap_' +str(cap)+ '_cost_'+str(cost)+'.json'), 'w') as f:\n",
    "                json.dump(data_c, f, indent=2)      "
   ]
  },
  {
   "cell_type": "markdown",
   "id": "3384cdb0-c506-49a2-9fbf-326ead5f1f9f",
   "metadata": {},
   "source": [
    "#### Optimistic"
   ]
  },
  {
   "cell_type": "code",
   "execution_count": 16,
   "id": "f46e3ec8-aef5-47e7-94ff-56d964be43f2",
   "metadata": {},
   "outputs": [],
   "source": [
    "for cap in storage_cap:\n",
    "    for cost in storage_cost:\n",
    "        with open(conservative_file) as f:\n",
    "            data_o = json.load(f)\n",
    "        for locations in data_o['plants']['Ultra Plant']['locations']:\n",
    "            data_o['plants']['Ultra Plant']['locations'][locations]['storage']['limit (tonne)'] = np.multiply(data_o['plants']['Ultra Plant']['locations'][locations]['storage']['limit (tonne)'],cap).tolist()\n",
    "            data_o['plants']['Ultra Plant']['locations'][locations]['storage']['cost ($/tonne)'] = np.array([cost for item in range(len(data_o['plants']['Ultra Plant']['locations'][locations]['storage']['cost ($/tonne)']))]).tolist()\n",
    "        with open(os.path.join(optimistic_whatif, 'storage_ultra_cap_' +str(cap)+ '_cost_'+str(cost)+'.json'), 'w') as f:\n",
    "                json.dump(data_o, f, indent=2)      "
   ]
  },
  {
   "cell_type": "code",
   "execution_count": null,
   "id": "b23012e3-58a6-4be4-b3bb-247778efe7d1",
   "metadata": {},
   "outputs": [],
   "source": []
  }
 ],
 "metadata": {
  "kernelspec": {
   "display_name": "RELOG",
   "language": "python",
   "name": "relog"
  },
  "language_info": {
   "codemirror_mode": {
    "name": "ipython",
    "version": 3
   },
   "file_extension": ".py",
   "mimetype": "text/x-python",
   "name": "python",
   "nbconvert_exporter": "python",
   "pygments_lexer": "ipython3",
   "version": "3.10.6"
  }
 },
 "nbformat": 4,
 "nbformat_minor": 5
}
